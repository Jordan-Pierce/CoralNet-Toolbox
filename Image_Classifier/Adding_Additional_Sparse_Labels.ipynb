{
 "cells": [
  {
   "cell_type": "code",
   "execution_count": null,
   "metadata": {},
   "outputs": [],
   "source": [
    "import numpy as np\n",
    "import pandas as pd\n",
    "import matplotlib.pyplot as plt\n",
    "from matplotlib.pyplot import get_cmap\n",
    "cm = get_cmap('jet')\n",
    "\n",
    "import imgaug.augmenters as iaa\n",
    "from keras.models import load_model"
   ]
  },
  {
   "cell_type": "code",
   "execution_count": null,
   "metadata": {},
   "outputs": [],
   "source": [
    "class_categories = {'Branching' : 0, \n",
    "                  'Fish' : 1, \n",
    "                  'Massive' : 2,\n",
    "                  'Not Massive' : 3,\n",
    "                  'Substrate' : 4,\n",
    "                  'Target' : 5,\n",
    "                  'Water' : 6}"
   ]
  },
  {
   "cell_type": "code",
   "execution_count": null,
   "metadata": {},
   "outputs": [],
   "source": [
    "image_file = \"..\\\\Figures\\\\example_coral_patch.png\"\n",
    "image_name = os.path.basename(image_file).split(\".\")[0]\n",
    "\n",
    "image = plt.imread(image_file)   "
   ]
  },
  {
   "cell_type": "code",
   "execution_count": null,
   "metadata": {},
   "outputs": [],
   "source": [
    "patch_df = pd.read_csv(image_name + \"_Sparse_Points.csv\")\n",
    "\n",
    "patches = []\n",
    "\n",
    "for i, r in patch_df.iterrows():\n",
    "    \n",
    "    patch = plt.imread(r['file'])\n",
    "    patch = iaa.Resize(224).augment_image(image=patch) * (1./255.0)\n",
    "    patches.append(patch)\n",
    "\n",
    "patches = np.array(patches)"
   ]
  },
  {
   "cell_type": "code",
   "execution_count": null,
   "metadata": {},
   "outputs": [],
   "source": [
    "# Load up the best trained model\n",
    "model = load_model(\"Best_Model_and_Weights.h5\")"
   ]
  },
  {
   "cell_type": "code",
   "execution_count": null,
   "metadata": {},
   "outputs": [],
   "source": [
    "# Making predictions on the patches that were extracted\n",
    "predictions = model.predict(patches)\n",
    "\n",
    "# Getting the predicted labels and also the confidence score between the top two likely classes\n",
    "predicted_labels = [list(class_categories)[np.argmax(prediction, axis = 0)] for prediction in predictions]\n",
    "confidence = [sorted(prediction)[-1] - sorted(prediction)[-2] for prediction in predictions]\n",
    "\n",
    "# Adding the to the dataframe\n",
    "patch_df['Label'] = predicted_labels\n",
    "patch_df['Confidence'] = confidence\n",
    "\n",
    "# Saving again\n",
    "patch_df.to_csv(image_name + \"_Sparse_Points.csv\")"
   ]
  },
  {
   "cell_type": "code",
   "execution_count": null,
   "metadata": {},
   "outputs": [],
   "source": [
    "# Just viewing the image with the sparse labels super imposed\n",
    "additional_labels = patch_df[patch_df['Confidence'] >= .70]\n",
    "\n",
    "X = additional_labels['X'].values\n",
    "Y = additional_labels['Y'].values\n",
    "C = [cm[_]/255.0 for _ in additional_labels['Labels'].values]\n",
    "\n",
    "plt.figure(figsize = (10, 10))\n",
    "plt.imshow(image)\n",
    "plt.scatter(X, Y, c = C)\n",
    "plt.xticks([])\n",
    "plt.yticks([])"
   ]
  }
 ],
 "metadata": {
  "kernelspec": {
   "display_name": "Python 3",
   "language": "python",
   "name": "python3"
  },
  "language_info": {
   "codemirror_mode": {
    "name": "ipython",
    "version": 3
   },
   "file_extension": ".py",
   "mimetype": "text/x-python",
   "name": "python",
   "nbconvert_exporter": "python",
   "pygments_lexer": "ipython3",
   "version": "3.6.12"
  }
 },
 "nbformat": 4,
 "nbformat_minor": 2
}
