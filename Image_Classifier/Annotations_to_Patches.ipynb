{
 "cells": [
  {
   "cell_type": "markdown",
   "source": [
    "### Annotations to Patches (Notebook)\n",
    "\n",
    "This notebook shows how to create patches for annotations downloaded from CoralNet. It assumes\n",
    "that you've already downloaded the data from a source, and that it is stored in the\n",
    "CoralNet_Data directory."
   ],
   "metadata": {
    "collapsed": false
   }
  },
  {
   "cell_type": "markdown",
   "source": [
    "#### Imports"
   ],
   "metadata": {
    "collapsed": false
   }
  },
  {
   "cell_type": "code",
   "execution_count": 1,
   "outputs": [],
   "source": [
    "import warnings\n",
    "warnings.filterwarnings(\"ignore\")\n",
    "\n",
    "from utils import *"
   ],
   "metadata": {
    "collapsed": false
   }
  },
  {
   "cell_type": "markdown",
   "source": [
    "#### Setting the Data Directory"
   ],
   "metadata": {
    "collapsed": false
   }
  },
  {
   "cell_type": "code",
   "execution_count": 2,
   "outputs": [],
   "source": [
    "SOURCE_ID = str(4189)"
   ],
   "metadata": {
    "collapsed": false
   }
  },
  {
   "cell_type": "code",
   "execution_count": 3,
   "id": "4f0b48eb-c4e6-46f9-9e5e-f1f5c64f2d2e",
   "metadata": {},
   "outputs": [],
   "source": [
    "# The root directory for the data\n",
    "ROOT = f\"B://CoralNet_Data//\"\n",
    "\n",
    "# The sub-directory containing for a source; note that you can alter this\n",
    "# to include multiple sources if you want to.\n",
    "SOURCE_DIR = ROOT + f\"{SOURCE_ID}//\"\n",
    "IMAGE_DIR = SOURCE_DIR + \"images/\"\n",
    "LABEL_PATH = SOURCE_DIR + \"annotations.csv\"\n",
    "\n",
    "# Check that the paths exist\n",
    "assert os.path.exists(ROOT)\n",
    "assert os.path.exists(SOURCE_DIR)\n",
    "assert os.path.exists(IMAGE_DIR)\n",
    "assert os.path.exists(LABEL_PATH)\n",
    "\n",
    "# Create a sub-directory for the patches\n",
    "PATCH_DIR = SOURCE_DIR + \"patches/\"\n",
    "os.makedirs(PATCH_DIR, exist_ok=True)"
   ]
  },
  {
   "cell_type": "markdown",
   "source": [
    "#### Loading the Annotations\n",
    "\n",
    "Here the annotations are loaded into a pandas dataframe. The dataframe can then be filtered to\n",
    "only include annotations made by a user, or by a model with high confidence."
   ],
   "metadata": {
    "collapsed": false
   }
  },
  {
   "cell_type": "code",
   "execution_count": 4,
   "outputs": [],
   "source": [
    "# Read in the annotations\n",
    "labels_df = pd.read_csv(LABEL_PATH)\n",
    "\n",
    "# Get the annotations made by a user\n",
    "if \"Imported\" in labels_df.columns:\n",
    "    labels_df = labels_df[labels_df['Annotator'] == 'Imported']\n",
    "\n",
    "# Subset the dataframe to only include needed columns\n",
    "labels_df = labels_df[['Name', 'Row', 'Column', 'Label']]"
   ],
   "metadata": {
    "collapsed": false
   }
  },
  {
   "cell_type": "code",
   "execution_count": 5,
   "outputs": [
    {
     "data": {
      "text/plain": "               Name   Row  Column Label\n2392   DSC_8386.JPG  3444    2543  Turf\n8056   DSC_8246.JPG  3621    1878   ZOA\n25463  DSC_7740.JPG   959    4144  Turf\n22105  DSC_7822.JPG  3761    2423  Turf\n11515  DSC_8125.JPG  3760    3149   ZOA",
      "text/html": "<div>\n<style scoped>\n    .dataframe tbody tr th:only-of-type {\n        vertical-align: middle;\n    }\n\n    .dataframe tbody tr th {\n        vertical-align: top;\n    }\n\n    .dataframe thead th {\n        text-align: right;\n    }\n</style>\n<table border=\"1\" class=\"dataframe\">\n  <thead>\n    <tr style=\"text-align: right;\">\n      <th></th>\n      <th>Name</th>\n      <th>Row</th>\n      <th>Column</th>\n      <th>Label</th>\n    </tr>\n  </thead>\n  <tbody>\n    <tr>\n      <th>2392</th>\n      <td>DSC_8386.JPG</td>\n      <td>3444</td>\n      <td>2543</td>\n      <td>Turf</td>\n    </tr>\n    <tr>\n      <th>8056</th>\n      <td>DSC_8246.JPG</td>\n      <td>3621</td>\n      <td>1878</td>\n      <td>ZOA</td>\n    </tr>\n    <tr>\n      <th>25463</th>\n      <td>DSC_7740.JPG</td>\n      <td>959</td>\n      <td>4144</td>\n      <td>Turf</td>\n    </tr>\n    <tr>\n      <th>22105</th>\n      <td>DSC_7822.JPG</td>\n      <td>3761</td>\n      <td>2423</td>\n      <td>Turf</td>\n    </tr>\n    <tr>\n      <th>11515</th>\n      <td>DSC_8125.JPG</td>\n      <td>3760</td>\n      <td>3149</td>\n      <td>ZOA</td>\n    </tr>\n  </tbody>\n</table>\n</div>"
     },
     "execution_count": 5,
     "metadata": {},
     "output_type": "execute_result"
    }
   ],
   "source": [
    "labels_df.sample(5)"
   ],
   "metadata": {
    "collapsed": false
   }
  },
  {
   "cell_type": "markdown",
   "source": [
    "#### Getting the Images\n",
    "\n",
    "The annotation file will only contain the names of the images, so we need to get the actual\n",
    "image paths. This is done by getting all of the images in the image directory, and then\n",
    "filtering the dataframe to only include images that are in the image directory. We'll update the\n",
    " dataframe to also include the path of the image."
   ],
   "metadata": {
    "collapsed": false
   }
  },
  {
   "cell_type": "code",
   "execution_count": 6,
   "outputs": [],
   "source": [
    "# For each row in the dataframe, get the name of the image, and provide the path\n",
    "# to the image in a new column called image_path\n",
    "image_path = []\n",
    "\n",
    "for i, r in labels_df.iterrows():\n",
    "    if os.path.exists(IMAGE_DIR + r['Name']):\n",
    "        image_path.append(IMAGE_DIR + r['Name'])\n",
    "    else:\n",
    "        image_path.append(None)\n",
    "\n",
    "# Set the image path, filter any rows that don't have an image path\n",
    "labels_df['Image Path'] = image_path\n",
    "labels_df = labels_df[labels_df['Image Path'].notnull()]"
   ],
   "metadata": {
    "collapsed": false
   }
  },
  {
   "cell_type": "code",
   "execution_count": 7,
   "outputs": [
    {
     "data": {
      "text/plain": "               Name   Row  Column   Label  \\\n30302  DSC_7614.JPG  2077    5426    Turf   \n4229   DSC_8343.JPG  2794    5032  GORSPP   \n37669  DSC_7381.JPG    40    2010    CALG   \n11055  DSC_8139.JPG  1273     533     ZOA   \n36690  DSC_7403.JPG  2460     758     ZOA   \n\n                                         Image Path  \n30302  B://CoralNet_Data//4189//images/DSC_7614.JPG  \n4229   B://CoralNet_Data//4189//images/DSC_8343.JPG  \n37669  B://CoralNet_Data//4189//images/DSC_7381.JPG  \n11055  B://CoralNet_Data//4189//images/DSC_8139.JPG  \n36690  B://CoralNet_Data//4189//images/DSC_7403.JPG  ",
      "text/html": "<div>\n<style scoped>\n    .dataframe tbody tr th:only-of-type {\n        vertical-align: middle;\n    }\n\n    .dataframe tbody tr th {\n        vertical-align: top;\n    }\n\n    .dataframe thead th {\n        text-align: right;\n    }\n</style>\n<table border=\"1\" class=\"dataframe\">\n  <thead>\n    <tr style=\"text-align: right;\">\n      <th></th>\n      <th>Name</th>\n      <th>Row</th>\n      <th>Column</th>\n      <th>Label</th>\n      <th>Image Path</th>\n    </tr>\n  </thead>\n  <tbody>\n    <tr>\n      <th>30302</th>\n      <td>DSC_7614.JPG</td>\n      <td>2077</td>\n      <td>5426</td>\n      <td>Turf</td>\n      <td>B://CoralNet_Data//4189//images/DSC_7614.JPG</td>\n    </tr>\n    <tr>\n      <th>4229</th>\n      <td>DSC_8343.JPG</td>\n      <td>2794</td>\n      <td>5032</td>\n      <td>GORSPP</td>\n      <td>B://CoralNet_Data//4189//images/DSC_8343.JPG</td>\n    </tr>\n    <tr>\n      <th>37669</th>\n      <td>DSC_7381.JPG</td>\n      <td>40</td>\n      <td>2010</td>\n      <td>CALG</td>\n      <td>B://CoralNet_Data//4189//images/DSC_7381.JPG</td>\n    </tr>\n    <tr>\n      <th>11055</th>\n      <td>DSC_8139.JPG</td>\n      <td>1273</td>\n      <td>533</td>\n      <td>ZOA</td>\n      <td>B://CoralNet_Data//4189//images/DSC_8139.JPG</td>\n    </tr>\n    <tr>\n      <th>36690</th>\n      <td>DSC_7403.JPG</td>\n      <td>2460</td>\n      <td>758</td>\n      <td>ZOA</td>\n      <td>B://CoralNet_Data//4189//images/DSC_7403.JPG</td>\n    </tr>\n  </tbody>\n</table>\n</div>"
     },
     "execution_count": 7,
     "metadata": {},
     "output_type": "execute_result"
    }
   ],
   "source": [
    "labels_df.sample(5)"
   ],
   "metadata": {
    "collapsed": false
   }
  },
  {
   "cell_type": "markdown",
   "source": [
    "#### Creating the Patches\n",
    "\n",
    "Now that we have the annotations, we can create the patches. We'll first create sub-directories\n",
    "for each of the labels within the patch folder. Then we'll extract patches from images and save\n",
    "them to the appropriate sub-directory."
   ],
   "metadata": {
    "collapsed": false
   }
  },
  {
   "cell_type": "code",
   "execution_count": 8,
   "outputs": [],
   "source": [
    "# Create a directory for each class label\n",
    "for label in labels_df['Label'].unique():\n",
    "    os.makedirs(PATCH_DIR + label, exist_ok=True)"
   ],
   "metadata": {
    "collapsed": false
   }
  },
  {
   "cell_type": "code",
   "execution_count": 10,
   "outputs": [
    {
     "data": {
      "text/plain": "(3,)"
     },
     "execution_count": 10,
     "metadata": {},
     "output_type": "execute_result"
    }
   ],
   "source": [
    "labels_df = labels_df[labels_df['Name'].isin(labels_df['Name'].unique()[0:3])]\n",
    "labels_df['Name'].unique().shape"
   ],
   "metadata": {
    "collapsed": false
   }
  },
  {
   "cell_type": "code",
   "execution_count": 11,
   "outputs": [
    {
     "name": "stderr",
     "output_type": "stream",
     "text": [
      "100%|██████████| 3/3 [00:06<00:00,  2.18s/it]\n"
     ]
    }
   ],
   "source": [
    "# Dataframe to hold information for patches\n",
    "patches_df = []\n",
    "\n",
    "with concurrent.futures.ThreadPoolExecutor() as executor:\n",
    "    results = list(tqdm(\n",
    "        executor.map(\n",
    "            lambda image_df: crop_patches(image_df, PATCH_DIR),\n",
    "            [labels_df[labels_df['Name'] == image_name] for image_name in labels_df['Name'].unique()]\n",
    "        ),\n",
    "        total=len(labels_df['Name'].unique())\n",
    "    ))\n",
    "\n",
    "\n",
    "for result in results:\n",
    "    patches_df.extend(result)"
   ],
   "metadata": {
    "collapsed": false
   }
  },
  {
   "cell_type": "markdown",
   "source": [
    "#### Creating a CSV File\n",
    "\n",
    "Finally, we'll create a CSV file that contains the information for each patch. This will be\n",
    "useful for loading the patches into a dataset for model training."
   ],
   "metadata": {
    "collapsed": false
   }
  },
  {
   "cell_type": "code",
   "execution_count": 12,
   "id": "b210afaa",
   "metadata": {},
   "outputs": [],
   "source": [
    "patches_df = pd.DataFrame(patches_df, columns=['Name', 'Label', 'Path', 'Image Name', 'Image Path'])\n",
    "patches_df.to_csv(SOURCE_DIR + \"patches.csv\")"
   ]
  }
 ],
 "metadata": {
  "kernel_info": {
   "name": "python3"
  },
  "kernelspec": {
   "display_name": "Python 3 (ipykernel)",
   "language": "python",
   "name": "python3"
  },
  "language_info": {
   "codemirror_mode": {
    "name": "ipython",
    "version": 3
   },
   "file_extension": ".py",
   "mimetype": "text/x-python",
   "name": "python",
   "nbconvert_exporter": "python",
   "pygments_lexer": "ipython3",
   "version": "3.8.16"
  },
  "microsoft": {
   "ms_spell_check": {
    "ms_spell_check_language": "en"
   }
  },
  "nteract": {
   "version": "nteract-front-end@1.0.0"
  },
  "vscode": {
   "interpreter": {
    "hash": "29187d11294c07bea965194f215d76d7c863eddc7d453727fd722f0612a38c27"
   }
  }
 },
 "nbformat": 4,
 "nbformat_minor": 5
}
