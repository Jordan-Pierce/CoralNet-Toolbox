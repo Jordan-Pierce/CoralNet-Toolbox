{
 "cells": [
  {
   "cell_type": "markdown",
   "source": [
    "### Annotations to Patches (Notebook)\n",
    "\n",
    "This notebook shows how to create patches for annotations downloaded from CoralNet. It assumes\n",
    "that you've already downloaded the data from a source, and that it is stored in the\n",
    "CoralNet_Data directory."
   ],
   "metadata": {
    "collapsed": false
   }
  },
  {
   "cell_type": "markdown",
   "source": [
    "#### Imports"
   ],
   "metadata": {
    "collapsed": false
   }
  },
  {
   "cell_type": "code",
   "execution_count": null,
   "outputs": [],
   "source": [
    "from utils import *"
   ],
   "metadata": {
    "collapsed": false
   }
  },
  {
   "cell_type": "markdown",
   "source": [
    "#### Setting the Data Directory"
   ],
   "metadata": {
    "collapsed": false
   }
  },
  {
   "cell_type": "code",
   "execution_count": null,
   "id": "4f0b48eb-c4e6-46f9-9e5e-f1f5c64f2d2e",
   "metadata": {},
   "outputs": [],
   "source": [
    "# The root directory for the data\n",
    "ROOT = \"../CoralNet_Data/\"\n",
    "\n",
    "# The sub-directory containing for a source; note that you can alter this\n",
    "# to include multiple sources if you want to.\n",
    "SOURCE_DIR = ROOT + \"3420/\"\n",
    "IMAGE_DIR = SOURCE_DIR + \"images/\"\n",
    "LABEL_PATH = SOURCE_DIR + \"annotations.csv\"\n",
    "\n",
    "# Check that the paths exist\n",
    "assert os.path.exists(ROOT)\n",
    "assert os.path.exists(SOURCE_DIR)\n",
    "assert os.path.exists(IMAGE_DIR)\n",
    "assert os.path.exists(LABEL_PATH)\n",
    "\n",
    "# Create a sub-directory for the patches\n",
    "PATCH_DIR = SOURCE_DIR + \"patches/\"\n",
    "os.makedirs(PATCH_DIR, exist_ok=True)"
   ]
  },
  {
   "cell_type": "markdown",
   "source": [
    "#### Loading the Annotations\n",
    "\n",
    "Here the annotations are loaded into a pandas dataframe. The dataframe can then be filtered to\n",
    "only include annotations made by a user, or by a model with high confidence."
   ],
   "metadata": {
    "collapsed": false
   }
  },
  {
   "cell_type": "code",
   "execution_count": null,
   "outputs": [],
   "source": [
    "# Read in the annotations\n",
    "labels_df = pd.read_csv(LABEL_PATH)\n",
    "\n",
    "# Get the annotations made by a user\n",
    "labels_df = labels_df[labels_df['Annotator'] == 'Imported']\n",
    "\n",
    "# Subset the dataframe to only include needed columns\n",
    "labels_df = labels_df[['Name', 'Row', 'Column', 'Label']]"
   ],
   "metadata": {
    "collapsed": false
   }
  },
  {
   "cell_type": "markdown",
   "source": [
    "#### Getting the Images\n",
    "\n",
    "The annotation file will only contain the names of the images, so we need to get the actual\n",
    "image paths. This is done by getting all of the images in the image directory, and then\n",
    "filtering the dataframe to only include images that are in the image directory. We'll update the\n",
    " dataframe to also include the path of the image."
   ],
   "metadata": {
    "collapsed": false
   }
  },
  {
   "cell_type": "code",
   "execution_count": null,
   "outputs": [],
   "source": [
    "# For each row in the dataframe, get the name of the image, and provide the path\n",
    "# to the image in a new column called image_path\n",
    "image_path = []\n",
    "\n",
    "for i, r in labels_df.iterrows():\n",
    "    if os.path.exists(IMAGE_DIR + r['Name']):\n",
    "        image_path.append(IMAGE_DIR + r['Name'])\n",
    "    else:\n",
    "        image_path.append(None)\n",
    "\n",
    "# Set the image path, filter any rows that don't have an image path\n",
    "labels_df['Image_Path'] = image_path\n",
    "labels_df = labels_df[labels_df['Image_Path'].notnull()]"
   ],
   "metadata": {
    "collapsed": false
   }
  },
  {
   "cell_type": "markdown",
   "source": [
    "#### Creating the Patches\n",
    "\n",
    "Now that we have the annotations, we can create the patches. We'll first create sub-directories\n",
    "for each of the labels within the patch folder. Then we'll extract patches from images and save\n",
    "them to the appropriate sub-directory."
   ],
   "metadata": {
    "collapsed": false
   }
  },
  {
   "cell_type": "code",
   "execution_count": null,
   "outputs": [],
   "source": [
    "# Create a sub-directory for each class label\n",
    "for label in labels_df['Label'].unique():\n",
    "    os.makedirs(PATCH_DIR + label, exist_ok=True)\n",
    "\n",
    "# Dataframe to hold information for patches\n",
    "patches_df = []\n",
    "\n",
    "# Loop through all of the individual images\n",
    "for image_name in tqdm(labels_df['Name'].unique()):\n",
    "\n",
    "    # Get the labels for just this image\n",
    "    image_df = labels_df[labels_df['Name'] == image_name]\n",
    "\n",
    "    # Open image\n",
    "    image = imread(image_df['Image_Path'].iloc[0])\n",
    "\n",
    "    # Crop each patch in the current image dataframe\n",
    "    for i, r in image_df.iterrows():\n",
    "\n",
    "        try:\n",
    "            patch = crop(image, r['Row'], r['Column'], 56)\n",
    "            name = f\"{r['Row']}_{r['Column']}_{r['Label']}_{image_name}\"\n",
    "            path = PATCH_DIR + r['Label'] + \"/\" + name\n",
    "\n",
    "            # Save if it doesn't already exist\n",
    "            if not os.path.exists(path):\n",
    "                imsave(fname=path, arr=patch)\n",
    "\n",
    "            patches_df.append([name, r['Label'], path, image_name])\n",
    "\n",
    "        except:\n",
    "            # If the patch is out of bounds, skip it\n",
    "            continue"
   ],
   "metadata": {
    "collapsed": false
   }
  },
  {
   "cell_type": "markdown",
   "source": [
    "#### Creating a CSV File\n",
    "\n",
    "Finally, we'll create a CSV file that contains the information for each patch. This will be\n",
    "useful for loading the patches into a dataset for model training."
   ],
   "metadata": {
    "collapsed": false
   }
  },
  {
   "cell_type": "code",
   "execution_count": null,
   "id": "b210afaa",
   "metadata": {},
   "outputs": [],
   "source": [
    "patches_df = pd.DataFrame(patches_df, columns=['Name', 'Label', 'Path', 'Image_Name'])\n",
    "patches_df.to_csv(SOURCE_DIR + \"patches.csv\")"
   ]
  }
 ],
 "metadata": {
  "kernel_info": {
   "name": "python3"
  },
  "kernelspec": {
   "display_name": "Python 3 (ipykernel)",
   "language": "python",
   "name": "python3"
  },
  "language_info": {
   "codemirror_mode": {
    "name": "ipython",
    "version": 3
   },
   "file_extension": ".py",
   "mimetype": "text/x-python",
   "name": "python",
   "nbconvert_exporter": "python",
   "pygments_lexer": "ipython3",
   "version": "3.8.16"
  },
  "microsoft": {
   "ms_spell_check": {
    "ms_spell_check_language": "en"
   }
  },
  "nteract": {
   "version": "nteract-front-end@1.0.0"
  },
  "vscode": {
   "interpreter": {
    "hash": "29187d11294c07bea965194f215d76d7c863eddc7d453727fd722f0612a38c27"
   }
  }
 },
 "nbformat": 4,
 "nbformat_minor": 5
}
