{
 "cells": [
  {
   "cell_type": "code",
   "execution_count": null,
   "metadata": {},
   "outputs": [],
   "source": [
    "import numpy as np\n",
    "import pandas as pd\n",
    "import matplotlib.pyplot as plt"
   ]
  },
  {
   "cell_type": "code",
   "execution_count": null,
   "metadata": {},
   "outputs": [],
   "source": [
    "def crop_patch(image, y, x, size=112):\n",
    "    \"\"\"Given an image, and a Y, X location, this function will extract the patch. \n",
    "        Default patch size is 112 x 112\"\"\"\n",
    "\n",
    "    patch = image[abs(size - y) : abs(size + y), abs(size - x) : abs(size + x), :]\n",
    "    \n",
    "    return patch\n",
    "\n",
    "\n",
    "def check_dimensions(image, y, x, size=112):\n",
    "    \"\"\"Before a patch is extracted from an image, check to make sure that it will not\n",
    "        extend pass the dimensions of the image.\"\"\"\n",
    "    \n",
    "    # Get the dimensions of the image first, then check to make sure the patch that would be\n",
    "    # extacted doesn't over-extend the boundaries of the image.\n",
    "    height, width = image.shape[0:2]\n",
    "    \n",
    "    if(x + (size//2) > width or x - (size//2) < 0 or y + (size//2) > height or y - (size//2) < 0):\n",
    "        return False\n",
    "    else:\n",
    "        return True\n",
    "    \n",
    "    \n",
    "def create_patches(img, percent, offset=112):\n",
    "    \"\"\"Given an image, this function will extract patches from it in a uniform grid. To increase the\n",
    "        density of the grid, increase the percentage of pixel-indices that should be sampled.\"\"\"\n",
    "\n",
    "    # Create a grid of points to extract patches from, use the percent variable to \n",
    "    # vary the density.\n",
    "    num_points = int((img.shape[0] * img.shape[1]) * percent)\n",
    "    density = int(np.sqrt(num_points)) \n",
    "\n",
    "    x_, y_ = np.meshgrid(np.linspace(offset, img.shape[1] - offset, int(density)), \n",
    "                         np.linspace(offset, img.shape[0] - offset, int(density)))\n",
    "\n",
    "    xy = np.dstack([x_, y_]).reshape(-1, 2).astype(int)\n",
    "    \n",
    "    # Filter out points that exceed the extent of the image\n",
    "    sparse_points = [p.tolist() for p in xy if check_dimensions(image, p[1], p[0])]\n",
    "        \n",
    "    # Extract the patches \n",
    "    patches = [crop_patch(img, point[1], point[0]) for point in sparse_points]\n",
    "    \n",
    "    print(\"Number of patches: \", len(patches))\n",
    "    \n",
    "    return np.array(sparse_points), patches"
   ]
  },
  {
   "cell_type": "code",
   "execution_count": null,
   "metadata": {},
   "outputs": [],
   "source": [
    "image_file = \"..\\\\Figures\\\\example_coral_patch.png\"\n",
    "image = plt.imread(image_file)\n",
    "\n",
    "plt.figure(figsize=(10, 10))\n",
    "plt.imshow(image)\n",
    "plt.show()"
   ]
  },
  {
   "cell_type": "code",
   "execution_count": null,
   "metadata": {},
   "outputs": [],
   "source": [
    "# Extracting points and the corresponding patches from the image\n",
    "# Note that we're sampling 0.001% pixels.\n",
    "sparse_points, patches = create_patches(image, 0.00035, offset = 56)\n",
    "\n",
    "num_patches = len(patches)"
   ]
  },
  {
   "cell_type": "code",
   "execution_count": null,
   "metadata": {},
   "outputs": [],
   "source": [
    "# Display the image with the location of the patches\n",
    "plt.figure(figsize=(20, 10))\n",
    "plt.imshow(image)\n",
    "plt.scatter(sparse_points.T[0], sparse_points.T[1], c='red')\n",
    "plt.show()"
   ]
  },
  {
   "cell_type": "code",
   "execution_count": null,
   "metadata": {},
   "outputs": [],
   "source": [
    "# Save all of the patches and sparse points (if needed)\n",
    "\n",
    "patch_names = []\n",
    "\n",
    "for index, patch in enumerate(patches):\n",
    "   \n",
    "    x, y = sparse_points[index]\n",
    "    \n",
    "    image_name = os.path.basename(image_file).split(\".\")[0]\n",
    "    patch_name = \"Patches\\\\\" + image_name + \"_patch_\" + str(x) + \"_\" + str(y) + \".png\"\n",
    "    patch_names.append(patch_name)\n",
    "    \n",
    "    plt.imsave(patch_name, patch)\n",
    "    \n",
    "    \n",
    "pd.DataFrame(list(zip(x.tolist(), y.tolist(), patch_names)), \n",
    "             columns  = ['X', 'Y', 'file']).to_csv(image_name + \"_Sparse_Points.csv\")"
   ]
  }
 ],
 "metadata": {
  "kernelspec": {
   "display_name": "mdbc",
   "language": "python",
   "name": "python3"
  },
  "language_info": {
   "codemirror_mode": {
    "name": "ipython",
    "version": 3
   },
   "file_extension": ".py",
   "mimetype": "text/x-python",
   "name": "python",
   "nbconvert_exporter": "python",
   "pygments_lexer": "ipython3",
   "version": "3.8.16"
  },
  "vscode": {
   "interpreter": {
    "hash": "1de9c0aaf7e968c1aef41e20f1ad1b01d1167fa61651abc97e5c5ef477aac459"
   }
  }
 },
 "nbformat": 4,
 "nbformat_minor": 4
}
