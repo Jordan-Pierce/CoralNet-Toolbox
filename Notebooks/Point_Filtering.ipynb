{
 "cells": [
  {
   "cell_type": "code",
   "id": "initial_id",
   "metadata": {
    "collapsed": true,
    "ExecuteTime": {
     "end_time": "2024-08-15T16:50:30.344064Z",
     "start_time": "2024-08-15T16:50:30.338169Z"
    }
   },
   "source": [
    "import os\n",
    "import json\n",
    "import glob\n",
    "\n",
    "import pandas as pd"
   ],
   "outputs": [],
   "execution_count": 7
  },
  {
   "metadata": {
    "ExecuteTime": {
     "end_time": "2024-08-15T16:50:30.742072Z",
     "start_time": "2024-08-15T16:50:30.736071Z"
    }
   },
   "cell_type": "code",
   "source": [
    "def get_shortcode_longcode_dict(file_path):\n",
    "    \"\"\"\n",
    "\n",
    "    :param file_path:\n",
    "    :return:\n",
    "    \"\"\"\n",
    "    with open(file_path, 'r') as file:\n",
    "        data = json.load(file)\n",
    "\n",
    "    shortcode_longcode_dict = {}\n",
    "    for item in data['classlist']:\n",
    "        id_number, short_code, full_name = item\n",
    "        shortcode_longcode_dict[short_code] = full_name\n",
    "\n",
    "    return shortcode_longcode_dict"
   ],
   "id": "5f06f5d2714c446",
   "outputs": [],
   "execution_count": 8
  },
  {
   "metadata": {
    "ExecuteTime": {
     "end_time": "2024-08-15T16:50:31.142078Z",
     "start_time": "2024-08-15T16:50:31.131079Z"
    }
   },
   "cell_type": "code",
   "source": [
    "def filter_points_dataframe(\n",
    "    df: pd.DataFrame,\n",
    "    qclasses_dict: dict,\n",
    "    rand_sub_ceil: float = 1.0,\n",
    "    reprojection_error: float = 0.01,\n",
    "    view_index: int = 10,\n",
    "    view_count: int = 5\n",
    ") -> pd.DataFrame:\n",
    "    \"\"\"\n",
    "    Filters and cleans a dataframe containing point data.\n",
    "\n",
    "    :param df: Input DataFrame containing point data\n",
    "    :param qclasses_dict: Dictionary containing Q-classes names (short --> long label)\n",
    "    :param rand_sub_ceil: Maximum value for RandSubCeil filter (default: 1.0)\n",
    "    :param reprojection_error: Maximum value for ReprojectionError filter (default: 0.01)\n",
    "    :param view_index: Maximum value for ViewIndex filter (default: 10)\n",
    "    :param view_count: Minimum value for ViewCount filter (default: 5)\n",
    "    :return: Filtered and cleaned DataFrame\n",
    "    \"\"\"\n",
    "\n",
    "    # Clean and preprocess data\n",
    "    df_filtered = df.copy()\n",
    "    \n",
    "    df_filtered = df_filtered.dropna(how='any')\n",
    "    df_filtered['Name'] = df_filtered['Name'].apply(os.path.basename)\n",
    "    df_filtered['Row'] = df_filtered['Row'].astype(int)\n",
    "    df_filtered['Column'] = df_filtered['Column'].astype(int)\n",
    "    \n",
    "    # Apply filters\n",
    "    filtered_df = df_filtered[\n",
    "        (df_filtered['RandSubCeil'] <= rand_sub_ceil) &\n",
    "        (df_filtered['ReprojectionError'] <= reprojection_error) &\n",
    "        (df_filtered['ViewIndex'] <= view_index) &\n",
    "        (df_filtered['ViewCount'] >= view_count)\n",
    "    ]\n",
    "    \n",
    "    # Map the short to long\n",
    "    filtered_df.loc[:, 'Label'] = filtered_df['Label'].map(qclasses_dict)\n",
    "    \n",
    "    return filtered_df"
   ],
   "id": "31ba155c4f4c49",
   "outputs": [],
   "execution_count": 9
  },
  {
   "metadata": {
    "ExecuteTime": {
     "end_time": "2024-08-15T16:50:32.288099Z",
     "start_time": "2024-08-15T16:50:32.191098Z"
    }
   },
   "cell_type": "code",
   "source": [
    "w_drive = f\"W:\\\\MIR_AI\"\n",
    "w_image_paths = f\"{w_drive}\\\\images\"\n",
    "w_point_paths = f\"{w_drive}\\\\raw_points\"\n",
    "\n",
    "output_dir = f\"{w_drive}\\\\filtered_points\"\n",
    "os.makedirs(output_dir, exist_ok=True)"
   ],
   "id": "f8088c3c96824b9a",
   "outputs": [],
   "execution_count": 10
  },
  {
   "metadata": {
    "ExecuteTime": {
     "end_time": "2024-08-15T14:19:31.877211Z",
     "start_time": "2024-08-15T14:19:31.830200Z"
    }
   },
   "cell_type": "code",
   "source": [
    "qclasses_json = f\"{w_drive}\\\\master_qclasses.json\"\n",
    "qclasses_dict = get_shortcode_longcode_dict(qclasses_json)\n",
    "\n",
    "set(qclasses_dict.values())"
   ],
   "id": "469acbc7fa3397cc",
   "outputs": [
    {
     "data": {
      "text/plain": [
       "{'Acropora_cervicornis',\n",
       " 'Acropora_palmata',\n",
       " 'Acropora_prolifera',\n",
       " 'Agaricia_agaricites',\n",
       " 'Agaricia_fragilis',\n",
       " 'Agaricia_grahamae',\n",
       " 'Agaricia_humilis',\n",
       " 'Agaricia_lamarcki',\n",
       " 'Agaricia_sp',\n",
       " 'Agaricia_tenuifolia',\n",
       " 'Agaricia_undata',\n",
       " 'Anemone',\n",
       " 'Antillogorgia',\n",
       " 'Ascidians',\n",
       " 'Basalt',\n",
       " 'Bivalve',\n",
       " 'Black_coral',\n",
       " 'Branching_Octocorals',\n",
       " 'Briareum_branch',\n",
       " 'Bryozoan',\n",
       " 'CCA',\n",
       " 'Calcareous_Algae',\n",
       " 'Chondrilla',\n",
       " 'Cladocora_arbuscula',\n",
       " 'Clionid',\n",
       " 'Colpophyllia_breviserialis',\n",
       " 'Colpophyllia_natans',\n",
       " 'Colpophyllia_sp',\n",
       " 'Coral_skeleton',\n",
       " 'Corallimorph',\n",
       " 'Cyanobacteria',\n",
       " 'Dendrogyra_cylindrus',\n",
       " 'Dichocoenia_stokesii',\n",
       " 'Dictyota',\n",
       " 'Diploria_labyrinthiformis',\n",
       " 'Encrusting_macroalgae',\n",
       " 'Erythropodium',\n",
       " 'Eunicea',\n",
       " 'Eusmilia_fastigiata',\n",
       " 'Favia_fragum',\n",
       " 'Fine_sediment',\n",
       " 'Gorgonia_sp',\n",
       " 'Green_Diplosoma',\n",
       " 'Halimeda',\n",
       " 'Helioseris_cucculata',\n",
       " 'Hydroid',\n",
       " 'Icilligorgia',\n",
       " 'Isophyllia_rigida',\n",
       " 'Isophyllia_sinuosa',\n",
       " 'Isophyllia_sp',\n",
       " 'Leather_coral',\n",
       " 'Lobophora',\n",
       " 'Madracis_carmabi',\n",
       " 'Madracis_decactis complex',\n",
       " 'Madracis_formosa',\n",
       " 'Madracis_mirabilis',\n",
       " 'Madracis_pharensis',\n",
       " 'Madracis_senaria',\n",
       " 'Madracis_sp',\n",
       " 'Manicina_areolata',\n",
       " 'Meandrina_meandrites',\n",
       " 'Millepora_alcicornis',\n",
       " 'Millepora_complanata',\n",
       " 'Millepora_sp',\n",
       " 'Millepora_squarrosa',\n",
       " 'Millepora_striata',\n",
       " 'Montastraea_cavernosa',\n",
       " 'Muricea',\n",
       " 'Muriceopsis',\n",
       " 'Mussa_angulosa',\n",
       " 'Mycetophyillia_sp',\n",
       " 'Mycetophyllia_aliciae',\n",
       " 'Mycetophyllia_danaana',\n",
       " 'Mycetophyllia_ferox',\n",
       " 'Mycetophyllia_lamarckiana',\n",
       " 'Mycetophyllia_reesi',\n",
       " 'N/A',\n",
       " 'Octocoral_pachyclavularia',\n",
       " 'Oculina_diffusa',\n",
       " 'Orbicella_annularis',\n",
       " 'Orbicella_faveolata',\n",
       " 'Orbicella_franksi',\n",
       " 'Orbicella_sp',\n",
       " 'Other_hydrozoans',\n",
       " 'Other_invert',\n",
       " 'Palythoa_sp',\n",
       " 'Pavement',\n",
       " 'Peyssonnelia_sp',\n",
       " 'Plexaura',\n",
       " 'Plexaurella',\n",
       " 'Polychaeta',\n",
       " 'Porites_astreoides',\n",
       " 'Porites_branneri',\n",
       " 'Porites_divaricata',\n",
       " 'Porites_furcata',\n",
       " 'Porites_porites',\n",
       " 'Porites_sp',\n",
       " 'Pseudodiploria_clivosa',\n",
       " 'Pseudodiploria_strigosa',\n",
       " 'Pseudoplexaura',\n",
       " 'Pterogorgia',\n",
       " 'Review',\n",
       " 'Sand',\n",
       " 'Scolymia_cubensis',\n",
       " 'Scolymia_lacera',\n",
       " 'Scolymia_sp',\n",
       " 'Seagrass',\n",
       " 'Siderastrea_radians',\n",
       " 'Siderastrea_siderea',\n",
       " 'Siderastrea_sp',\n",
       " 'Siderastrea_stellata',\n",
       " 'Solenastrea_bournoni',\n",
       " 'Stephanocoenia_intersepta',\n",
       " 'Stylaster_roseus',\n",
       " 'Trididemnum',\n",
       " 'Tubastrea_sp',\n",
       " 'Tunicate',\n",
       " 'Turf_Algae',\n",
       " 'Turf_over_recently_dead_coral',\n",
       " 'Unknown',\n",
       " 'Unknown_macroalgae',\n",
       " 'Xestospongia',\n",
       " 'Zoanthus',\n",
       " 'encrusting_sponge',\n",
       " 'erect sponge'}"
      ]
     },
     "execution_count": 6,
     "metadata": {},
     "output_type": "execute_result"
    }
   ],
   "execution_count": 6
  },
  {
   "metadata": {
    "ExecuteTime": {
     "end_time": "2024-08-15T13:43:33.199066Z",
     "start_time": "2024-08-15T13:43:33.167063Z"
    }
   },
   "cell_type": "code",
   "source": [
    "w_point_files = glob.glob(w_point_paths + \"\\\\*.csv\")\n",
    "print(f\"Found {len(w_point_files)} point files.\")"
   ],
   "id": "c247b83e28c95681",
   "outputs": [
    {
     "name": "stdout",
     "output_type": "stream",
     "text": [
      "Found 93 point files.\n"
     ]
    }
   ],
   "execution_count": 7
  },
  {
   "metadata": {
    "ExecuteTime": {
     "end_time": "2024-08-15T13:51:24.175951Z",
     "start_time": "2024-08-15T13:43:34.066097Z"
    }
   },
   "cell_type": "code",
   "source": [
    "for w_point_file in w_point_files:\n",
    "    \n",
    "    df = pd.read_csv(w_point_file)\n",
    "    filtered_df = filter_points_dataframe(df, \n",
    "                                          qclasses_dict,\n",
    "                                          rand_sub_ceil=1.0, \n",
    "                                          reprojection_error=0.01, \n",
    "                                          view_index=10, \n",
    "                                          view_count=5)\n",
    "    \n",
    "    # Output    \n",
    "    output_file = f\"{output_dir}\\\\{os.path.basename(w_point_file)}\"\n",
    "    filtered_df.to_csv(output_file, index=False)\n",
    "    assert os.path.exists(output_file), f\"Output file {output_file} was not created\"\n"
   ],
   "id": "2a130bfdbafa9195",
   "outputs": [],
   "execution_count": 8
  },
  {
   "metadata": {},
   "cell_type": "code",
   "source": "",
   "id": "b7012432234083a7",
   "outputs": [],
   "execution_count": null
  }
 ],
 "metadata": {
  "kernelspec": {
   "display_name": "Python 3",
   "language": "python",
   "name": "python3"
  },
  "language_info": {
   "codemirror_mode": {
    "name": "ipython",
    "version": 2
   },
   "file_extension": ".py",
   "mimetype": "text/x-python",
   "name": "python",
   "nbconvert_exporter": "python",
   "pygments_lexer": "ipython2",
   "version": "2.7.6"
  }
 },
 "nbformat": 4,
 "nbformat_minor": 5
}
