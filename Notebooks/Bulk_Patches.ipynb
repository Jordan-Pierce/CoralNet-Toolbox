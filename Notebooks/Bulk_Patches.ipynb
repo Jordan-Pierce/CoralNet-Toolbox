{
 "cells": [
  {
   "cell_type": "code",
   "id": "initial_id",
   "metadata": {
    "collapsed": true,
    "ExecuteTime": {
     "end_time": "2024-08-15T14:17:30.092584Z",
     "start_time": "2024-08-15T14:17:19.247180Z"
    }
   },
   "source": [
    "import argparse\n",
    "from Toolbox.Tools.Patches import patches"
   ],
   "outputs": [],
   "execution_count": 1
  },
  {
   "metadata": {
    "ExecuteTime": {
     "end_time": "2024-08-15T14:17:30.102583Z",
     "start_time": "2024-08-15T14:17:30.096584Z"
    }
   },
   "cell_type": "code",
   "source": [
    "import os\n",
    "import glob"
   ],
   "id": "43ac666d7040b87a",
   "outputs": [],
   "execution_count": 2
  },
  {
   "metadata": {
    "ExecuteTime": {
     "end_time": "2024-08-15T14:17:30.140586Z",
     "start_time": "2024-08-15T14:17:30.104584Z"
    }
   },
   "cell_type": "code",
   "source": [
    "output_dir = f\"B:\\\\CoralNet-Toolbox\\\\Data\\\\MIR_AI\"\n",
    "\n",
    "w_drive = f\"W:\\\\MIR_AI\"\n",
    "w_image_paths = f\"{w_drive}\\\\images\"\n",
    "w_point_paths = f\"{w_drive}\\\\filtered_points\""
   ],
   "id": "35d0952b3fd00856",
   "outputs": [],
   "execution_count": 3
  },
  {
   "metadata": {
    "ExecuteTime": {
     "end_time": "2024-08-15T14:17:30.253588Z",
     "start_time": "2024-08-15T14:17:30.142585Z"
    }
   },
   "cell_type": "code",
   "source": [
    "w_image_folders = glob.glob(w_image_paths + \"\\\\*JPEG\")\n",
    "w_point_files = glob.glob(w_point_paths + \"\\\\*.csv\")"
   ],
   "id": "eaa42d9e2ea5aa58",
   "outputs": [],
   "execution_count": 4
  },
  {
   "metadata": {
    "ExecuteTime": {
     "end_time": "2024-08-15T14:17:30.262587Z",
     "start_time": "2024-08-15T14:17:30.255588Z"
    }
   },
   "cell_type": "code",
   "source": [
    "w_images_dict = {os.path.basename(p).split(\"_JPEG\")[0]: p for p in w_image_folders}\n",
    "w_points_dict = {os.path.basename(p).split(\".csv\")[0]: p for p in w_point_files}"
   ],
   "id": "ef2c004426f0e8f4",
   "outputs": [],
   "execution_count": 5
  },
  {
   "metadata": {
    "ExecuteTime": {
     "end_time": "2024-08-15T14:17:30.286590Z",
     "start_time": "2024-08-15T14:17:30.266704Z"
    }
   },
   "cell_type": "code",
   "source": [
    "args = argparse.Namespace()\n",
    "\n",
    "args.image_dir = None\n",
    "args.annotation_file = None\n",
    "args.image_column = 'Name'\n",
    "args.label_column = 'Label'\n",
    "args.patch_size = 224\n",
    "args.output_name = None\n",
    "args.output_dir = None"
   ],
   "id": "5d265d9d224f718c",
   "outputs": [],
   "execution_count": 6
  },
  {
   "metadata": {
    "ExecuteTime": {
     "end_time": "2024-08-14T22:02:57.163939Z",
     "start_time": "2024-08-14T22:02:57.145942Z"
    }
   },
   "cell_type": "code",
   "source": "completed_folders = []",
   "id": "9d74e04e28740a25",
   "outputs": [],
   "execution_count": 7
  },
  {
   "metadata": {
    "ExecuteTime": {
     "end_time": "2024-08-15T16:25:04.841389Z",
     "start_time": "2024-08-15T14:17:30.288588Z"
    }
   },
   "cell_type": "code",
   "source": [
    "for image_folder_name in list(w_images_dict.keys()):\n",
    "    \n",
    "    # Path to image dir on W:\n",
    "    args.image_dir = w_images_dict[image_folder_name]\n",
    "    # Path to patch file on W:\n",
    "    args.annotation_file = w_points_dict[image_folder_name]\n",
    "    # Patch output dir name\n",
    "    args.output_name = image_folder_name\n",
    "    # Root output dir\n",
    "    args.output_dir = output_dir\n",
    "    \n",
    "    # If either doesn't exist, skip\n",
    "    if not os.path.exists(args.image_dir) or not os.path.exists(args.annotation_file):\n",
    "        continue\n",
    "    \n",
    "    try:\n",
    "        if not os.path.exists(f\"{args.output_dir}\\\\patches\\\\{args.output_name}\\\\patches.csv\"):\n",
    "            patches(args)\n",
    "            \n",
    "        completed_folders.append(image_folder_name)\n",
    "        print(f\"Completed {image_folder_name}\")\n",
    "        \n",
    "    except Exception as e:\n",
    "        print(e)\n",
    "            "
   ],
   "id": "dda36f43b6a5f36",
   "outputs": [
    {
     "name": "stdout",
     "output_type": "stream",
     "text": [
      "\n",
      "###############################################\n",
      "Cropping Patches\n",
      "###############################################\n",
      "\n",
      "NOTE: Patches dataframe saved to B:\\CoralNet-Toolbox\\Data\\MIR_AI/patches/CFN_CA-1_2023-04-13/patches.csv\n",
      "name 'completed_folders' is not defined\n",
      "\n",
      "###############################################\n",
      "Cropping Patches\n",
      "###############################################\n",
      "\n",
      "NOTE: Patches dataframe saved to B:\\CoralNet-Toolbox\\Data\\MIR_AI/patches/CFN_CB-1_2023-05-09/patches.csv\n",
      "name 'completed_folders' is not defined\n",
      "\n",
      "###############################################\n",
      "Cropping Patches\n",
      "###############################################\n",
      "\n",
      "NOTE: Patches dataframe saved to B:\\CoralNet-Toolbox\\Data\\MIR_AI/patches/CFN_CD-4_2023-04-27/patches.csv\n",
      "name 'completed_folders' is not defined\n",
      "\n",
      "###############################################\n",
      "Cropping Patches\n",
      "###############################################\n",
      "\n",
      "NOTE: Patches dataframe saved to B:\\CoralNet-Toolbox\\Data\\MIR_AI/patches/CFN_R6-4_2023-01-05/patches.csv\n",
      "name 'completed_folders' is not defined\n",
      "\n",
      "###############################################\n",
      "Cropping Patches\n",
      "###############################################\n",
      "\n",
      "NOTE: Patches dataframe saved to B:\\CoralNet-Toolbox\\Data\\MIR_AI/patches/CFS_CA-1_2023-04-13/patches.csv\n",
      "name 'completed_folders' is not defined\n",
      "\n",
      "###############################################\n",
      "Cropping Patches\n",
      "###############################################\n",
      "\n",
      "NOTE: Patches dataframe saved to B:\\CoralNet-Toolbox\\Data\\MIR_AI/patches/CFS_CB-4_2023-03-29/patches.csv\n",
      "name 'completed_folders' is not defined\n",
      "\n",
      "###############################################\n",
      "Cropping Patches\n",
      "###############################################\n",
      "\n",
      "NOTE: Patches dataframe saved to B:\\CoralNet-Toolbox\\Data\\MIR_AI/patches/CFS_CB-5_2023_01_12/patches.csv\n",
      "name 'completed_folders' is not defined\n",
      "\n",
      "###############################################\n",
      "Cropping Patches\n",
      "###############################################\n",
      "\n",
      "NOTE: Patches dataframe saved to B:\\CoralNet-Toolbox\\Data\\MIR_AI/patches/CHCA_CB-1_2022-06-20/patches.csv\n",
      "name 'completed_folders' is not defined\n",
      "\n",
      "###############################################\n",
      "Cropping Patches\n",
      "###############################################\n",
      "\n",
      "NOTE: Patches dataframe saved to B:\\CoralNet-Toolbox\\Data\\MIR_AI/patches/CHCA_CC-1_2022-06-20/patches.csv\n",
      "name 'completed_folders' is not defined\n",
      "\n",
      "###############################################\n",
      "Cropping Patches\n",
      "###############################################\n",
      "\n",
      "NOTE: Patches dataframe saved to B:\\CoralNet-Toolbox\\Data\\MIR_AI/patches/CHCA_CD-1_2022_06-20/patches.csv\n",
      "name 'completed_folders' is not defined\n",
      "\n",
      "###############################################\n",
      "Cropping Patches\n",
      "###############################################\n",
      "\n",
      "NOTE: Patches dataframe saved to B:\\CoralNet-Toolbox\\Data\\MIR_AI/patches/CHCA_CE-1_2023-01-09/patches.csv\n",
      "name 'completed_folders' is not defined\n",
      "\n",
      "###############################################\n",
      "Cropping Patches\n",
      "###############################################\n",
      "\n",
      "NOTE: Patches dataframe saved to B:\\CoralNet-Toolbox\\Data\\MIR_AI/patches/CHCA_R1-1_2023-01-09/patches.csv\n",
      "name 'completed_folders' is not defined\n",
      "\n",
      "###############################################\n",
      "Cropping Patches\n",
      "###############################################\n",
      "\n",
      "NOTE: Patches dataframe saved to B:\\CoralNet-Toolbox\\Data\\MIR_AI/patches/CHCA_R3-1_2022-06-28/patches.csv\n",
      "name 'completed_folders' is not defined\n",
      "\n",
      "###############################################\n",
      "Cropping Patches\n",
      "###############################################\n",
      "\n",
      "NOTE: Patches dataframe saved to B:\\CoralNet-Toolbox\\Data\\MIR_AI/patches/CHCA_R5-1_2023-01-09/patches.csv\n",
      "name 'completed_folders' is not defined\n",
      "\n",
      "###############################################\n",
      "Cropping Patches\n",
      "###############################################\n",
      "\n",
      "NOTE: Patches dataframe saved to B:\\CoralNet-Toolbox\\Data\\MIR_AI/patches/CHCA_R6-1_2022-06-20/patches.csv\n",
      "name 'completed_folders' is not defined\n",
      "\n",
      "###############################################\n",
      "Cropping Patches\n",
      "###############################################\n",
      "\n",
      "NOTE: Patches dataframe saved to B:\\CoralNet-Toolbox\\Data\\MIR_AI/patches/HSHOE_CA-1_2023-01-10/patches.csv\n",
      "name 'completed_folders' is not defined\n",
      "\n",
      "###############################################\n",
      "Cropping Patches\n",
      "###############################################\n",
      "\n",
      "NOTE: Patches dataframe saved to B:\\CoralNet-Toolbox\\Data\\MIR_AI/patches/HSHOE_CC-1_2024-04-19/patches.csv\n",
      "name 'completed_folders' is not defined\n",
      "\n",
      "###############################################\n",
      "Cropping Patches\n",
      "###############################################\n",
      "\n",
      "NOTE: Patches dataframe saved to B:\\CoralNet-Toolbox\\Data\\MIR_AI/patches/LOOE_CB-3_2022-04-29/patches.csv\n",
      "name 'completed_folders' is not defined\n",
      "\n",
      "###############################################\n",
      "Cropping Patches\n",
      "###############################################\n",
      "\n",
      "NOTE: Patches dataframe saved to B:\\CoralNet-Toolbox\\Data\\MIR_AI/patches/NFH_R1-1_2022-05-12/patches.csv\n",
      "name 'completed_folders' is not defined\n"
     ]
    }
   ],
   "execution_count": 7
  },
  {
   "metadata": {
    "ExecuteTime": {
     "end_time": "2024-08-15T16:25:07.350674Z",
     "start_time": "2024-08-15T16:25:04.846390Z"
    }
   },
   "cell_type": "code",
   "source": "print(f\"Completed folders: {completed_folders}\")",
   "id": "e6210c7313143854",
   "outputs": [
    {
     "ename": "NameError",
     "evalue": "name 'completed_folders' is not defined",
     "output_type": "error",
     "traceback": [
      "\u001B[1;31m---------------------------------------------------------------------------\u001B[0m",
      "\u001B[1;31mNameError\u001B[0m                                 Traceback (most recent call last)",
      "Cell \u001B[1;32mIn[8], line 1\u001B[0m\n\u001B[1;32m----> 1\u001B[0m \u001B[38;5;28mprint\u001B[39m(\u001B[38;5;124mf\u001B[39m\u001B[38;5;124m\"\u001B[39m\u001B[38;5;124mCompleted folders: \u001B[39m\u001B[38;5;132;01m{\u001B[39;00mcompleted_folders\u001B[38;5;132;01m}\u001B[39;00m\u001B[38;5;124m\"\u001B[39m)\n",
      "\u001B[1;31mNameError\u001B[0m: name 'completed_folders' is not defined"
     ]
    }
   ],
   "execution_count": 8
  },
  {
   "metadata": {
    "ExecuteTime": {
     "start_time": "2024-08-15T13:44:26.532740Z"
    }
   },
   "cell_type": "code",
   "source": [
    "# import shutil\n",
    "# \n",
    "# shutil.rmtree(\"B:\\\\CoralNet-Toolbox\\\\Data\\\\MIR_AI\\\\patches\")"
   ],
   "id": "7116036194de370e",
   "outputs": [],
   "execution_count": null
  },
  {
   "metadata": {},
   "cell_type": "code",
   "outputs": [],
   "execution_count": null,
   "source": "",
   "id": "dae630ebc3a61a18"
  }
 ],
 "metadata": {
  "kernelspec": {
   "display_name": "Python 3",
   "language": "python",
   "name": "python3"
  },
  "language_info": {
   "codemirror_mode": {
    "name": "ipython",
    "version": 2
   },
   "file_extension": ".py",
   "mimetype": "text/x-python",
   "name": "python",
   "nbconvert_exporter": "python",
   "pygments_lexer": "ipython2",
   "version": "2.7.6"
  }
 },
 "nbformat": 4,
 "nbformat_minor": 5
}
