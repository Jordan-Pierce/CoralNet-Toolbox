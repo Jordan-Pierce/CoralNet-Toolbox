{
 "cells": [
  {
   "cell_type": "code",
   "id": "initial_id",
   "metadata": {
    "collapsed": true
   },
   "source": [
    "import argparse\n",
    "from Toolbox.Tools.Patches import patches"
   ],
   "outputs": [],
   "execution_count": null
  },
  {
   "metadata": {},
   "cell_type": "code",
   "source": [
    "import os\n",
    "import glob"
   ],
   "id": "43ac666d7040b87a",
   "outputs": [],
   "execution_count": null
  },
  {
   "metadata": {},
   "cell_type": "code",
   "source": [
    "output_dir = f\"B:\\\\CoralNet-Toolbox\\\\Data\\\\MIR_AI\"\n",
    "\n",
    "w_drive = f\"W:\\\\MIR_AI\"\n",
    "w_image_paths = f\"{w_drive}\\\\images\"\n",
    "w_point_paths = f\"{w_drive}\\\\raw_points\""
   ],
   "id": "35d0952b3fd00856",
   "outputs": [],
   "execution_count": null
  },
  {
   "metadata": {},
   "cell_type": "code",
   "source": [
    "w_image_folders = glob.glob(w_image_paths + \"\\\\*JPEG\")\n",
    "w_point_files = glob.glob(w_point_paths + \"\\\\*.csv\")"
   ],
   "id": "eaa42d9e2ea5aa58",
   "outputs": [],
   "execution_count": null
  },
  {
   "metadata": {},
   "cell_type": "code",
   "source": [
    "w_images_dict = {os.path.basename(p).split(\"_JPEG\")[0]: p for p in w_image_folders}\n",
    "w_points_dict = {os.path.basename(p).split(\".csv\")[0]: p for p in w_point_files}"
   ],
   "id": "ef2c004426f0e8f4",
   "outputs": [],
   "execution_count": null
  },
  {
   "metadata": {},
   "cell_type": "code",
   "source": [
    "args = argparse.Namespace()\n",
    "\n",
    "args.image_dir = None\n",
    "args.annotation_file = None\n",
    "args.image_column = 'Name'\n",
    "args.label_column = 'Label'\n",
    "args.patch_size = 112\n",
    "args.output_name = None\n",
    "args.output_dir = None"
   ],
   "id": "5d265d9d224f718c",
   "outputs": [],
   "execution_count": null
  },
  {
   "metadata": {},
   "cell_type": "code",
   "source": "completed_folders = []",
   "id": "9d74e04e28740a25",
   "outputs": [],
   "execution_count": null
  },
  {
   "metadata": {},
   "cell_type": "code",
   "source": [
    "for image_folder_name in list(w_images_dict.keys()):\n",
    "    \n",
    "    # Path to image dir on W:\n",
    "    args.image_dir = w_images_dict[image_folder_name]\n",
    "    # Path to patch file on W:\n",
    "    args.annotation_file = w_points_dict[image_folder_name]\n",
    "    # Patch output dir name\n",
    "    args.output_name = image_folder_name\n",
    "    # Root output dir\n",
    "    args.output_dir = output_dir\n",
    "    \n",
    "    # If either doesn't exist, skip\n",
    "    if not os.path.exists(args.image_dir) or not os.path.exists(args.annotation_file):\n",
    "        continue\n",
    "    \n",
    "    try:\n",
    "        if not os.path.exists(f\"{args.output_dir}\\\\patches\\\\{args.output_name}\\\\patches.csv\"):\n",
    "            patches(args)\n",
    "            \n",
    "        completed_folders.append(image_folder_name)\n",
    "        print(f\"Completed {image_folder_name}\")\n",
    "        \n",
    "    except Exception as e:\n",
    "        print(e)\n",
    "            "
   ],
   "id": "dda36f43b6a5f36",
   "outputs": [],
   "execution_count": null
  },
  {
   "metadata": {},
   "cell_type": "code",
   "source": "print(f\"Completed folders: {completed_folders}\")",
   "id": "e6210c7313143854",
   "outputs": [],
   "execution_count": null
  },
  {
   "metadata": {},
   "cell_type": "code",
   "source": "",
   "id": "7116036194de370e",
   "outputs": [],
   "execution_count": null
  }
 ],
 "metadata": {
  "kernelspec": {
   "display_name": "Python 3",
   "language": "python",
   "name": "python3"
  },
  "language_info": {
   "codemirror_mode": {
    "name": "ipython",
    "version": 2
   },
   "file_extension": ".py",
   "mimetype": "text/x-python",
   "name": "python",
   "nbconvert_exporter": "python",
   "pygments_lexer": "ipython2",
   "version": "2.7.6"
  }
 },
 "nbformat": 4,
 "nbformat_minor": 5
}
