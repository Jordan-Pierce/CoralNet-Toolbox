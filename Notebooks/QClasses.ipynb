{
 "cells": [
  {
   "cell_type": "code",
   "id": "initial_id",
   "metadata": {
    "collapsed": true,
    "ExecuteTime": {
     "end_time": "2024-08-01T16:46:49.042745Z",
     "start_time": "2024-08-01T16:46:48.853692Z"
    }
   },
   "source": [
    "import os\n",
    "import json\n",
    "import glob\n",
    "from tqdm import tqdm"
   ],
   "outputs": [],
   "execution_count": 17
  },
  {
   "metadata": {
    "ExecuteTime": {
     "end_time": "2024-08-01T16:54:13.339846Z",
     "start_time": "2024-08-01T16:54:13.332846Z"
    }
   },
   "cell_type": "code",
   "source": [
    "def merge_json_files(json_files):\n",
    "    \"\"\"\n",
    "    Merge json files into one file.\n",
    "    \n",
    "    :param json_files: \n",
    "    :return: \n",
    "    \"\"\"\n",
    "    # Initialize the master dictionary\n",
    "    master_dict = {}\n",
    "\n",
    "    for i, file_path in tqdm(enumerate(json_files)):\n",
    "        \n",
    "        with open(file_path, 'r') as file:\n",
    "            data = json.load(file)\n",
    "        \n",
    "        if i == 0:\n",
    "            # Use the first file as the base\n",
    "            master_dict = data\n",
    "        else:\n",
    "            # Merge subsequent files\n",
    "            for class_list in data['classlist']:\n",
    "                # For lists, we'll add new items that don't already exist\n",
    "                if class_list not in master_dict['classlist']:\n",
    "                    master_dict['classlist'].append(class_list)\n",
    "                    \n",
    "    # Sort based on index\n",
    "    master_dict['classlist'].sort(key=lambda x: x[0])\n",
    "\n",
    "    return master_dict\n"
   ],
   "id": "ed4ade8d4950e0d8",
   "outputs": [],
   "execution_count": 29
  },
  {
   "metadata": {
    "jupyter": {
     "is_executing": true
    },
    "ExecuteTime": {
     "start_time": "2024-08-01T18:16:55.792184Z"
    }
   },
   "cell_type": "code",
   "source": [
    "root = rf\"W:\\Viscore_Models\\MIR\"\n",
    "files = glob.glob(f\"{root}\\**\\**\\qclasses.json\", recursive=True)\n",
    "len(files)"
   ],
   "id": "9c4cccfac1fe7314",
   "outputs": [],
   "execution_count": null
  },
  {
   "metadata": {
    "ExecuteTime": {
     "end_time": "2024-08-01T16:54:17.961186Z",
     "start_time": "2024-08-01T16:54:16.180050Z"
    }
   },
   "cell_type": "code",
   "source": [
    "# Usage\n",
    "master_json = merge_json_files(files)"
   ],
   "id": "34fcc74e9d2bb0b7",
   "outputs": [
    {
     "name": "stderr",
     "output_type": "stream",
     "text": [
      "52it [00:01, 29.31it/s]\n"
     ]
    }
   ],
   "execution_count": 30
  },
  {
   "metadata": {
    "ExecuteTime": {
     "end_time": "2024-08-01T16:54:19.120265Z",
     "start_time": "2024-08-01T16:54:19.098265Z"
    }
   },
   "cell_type": "code",
   "source": [
    "# Check\n",
    "master_json"
   ],
   "id": "fabb84f40b83a1e",
   "outputs": [
    {
     "data": {
      "text/plain": [
       "{'sounds': {'CLAMS!': ['clams.mp3'], 'CCA': ['CCA.m4a'], 'Turf': ['Turf.m4a']},\n",
       " 'classlist': [[0, 'Review', 'Review'],\n",
       "  [1, 'A_aga', 'Agaricia_agaricites'],\n",
       "  [1, 'A_agaric', 'Agaricia_agaricites'],\n",
       "  [2, 'A_fra', 'Agaricia_fragilis'],\n",
       "  [2, 'A_fragil', 'Agaricia_fragilis'],\n",
       "  [3, 'A_gra', 'Agaricia_grahamae'],\n",
       "  [3, 'A_graham', 'Agaricia_grahamae'],\n",
       "  [4, 'A_hum', 'Agaricia_humilis'],\n",
       "  [4, 'A_humili', 'Agaricia_humilis'],\n",
       "  [5, 'A_lam', 'Agaricia_lamarcki'],\n",
       "  [5, 'A_lamarc', 'Agaricia_lamarcki'],\n",
       "  [6, 'A_ten', 'Agaricia_tenuifolia'],\n",
       "  [6, 'A_tenui', 'Agaricia_tenuifolia'],\n",
       "  [7, 'A_und', 'Agaricia_undata'],\n",
       "  [7, 'A_undata', 'Agaricia_undata'],\n",
       "  [8, 'Ascidian', 'Ascidians'],\n",
       "  [9, 'Basalt', 'Basalt'],\n",
       "  [10, 'Bivalve', 'Bivalve'],\n",
       "  [11, 'Black_coral', 'Black_coral'],\n",
       "  [12, 'Cladocora', 'Cladocora_arbuscula'],\n",
       "  [13, 'C_bre', 'Colpophyllia_breviserialis'],\n",
       "  [13, 'Colpo_brev', 'Colpophyllia_breviserialis'],\n",
       "  [14, 'Colpophyllia_sp', 'Colpophyllia_sp'],\n",
       "  [14, 'Colpo_sp', 'Colpophyllia_sp'],\n",
       "  [15, 'Erythropodium', 'Erythropodium'],\n",
       "  [16, 'Eunicea', 'Eunicea'],\n",
       "  [17, 'Fine_sediment', 'Fine_sediment'],\n",
       "  [18, 'Green_diploso', 'Green_Diplosoma'],\n",
       "  [19, 'Hydrozoan', 'Other_hydrozoans'],\n",
       "  [20, 'Icilligorgia', 'Icilligorgia'],\n",
       "  [21, 'I_rig', 'Isophyllia_rigida'],\n",
       "  [21, 'Iso_rigida', 'Isophyllia_rigida'],\n",
       "  [22, 'I_sin', 'Isophyllia_sinuosa'],\n",
       "  [22, 'Iso_sinuo', 'Isophyllia_sinuosa'],\n",
       "  [23, 'Leather_coral', 'Leather_coral'],\n",
       "  [24, 'M_car', 'Madracis_carmabi'],\n",
       "  [24, 'M_carma', 'Madracis_carmabi'],\n",
       "  [25, 'M_for', 'Madracis_formosa'],\n",
       "  [25, 'M_form', 'Madracis_formosa'],\n",
       "  [26, 'M_pha', 'Madracis_pharensis'],\n",
       "  [26, 'M_phar', 'Madracis_pharensis'],\n",
       "  [27, 'M_sen', 'Madracis_senaria'],\n",
       "  [27, 'M_senar', 'Madracis_senaria'],\n",
       "  [28, 'M_squ', 'Millepora_squarrosa'],\n",
       "  [28, 'Mill_squa', 'Millepora_squarrosa'],\n",
       "  [29, 'M_str', 'Millepora_striata'],\n",
       "  [29, 'Mill_striata', 'Millepora_striata'],\n",
       "  [30, 'Muricea', 'Muricea'],\n",
       "  [31, 'Muriceopsis', 'Muriceopsis'],\n",
       "  [32, 'M_dan', 'Mycetophyllia_danaana'],\n",
       "  [32, 'Mycto_dana', 'Mycetophyllia_danaana'],\n",
       "  [33, 'M_ree', 'Mycetophyllia_reesi'],\n",
       "  [33, 'Mycto_reezy', 'Mycetophyllia_reesi'],\n",
       "  [34, 'Octo_pachy', 'Octocoral_pachyclavularia'],\n",
       "  [35, 'P_bra', 'Porites_branneri'],\n",
       "  [35, 'P_branneri', 'Porites_branneri'],\n",
       "  [36, 'Plexaura', 'Plexaura'],\n",
       "  [37, 'Plexaurella', 'Plexaurella'],\n",
       "  [38, 'Polychaeta', 'Polychaeta'],\n",
       "  [39, 'Pseudoplex', 'Pseudoplexaura'],\n",
       "  [40, 'Pterogorgia', 'Pterogorgia'],\n",
       "  [41, 'S_ste', 'Siderastrea_stellata'],\n",
       "  [41, 'Sid_stell', 'Siderastrea_stellata'],\n",
       "  [42, 'S_cub', 'Scolymia_cubensis'],\n",
       "  [42, 'Scolym_cube', 'Scolymia_cubensis'],\n",
       "  [43, 'S_lac', 'Scolymia_lacera'],\n",
       "  [43, 'Scolym_lace', 'Scolymia_lacera'],\n",
       "  [44, 'Stylaster', 'Stylaster_roseus'],\n",
       "  [45, 'Trididemnum', 'Trididemnum'],\n",
       "  [46, 'Tunicate', 'Tunicate'],\n",
       "  [47, 'A_cer', 'Acropora_cervicornis'],\n",
       "  [47, 'A_cerv', 'Acropora_cervicornis'],\n",
       "  [48, 'A_pal', 'Acropora_palmata'],\n",
       "  [48, 'A_palm', 'Acropora_palmata'],\n",
       "  [49, 'A_pro', 'Acropora_prolifera'],\n",
       "  [49, 'A_prolif', 'Acropora_prolifera'],\n",
       "  [50, 'Agaricia_sp', 'Agaricia_sp'],\n",
       "  [51, 'Anemone', 'Anemone'],\n",
       "  [52, 'Barrell_spng', 'Xestospongia'],\n",
       "  [53, 'Branch_octo', 'Branching_Octocorals'],\n",
       "  [54, 'Briareum', 'Briareum_branch'],\n",
       "  [55, 'Bryozo', 'Bryozoan'],\n",
       "  [56, 'Chondrilla', 'Chondrilla'],\n",
       "  [57, 'Clionid', 'Clionid'],\n",
       "  [58, 'C_nat', 'Colpophyllia_natans'],\n",
       "  [58, 'Colpo_nat', 'Colpophyllia_natans'],\n",
       "  [59, 'Coral_skeleton', 'Coral_skeleton'],\n",
       "  [60, 'Corallimorph', 'Corallimorph'],\n",
       "  [61, 'D_lab', 'Diploria_labyrinthiformis'],\n",
       "  [61, 'Diplor_lab', 'Diploria_labyrinthiformis'],\n",
       "  [62, 'D_cyl', 'Dendrogyra_cylindrus'],\n",
       "  [62, 'Dendrogyra', 'Dendrogyra_cylindrus'],\n",
       "  [63, 'D_sto', 'Dichocoenia_stokesii'],\n",
       "  [63, 'Dichocoenia', 'Dichocoenia_stokesii'],\n",
       "  [64, 'Encr_spng', 'encrusting_sponge'],\n",
       "  [65, 'E_fas', 'Eusmilia_fastigiata'],\n",
       "  [65, 'Eusmilia', 'Eusmilia_fastigiata'],\n",
       "  [66, 'F_fra', 'Favia_fragum'],\n",
       "  [66, 'Favia', 'Favia_fragum'],\n",
       "  [67, 'H_cuc', 'Helioseris_cucculata'],\n",
       "  [67, 'Helioseris', 'Helioseris_cucculata'],\n",
       "  [68, 'Hydroid', 'Hydroid'],\n",
       "  [69, 'Isophyllia_sp', 'Isophyllia_sp'],\n",
       "  [70, 'M_alc', 'Millepora_alcicornis'],\n",
       "  [70, 'Mill_alci', 'Millepora_alcicornis'],\n",
       "  [71, 'M_cav', 'Montastraea_cavernosa'],\n",
       "  [72, 'M_com', 'Millepora_complanata'],\n",
       "  [72, 'Mill_comp', 'Millepora_complanata'],\n",
       "  [73, 'M_dec', 'Madracis_decactis complex'],\n",
       "  [73, 'M_decac', 'Madracis_decactis complex'],\n",
       "  [74, 'M_mir', 'Madracis_mirabilis'],\n",
       "  [74, 'M_mirab', 'Madracis_mirabilis'],\n",
       "  [75, 'Madracis_sp', 'Madracis_sp'],\n",
       "  [76, 'M_are', 'Manicina_areolata'],\n",
       "  [76, 'Manicina', 'Manicina_areolata'],\n",
       "  [77, 'M_mea', 'Meandrina_meandrites'],\n",
       "  [77, 'Meandrina', 'Meandrina_meandrites'],\n",
       "  [78, 'Millepora_sp', 'Millepora_sp'],\n",
       "  [79, 'M_ang', 'Mussa_angulosa'],\n",
       "  [79, 'Mussa', 'Mussa_angulosa'],\n",
       "  [80, 'M_ali', 'Mycetophyllia_aliciae'],\n",
       "  [80, 'Mycto_alici', 'Mycetophyllia_aliciae'],\n",
       "  [81, 'M_fer', 'Mycetophyllia_ferox'],\n",
       "  [81, 'Mycto_ferox', 'Mycetophyllia_ferox'],\n",
       "  [82, 'M_lam', 'Mycetophyllia_lamarckiana'],\n",
       "  [82, 'Mycto_lamarc', 'Mycetophyllia_lamarckiana'],\n",
       "  [83, 'Mycetophyillia_sp', 'Mycetophyillia_sp'],\n",
       "  [83, 'Mycto_sp', 'Mycetophyillia_sp'],\n",
       "  [84, 'O_ann', 'Orbicella_annularis'],\n",
       "  [85, 'O_fav', 'Orbicella_faveolata'],\n",
       "  [86, 'O_fra', 'Orbicella_franksi'],\n",
       "  [86, 'O_frank', 'Orbicella_franksi'],\n",
       "  [87, 'O_dif', 'Oculina_diffusa'],\n",
       "  [87, 'Oculina', 'Oculina_diffusa'],\n",
       "  [88, 'Orbicella_sp', 'Orbicella_sp'],\n",
       "  [89, 'Other_invert', 'Other_invert'],\n",
       "  [90, 'P_ast', 'Porites_astreoides'],\n",
       "  [90, 'P_astreoides', 'Porites_astreoides'],\n",
       "  [91, 'P_cli', 'Pseudodiploria_clivosa'],\n",
       "  [91, 'P_clivosa', 'Pseudodiploria_clivosa'],\n",
       "  [92, 'P_div', 'Porites_divaricata'],\n",
       "  [92, 'P_divaricata', 'Porites_divaricata'],\n",
       "  [93, 'P_fur', 'Porites_furcata'],\n",
       "  [93, 'P_furcata', 'Porites_furcata'],\n",
       "  [94, 'P_por', 'Porites_porites'],\n",
       "  [94, 'P_porites', 'Porites_porites'],\n",
       "  [95, 'Porites_sp', 'Porites_sp'],\n",
       "  [96, 'P_str', 'Pseudodiploria_strigosa'],\n",
       "  [96, 'P_strigosa', 'Pseudodiploria_strigosa'],\n",
       "  [97, 'Palythoa', 'Palythoa_sp'],\n",
       "  [98, 'Pavement', 'Pavement'],\n",
       "  [99, 'Pseudopterog', 'Antillogorgia'],\n",
       "  [100, 'S_rad', 'Siderastrea_radians'],\n",
       "  [100, 'Sid_rad', 'Siderastrea_radians'],\n",
       "  [101, 'S_sid', 'Siderastrea_siderea'],\n",
       "  [101, 'Sid_sid', 'Siderastrea_siderea'],\n",
       "  [102, 'Siderastrea_sp', 'Siderastrea_sp'],\n",
       "  [102, 'Sid_sp', 'Siderastrea_sp'],\n",
       "  [103, 'Sand', 'Sand'],\n",
       "  [104, 'Scolymia_sp', 'Scolymia_sp'],\n",
       "  [105, 'Sea_fan', 'Gorgonia_sp'],\n",
       "  [106, 'Seagrass', 'Seagrass'],\n",
       "  [107, 'S_bou', 'Solenastrea_bournoni'],\n",
       "  [107, 'Solenastrea', 'Solenastrea_bournoni'],\n",
       "  [108, 'S_int', 'Stephanocoenia_intersepta'],\n",
       "  [108, 'Stephanocoenia', 'Stephanocoenia_intersepta'],\n",
       "  [109, 'Tubastrea', 'Tubastrea_sp'],\n",
       "  [110, 'Tube_spng', 'erect sponge'],\n",
       "  [111, 'Zoanthid', 'Zoanthus'],\n",
       "  [112, 'Calc_algae', 'Calcareous_Algae'],\n",
       "  [113, 'CCA', 'CCA'],\n",
       "  [114, 'Cyano', 'Cyanobacteria'],\n",
       "  [115, 'Dictyota', 'Dictyota'],\n",
       "  [116, 'Halimeda', 'Halimeda'],\n",
       "  [117, 'Lobophora', 'Lobophora'],\n",
       "  [118, 'Encr_macro', 'Encrusting_macroalgae'],\n",
       "  [119, 'Unkn_macro', 'Unknown_macroalgae'],\n",
       "  [120, 'N/A', 'N/A'],\n",
       "  [121, 'Peyssonnelia', 'Peyssonnelia_sp'],\n",
       "  [122, 'Turf', 'Turf_Algae'],\n",
       "  [123, 'Turf_new', 'Turf_over_recently_dead_coral'],\n",
       "  [124, 'Unknown', 'Unknown']],\n",
       " 'exlist': [[[0, 'N/A', 'N/A'],\n",
       "   [1, 'Total', 'Total_bleaching'],\n",
       "   [2, 'Partial', 'Partial_bleaching'],\n",
       "   [3, 'Paling', 'Paling'],\n",
       "   [4, 'None', 'Not_bleached']],\n",
       "  [[0, 'N/A', 'N/A'],\n",
       "   [1, 'Exposed_carbonate', 'Exposed_carbonate'],\n",
       "   [2, 'Corallivore', 'Corallivore'],\n",
       "   [3, 'Disease', 'Disease'],\n",
       "   [4, 'Parrot_bite', 'Parrotfish_bite'],\n",
       "   [5, 'Rubble', 'Rubble'],\n",
       "   [6, 'Epiphytized', 'Epiphytized']]]}"
      ]
     },
     "execution_count": 31,
     "metadata": {},
     "output_type": "execute_result"
    }
   ],
   "execution_count": 31
  },
  {
   "metadata": {
    "ExecuteTime": {
     "end_time": "2024-08-01T16:57:21.740196Z",
     "start_time": "2024-08-01T16:57:21.729195Z"
    }
   },
   "cell_type": "code",
   "source": [
    "# Write the merged and sorted data to a new JSON file\n",
    "with open('master_qclasses.json', 'w') as outfile:\n",
    "    json.dump(master_json, outfile, indent=1)"
   ],
   "id": "1201646d0a08fde8",
   "outputs": [],
   "execution_count": 33
  },
  {
   "metadata": {},
   "cell_type": "code",
   "outputs": [],
   "execution_count": null,
   "source": "",
   "id": "4b46fb6d19d07267"
  }
 ],
 "metadata": {
  "kernelspec": {
   "display_name": "Python 3",
   "language": "python",
   "name": "python3"
  },
  "language_info": {
   "codemirror_mode": {
    "name": "ipython",
    "version": 2
   },
   "file_extension": ".py",
   "mimetype": "text/x-python",
   "name": "python",
   "nbconvert_exporter": "python",
   "pygments_lexer": "ipython2",
   "version": "2.7.6"
  }
 },
 "nbformat": 4,
 "nbformat_minor": 5
}
