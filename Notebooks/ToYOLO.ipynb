{
 "cells": [
  {
   "cell_type": "code",
   "id": "initial_id",
   "metadata": {
    "collapsed": true,
    "ExecuteTime": {
     "end_time": "2024-08-28T20:29:12.730760Z",
     "start_time": "2024-08-28T20:28:48.725089Z"
    }
   },
   "source": [
    "import os\n",
    "import glob\n",
    "import argparse\n",
    "\n",
    "from Toolbox.Tools.ToYOLO import to_yolo"
   ],
   "outputs": [],
   "execution_count": 1
  },
  {
   "metadata": {
    "ExecuteTime": {
     "end_time": "2024-08-28T20:29:12.738761Z",
     "start_time": "2024-08-28T20:29:12.732793Z"
    }
   },
   "cell_type": "code",
   "source": [
    "output_dir = f\"B:\\\\CoralNet-Toolbox\\\\Data\\\\MIR_AI\"\n",
    "\n",
    "patch_folders = glob.glob(f\"{output_dir}\\\\patches\\\\*\")"
   ],
   "id": "a86156e067090aad",
   "outputs": [],
   "execution_count": 2
  },
  {
   "metadata": {
    "ExecuteTime": {
     "end_time": "2024-08-28T20:48:27.730432Z",
     "start_time": "2024-08-28T20:48:27.724432Z"
    }
   },
   "cell_type": "code",
   "source": [
    "args = argparse.Namespace()\n",
    "\n",
    "args.patches = [f\"{patch_folder}/patches.csv\" for patch_folder in patch_folders]\n",
    "args.about = 250\n",
    "args.even_dist = True\n",
    "args.output_name = \"combined_250\"\n",
    "args.output_dir = output_dir"
   ],
   "id": "46c608ba854b53ef",
   "outputs": [],
   "execution_count": 7
  },
  {
   "metadata": {
    "ExecuteTime": {
     "end_time": "2024-08-28T20:51:44.997899Z",
     "start_time": "2024-08-28T20:48:28.491509Z"
    }
   },
   "cell_type": "code",
   "source": "to_yolo(args)",
   "id": "129045d9aa3bb0de",
   "outputs": [
    {
     "name": "stdout",
     "output_type": "stream",
     "text": [
      "\n",
      "###############################################\n",
      "To YOLO\n",
      "###############################################\n",
      "\n",
      "NOTE: Found 109 patch files\n",
      "WARNING: Patches dataframe B:\\CoralNet-Toolbox\\Data\\MIR_AI\\patches\\CFN_R9-2_2023-01-11/patches.csv does not exist\n",
      "Class mapping saved to B:\\CoralNet-Toolbox\\Data\\MIR_AI/yolo/combined_250\\class_mapping.json\n",
      "\n",
      "###############################################\n",
      "Creating Datasets\n",
      "###############################################\n",
      "\n",
      "NOTE: Sampling one of each class category\n",
      "NOTE: Number of classes in training set is 76, N=12617\n",
      "NOTE: Number of classes in validation set is 76, N=7274\n",
      "NOTE: Number of classes in testing set is 76, N=6270\n",
      "NOTE: Data split Figure saved in B:\\CoralNet-Toolbox\\Data\\MIR_AI/yolo/combined_250\n",
      "NOTE: Copying images to YOLO format...\n",
      "NOTE: YOLO formatted dataset created in B:\\CoralNet-Toolbox\\Data\\MIR_AI/yolo/combined_250\n"
     ]
    }
   ],
   "execution_count": 8
  },
  {
   "metadata": {},
   "cell_type": "code",
   "source": "",
   "id": "7efe2fbdc2bf52",
   "outputs": [],
   "execution_count": null
  }
 ],
 "metadata": {
  "kernelspec": {
   "display_name": "Python 3",
   "language": "python",
   "name": "python3"
  },
  "language_info": {
   "codemirror_mode": {
    "name": "ipython",
    "version": 2
   },
   "file_extension": ".py",
   "mimetype": "text/x-python",
   "name": "python",
   "nbconvert_exporter": "python",
   "pygments_lexer": "ipython2",
   "version": "2.7.6"
  }
 },
 "nbformat": 4,
 "nbformat_minor": 5
}
