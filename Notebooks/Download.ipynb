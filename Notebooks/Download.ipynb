{
 "cells": [
  {
   "cell_type": "markdown",
   "source": [
    "### Download CoralNet (Notebook)\n",
    "\n",
    "This notebook can be useful for experimenting with the functions in\n",
    "`Download_CoralNet.py`. The script is designed to be run from the command line,\n",
    "and will allow a user to download the images, annotations, labelset, and\n",
    "model metadata from a list containing the IDs of sources they are interested\n",
    " in."
   ],
   "metadata": {
    "collapsed": false
   }
  },
  {
   "cell_type": "markdown",
   "source": [
    "#### Import packages"
   ],
   "metadata": {
    "collapsed": false
   }
  },
  {
   "cell_type": "code",
   "execution_count": 1,
   "outputs": [],
   "source": [
    "import sys\n",
    "sys.path.append(\"../\")\n",
    "\n",
    "from ..Tools.Download import *"
   ],
   "metadata": {
    "collapsed": false
   }
  },
  {
   "cell_type": "markdown",
   "source": [
    "#### Set up authentication\n",
    "\n",
    "The first step is to authenticate with CoralNet. You need to provide your\n",
    "username and password. If you don't have an account, you can create one at\n",
    "https://coralnet.ucsd.edu/. If you don't want to provide your credentials\n",
    "every time you run the script, you can store them in a separate file, or make\n",
    "them user/environmental variables. If you don't want to store your credentials\n",
    "in a file, you can also provide them as arguments when you run the script."
   ],
   "metadata": {
    "collapsed": false
   }
  },
  {
   "cell_type": "code",
   "execution_count": 2,
   "outputs": [
    {
     "name": "stdout",
     "output_type": "stream",
     "text": [
      "\n",
      "###############################################\n",
      "Authentication\n",
      "###############################################\n",
      "\n",
      "NOTE: Authenticating user jordan.pierce@noaa.gov\n",
      "NOTE: Authentication successful for jordan.pierce@noaa.gov\n"
     ]
    }
   ],
   "source": [
    "# Username\n",
    "CORALNET_USERNAME = os.getenv(\"CORALNET_USERNAME\")\n",
    "USERNAME = input(\"Username: \") if not CORALNET_USERNAME else CORALNET_USERNAME\n",
    "\n",
    "# Password\n",
    "CORALNET_PASSWORD = os.getenv(\"CORALNET_PASSWORD\")\n",
    "PASSWORD = input(\"Password: \") if not CORALNET_PASSWORD else CORALNET_PASSWORD\n",
    "\n",
    "try:\n",
    "    # Authenticate\n",
    "    authenticate(USERNAME, PASSWORD)\n",
    "except Exception as e:\n",
    "    print(e)"
   ],
   "metadata": {
    "collapsed": false
   }
  },
  {
   "cell_type": "markdown",
   "source": [
    "#### Set up the output directory\n",
    "\n",
    "This will be the root directory where all data for all sources will be saved.\n",
    "Each source will be a sub-folder in this directory."
   ],
   "metadata": {
    "collapsed": false
   }
  },
  {
   "cell_type": "code",
   "execution_count": 3,
   "outputs": [],
   "source": [
    "# Set the path to the root directory where you want to save the data for\n",
    "# each source. The data will be saved in a subdirectory named after the source.\n",
    "OUTPUT_DIR = \"../CoralNet_Data/\""
   ],
   "metadata": {
    "collapsed": false
   }
  },
  {
   "cell_type": "markdown",
   "source": [
    "#### Download data from a single source\n",
    "\n",
    "In this cell, we specify the source of interest by its ID, and create a sub-folder to hold all\n",
    "the download data for it."
   ],
   "metadata": {
    "collapsed": false
   }
  },
  {
   "cell_type": "code",
   "execution_count": 4,
   "outputs": [],
   "source": [
    "# The ID of the source to download data from\n",
    "SOURCE_ID = 4085\n",
    "\n",
    "# Where to store the downloaded data\n",
    "SOURCE_DIR = os.path.abspath(OUTPUT_DIR) + f\"\\\\{str(SOURCE_ID)}\\\\\"\n",
    "\n",
    "# Create the directory if it doesn't exist\n",
    "os.makedirs(SOURCE_DIR, exist_ok=True)"
   ],
   "metadata": {
    "collapsed": false
   }
  },
  {
   "cell_type": "markdown",
   "source": [
    "#### Creating a driver (i.e, browser)\n",
    "\n",
    "The CoralNet website is built using JavaScript, so we need to use a browser\n",
    "driver to interact with it. The driver will be used to log in to CoralNet,\n",
    "navigate to the source of interest, and download the data. The driver can be either Chrome,\n",
    "Firefox or Edge.\n",
    "\n",
    "We can also set the driver to be \"headless\", which means that the browser will not be visible\n",
    "when the script is running. This is useful if you want to run the script in the background.\n",
    "\n",
    "We also set the download directory to be the directory we created above."
   ],
   "metadata": {
    "collapsed": false
   }
  },
  {
   "cell_type": "code",
   "execution_count": 5,
   "outputs": [
    {
     "name": "stdout",
     "output_type": "stream",
     "text": [
      "\n",
      "###############################################\n",
      "Browser\n",
      "###############################################\n",
      "\n",
      "NOTE: Using Google Chrome\n"
     ]
    },
    {
     "data": {
      "text/plain": "{}"
     },
     "execution_count": 5,
     "metadata": {},
     "output_type": "execute_result"
    }
   ],
   "source": [
    "# If True, browser will operate in the background\n",
    "headless = True\n",
    "\n",
    "# Pass the options object while creating the driver\n",
    "driver = check_for_browsers(headless)\n",
    "\n",
    "# Store the credentials in the driver\n",
    "driver.capabilities['credentials'] = {\n",
    "    \"username\": USERNAME,\n",
    "    \"password\": PASSWORD\n",
    "}\n",
    "\n",
    "# Set the download directory\n",
    "download_settings = {\n",
    "        \"behavior\": \"allow\",\n",
    "        \"downloadPath\": SOURCE_DIR\n",
    "}\n",
    "\n",
    "driver.execute_cdp_cmd('Page.setDownloadBehavior', download_settings);"
   ],
   "metadata": {
    "collapsed": false
   }
  },
  {
   "cell_type": "markdown",
   "source": [
    "#### Log in to CoralNet\n",
    "\n",
    "The first step is to log in to CoralNet. The login function will take your username, password\n",
    "and driver as input, and return a driver that has been logged in to CoralNet."
   ],
   "metadata": {
    "collapsed": false
   }
  },
  {
   "cell_type": "code",
   "execution_count": 6,
   "outputs": [
    {
     "name": "stdout",
     "output_type": "stream",
     "text": [
      "\n",
      "###############################################\n",
      "Login\n",
      "###############################################\n",
      "\n",
      "NOTE: Successfully logged in for jordan.pierce@noaa.gov\n"
     ]
    }
   ],
   "source": [
    "# Log in to CoralNet\n",
    "driver, _ = login(driver)"
   ],
   "metadata": {
    "collapsed": false
   }
  },
  {
   "cell_type": "markdown",
   "source": [
    "#### Get the images for the source\n",
    "\n",
    "The next step is to get the images for the source. The function will take the driver and the ID\n",
    "of the source, and crawl all of the pages for that source, extracting the image names, and image\n",
    " page URLs. This information will then be used to get the image URLs that are currently hosted\n",
    " on AWS.\n",
    "\n",
    "Wit this dataframe, we can then download all of the images from AWS to the specified directory."
   ],
   "metadata": {
    "collapsed": false
   }
  },
  {
   "cell_type": "code",
   "execution_count": 11,
   "outputs": [
    {
     "name": "stdout",
     "output_type": "stream",
     "text": [
      "\n",
      "NOTE: Crawling all pages for source 4085\n"
     ]
    },
    {
     "name": "stderr",
     "output_type": "stream",
     "text": [
      "  0%|          | 0/1 [00:00<?, ?it/s]"
     ]
    },
    {
     "name": "stdout",
     "output_type": "stream",
     "text": [
      "\n",
      "NOTE: Finished crawling all pages\n",
      "NOTE: Retrieving image URLs\n"
     ]
    },
    {
     "name": "stderr",
     "output_type": "stream",
     "text": [
      "\n",
      "100%|██████████| 6/6 [00:00<00:00,  8.05it/s]\n"
     ]
    },
    {
     "name": "stdout",
     "output_type": "stream",
     "text": [
      "NOTE: Retrieved 6 image URLs\n",
      "NOTE: Saved image dataframe as CSV file\n",
      "\n",
      "NOTE: Downloading 6 images\n"
     ]
    },
    {
     "name": "stderr",
     "output_type": "stream",
     "text": [
      "100%|██████████| 6/6 [00:01<00:00,  3.46it/s]\n"
     ]
    },
    {
     "data": {
      "text/plain": "                                      Image Page                  Name  \\\n3  https://coralnet.ucsd.edu/image/3395583/view/  Screenshot (113).png   \n2  https://coralnet.ucsd.edu/image/3395582/view/  Screenshot (112).png   \n0  https://coralnet.ucsd.edu/image/3395580/view/               0-5.png   \n\n                                           Image URL  \n3  https://coralnet-production.s3.amazonaws.com:4...  \n2  https://coralnet-production.s3.amazonaws.com:4...  \n0  https://coralnet-production.s3.amazonaws.com:4...  ",
      "text/html": "<div>\n<style scoped>\n    .dataframe tbody tr th:only-of-type {\n        vertical-align: middle;\n    }\n\n    .dataframe tbody tr th {\n        vertical-align: top;\n    }\n\n    .dataframe thead th {\n        text-align: right;\n    }\n</style>\n<table border=\"1\" class=\"dataframe\">\n  <thead>\n    <tr style=\"text-align: right;\">\n      <th></th>\n      <th>Image Page</th>\n      <th>Name</th>\n      <th>Image URL</th>\n    </tr>\n  </thead>\n  <tbody>\n    <tr>\n      <th>3</th>\n      <td>https://coralnet.ucsd.edu/image/3395583/view/</td>\n      <td>Screenshot (113).png</td>\n      <td>https://coralnet-production.s3.amazonaws.com:4...</td>\n    </tr>\n    <tr>\n      <th>2</th>\n      <td>https://coralnet.ucsd.edu/image/3395582/view/</td>\n      <td>Screenshot (112).png</td>\n      <td>https://coralnet-production.s3.amazonaws.com:4...</td>\n    </tr>\n    <tr>\n      <th>0</th>\n      <td>https://coralnet.ucsd.edu/image/3395580/view/</td>\n      <td>0-5.png</td>\n      <td>https://coralnet-production.s3.amazonaws.com:4...</td>\n    </tr>\n  </tbody>\n</table>\n</div>"
     },
     "execution_count": 11,
     "metadata": {},
     "output_type": "execute_result"
    }
   ],
   "source": [
    "# Get the images for the source\n",
    "driver, IMAGES = get_images(driver, SOURCE_ID)\n",
    "\n",
    "if IMAGES is not None:\n",
    "    # Get the image page URLs\n",
    "    image_pages = IMAGES['Image Page'].tolist()\n",
    "    # Get the image AWS URLs\n",
    "    driver, IMAGES['Image URL'] = get_image_urls(driver, image_pages)\n",
    "\n",
    "    # Download the images to the specified directory\n",
    "    download_images(IMAGES, SOURCE_DIR)\n",
    "\n",
    "# Display some images\n",
    "IMAGES.sample(3)"
   ],
   "metadata": {
    "collapsed": false
   }
  },
  {
   "cell_type": "markdown",
   "source": [
    "#### Get the labelset for the source\n",
    "\n",
    "This next cell will get the labelset for the source. The function will take the driver and the\n",
    "ID of the source, and download the labelset as a CSV file. The CSV file is read into a\n",
    "dataframe, and returned."
   ],
   "metadata": {
    "collapsed": false
   }
  },
  {
   "cell_type": "code",
   "execution_count": 12,
   "outputs": [
    {
     "name": "stdout",
     "output_type": "stream",
     "text": [
      "\n",
      "NOTE: Downloading labelset for 4085\n",
      "NOTE: Labelset saved successfully\n"
     ]
    },
    {
     "data": {
      "text/plain": "   Label ID Short Code\n3      4584      _OMOL\n7       102         SP\n2      3438         HS",
      "text/html": "<div>\n<style scoped>\n    .dataframe tbody tr th:only-of-type {\n        vertical-align: middle;\n    }\n\n    .dataframe tbody tr th {\n        vertical-align: top;\n    }\n\n    .dataframe thead th {\n        text-align: right;\n    }\n</style>\n<table border=\"1\" class=\"dataframe\">\n  <thead>\n    <tr style=\"text-align: right;\">\n      <th></th>\n      <th>Label ID</th>\n      <th>Short Code</th>\n    </tr>\n  </thead>\n  <tbody>\n    <tr>\n      <th>3</th>\n      <td>4584</td>\n      <td>_OMOL</td>\n    </tr>\n    <tr>\n      <th>7</th>\n      <td>102</td>\n      <td>SP</td>\n    </tr>\n    <tr>\n      <th>2</th>\n      <td>3438</td>\n      <td>HS</td>\n    </tr>\n  </tbody>\n</table>\n</div>"
     },
     "execution_count": 12,
     "metadata": {},
     "output_type": "execute_result"
    }
   ],
   "source": [
    "# Download the labelset for the source\n",
    "driver, LABELSET = download_labelset(driver, SOURCE_ID, SOURCE_DIR)\n",
    "\n",
    "# Display some labelset\n",
    "LABELSET.sample(3)"
   ],
   "metadata": {
    "collapsed": false
   }
  },
  {
   "cell_type": "markdown",
   "source": [
    "#### Get the metadata for the source\n",
    "\n",
    "This cell will get the metadata for the source. The function will take the driver and the ID of\n",
    "the source, and return all the model metadata associated with the source. If there is no model,\n",
    "the function returns None."
   ],
   "metadata": {
    "collapsed": false
   }
  },
  {
   "cell_type": "code",
   "execution_count": 15,
   "outputs": [
    {
     "name": "stdout",
     "output_type": "stream",
     "text": [
      "\n",
      "NOTE: Downloading model metadata for 4085\n",
      "ERROR: Issue with downloading metadata\n"
     ]
    }
   ],
   "source": [
    "# Download the metadata for the source\n",
    "driver, META = download_metadata(driver, SOURCE_ID, SOURCE_DIR)\n",
    "\n",
    "if META is not None:\n",
    "    # Display some metadata\n",
    "    META.sample(1)"
   ],
   "metadata": {
    "collapsed": false
   }
  },
  {
   "cell_type": "markdown",
   "source": [
    "#### Get the annotations for the source\n",
    "\n",
    "This cell will download all the annotations in the source, choosing all of the options that are\n",
    "available, including machine suggested annotations. Unfortunately, CoralNet takes quite a bit of\n",
    " time to serve up the annotations, so this cell can take a while to run. The function takes a\n",
    " \"wait_time\" variable, indicating how long to wait for the annotations to load (default is 3600\n",
    " seconds)."
   ],
   "metadata": {
    "collapsed": false
   }
  },
  {
   "cell_type": "code",
   "execution_count": 16,
   "outputs": [
    {
     "name": "stdout",
     "output_type": "stream",
     "text": [
      "\n",
      "NOTE: Downloading annotations for source 4085\n",
      "NOTE: Annotations saved successfully\n"
     ]
    },
    {
     "data": {
      "text/plain": "                     Name  Date  Aux1  Aux2  Aux3  Aux4  Aux5  Height (cm)  \\\n111  Screenshot (112).png   NaN   NaN   NaN   NaN   NaN   NaN          NaN   \n234  Screenshot (115).png   NaN   NaN   NaN   NaN   NaN   NaN          NaN   \n3                 0-5.png   NaN   NaN   NaN   NaN   NaN   NaN          NaN   \n72   Screenshot (111).png   NaN   NaN   NaN   NaN   NaN   NaN          NaN   \n168  Screenshot (114).png   NaN   NaN   NaN   NaN   NaN   NaN          NaN   \n\n     Latitude  Longitude  ...  Machine suggestion 1  Machine confidence 1  \\\n111       NaN        NaN  ...                   NaN                   NaN   \n234       NaN        NaN  ...                   NaN                   NaN   \n3         NaN        NaN  ...                   NaN                   NaN   \n72        NaN        NaN  ...                   NaN                   NaN   \n168       NaN        NaN  ...                   NaN                   NaN   \n\n     Machine suggestion 2  Machine confidence 2  Machine suggestion 3  \\\n111                   NaN                   NaN                   NaN   \n234                   NaN                   NaN                   NaN   \n3                     NaN                   NaN                   NaN   \n72                    NaN                   NaN                   NaN   \n168                   NaN                   NaN                   NaN   \n\n     Machine confidence 3  Machine suggestion 4  Machine confidence 4  \\\n111                   NaN                   NaN                   NaN   \n234                   NaN                   NaN                   NaN   \n3                     NaN                   NaN                   NaN   \n72                    NaN                   NaN                   NaN   \n168                   NaN                   NaN                   NaN   \n\n     Machine suggestion 5  Machine confidence 5  \n111                   NaN                   NaN  \n234                   NaN                   NaN  \n3                     NaN                   NaN  \n72                    NaN                   NaN  \n168                   NaN                   NaN  \n\n[5 rows x 33 columns]",
      "text/html": "<div>\n<style scoped>\n    .dataframe tbody tr th:only-of-type {\n        vertical-align: middle;\n    }\n\n    .dataframe tbody tr th {\n        vertical-align: top;\n    }\n\n    .dataframe thead th {\n        text-align: right;\n    }\n</style>\n<table border=\"1\" class=\"dataframe\">\n  <thead>\n    <tr style=\"text-align: right;\">\n      <th></th>\n      <th>Name</th>\n      <th>Date</th>\n      <th>Aux1</th>\n      <th>Aux2</th>\n      <th>Aux3</th>\n      <th>Aux4</th>\n      <th>Aux5</th>\n      <th>Height (cm)</th>\n      <th>Latitude</th>\n      <th>Longitude</th>\n      <th>...</th>\n      <th>Machine suggestion 1</th>\n      <th>Machine confidence 1</th>\n      <th>Machine suggestion 2</th>\n      <th>Machine confidence 2</th>\n      <th>Machine suggestion 3</th>\n      <th>Machine confidence 3</th>\n      <th>Machine suggestion 4</th>\n      <th>Machine confidence 4</th>\n      <th>Machine suggestion 5</th>\n      <th>Machine confidence 5</th>\n    </tr>\n  </thead>\n  <tbody>\n    <tr>\n      <th>111</th>\n      <td>Screenshot (112).png</td>\n      <td>NaN</td>\n      <td>NaN</td>\n      <td>NaN</td>\n      <td>NaN</td>\n      <td>NaN</td>\n      <td>NaN</td>\n      <td>NaN</td>\n      <td>NaN</td>\n      <td>NaN</td>\n      <td>...</td>\n      <td>NaN</td>\n      <td>NaN</td>\n      <td>NaN</td>\n      <td>NaN</td>\n      <td>NaN</td>\n      <td>NaN</td>\n      <td>NaN</td>\n      <td>NaN</td>\n      <td>NaN</td>\n      <td>NaN</td>\n    </tr>\n    <tr>\n      <th>234</th>\n      <td>Screenshot (115).png</td>\n      <td>NaN</td>\n      <td>NaN</td>\n      <td>NaN</td>\n      <td>NaN</td>\n      <td>NaN</td>\n      <td>NaN</td>\n      <td>NaN</td>\n      <td>NaN</td>\n      <td>NaN</td>\n      <td>...</td>\n      <td>NaN</td>\n      <td>NaN</td>\n      <td>NaN</td>\n      <td>NaN</td>\n      <td>NaN</td>\n      <td>NaN</td>\n      <td>NaN</td>\n      <td>NaN</td>\n      <td>NaN</td>\n      <td>NaN</td>\n    </tr>\n    <tr>\n      <th>3</th>\n      <td>0-5.png</td>\n      <td>NaN</td>\n      <td>NaN</td>\n      <td>NaN</td>\n      <td>NaN</td>\n      <td>NaN</td>\n      <td>NaN</td>\n      <td>NaN</td>\n      <td>NaN</td>\n      <td>NaN</td>\n      <td>...</td>\n      <td>NaN</td>\n      <td>NaN</td>\n      <td>NaN</td>\n      <td>NaN</td>\n      <td>NaN</td>\n      <td>NaN</td>\n      <td>NaN</td>\n      <td>NaN</td>\n      <td>NaN</td>\n      <td>NaN</td>\n    </tr>\n    <tr>\n      <th>72</th>\n      <td>Screenshot (111).png</td>\n      <td>NaN</td>\n      <td>NaN</td>\n      <td>NaN</td>\n      <td>NaN</td>\n      <td>NaN</td>\n      <td>NaN</td>\n      <td>NaN</td>\n      <td>NaN</td>\n      <td>NaN</td>\n      <td>...</td>\n      <td>NaN</td>\n      <td>NaN</td>\n      <td>NaN</td>\n      <td>NaN</td>\n      <td>NaN</td>\n      <td>NaN</td>\n      <td>NaN</td>\n      <td>NaN</td>\n      <td>NaN</td>\n      <td>NaN</td>\n    </tr>\n    <tr>\n      <th>168</th>\n      <td>Screenshot (114).png</td>\n      <td>NaN</td>\n      <td>NaN</td>\n      <td>NaN</td>\n      <td>NaN</td>\n      <td>NaN</td>\n      <td>NaN</td>\n      <td>NaN</td>\n      <td>NaN</td>\n      <td>NaN</td>\n      <td>...</td>\n      <td>NaN</td>\n      <td>NaN</td>\n      <td>NaN</td>\n      <td>NaN</td>\n      <td>NaN</td>\n      <td>NaN</td>\n      <td>NaN</td>\n      <td>NaN</td>\n      <td>NaN</td>\n      <td>NaN</td>\n    </tr>\n  </tbody>\n</table>\n<p>5 rows × 33 columns</p>\n</div>"
     },
     "execution_count": 16,
     "metadata": {},
     "output_type": "execute_result"
    }
   ],
   "source": [
    "# Download the annotations for the source\n",
    "driver, ANNOTATIONS = download_annotations(driver, SOURCE_ID, SOURCE_DIR)\n",
    "\n",
    "# Display some annotations\n",
    "ANNOTATIONS.sample(5)"
   ],
   "metadata": {
    "collapsed": false
   }
  },
  {
   "cell_type": "markdown",
   "source": [
    "#### Downloading a list of CoralNet Sources\n",
    "\n",
    "These next few cells can be used to help download information from CoralNet that would help in\n",
    "identifying potential sources of interest. For example, this first cell will download a list of\n",
    "all the public sources on CoralNet, including ID, name, and page URL."
   ],
   "metadata": {
    "collapsed": false
   }
  },
  {
   "cell_type": "code",
   "execution_count": 9,
   "outputs": [
    {
     "name": "stdout",
     "output_type": "stream",
     "text": [
      "\n",
      "###############################################\n",
      "CoralNet Source Dataframe\n",
      "###############################################\n",
      "\n",
      "NOTE: Downloading CoralNet Source Dataframe\n"
     ]
    },
    {
     "name": "stderr",
     "output_type": "stream",
     "text": [
      "100%|██████████| 689/689 [00:00<00:00, 36072.49it/s]"
     ]
    },
    {
     "name": "stdout",
     "output_type": "stream",
     "text": [
      "NOTE: CoralNet Source Dataframe saved successfully\n"
     ]
    },
    {
     "name": "stderr",
     "output_type": "stream",
     "text": [
      "\n"
     ]
    },
    {
     "data": {
      "text/plain": "    Source_ID                                        Source_Name  \\\n292      1270                                     Josiah Johnson   \n624      2307                                       Therese_East   \n0        4085                                          0-5meters   \n66       3818                                    BelizeBarrierL1   \n68       2614  Benthic foramifera associated with seagrass H....   \n\n                                 Source_URL  \n292  https://coralnet.ucsd.edu/source/1270/  \n624  https://coralnet.ucsd.edu/source/2307/  \n0    https://coralnet.ucsd.edu/source/4085/  \n66   https://coralnet.ucsd.edu/source/3818/  \n68   https://coralnet.ucsd.edu/source/2614/  ",
      "text/html": "<div>\n<style scoped>\n    .dataframe tbody tr th:only-of-type {\n        vertical-align: middle;\n    }\n\n    .dataframe tbody tr th {\n        vertical-align: top;\n    }\n\n    .dataframe thead th {\n        text-align: right;\n    }\n</style>\n<table border=\"1\" class=\"dataframe\">\n  <thead>\n    <tr style=\"text-align: right;\">\n      <th></th>\n      <th>Source_ID</th>\n      <th>Source_Name</th>\n      <th>Source_URL</th>\n    </tr>\n  </thead>\n  <tbody>\n    <tr>\n      <th>292</th>\n      <td>1270</td>\n      <td>Josiah Johnson</td>\n      <td>https://coralnet.ucsd.edu/source/1270/</td>\n    </tr>\n    <tr>\n      <th>624</th>\n      <td>2307</td>\n      <td>Therese_East</td>\n      <td>https://coralnet.ucsd.edu/source/2307/</td>\n    </tr>\n    <tr>\n      <th>0</th>\n      <td>4085</td>\n      <td>0-5meters</td>\n      <td>https://coralnet.ucsd.edu/source/4085/</td>\n    </tr>\n    <tr>\n      <th>66</th>\n      <td>3818</td>\n      <td>BelizeBarrierL1</td>\n      <td>https://coralnet.ucsd.edu/source/3818/</td>\n    </tr>\n    <tr>\n      <th>68</th>\n      <td>2614</td>\n      <td>Benthic foramifera associated with seagrass H....</td>\n      <td>https://coralnet.ucsd.edu/source/2614/</td>\n    </tr>\n  </tbody>\n</table>\n</div>"
     },
     "execution_count": 9,
     "metadata": {},
     "output_type": "execute_result"
    }
   ],
   "source": [
    "# Download the list of sources on CoralNet\n",
    "driver, SOURCES = download_coralnet_sources(driver, OUTPUT_DIR)\n",
    "\n",
    "# Display some sources\n",
    "SOURCES.sample(5)"
   ],
   "metadata": {
    "collapsed": false
   }
  },
  {
   "cell_type": "markdown",
   "source": [
    "#### Downloading a list of CoralNet Labelsets\n",
    "\n",
    "In additon to the sources, we can also download all the public labelsets on CoralNet, along with\n",
    " all the additional attributes associated with each. This includes the labelset name, ID, page\n",
    " URL, functional group, short code, and popularity."
   ],
   "metadata": {
    "collapsed": false
   }
  },
  {
   "cell_type": "code",
   "execution_count": 10,
   "outputs": [
    {
     "name": "stdout",
     "output_type": "stream",
     "text": [
      "\n",
      "###############################################\n",
      "CoralNet Labelset Dataframe\n",
      "###############################################\n",
      "\n",
      "NOTE: Downloading CoralNet Labelset Dataframe\n"
     ]
    },
    {
     "name": "stderr",
     "output_type": "stream",
     "text": [
      "100%|██████████| 7547/7547 [00:00<00:00, 10963.16it/s]\n"
     ]
    },
    {
     "name": "stdout",
     "output_type": "stream",
     "text": [
      "NOTE: Labelset Dataframe saved successfully\n"
     ]
    },
    {
     "data": {
      "text/plain": "     Label ID                            Name  \\\n962      1558            Echinophyllia aspera   \n3452     3041                        Fan Worm   \n477       762  Bleached Platygyra ryukyuensis   \n379      3061             Bleached Leptastrea   \n2083     5100          Siderastrea_encrusting   \n\n                                        URL     Functional Group Popularity %  \\\n962   https://coralnet.ucsd.edu/label/1558/           Hard coral           56   \n3452  https://coralnet.ucsd.edu/label/3041/  Other Invertebrates           33   \n477    https://coralnet.ucsd.edu/label/762/           Hard coral           61   \n379   https://coralnet.ucsd.edu/label/3061/           Hard coral            0   \n2083  https://coralnet.ucsd.edu/label/5100/           Hard coral            0   \n\n      Short Code  Duplicate Duplicate Notes  Verified  Has Calcification Rates  \n962        EcAsp      False                     False                    False  \n3452    WORM fan      False                     False                    False  \n477       B_Pryu      False                     False                    False  \n379   B_Leptastr      False                     False                    False  \n2083      sidenc      False                     False                    False  ",
      "text/html": "<div>\n<style scoped>\n    .dataframe tbody tr th:only-of-type {\n        vertical-align: middle;\n    }\n\n    .dataframe tbody tr th {\n        vertical-align: top;\n    }\n\n    .dataframe thead th {\n        text-align: right;\n    }\n</style>\n<table border=\"1\" class=\"dataframe\">\n  <thead>\n    <tr style=\"text-align: right;\">\n      <th></th>\n      <th>Label ID</th>\n      <th>Name</th>\n      <th>URL</th>\n      <th>Functional Group</th>\n      <th>Popularity %</th>\n      <th>Short Code</th>\n      <th>Duplicate</th>\n      <th>Duplicate Notes</th>\n      <th>Verified</th>\n      <th>Has Calcification Rates</th>\n    </tr>\n  </thead>\n  <tbody>\n    <tr>\n      <th>962</th>\n      <td>1558</td>\n      <td>Echinophyllia aspera</td>\n      <td>https://coralnet.ucsd.edu/label/1558/</td>\n      <td>Hard coral</td>\n      <td>56</td>\n      <td>EcAsp</td>\n      <td>False</td>\n      <td></td>\n      <td>False</td>\n      <td>False</td>\n    </tr>\n    <tr>\n      <th>3452</th>\n      <td>3041</td>\n      <td>Fan Worm</td>\n      <td>https://coralnet.ucsd.edu/label/3041/</td>\n      <td>Other Invertebrates</td>\n      <td>33</td>\n      <td>WORM fan</td>\n      <td>False</td>\n      <td></td>\n      <td>False</td>\n      <td>False</td>\n    </tr>\n    <tr>\n      <th>477</th>\n      <td>762</td>\n      <td>Bleached Platygyra ryukyuensis</td>\n      <td>https://coralnet.ucsd.edu/label/762/</td>\n      <td>Hard coral</td>\n      <td>61</td>\n      <td>B_Pryu</td>\n      <td>False</td>\n      <td></td>\n      <td>False</td>\n      <td>False</td>\n    </tr>\n    <tr>\n      <th>379</th>\n      <td>3061</td>\n      <td>Bleached Leptastrea</td>\n      <td>https://coralnet.ucsd.edu/label/3061/</td>\n      <td>Hard coral</td>\n      <td>0</td>\n      <td>B_Leptastr</td>\n      <td>False</td>\n      <td></td>\n      <td>False</td>\n      <td>False</td>\n    </tr>\n    <tr>\n      <th>2083</th>\n      <td>5100</td>\n      <td>Siderastrea_encrusting</td>\n      <td>https://coralnet.ucsd.edu/label/5100/</td>\n      <td>Hard coral</td>\n      <td>0</td>\n      <td>sidenc</td>\n      <td>False</td>\n      <td></td>\n      <td>False</td>\n      <td>False</td>\n    </tr>\n  </tbody>\n</table>\n</div>"
     },
     "execution_count": 10,
     "metadata": {},
     "output_type": "execute_result"
    }
   ],
   "source": [
    "# Download the list of labelsets on CoralNet\n",
    "driver, LABELSETS = download_coralnet_labelsets(driver, OUTPUT_DIR)\n",
    "\n",
    "# Display some labelsets\n",
    "LABELSETS.sample(5)"
   ],
   "metadata": {
    "collapsed": false
   }
  },
  {
   "cell_type": "markdown",
   "source": [
    "#### Downloading a list of CoralNet Sources that contain a specific labelset\n",
    "\n",
    "Finally, you can download specific sources that contain at least one example of a labelset of\n",
    "interest. In this example, we're interested in Acropora (branching) corals; we use the labelset\n",
    " dataframe to find the ID of the labelset, and then use that ID to find all the sources that\n",
    " contain at least one example of that labelset.\n",
    "\n",
    "In return, we're provided a dataframe of sources, which we can then download the images, labelset,\n",
    " metadata and annotations for."
   ],
   "metadata": {
    "collapsed": false
   }
  },
  {
   "cell_type": "code",
   "execution_count": 18,
   "outputs": [
    {
     "name": "stdout",
     "output_type": "stream",
     "text": [
      "NOTE: Downloading dataframe of sources\n"
     ]
    },
    {
     "name": "stderr",
     "output_type": "stream",
     "text": [
      "1it [00:02,  2.03s/it]"
     ]
    },
    {
     "name": "stdout",
     "output_type": "stream",
     "text": [
      "ERROR: Unable to get dataframe of Source IDs\n",
      "ERROR: Could not save Source ID dataframe\n"
     ]
    },
    {
     "name": "stderr",
     "output_type": "stream",
     "text": [
      "\n"
     ]
    }
   ],
   "source": [
    "# Get the sources that contain the labelsets of interest\n",
    "DESIRED_LABELSET = LABELSETS[LABELSETS['Name'] == \"Acropora (branching)\"]\n",
    "\n",
    "# Filter the sources to only those that have the desired labelset\n",
    "driver, SOURCE_LIST = get_sources_with(driver, DESIRED_LABELSET, OUTPUT_DIR)\n",
    "\n",
    "if SOURCE_LIST is not None:\n",
    "    # Display some sources\n",
    "    SOURCE_LIST.sample(5)"
   ],
   "metadata": {
    "collapsed": false
   }
  },
  {
   "cell_type": "markdown",
   "source": [
    "#### Download all the data\n",
    "\n",
    "Now that we have a list of sources that contain the labelset of interest, we can download all the\n",
    " data for each source. This includes the images, labelset, metadata and annotations. This can\n",
    " take a while to run, so it's best to run this cell and then go do something else for a while.\n",
    "\n",
    "In theory, it's possible to download all the public data from CoralNet, just know that the\n",
    "annotations require a lot of time to download (this is a limitation of CoralNet, not this script)."
   ],
   "metadata": {
    "collapsed": false
   }
  },
  {
   "cell_type": "code",
   "execution_count": 16,
   "outputs": [
    {
     "name": "stdout",
     "output_type": "stream",
     "text": [
      "NOTE: Downloading model metadata for 1653\n",
      "ERROR: Issue with downloading metadata\n",
      "ERROR: Unable to get model metadata from source 1653\n",
      "ERROR: Source 1653 may not have a trained model\n",
      "NOTE: Downloading labelset for 1653\n",
      "NOTE: Labelset saved successfully\n",
      "NOTE: Crawling all pages for source 1653\n"
     ]
    },
    {
     "name": "stderr",
     "output_type": "stream",
     "text": [
      " 50%|█████     | 1/2 [00:01<00:01,  1.69s/it]\n"
     ]
    },
    {
     "name": "stdout",
     "output_type": "stream",
     "text": [
      "NOTE: Finished crawling all pages\n",
      "NOTE: Retrieving image URLs\n"
     ]
    },
    {
     "name": "stderr",
     "output_type": "stream",
     "text": [
      "100%|██████████| 30/30 [00:05<00:00,  5.83it/s]\n"
     ]
    },
    {
     "name": "stdout",
     "output_type": "stream",
     "text": [
      "NOTE: Retrieved 30 image URLs\n",
      "NOTE: Saved image dataframe as CSV file\n",
      "NOTE: Downloading 30 images\n"
     ]
    },
    {
     "name": "stderr",
     "output_type": "stream",
     "text": [
      "100%|██████████| 30/30 [00:16<00:00,  1.79it/s]\n"
     ]
    },
    {
     "name": "stdout",
     "output_type": "stream",
     "text": [
      "NOTE: Downloading annotations for source 1653\n"
     ]
    }
   ],
   "source": [
    "# Loop through each of the source ids, and download the data\n",
    "# Here we just do the first source, but you can do all of them.\n",
    "for source_id in SOURCE_LIST['Source_ID'].tolist()[0:1]:\n",
    "    # Download the data for the source\n",
    "    download_data(driver, source_id, OUTPUT_DIR)"
   ],
   "metadata": {
    "collapsed": false
   }
  },
  {
   "cell_type": "markdown",
   "source": [
    "#### Closing the browser\n",
    "\n",
    "Last but not least, we close the browser."
   ],
   "metadata": {
    "collapsed": false
   }
  },
  {
   "cell_type": "code",
   "execution_count": 20,
   "outputs": [],
   "source": [
    "driver.close()"
   ],
   "metadata": {
    "collapsed": false
   }
  },
  {
   "cell_type": "code",
   "execution_count": null,
   "outputs": [],
   "source": [],
   "metadata": {
    "collapsed": false
   }
  }
 ],
 "metadata": {
  "kernelspec": {
   "display_name": "Python 3",
   "language": "python",
   "name": "python3"
  },
  "language_info": {
   "codemirror_mode": {
    "name": "ipython",
    "version": 2
   },
   "file_extension": ".py",
   "mimetype": "text/x-python",
   "name": "python",
   "nbconvert_exporter": "python",
   "pygments_lexer": "ipython2",
   "version": "2.7.6"
  }
 },
 "nbformat": 4,
 "nbformat_minor": 0
}
