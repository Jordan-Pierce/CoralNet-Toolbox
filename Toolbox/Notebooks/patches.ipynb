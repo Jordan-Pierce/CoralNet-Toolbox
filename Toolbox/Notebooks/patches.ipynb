{
 "cells": [
  {
   "cell_type": "markdown",
   "source": [
    "### Annotations to Patches (Notebook)\n",
    "\n",
    "This notebook shows how to create patches for annotations downloaded from CoralNet. It assumes\n",
    "that you've already downloaded the data from a source, and that it is stored in the\n",
    "CoralNet_Data directory."
   ],
   "metadata": {
    "collapsed": false
   }
  },
  {
   "cell_type": "markdown",
   "source": [
    "#### Imports"
   ],
   "metadata": {
    "collapsed": false
   }
  },
  {
   "cell_type": "code",
   "execution_count": 1,
   "outputs": [],
   "source": [
    "import warnings\n",
    "warnings.filterwarnings(\"ignore\")\n",
    "\n",
    "from ..Tools.Patches import *"
   ],
   "metadata": {
    "collapsed": false
   }
  },
  {
   "cell_type": "markdown",
   "source": [
    "#### Setting the Data Directory"
   ],
   "metadata": {
    "collapsed": false
   }
  },
  {
   "cell_type": "code",
   "execution_count": 2,
   "outputs": [],
   "source": [
    "SOURCE_ID = str(4189)"
   ],
   "metadata": {
    "collapsed": false
   }
  },
  {
   "cell_type": "code",
   "execution_count": 3,
   "id": "4f0b48eb-c4e6-46f9-9e5e-f1f5c64f2d2e",
   "metadata": {},
   "outputs": [],
   "source": [
    "# The root directory for the data\n",
    "ROOT = f\"B://CoralNet_Data//\"\n",
    "\n",
    "# The sub-directory containing for a source; note that you can alter this\n",
    "# to include multiple sources if you want to.\n",
    "SOURCE_DIR = ROOT + f\"{SOURCE_ID}//\"\n",
    "IMAGE_DIR = SOURCE_DIR + \"images/\"\n",
    "LABEL_PATH = SOURCE_DIR + \"annotations.csv\"\n",
    "\n",
    "# Check that the paths exist\n",
    "assert os.path.exists(ROOT)\n",
    "assert os.path.exists(SOURCE_DIR)\n",
    "assert os.path.exists(IMAGE_DIR)\n",
    "assert os.path.exists(LABEL_PATH)\n",
    "\n",
    "# Create a sub-directory for the patches\n",
    "PATCH_DIR = SOURCE_DIR + \"patches/\"\n",
    "os.makedirs(PATCH_DIR, exist_ok=True)"
   ]
  },
  {
   "cell_type": "markdown",
   "source": [
    "#### Loading the Annotations\n",
    "\n",
    "Here the annotations are loaded into a pandas dataframe. The dataframe can then be filtered to\n",
    "only include annotations made by a user, or by a model with high confidence."
   ],
   "metadata": {
    "collapsed": false
   }
  },
  {
   "cell_type": "code",
   "execution_count": 4,
   "outputs": [],
   "source": [
    "# Read in the annotations\n",
    "labels_df = pd.read_csv(LABEL_PATH)\n",
    "\n",
    "# Get the annotations made by a user\n",
    "if \"Imported\" in labels_df.columns:\n",
    "    labels_df = labels_df[labels_df['Annotator'] == 'Imported']\n",
    "\n",
    "# Subset the dataframe to only include needed columns\n",
    "labels_df = labels_df[['Name', 'Row', 'Column', 'Label']]"
   ],
   "metadata": {
    "collapsed": false
   }
  },
  {
   "cell_type": "code",
   "execution_count": 5,
   "outputs": [
    {
     "data": {
      "text/plain": "               Name   Row  Column Label\n22025  DSC_7824.JPG  3283    3186  Turf\n26781  DSC_7716.JPG  1696    2847  Turf\n25860  DSC_7732.JPG   242     435  CALG\n2911   DSC_8375.JPG  1013     308  CCA1\n12945  DSC_8089.JPG  3104     317   ZOA",
      "text/html": "<div>\n<style scoped>\n    .dataframe tbody tr th:only-of-type {\n        vertical-align: middle;\n    }\n\n    .dataframe tbody tr th {\n        vertical-align: top;\n    }\n\n    .dataframe thead th {\n        text-align: right;\n    }\n</style>\n<table border=\"1\" class=\"dataframe\">\n  <thead>\n    <tr style=\"text-align: right;\">\n      <th></th>\n      <th>Name</th>\n      <th>Row</th>\n      <th>Column</th>\n      <th>Label</th>\n    </tr>\n  </thead>\n  <tbody>\n    <tr>\n      <th>22025</th>\n      <td>DSC_7824.JPG</td>\n      <td>3283</td>\n      <td>3186</td>\n      <td>Turf</td>\n    </tr>\n    <tr>\n      <th>26781</th>\n      <td>DSC_7716.JPG</td>\n      <td>1696</td>\n      <td>2847</td>\n      <td>Turf</td>\n    </tr>\n    <tr>\n      <th>25860</th>\n      <td>DSC_7732.JPG</td>\n      <td>242</td>\n      <td>435</td>\n      <td>CALG</td>\n    </tr>\n    <tr>\n      <th>2911</th>\n      <td>DSC_8375.JPG</td>\n      <td>1013</td>\n      <td>308</td>\n      <td>CCA1</td>\n    </tr>\n    <tr>\n      <th>12945</th>\n      <td>DSC_8089.JPG</td>\n      <td>3104</td>\n      <td>317</td>\n      <td>ZOA</td>\n    </tr>\n  </tbody>\n</table>\n</div>"
     },
     "execution_count": 5,
     "metadata": {},
     "output_type": "execute_result"
    }
   ],
   "source": [
    "labels_df.sample(5)"
   ],
   "metadata": {
    "collapsed": false
   }
  },
  {
   "cell_type": "markdown",
   "source": [
    "#### Getting the Images\n",
    "\n",
    "The annotation file will only contain the names of the images, so we need to get the actual\n",
    "image paths. This is done by getting all of the images in the image directory, and then\n",
    "filtering the dataframe to only include images that are in the image directory. We'll update the\n",
    " dataframe to also include the path of the image."
   ],
   "metadata": {
    "collapsed": false
   }
  },
  {
   "cell_type": "code",
   "execution_count": 6,
   "outputs": [],
   "source": [
    "# For each row in the dataframe, get the name of the image, and provide the path\n",
    "# to the image in a new column called image_path\n",
    "image_path = []\n",
    "\n",
    "for i, r in labels_df.iterrows():\n",
    "    if os.path.exists(IMAGE_DIR + r['Name']):\n",
    "        image_path.append(IMAGE_DIR + r['Name'])\n",
    "    else:\n",
    "        image_path.append(None)\n",
    "\n",
    "# Set the image path, filter any rows that don't have an image path\n",
    "labels_df['Image Path'] = image_path\n",
    "labels_df = labels_df[labels_df['Image Path'].notnull()]"
   ],
   "metadata": {
    "collapsed": false
   }
  },
  {
   "cell_type": "code",
   "execution_count": 7,
   "outputs": [
    {
     "data": {
      "text/plain": "               Name   Row  Column Label  \\\n35935  DSC_7430.JPG  1136    3759   ZOA   \n39249  DSC_7322.JPG  1878    2915   ZOA   \n13662  DSC_8074.JPG  1725    1994  Turf   \n5937   DSC_8318.JPG  2565    4948   ZOA   \n1217   DSC_8432.JPG  3084     852  Turf   \n\n                                         Image Path  \n35935  B://CoralNet_Data//4189//images/DSC_7430.JPG  \n39249  B://CoralNet_Data//4189//images/DSC_7322.JPG  \n13662  B://CoralNet_Data//4189//images/DSC_8074.JPG  \n5937   B://CoralNet_Data//4189//images/DSC_8318.JPG  \n1217   B://CoralNet_Data//4189//images/DSC_8432.JPG  ",
      "text/html": "<div>\n<style scoped>\n    .dataframe tbody tr th:only-of-type {\n        vertical-align: middle;\n    }\n\n    .dataframe tbody tr th {\n        vertical-align: top;\n    }\n\n    .dataframe thead th {\n        text-align: right;\n    }\n</style>\n<table border=\"1\" class=\"dataframe\">\n  <thead>\n    <tr style=\"text-align: right;\">\n      <th></th>\n      <th>Name</th>\n      <th>Row</th>\n      <th>Column</th>\n      <th>Label</th>\n      <th>Image Path</th>\n    </tr>\n  </thead>\n  <tbody>\n    <tr>\n      <th>35935</th>\n      <td>DSC_7430.JPG</td>\n      <td>1136</td>\n      <td>3759</td>\n      <td>ZOA</td>\n      <td>B://CoralNet_Data//4189//images/DSC_7430.JPG</td>\n    </tr>\n    <tr>\n      <th>39249</th>\n      <td>DSC_7322.JPG</td>\n      <td>1878</td>\n      <td>2915</td>\n      <td>ZOA</td>\n      <td>B://CoralNet_Data//4189//images/DSC_7322.JPG</td>\n    </tr>\n    <tr>\n      <th>13662</th>\n      <td>DSC_8074.JPG</td>\n      <td>1725</td>\n      <td>1994</td>\n      <td>Turf</td>\n      <td>B://CoralNet_Data//4189//images/DSC_8074.JPG</td>\n    </tr>\n    <tr>\n      <th>5937</th>\n      <td>DSC_8318.JPG</td>\n      <td>2565</td>\n      <td>4948</td>\n      <td>ZOA</td>\n      <td>B://CoralNet_Data//4189//images/DSC_8318.JPG</td>\n    </tr>\n    <tr>\n      <th>1217</th>\n      <td>DSC_8432.JPG</td>\n      <td>3084</td>\n      <td>852</td>\n      <td>Turf</td>\n      <td>B://CoralNet_Data//4189//images/DSC_8432.JPG</td>\n    </tr>\n  </tbody>\n</table>\n</div>"
     },
     "execution_count": 7,
     "metadata": {},
     "output_type": "execute_result"
    }
   ],
   "source": [
    "labels_df.sample(5)"
   ],
   "metadata": {
    "collapsed": false
   }
  },
  {
   "cell_type": "markdown",
   "source": [
    "#### Creating the Patches\n",
    "\n",
    "Now that we have the annotations, we can create the patches. We'll first create sub-directories\n",
    "for each of the labels within the patch folder. Then we'll extract patches from images and save\n",
    "them to the appropriate sub-directory."
   ],
   "metadata": {
    "collapsed": false
   }
  },
  {
   "cell_type": "code",
   "execution_count": 8,
   "outputs": [],
   "source": [
    "# Create a directory for each class label\n",
    "for label in labels_df['Label'].unique():\n",
    "    os.makedirs(PATCH_DIR + label, exist_ok=True)"
   ],
   "metadata": {
    "collapsed": false
   }
  },
  {
   "cell_type": "code",
   "execution_count": 9,
   "outputs": [
    {
     "name": "stderr",
     "output_type": "stream",
     "text": [
      "100%|██████████| 1213/1213 [04:12<00:00,  4.80it/s]\n"
     ]
    }
   ],
   "source": [
    "# Dataframe to hold information for patches\n",
    "patches_df = []\n",
    "\n",
    "with concurrent.futures.ThreadPoolExecutor() as executor:\n",
    "    results = list(tqdm(\n",
    "        executor.map(\n",
    "            lambda image_df: crop_patches(image_df, PATCH_DIR),\n",
    "            [labels_df[labels_df['Name'] == image_name] for image_name in labels_df['Name'].unique()]\n",
    "        ),\n",
    "        total=len(labels_df['Name'].unique())\n",
    "    ))\n",
    "\n",
    "\n",
    "for result in results:\n",
    "    patches_df.extend(result)"
   ],
   "metadata": {
    "collapsed": false
   }
  },
  {
   "cell_type": "markdown",
   "source": [
    "#### Creating a CSV File\n",
    "\n",
    "Finally, we'll create a CSV file that contains the information for each patch. This will be\n",
    "useful for loading the patches into a dataset for model training."
   ],
   "metadata": {
    "collapsed": false
   }
  },
  {
   "cell_type": "code",
   "execution_count": 12,
   "id": "b210afaa",
   "metadata": {},
   "outputs": [],
   "source": [
    "patches_df = pd.DataFrame(patches_df, columns=['Name', 'Path', 'Label', 'Image Name', 'Image Path'])\n",
    "patches_df.to_csv(SOURCE_DIR + \"patches.csv\")"
   ]
  },
  {
   "cell_type": "code",
   "execution_count": 13,
   "outputs": [
    {
     "data": {
      "text/plain": "                              Name  \\\n0      DSC_8445_2604_5285_Sand.png   \n1      DSC_8445_2230_3865_Turf.png   \n2      DSC_8445_2580_4270_Turf.png   \n3      DSC_8445_2139_4752_Sand.png   \n4      DSC_8445_2144_5050_Sand.png   \n...                            ...   \n44123   DSC_7150_553_1251_Turf.png   \n44124   DSC_7150_416_1612_Turf.png   \n44125   DSC_7150_444_2186_Turf.png   \n44126     DSC_7150_409_43_Turf.png   \n44127    DSC_7150_392_770_Turf.png   \n\n                                                    Path Label    Image Name  \\\n0      B://CoralNet_Data//4189//patches/Sand/DSC_8445...  Sand  DSC_8445.JPG   \n1      B://CoralNet_Data//4189//patches/Turf/DSC_8445...  Turf  DSC_8445.JPG   \n2      B://CoralNet_Data//4189//patches/Turf/DSC_8445...  Turf  DSC_8445.JPG   \n3      B://CoralNet_Data//4189//patches/Sand/DSC_8445...  Sand  DSC_8445.JPG   \n4      B://CoralNet_Data//4189//patches/Sand/DSC_8445...  Sand  DSC_8445.JPG   \n...                                                  ...   ...           ...   \n44123  B://CoralNet_Data//4189//patches/Turf/DSC_7150...  Turf  DSC_7150.JPG   \n44124  B://CoralNet_Data//4189//patches/Turf/DSC_7150...  Turf  DSC_7150.JPG   \n44125  B://CoralNet_Data//4189//patches/Turf/DSC_7150...  Turf  DSC_7150.JPG   \n44126  B://CoralNet_Data//4189//patches/Turf/DSC_7150...  Turf  DSC_7150.JPG   \n44127  B://CoralNet_Data//4189//patches/Turf/DSC_7150...  Turf  DSC_7150.JPG   \n\n                                         Image Path  \n0      B://CoralNet_Data//4189//images/DSC_8445.JPG  \n1      B://CoralNet_Data//4189//images/DSC_8445.JPG  \n2      B://CoralNet_Data//4189//images/DSC_8445.JPG  \n3      B://CoralNet_Data//4189//images/DSC_8445.JPG  \n4      B://CoralNet_Data//4189//images/DSC_8445.JPG  \n...                                             ...  \n44123  B://CoralNet_Data//4189//images/DSC_7150.JPG  \n44124  B://CoralNet_Data//4189//images/DSC_7150.JPG  \n44125  B://CoralNet_Data//4189//images/DSC_7150.JPG  \n44126  B://CoralNet_Data//4189//images/DSC_7150.JPG  \n44127  B://CoralNet_Data//4189//images/DSC_7150.JPG  \n\n[44128 rows x 5 columns]",
      "text/html": "<div>\n<style scoped>\n    .dataframe tbody tr th:only-of-type {\n        vertical-align: middle;\n    }\n\n    .dataframe tbody tr th {\n        vertical-align: top;\n    }\n\n    .dataframe thead th {\n        text-align: right;\n    }\n</style>\n<table border=\"1\" class=\"dataframe\">\n  <thead>\n    <tr style=\"text-align: right;\">\n      <th></th>\n      <th>Name</th>\n      <th>Path</th>\n      <th>Label</th>\n      <th>Image Name</th>\n      <th>Image Path</th>\n    </tr>\n  </thead>\n  <tbody>\n    <tr>\n      <th>0</th>\n      <td>DSC_8445_2604_5285_Sand.png</td>\n      <td>B://CoralNet_Data//4189//patches/Sand/DSC_8445...</td>\n      <td>Sand</td>\n      <td>DSC_8445.JPG</td>\n      <td>B://CoralNet_Data//4189//images/DSC_8445.JPG</td>\n    </tr>\n    <tr>\n      <th>1</th>\n      <td>DSC_8445_2230_3865_Turf.png</td>\n      <td>B://CoralNet_Data//4189//patches/Turf/DSC_8445...</td>\n      <td>Turf</td>\n      <td>DSC_8445.JPG</td>\n      <td>B://CoralNet_Data//4189//images/DSC_8445.JPG</td>\n    </tr>\n    <tr>\n      <th>2</th>\n      <td>DSC_8445_2580_4270_Turf.png</td>\n      <td>B://CoralNet_Data//4189//patches/Turf/DSC_8445...</td>\n      <td>Turf</td>\n      <td>DSC_8445.JPG</td>\n      <td>B://CoralNet_Data//4189//images/DSC_8445.JPG</td>\n    </tr>\n    <tr>\n      <th>3</th>\n      <td>DSC_8445_2139_4752_Sand.png</td>\n      <td>B://CoralNet_Data//4189//patches/Sand/DSC_8445...</td>\n      <td>Sand</td>\n      <td>DSC_8445.JPG</td>\n      <td>B://CoralNet_Data//4189//images/DSC_8445.JPG</td>\n    </tr>\n    <tr>\n      <th>4</th>\n      <td>DSC_8445_2144_5050_Sand.png</td>\n      <td>B://CoralNet_Data//4189//patches/Sand/DSC_8445...</td>\n      <td>Sand</td>\n      <td>DSC_8445.JPG</td>\n      <td>B://CoralNet_Data//4189//images/DSC_8445.JPG</td>\n    </tr>\n    <tr>\n      <th>...</th>\n      <td>...</td>\n      <td>...</td>\n      <td>...</td>\n      <td>...</td>\n      <td>...</td>\n    </tr>\n    <tr>\n      <th>44123</th>\n      <td>DSC_7150_553_1251_Turf.png</td>\n      <td>B://CoralNet_Data//4189//patches/Turf/DSC_7150...</td>\n      <td>Turf</td>\n      <td>DSC_7150.JPG</td>\n      <td>B://CoralNet_Data//4189//images/DSC_7150.JPG</td>\n    </tr>\n    <tr>\n      <th>44124</th>\n      <td>DSC_7150_416_1612_Turf.png</td>\n      <td>B://CoralNet_Data//4189//patches/Turf/DSC_7150...</td>\n      <td>Turf</td>\n      <td>DSC_7150.JPG</td>\n      <td>B://CoralNet_Data//4189//images/DSC_7150.JPG</td>\n    </tr>\n    <tr>\n      <th>44125</th>\n      <td>DSC_7150_444_2186_Turf.png</td>\n      <td>B://CoralNet_Data//4189//patches/Turf/DSC_7150...</td>\n      <td>Turf</td>\n      <td>DSC_7150.JPG</td>\n      <td>B://CoralNet_Data//4189//images/DSC_7150.JPG</td>\n    </tr>\n    <tr>\n      <th>44126</th>\n      <td>DSC_7150_409_43_Turf.png</td>\n      <td>B://CoralNet_Data//4189//patches/Turf/DSC_7150...</td>\n      <td>Turf</td>\n      <td>DSC_7150.JPG</td>\n      <td>B://CoralNet_Data//4189//images/DSC_7150.JPG</td>\n    </tr>\n    <tr>\n      <th>44127</th>\n      <td>DSC_7150_392_770_Turf.png</td>\n      <td>B://CoralNet_Data//4189//patches/Turf/DSC_7150...</td>\n      <td>Turf</td>\n      <td>DSC_7150.JPG</td>\n      <td>B://CoralNet_Data//4189//images/DSC_7150.JPG</td>\n    </tr>\n  </tbody>\n</table>\n<p>44128 rows × 5 columns</p>\n</div>"
     },
     "execution_count": 13,
     "metadata": {},
     "output_type": "execute_result"
    }
   ],
   "source": [
    "patches_df"
   ],
   "metadata": {
    "collapsed": false
   }
  },
  {
   "cell_type": "code",
   "execution_count": 12,
   "outputs": [],
   "source": [],
   "metadata": {
    "collapsed": false
   }
  }
 ],
 "metadata": {
  "kernel_info": {
   "name": "python3"
  },
  "kernelspec": {
   "display_name": "Python 3 (ipykernel)",
   "language": "python",
   "name": "python3"
  },
  "language_info": {
   "codemirror_mode": {
    "name": "ipython",
    "version": 3
   },
   "file_extension": ".py",
   "mimetype": "text/x-python",
   "name": "python",
   "nbconvert_exporter": "python",
   "pygments_lexer": "ipython3",
   "version": "3.8.16"
  },
  "microsoft": {
   "ms_spell_check": {
    "ms_spell_check_language": "en"
   }
  },
  "nteract": {
   "version": "nteract-front-end@1.0.0"
  },
  "vscode": {
   "interpreter": {
    "hash": "29187d11294c07bea965194f215d76d7c863eddc7d453727fd722f0612a38c27"
   }
  }
 },
 "nbformat": 4,
 "nbformat_minor": 5
}
