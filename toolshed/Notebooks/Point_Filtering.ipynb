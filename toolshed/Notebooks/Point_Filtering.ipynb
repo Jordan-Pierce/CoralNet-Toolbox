{
 "cells": [
  {
   "cell_type": "code",
   "id": "initial_id",
   "metadata": {
    "collapsed": true
   },
   "source": [
    "import os\n",
    "import json\n",
    "import glob\n",
    "\n",
    "import pandas as pd"
   ],
   "outputs": [],
   "execution_count": null
  },
  {
   "metadata": {},
   "cell_type": "code",
   "source": [
    "def get_shortcode_longcode_dict(file_path):\n",
    "    \"\"\"\n",
    "\n",
    "    :param file_path:\n",
    "    :return:\n",
    "    \"\"\"\n",
    "    with open(file_path, 'r') as file:\n",
    "        data = json.load(file)\n",
    "\n",
    "    shortcode_longcode_dict = {}\n",
    "    for item in data['classlist']:\n",
    "        id_number, short_code, full_name = item\n",
    "        shortcode_longcode_dict[short_code] = full_name\n",
    "\n",
    "    return shortcode_longcode_dict"
   ],
   "id": "5f06f5d2714c446",
   "outputs": [],
   "execution_count": null
  },
  {
   "metadata": {},
   "cell_type": "code",
   "source": [
    "def filter_points_dataframe(\n",
    "    df: pd.DataFrame,\n",
    "    qclasses_dict: dict,\n",
    "    rand_sub_ceil: float = 1.0,\n",
    "    reprojection_error: float = 0.01,\n",
    "    view_index: int = 10,\n",
    "    view_count: int = 5\n",
    ") -> pd.DataFrame:\n",
    "    \"\"\"\n",
    "    Filters and cleans a dataframe containing point data.\n",
    "\n",
    "    :param df: Input DataFrame containing point data\n",
    "    :param qclasses_dict: Dictionary containing Q-classes names (short --> long label)\n",
    "    :param rand_sub_ceil: Maximum value for RandSubCeil filter (default: 1.0)\n",
    "    :param reprojection_error: Maximum value for ReprojectionError filter (default: 0.01)\n",
    "    :param view_index: Maximum value for ViewIndex filter (default: 10)\n",
    "    :param view_count: Minimum value for ViewCount filter (default: 5)\n",
    "    :return: Filtered and cleaned DataFrame\n",
    "    \"\"\"\n",
    "\n",
    "    # Clean and preprocess data\n",
    "    df_filtered = df.copy()\n",
    "    \n",
    "    df_filtered = df_filtered.dropna(how='any')\n",
    "    df_filtered['Name'] = df_filtered['Name'].apply(os.path.basename)\n",
    "    df_filtered['Row'] = df_filtered['Row'].astype(int)\n",
    "    df_filtered['Column'] = df_filtered['Column'].astype(int)\n",
    "    \n",
    "    # Apply filters\n",
    "    filtered_df = df_filtered[\n",
    "        # Already randomly sampled\n",
    "        (df_filtered['RandSubCeil'] <= rand_sub_ceil) &\n",
    "        # Reprojection error for point reprojected to dot (distance difference)\n",
    "        (df_filtered['ReprojectionError'] <= reprojection_error) &\n",
    "        # The image's index in VPI view (includes a form pre-filtering)\n",
    "        (df_filtered['ViewIndex'] <= view_index) &\n",
    "        # The number of views the dot has\n",
    "        (df_filtered['ViewCount'] >= view_count)\n",
    "    ]\n",
    "    \n",
    "    # Map the short to long\n",
    "    filtered_df.loc[:, 'Label'] = filtered_df['Label'].map(qclasses_dict)\n",
    "    \n",
    "    # Drop rows with the following Label\n",
    "    to_drop = ['Review', 'N/A', 'Unknown']\n",
    "    filtered_df = filtered_df[~filtered_df['Label'].isin(to_drop)]\n",
    "    \n",
    "    return filtered_df"
   ],
   "id": "31ba155c4f4c49",
   "outputs": [],
   "execution_count": null
  },
  {
   "metadata": {},
   "cell_type": "code",
   "source": [
    "w_drive = f\"W:\\\\MIR_AI\"\n",
    "w_image_paths = f\"{w_drive}\\\\images\"\n",
    "w_point_paths = f\"{w_drive}\\\\raw_points\"\n",
    "\n",
    "output_dir = f\"{w_drive}\\\\filtered_points\"\n",
    "os.makedirs(output_dir, exist_ok=True)"
   ],
   "id": "f8088c3c96824b9a",
   "outputs": [],
   "execution_count": null
  },
  {
   "metadata": {},
   "cell_type": "code",
   "source": [
    "qclasses_json = f\"{w_drive}\\\\master_qclasses.json\"\n",
    "qclasses_dict = get_shortcode_longcode_dict(qclasses_json)\n",
    "\n",
    "set(qclasses_dict.values())"
   ],
   "id": "469acbc7fa3397cc",
   "outputs": [],
   "execution_count": null
  },
  {
   "metadata": {},
   "cell_type": "code",
   "source": [
    "w_point_files = glob.glob(w_point_paths + \"\\\\*.csv\")\n",
    "point_file_names = [os.path.basename(f).split(\".csv\")[0] for f in w_point_files]\n",
    "print(f\"Found {len(point_file_names)} point files.\")\n",
    "\n",
    "w_image_folders = glob.glob(w_image_paths + \"\\\\*JPEG\")\n",
    "image_folder_names = [os.path.basename(f).split(\"_JPEG\")[0] for f in w_image_folders]\n",
    "print(f\"Found {len(image_folder_names)} image folders.\")\n",
    "\n",
    "patch_folders = glob.glob(\"B:\\\\CoralNet-Toolbox\\\\Data\\\\MIR_AI\\\\patches\\\\*\")\n",
    "patch_names = [os.path.basename(p) for p in patch_folders]\n",
    "print(f\"Found {len(patch_folders)} patch folders\")"
   ],
   "id": "c247b83e28c95681",
   "outputs": [],
   "execution_count": null
  },
  {
   "metadata": {},
   "cell_type": "code",
   "source": [
    "to_download = list(set(point_file_names) - set(patch_names))\n",
    "len(to_download), to_download"
   ],
   "id": "b10c71e29d68db38",
   "outputs": [],
   "execution_count": null
  },
  {
   "metadata": {},
   "cell_type": "code",
   "source": [
    "for w_point_file in w_point_files:\n",
    "    \n",
    "    df = pd.read_csv(w_point_file)\n",
    "    filtered_df = filter_points_dataframe(df, \n",
    "                                          qclasses_dict,\n",
    "                                          rand_sub_ceil=1.0, \n",
    "                                          reprojection_error=0.01, \n",
    "                                          view_index=10, \n",
    "                                          view_count=5)\n",
    "    \n",
    "    # Output    \n",
    "    output_file = f\"{output_dir}\\\\{os.path.basename(w_point_file)}\"\n",
    "    filtered_df.to_csv(output_file, index=False)\n",
    "    assert os.path.exists(output_file), f\"Output file {output_file} was not created\"\n"
   ],
   "id": "2a130bfdbafa9195",
   "outputs": [],
   "execution_count": null
  },
  {
   "metadata": {},
   "cell_type": "code",
   "source": [
    "patch_folders = glob.glob(\"B:\\\\CoralNet-Toolbox\\\\Data\\\\MIR_AI\\\\patches\\\\*\")\n",
    "patch_names = [os.path.basename(p) + \"_JPEG\" for p in patch_folders]\n",
    "to_delete = [\"W:\\\\MIR_AI\\\\images\\\\\" + p for p in patch_names if os.path.exists(\"W:\\\\MIR_AI\\\\images\\\\\" + p)]\n",
    "\n",
    "len(to_delete), to_delete"
   ],
   "id": "b7012432234083a7",
   "outputs": [],
   "execution_count": null
  },
  {
   "metadata": {},
   "cell_type": "code",
   "source": [
    "import shutil\n",
    "\n",
    "for folder in to_delete:\n",
    "    print(f\"Found {folder}\")\n",
    "    if os.path.exists(folder):\n",
    "        print(\"Deleting \", folder)\n",
    "        shutil.rmtree(folder)\n",
    "    "
   ],
   "id": "e6277ecaebe147b5",
   "outputs": [],
   "execution_count": null
  },
  {
   "metadata": {},
   "cell_type": "code",
   "source": "",
   "id": "a1c0dcda83ef1b10",
   "outputs": [],
   "execution_count": null
  }
 ],
 "metadata": {
  "kernelspec": {
   "display_name": "Python 3",
   "language": "python",
   "name": "python3"
  },
  "language_info": {
   "codemirror_mode": {
    "name": "ipython",
    "version": 2
   },
   "file_extension": ".py",
   "mimetype": "text/x-python",
   "name": "python",
   "nbconvert_exporter": "python",
   "pygments_lexer": "ipython2",
   "version": "2.7.6"
  }
 },
 "nbformat": 4,
 "nbformat_minor": 5
}
