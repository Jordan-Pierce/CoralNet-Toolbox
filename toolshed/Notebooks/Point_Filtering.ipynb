{
 "cells": [
  {
   "cell_type": "code",
   "id": "initial_id",
   "metadata": {
    "collapsed": true,
    "ExecuteTime": {
     "end_time": "2024-05-28T13:30:34.507936Z",
     "start_time": "2024-05-28T13:30:34.502937Z"
    }
   },
   "source": [
    "import os\n",
    "import pandas as pd"
   ],
   "outputs": [],
   "execution_count": 8
  },
  {
   "metadata": {
    "ExecuteTime": {
     "end_time": "2024-05-28T13:51:47.013686Z",
     "start_time": "2024-05-28T13:51:47.005680Z"
    }
   },
   "cell_type": "code",
   "source": [
    "def update_dataframe(df):\n",
    "    \"\"\"\n",
    "    Updates the dataframe with new data points.\n",
    "    :param df: \n",
    "    :return: \n",
    "    \"\"\"\n",
    "    df_ = df.copy()\n",
    "    \n",
    "    # Update the name / path\n",
    "    name = df['Name'].values\n",
    "    name = [os.path.basename(n) for n in name]\n",
    "    \n",
    "    # Update the row and column to be ints\n",
    "    row = df['Row'].values\n",
    "    row = row.astype(int)\n",
    "    col = df['Column'].values\n",
    "    col = col.astype(int)\n",
    "    \n",
    "    df_['Name'] = name\n",
    "    df_['Row'] = row\n",
    "    df_['Column'] = col\n",
    "    \n",
    "    # Drop any nans\n",
    "    df_ = df_.dropna(axis=0, how='any')\n",
    "    \n",
    "    return df_"
   ],
   "id": "31ba155c4f4c49",
   "outputs": [],
   "execution_count": 33
  },
  {
   "metadata": {
    "ExecuteTime": {
     "end_time": "2024-05-28T13:51:50.733062Z",
     "start_time": "2024-05-28T13:51:50.727062Z"
    }
   },
   "cell_type": "code",
   "source": "root = \"W:/MIR_AI/\"",
   "id": "8cdfa702acde0a09",
   "outputs": [],
   "execution_count": 34
  },
  {
   "metadata": {
    "ExecuteTime": {
     "end_time": "2024-05-28T13:51:51.918139Z",
     "start_time": "2024-05-28T13:51:51.263097Z"
    }
   },
   "cell_type": "code",
   "source": [
    "raw_path = \"W:/MIR_AI/raw_points/CHCA_CB-1_2022-06-20.csv\"\n",
    "raw_points = pd.read_csv(raw_path)"
   ],
   "id": "f8088c3c96824b9a",
   "outputs": [],
   "execution_count": 35
  },
  {
   "metadata": {
    "ExecuteTime": {
     "end_time": "2024-05-28T13:51:51.951145Z",
     "start_time": "2024-05-28T13:51:51.921142Z"
    }
   },
   "cell_type": "code",
   "source": [
    "# This might need to be modified depending on experiment design\n",
    "single_points = raw_points[raw_points['ViewIndex'] == 1]\n",
    "single_points_ = update_dataframe(single_points)\n",
    "\n",
    "single_points_['Dot'].unique().shape"
   ],
   "id": "fb4bc320d9cbf06e",
   "outputs": [
    {
     "data": {
      "text/plain": [
       "(2273,)"
      ]
     },
     "execution_count": 36,
     "metadata": {},
     "output_type": "execute_result"
    }
   ],
   "execution_count": 36
  },
  {
   "metadata": {
    "ExecuteTime": {
     "end_time": "2024-05-28T13:51:56.802121Z",
     "start_time": "2024-05-28T13:51:56.361100Z"
    }
   },
   "cell_type": "code",
   "source": [
    "view_thresh = 30\n",
    "\n",
    "multi_points = raw_points[raw_points['ViewIndex'] <= view_thresh]\n",
    "multi_points_ = update_dataframe(multi_points)\n",
    "\n",
    "multi_points['Dot'].unique().shape"
   ],
   "id": "bb0e5e9f7a6a6f44",
   "outputs": [
    {
     "data": {
      "text/plain": [
       "(2479,)"
      ]
     },
     "execution_count": 37,
     "metadata": {},
     "output_type": "execute_result"
    }
   ],
   "execution_count": 37
  },
  {
   "metadata": {
    "ExecuteTime": {
     "end_time": "2024-05-28T13:52:08.369530Z",
     "start_time": "2024-05-28T13:51:58.934432Z"
    }
   },
   "cell_type": "code",
   "source": [
    "# Output the updated dataframes\n",
    "single_points_.to_csv(f\"{root}/single_view/annotations.csv\", index=False)\n",
    "multi_points_.to_csv(f\"{root}/multi_view/annotations.csv\", index=False)"
   ],
   "id": "719efd213a3e58c9",
   "outputs": [],
   "execution_count": 38
  },
  {
   "metadata": {},
   "cell_type": "code",
   "outputs": [],
   "execution_count": null,
   "source": "",
   "id": "5b9e8df266d5b78b"
  }
 ],
 "metadata": {
  "kernelspec": {
   "display_name": "Python 3",
   "language": "python",
   "name": "python3"
  },
  "language_info": {
   "codemirror_mode": {
    "name": "ipython",
    "version": 2
   },
   "file_extension": ".py",
   "mimetype": "text/x-python",
   "name": "python",
   "nbconvert_exporter": "python",
   "pygments_lexer": "ipython2",
   "version": "2.7.6"
  }
 },
 "nbformat": 4,
 "nbformat_minor": 5
}
