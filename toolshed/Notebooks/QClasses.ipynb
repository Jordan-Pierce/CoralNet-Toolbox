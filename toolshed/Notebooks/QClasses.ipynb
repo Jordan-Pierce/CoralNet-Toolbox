{
 "cells": [
  {
   "cell_type": "code",
   "id": "initial_id",
   "metadata": {
    "collapsed": true
   },
   "source": [
    "import os\n",
    "import json\n",
    "import glob\n",
    "from tqdm import tqdm"
   ],
   "outputs": [],
   "execution_count": null
  },
  {
   "metadata": {},
   "cell_type": "code",
   "source": [
    "def merge_json_files(json_files):\n",
    "    \"\"\"\n",
    "    Merge json files into one file.\n",
    "    \n",
    "    :param json_files: \n",
    "    :return: \n",
    "    \"\"\"\n",
    "    # Initialize the master dictionary\n",
    "    master_dict = {}\n",
    "\n",
    "    for i, file_path in tqdm(enumerate(json_files)):\n",
    "        \n",
    "        with open(file_path, 'r') as file:\n",
    "            data = json.load(file)\n",
    "        \n",
    "        if i == 0:\n",
    "            # Use the first file as the base\n",
    "            master_dict = data\n",
    "        else:\n",
    "            # Merge subsequent files\n",
    "            for class_list in data['classlist']:\n",
    "                # For lists, we'll add new items that don't already exist\n",
    "                if class_list not in master_dict['classlist']:\n",
    "                    master_dict['classlist'].append(class_list)\n",
    "                    \n",
    "    # Sort based on index\n",
    "    master_dict['classlist'].sort(key=lambda x: x[0])\n",
    "\n",
    "    return master_dict\n"
   ],
   "id": "ed4ade8d4950e0d8",
   "outputs": [],
   "execution_count": null
  },
  {
   "metadata": {
    "jupyter": {
     "is_executing": true
    }
   },
   "cell_type": "code",
   "source": [
    "root = rf\"W:\\Viscore_Models\\MIR\"\n",
    "files = glob.glob(f\"{root}\\**\\**\\qclasses.json\", recursive=True)\n",
    "len(files)"
   ],
   "id": "9c4cccfac1fe7314",
   "outputs": [],
   "execution_count": null
  },
  {
   "metadata": {},
   "cell_type": "code",
   "source": [
    "# Usage\n",
    "master_json = merge_json_files(files)"
   ],
   "id": "34fcc74e9d2bb0b7",
   "outputs": [],
   "execution_count": null
  },
  {
   "metadata": {},
   "cell_type": "code",
   "source": [
    "# Check\n",
    "master_json"
   ],
   "id": "fabb84f40b83a1e",
   "outputs": [],
   "execution_count": null
  },
  {
   "metadata": {},
   "cell_type": "code",
   "source": [
    "# Write the merged and sorted data to a new JSON file\n",
    "with open('master_qclasses.json', 'w') as outfile:\n",
    "    json.dump(master_json, outfile, indent=1)"
   ],
   "id": "1201646d0a08fde8",
   "outputs": [],
   "execution_count": null
  },
  {
   "metadata": {},
   "cell_type": "code",
   "source": "",
   "id": "4b46fb6d19d07267",
   "outputs": [],
   "execution_count": null
  }
 ],
 "metadata": {
  "kernelspec": {
   "display_name": "Python 3",
   "language": "python",
   "name": "python3"
  },
  "language_info": {
   "codemirror_mode": {
    "name": "ipython",
    "version": 2
   },
   "file_extension": ".py",
   "mimetype": "text/x-python",
   "name": "python",
   "nbconvert_exporter": "python",
   "pygments_lexer": "ipython2",
   "version": "2.7.6"
  }
 },
 "nbformat": 4,
 "nbformat_minor": 5
}
