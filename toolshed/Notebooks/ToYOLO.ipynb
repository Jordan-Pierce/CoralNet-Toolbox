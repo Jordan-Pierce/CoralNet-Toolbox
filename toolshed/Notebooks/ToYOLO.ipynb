{
 "cells": [
  {
   "cell_type": "code",
   "id": "initial_id",
   "metadata": {
    "collapsed": true,
    "ExecuteTime": {
     "end_time": "2024-09-03T15:12:55.438822Z",
     "start_time": "2024-09-03T15:12:55.423195Z"
    }
   },
   "source": [
    "import os\n",
    "import glob\n",
    "import argparse\n",
    "\n",
    "from ..src.ToYOLO import to_yolo"
   ],
   "outputs": [],
   "execution_count": 3
  },
  {
   "metadata": {
    "ExecuteTime": {
     "end_time": "2024-09-03T15:12:56.333724Z",
     "start_time": "2024-09-03T15:12:56.318093Z"
    }
   },
   "cell_type": "code",
   "source": [
    "output_dir = f\"B:\\\\CoralNet-Toolbox\\\\Data\\\\MIR_AI\"\n",
    "\n",
    "patch_folders = glob.glob(f\"{output_dir}\\\\patches\\\\*\")"
   ],
   "id": "a86156e067090aad",
   "outputs": [],
   "execution_count": 4
  },
  {
   "metadata": {
    "ExecuteTime": {
     "end_time": "2024-09-03T15:22:16.913914Z",
     "start_time": "2024-09-03T15:22:16.903913Z"
    }
   },
   "cell_type": "code",
   "source": [
    "args = argparse.Namespace()\n",
    "\n",
    "args.patches = [f\"{patch_folder}/patches.csv\" for patch_folder in patch_folders]\n",
    "args.about = 1000\n",
    "args.even_dist = True\n",
    "args.output_name = \"combined_1000\"\n",
    "args.output_dir = output_dir"
   ],
   "id": "46c608ba854b53ef",
   "outputs": [],
   "execution_count": 12
  },
  {
   "metadata": {
    "ExecuteTime": {
     "end_time": "2024-09-03T15:30:06.060052Z",
     "start_time": "2024-09-03T15:22:17.546513Z"
    }
   },
   "cell_type": "code",
   "source": "to_yolo(args)",
   "id": "129045d9aa3bb0de",
   "outputs": [
    {
     "name": "stdout",
     "output_type": "stream",
     "text": [
      "\n",
      "###############################################\n",
      "To YOLO\n",
      "###############################################\n",
      "\n",
      "NOTE: Found 109 patch files\n",
      "WARNING: Patches dataframe B:\\CoralNet-Toolbox\\Data\\MIR_AI\\patches\\CFN_R9-2_2023-01-11/patches.csv does not exist\n",
      "Class mapping saved to B:\\CoralNet-Toolbox\\Data\\MIR_AI/yolo/combined_1000\\class_mapping.json\n",
      "\n",
      "###############################################\n",
      "Creating Datasets\n",
      "###############################################\n",
      "\n",
      "NOTE: Sampling one of each class category\n",
      "NOTE: Number of classes in training set is 50, N=149328\n",
      "NOTE: Number of classes in validation set is 50, N=18884\n",
      "NOTE: Number of classes in testing set is 50, N=14249\n",
      "NOTE: Data split Figure saved in B:\\CoralNet-Toolbox\\Data\\MIR_AI/yolo/combined_1000\n",
      "NOTE: Copying images to YOLO format...\n",
      "NOTE: YOLO formatted dataset created in B:\\CoralNet-Toolbox\\Data\\MIR_AI/yolo/combined_1000\n"
     ]
    }
   ],
   "execution_count": 13
  },
  {
   "metadata": {},
   "cell_type": "code",
   "source": "",
   "id": "7efe2fbdc2bf52",
   "outputs": [],
   "execution_count": null
  }
 ],
 "metadata": {
  "kernelspec": {
   "display_name": "Python 3",
   "language": "python",
   "name": "python3"
  },
  "language_info": {
   "codemirror_mode": {
    "name": "ipython",
    "version": 2
   },
   "file_extension": ".py",
   "mimetype": "text/x-python",
   "name": "python",
   "nbconvert_exporter": "python",
   "pygments_lexer": "ipython2",
   "version": "2.7.6"
  }
 },
 "nbformat": 4,
 "nbformat_minor": 5
}
