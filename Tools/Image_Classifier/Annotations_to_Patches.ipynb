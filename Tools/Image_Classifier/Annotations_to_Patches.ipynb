{
  "cells": [
    {
      "cell_type": "code",
      "execution_count": null,
      "id": "1b8f506a-31f8-4740-a7ba-c1110c7cd20f",
      "metadata": {},
      "outputs": [],
      "source": [
        "import os\n",
        "import glob\n",
        "\n",
        "import pandas as pd\n",
        "import matplotlib.pyplot as plt\n",
        "from skimage.io import imread, imsave"
      ]
    },
    {
      "cell_type": "code",
      "execution_count": null,
      "id": "4f0b48eb-c4e6-46f9-9e5e-f1f5c64f2d2e",
      "metadata": {},
      "outputs": [],
      "source": [
        "data_root = \"/home/azureuser/cloudfiles/code/Users/jordan.pierce/Data/Guam_Saipan/3361/\"\n",
        "image_path = data_root + \"images/\"\n",
        "label_path = data_root + \"CNet_Annotations.csv\"\n",
        "patch_path = data_root + \"patches/\"\n",
        "\n",
        "os.makedirs(patch_path, exist_ok=True)\n",
        "\n",
        "df = pd.read_csv(label_path)\n",
        "imported_df = df[['Name', 'Row', 'Column', 'Label']]"
      ]
    },
    {
      "cell_type": "code",
      "execution_count": null,
      "id": "007a1ecd",
      "metadata": {},
      "outputs": [],
      "source": [
        "# sampled_df = pd.DataFrame()\n",
        "\n",
        "# for class_category in imported_df['Label'].unique():\n",
        "\n",
        "#     try:\n",
        "#         class_sample = imported_df[imported_df['Label'] == class_category].sample(n=100)\n",
        "#     except:\n",
        "#         class_sample = imported_df[imported_df['Label'] == class_category].sample(n=100, replace=True)\n",
        "        \n",
        "#     sampled_df = pd.concat((sampled_df, class_sample))\n",
        "\n",
        "# sampled_df['Label'].value_counts()"
      ]
    },
    {
      "cell_type": "code",
      "execution_count": null,
      "id": "634b07ea",
      "metadata": {},
      "outputs": [],
      "source": [
        "import concurrent.futures\n",
        "\n",
        "\n",
        "def crop_patch(image, y, x, size=112):\n",
        "    \"\"\"Given an image, and a Y, X location, this function will extract the patch. \n",
        "        Default patch size is 112 x 112\"\"\"\n",
        "\n",
        "    patch = image[abs(size - y) : abs(size + y), abs(size - x) : abs(size + x), :]\n",
        "    \n",
        "    return patch\n",
        "    \n",
        "\n",
        "def process_row(r):\n",
        "\n",
        "    patch_name = \"_\" + r['Label'] + \"_\" + str(r['Row']) + \"_\" + str(r[\"Column\"]) + \".png\"\n",
        "    patch_name = r[\"Name\"].split(\".\")[0] + patch_name\n",
        "    patch_name = patch_path + patch_name\n",
        "\n",
        "    image = image_path + r['Name']\n",
        "    img = imread(image)\n",
        "    patch = crop_patch(img, r['Row'], r['Column'])\n",
        "\n",
        "    try:\n",
        "        if not os.path.exists(patch_name):\n",
        "            imsave(fname=patch_name, arr=patch)\n",
        "        return [r['Name'], r['Label'], patch_name]\n",
        "\n",
        "    except Exception as e:\n",
        "        print(e)\n",
        "        pass\n",
        "\n",
        "    return None\n",
        "\n",
        "\n",
        "with concurrent.futures.ThreadPoolExecutor(max_workers=3) as executor:\n",
        "    \n",
        "    futures = []\n",
        "\n",
        "    for i, r in imported_df.iterrows():\n",
        "\n",
        "        futures.append(executor.submit(process_row, r))\n",
        "\n",
        "\n",
        "    updated_imported_df = []\n",
        "\n",
        "    for future in concurrent.futures.as_completed(futures):\n",
        "        result = future.result()\n",
        "        if result is not None:\n",
        "            updated_imported_df.append(result)\n",
        "\n",
        "    updated_imported_df = pd.DataFrame(updated_imported_df, columns=['Image', 'Label', 'Patch_Name'])\n",
        "    updated_imported_df.to_csv(data_root + \"Updated_CNet_Annotations.csv\")"
      ]
    },
    {
      "cell_type": "code",
      "execution_count": null,
      "id": "b210afaa",
      "metadata": {},
      "outputs": [],
      "source": [
        "updated_imported_df.shape"
      ]
    },
    {
      "cell_type": "code",
      "execution_count": null,
      "id": "f6d7de26",
      "metadata": {},
      "outputs": [],
      "source": []
    }
  ],
  "metadata": {
    "kernel_info": {
      "name": "python3"
    },
    "kernelspec": {
      "display_name": "Python 3 (ipykernel)",
      "language": "python",
      "name": "python3"
    },
    "language_info": {
      "codemirror_mode": {
        "name": "ipython",
        "version": 3
      },
      "file_extension": ".py",
      "mimetype": "text/x-python",
      "name": "python",
      "nbconvert_exporter": "python",
      "pygments_lexer": "ipython3",
      "version": "3.8.16"
    },
    "microsoft": {
      "ms_spell_check": {
        "ms_spell_check_language": "en"
      }
    },
    "nteract": {
      "version": "nteract-front-end@1.0.0"
    },
    "vscode": {
      "interpreter": {
        "hash": "29187d11294c07bea965194f215d76d7c863eddc7d453727fd722f0612a38c27"
      }
    }
  },
  "nbformat": 4,
  "nbformat_minor": 5
}
