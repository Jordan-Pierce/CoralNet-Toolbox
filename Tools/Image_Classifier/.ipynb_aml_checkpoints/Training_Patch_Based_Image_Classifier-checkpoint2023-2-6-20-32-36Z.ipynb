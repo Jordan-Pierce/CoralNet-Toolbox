{
  "cells": [
    {
      "cell_type": "code",
      "source": [
        "import os\n",
        "import glob\n",
        "\n",
        "import warnings\n",
        "warnings.filterwarnings(\"ignore\")\n",
        "\n",
        "import math\n",
        "import numpy as np\n",
        "import pandas as pd\n",
        "from skimage import io\n",
        "import matplotlib.pyplot as plt\n",
        "\n",
        "import tensorflow\n",
        "from tensorflow.keras import backend as K\n",
        "from tensorflow.keras.models import Sequential\n",
        "from tensorflow.keras import optimizers, losses, metrics\n",
        "from tensorflow.keras.layers import Dense, Activation, Dropout\n",
        "from tensorflow.keras.preprocessing.image import ImageDataGenerator\n",
        "from tensorflow.keras.callbacks import ModelCheckpoint, ReduceLROnPlateau, TensorBoard\n",
        "\n",
        "from sklearn.metrics import mean_squared_error\n",
        "from sklearn.model_selection import cross_val_score\n",
        "from sklearn.model_selection import train_test_split\n",
        "from sklearn.metrics import accuracy_score, confusion_matrix, ConfusionMatrixDisplay\n",
        "\n",
        "from imgaug import augmenters as iaa\n"
      ],
      "outputs": [
        {
          "output_type": "stream",
          "name": "stderr",
          "text": "2023-03-06 17:21:55.955779: I tensorflow/core/platform/cpu_feature_guard.cc:193] This TensorFlow binary is optimized with oneAPI Deep Neural Network Library (oneDNN) to use the following CPU instructions in performance-critical operations:  AVX2 FMA\nTo enable them in other operations, rebuild TensorFlow with the appropriate compiler flags.\n2023-03-06 17:21:56.958312: W tensorflow/compiler/xla/stream_executor/platform/default/dso_loader.cc:64] Could not load dynamic library 'libnvinfer.so.7'; dlerror: libnvinfer.so.7: cannot open shared object file: No such file or directory\n2023-03-06 17:21:56.958423: W tensorflow/compiler/xla/stream_executor/platform/default/dso_loader.cc:64] Could not load dynamic library 'libnvinfer_plugin.so.7'; dlerror: libnvinfer_plugin.so.7: cannot open shared object file: No such file or directory\n2023-03-06 17:21:56.958436: W tensorflow/compiler/tf2tensorrt/utils/py_utils.cc:38] TF-TRT Warning: Cannot dlopen some TensorRT libraries. If you would like to use Nvidia GPU with TensorRT, please make sure the missing libraries mentioned above are installed properly.\n"
        }
      ],
      "execution_count": 1,
      "metadata": {
        "gather": {
          "logged": 1678123318301
        }
      }
    },
    {
      "cell_type": "code",
      "source": [
        "def compute_class_weights(df, mu=0.15):\r\n",
        "\r\n",
        "    value_counts = df['Label'].value_counts().to_dict()\r\n",
        "    total = sum(value_counts.values())\r\n",
        "    keys = value_counts.keys()\r\n",
        "\r\n",
        "    class_weight = dict()\r\n",
        "    \r\n",
        "    for key in keys:\r\n",
        "        \r\n",
        "        score = math.log(mu*total/float(value_counts[key]))\r\n",
        "        class_weight[key] = score if score > 1.0 else 1.0\r\n",
        "    \r\n",
        "    return class_weight"
      ],
      "outputs": [],
      "execution_count": 14,
      "metadata": {
        "jupyter": {
          "source_hidden": false,
          "outputs_hidden": false
        },
        "nteract": {
          "transient": {
            "deleting": false
          }
        },
        "gather": {
          "logged": 1678123905949
        }
      }
    },
    {
      "cell_type": "code",
      "source": [
        "coarse_classes = {\n",
        "    'LC_Fol': 'Live_Coral', \n",
        "    'LC_Branch': 'Live_Coral', \n",
        "    'Ar_TA': 'Artificial', \n",
        "    'LC_Por': 'Live_Coral', \n",
        "    'UDC_CCA': 'Dead_Coral', \n",
        "    'Ro_TA': 'Rock', \n",
        "    'Pa_FA': 'Pavement', \n",
        "    'Mu_Ba': 'Mud', \n",
        "    'CR_TA': 'Coral_Rubble', \n",
        "    'Pa_Cy': 'Pavement', \n",
        "    'LC_Encr': 'Live_Coral', \n",
        "    'Sa_Ba': 'Sand', \n",
        "    'Pa_H': 'Pavement', \n",
        "    'Pa_TA': 'Pavement', \n",
        "    'UDC_H': 'Dead_Coral', \n",
        "    'CR_FA': 'Coral_Rubble', \n",
        "    'Ro_CCA': 'Rock', \n",
        "    'Mu_Cy': 'Mud', \n",
        "    'UDC_TA': 'Dead_Coral', \n",
        "    'Sa_Cy': 'Sand', \n",
        "    'UDC_FA': 'Dead_Coral', \n",
        "    'Ro_H': 'Rock', \n",
        "    'Sa_FA': 'Sand', \n",
        "    'Pa_CCA': 'Pavement', \n",
        "    'Ro_Ba': 'Rock', \n",
        "    'Ro_Cy': 'Rock', \n",
        "    'Sa_TA': 'Sand', \n",
        "    'Ar_Ba': 'Artificial', \n",
        "    'UDC_Cy': 'Dead_Coral', \n",
        "    'Ar_FA': 'Artificial', \n",
        "    'CR_CCA': 'Coral_Rubble'\n",
        "}\n",
        "\n",
        "functional_groups = {\n",
        "    'LC_Fol': 'Hard_Coral', \n",
        "    'LC_Branch': 'Hard_Coral', \n",
        "    'Ar_TA': 'Algae', \n",
        "    'LC_Por': 'Hard_Coral', \n",
        "    'UDC_CCA': 'Algae', \n",
        "    'Ro_TA': 'Algae', \n",
        "    'Pa_FA': 'Algae', \n",
        "    'Mu_Ba': 'Algae', \n",
        "    'CR_TA': 'Algae', \n",
        "    'Pa_Cy': 'Other', \n",
        "    'LC_Encr': 'Hard_Coral', \n",
        "    'Sa_Ba': 'Algae', \n",
        "    'Pa_H': 'Algae', \n",
        "    'Pa_TA': 'Algae', \n",
        "    'UDC_H': 'Algae', \n",
        "    'CR_FA': 'Algae', \n",
        "    'Ro_CCA': 'Algae', \n",
        "    'Mu_Cy': 'Other', \n",
        "    'UDC_TA': 'Algae', \n",
        "    'Sa_Cy': 'Other', \n",
        "    'UDC_FA': 'Algae', \n",
        "    'Ro_H': 'Algae', \n",
        "    'Sa_FA': 'Algae', \n",
        "    'Pa_CCA': 'Algae', \n",
        "    'Ro_Ba': 'Algae', \n",
        "    'Ro_Cy': 'Other', \n",
        "    'Sa_TA': 'Algae', \n",
        "    'Ar_Ba': 'Algae', \n",
        "    'UDC_Cy': 'Other', \n",
        "    'Ar_FA': 'Algae', \n",
        "    'CR_CCA': 'Algae'\n",
        "}\n",
        "\n",
        "short_codes = [\n",
        "    'LC_Fol', \n",
        "    'LC_Branch', \n",
        "    'Ar_TA', \n",
        "    'LC_Por', \n",
        "    'UDC_CCA', \n",
        "    'Ro_TA', \n",
        "    'Pa_FA', \n",
        "    'Mu_Ba', \n",
        "    'CR_TA', \n",
        "    'Pa_Cy', \n",
        "    'LC_Encr', \n",
        "    'Sa_Ba', \n",
        "    'Pa_H', \n",
        "    'Pa_TA', \n",
        "    'UDC_H', \n",
        "    'CR_FA', \n",
        "    'Ro_CCA', \n",
        "    'Mu_Cy', \n",
        "    'UDC_TA', \n",
        "    'Sa_Cy', \n",
        "    'UDC_FA', \n",
        "    'Ro_H', \n",
        "    'Sa_FA', \n",
        "    'Pa_CCA', \n",
        "    'Ro_Ba', \n",
        "    'Ro_Cy', \n",
        "    'Sa_TA', \n",
        "    'Ar_Ba', \n",
        "    'UDC_Cy', \n",
        "    'Ar_FA', \n",
        "    'CR_CCA'\n",
        "]"
      ],
      "outputs": [],
      "execution_count": 3,
      "metadata": {
        "gather": {
          "logged": 1678123323182
        }
      }
    },
    {
      "cell_type": "code",
      "source": [
        "DATA_PATH = \"/home/azureuser/cloudfiles/code/Users/jordan.pierce/Data/Guam_Saipan/3653/\"\r\n",
        "assert os.path.exists(DATA_PATH)\r\n",
        "\r\n",
        "EXP_DIR = \"Experiments/\"\r\n",
        "EXP_NAME = \"Short_Codes_With_Weights_Even\"\r\n",
        "EXP_FOLDER = EXP_DIR + EXP_NAME + \"/\"\r\n",
        "WEIGHTS_DIR = EXP_FOLDER + \"Weights/\"\r\n",
        "LOGS_DIR = EXP_FOLDER + \"Logs/\"\r\n",
        "\r\n",
        "weighted = False if \"No_Weights\" in EXP_NAME else True\r\n",
        "\r\n",
        "os.makedirs(EXP_DIR, exist_ok=True)\r\n",
        "os.makedirs(EXP_FOLDER, exist_ok=True)\r\n",
        "os.makedirs(WEIGHTS_DIR, exist_ok=True) \r\n",
        "os.makedirs(LOGS_DIR, exist_ok=True) "
      ],
      "outputs": [],
      "execution_count": 4,
      "metadata": {
        "jupyter": {
          "source_hidden": false,
          "outputs_hidden": false
        },
        "nteract": {
          "transient": {
            "deleting": false
          }
        },
        "gather": {
          "logged": 1678123327948
        }
      }
    },
    {
      "cell_type": "code",
      "source": [
        "data = pd.read_csv(DATA_PATH + \"Updated_CNet_Annotations.csv\", index_col=0)\n",
        "\n",
        "# List of Image Names\n",
        "image_names = data['Image'].unique().tolist()\n",
        "print(\"Number Images: \", len(image_names))\n",
        "\n",
        "if \"Coarse\" in EXP_NAME:\n",
        "    data[\"Label\"].replace(coarse_classes, inplace=True)\n",
        "elif \"Functional\" in EXP_NAME:\n",
        "    data[\"Label\"].replace(functional_groups, inplace=True)\n",
        "else:\n",
        "    pass\n",
        "\n",
        "# All class categories in the dataset\n",
        "class_categories = data['Label'].unique()\n",
        "print(\"Class Categories: \", len(class_categories))\n",
        "\n",
        "# Getting a sample of each class category\n",
        "sample = pd.DataFrame()\n",
        "\n",
        "for category in class_categories:\n",
        "    c = data[data['Label'] == category].sample(n=1)\n",
        "    sample = pd.concat((sample, c))"
      ],
      "outputs": [
        {
          "output_type": "stream",
          "name": "stdout",
          "text": "Number Images:  79\nClass Categories:  31\n"
        }
      ],
      "execution_count": 5,
      "metadata": {
        "gather": {
          "logged": 1678123329790
        }
      }
    },
    {
      "cell_type": "code",
      "source": [
        "threshold_met = False\n",
        "seed = 0\n",
        "\n",
        "while not threshold_met:\n",
        "\n",
        "    # Split the Images into training, validation, and test sets.\n",
        "    training_images, testing_images = train_test_split(image_names, test_size=0.35, random_state=seed)\n",
        "    validation_images, testing_images = train_test_split(testing_images, test_size=0.5, random_state=seed)\n",
        "\n",
        "    train = data[data['Image'].isin(training_images)]\n",
        "    valid = data[data['Image'].isin(validation_images)]\n",
        "    test = data[data['Image'].isin(testing_images)]\n",
        "\n",
        "    train = pd.concat((train, sample))\n",
        "    valid = pd.concat((valid, sample))\n",
        "    test = pd.concat((test, sample))\n",
        "\n",
        "    # Concatenate the three dataframes\n",
        "    combined_df = pd.concat([train, valid, test])\n",
        "\n",
        "    # Calculate class percentages for the combined dataframe\n",
        "    grouped_df = combined_df.groupby(\"Label\")\n",
        "    class_counts = grouped_df.size()\n",
        "    class_percentages_combined = class_counts / len(combined_df) * 100\n",
        "\n",
        "    # Calculate class percentages for each of the three dataframes\n",
        "    grouped_train = train.groupby(\"Label\")\n",
        "    class_counts_train = grouped_train.size()\n",
        "    class_percentages_train = class_counts_train / len(train) * 100\n",
        "\n",
        "    grouped_valid = valid.groupby(\"Label\")\n",
        "    class_counts_valid = grouped_valid.size()\n",
        "    class_percentages_valid = class_counts_valid / len(valid) * 100\n",
        "\n",
        "    grouped_test = test.groupby(\"Label\")\n",
        "    class_counts_test = grouped_test.size()\n",
        "    class_percentages_test = class_counts_test / len(test) * 100\n",
        "\n",
        "    # Calculate mean squared error between class percentages for each pair of dataframes\n",
        "    mse_train_valid = mean_squared_error(class_percentages_train, class_percentages_valid)\n",
        "    mse_train_test = mean_squared_error(class_percentages_train, class_percentages_test)\n",
        "    mse_valid_test = mean_squared_error(class_percentages_valid, class_percentages_test)\n",
        "\n",
        "    # Set the threshold to be the average of the MSE values\n",
        "    threshold = 1.1 * (mse_train_valid + mse_train_test + mse_valid_test) / 3\n",
        "\n",
        "    # Determine if the class distributions are close enough for your use case\n",
        "    if mse_train_valid <= threshold and mse_train_test <= threshold and mse_valid_test <= threshold:\n",
        "\n",
        "        threshold_met = True\n",
        "        print(\"Class distributions are similar between all three dataframes.\")\n",
        "\n",
        "        # Print the MSE values\n",
        "        print(\"MSE between train and valid: {:.4f}\".format(mse_train_valid))\n",
        "        print(\"MSE between train and test: {:.4f}\".format(mse_train_test))\n",
        "        print(\"MSE between valid and test: {:.4f}\".format(mse_valid_test))\n",
        "\n",
        "    else:\n",
        "        seed += 1\n",
        "\n",
        "plt.figure(figsize=(20,10))\n",
        "plt.subplot(1,3,1)\n",
        "plt.title(\"Train: \" + str(len(train)))\n",
        "ax = train['Label'].value_counts().plot(kind='bar')\n",
        "ax.set_xticklabels(class_categories)\n",
        "\n",
        "plt.subplot(1,3,2)\n",
        "plt.title(\"Valid: \" + str(len(valid)))\n",
        "ax = valid['Label'].value_counts().plot(kind='bar')\n",
        "ax.set_xticklabels(class_categories)\n",
        "\n",
        "plt.subplot(1,3,3)\n",
        "plt.title(\"Test: \" + str(len(test)))\n",
        "ax = test['Label'].value_counts().plot(kind='bar')\n",
        "ax.set_xticklabels(class_categories)\n",
        "plt.savefig(EXP_FOLDER + \"DatasetSplit.png\")\n",
        "plt.show()\n",
        "\n",
        "# List of Class Categories\n",
        "class_categories = train['Label'].unique().tolist()\n",
        "print(\"Train Class Categories: \", len(class_categories))\n",
        "print(\"Validation Class Categories: \", len(valid['Label'].unique().tolist()))\n",
        "print(\"Test Class Categories: \", len(test['Label'].unique().tolist()))"
      ],
      "outputs": [
        {
          "output_type": "stream",
          "name": "stdout",
          "text": "Class distributions are similar between all three dataframes.\nMSE between train and valid: 27.8812\nMSE between train and test: 28.2179\nMSE between valid and test: 22.5270\n"
        },
        {
          "output_type": "display_data",
          "data": {
            "text/plain": "<Figure size 2000x1000 with 3 Axes>",
            "image/png": "[encoded data removed]"
          },
          "metadata": {}
        },
        {
          "output_type": "stream",
          "name": "stdout",
          "text": "Train Class Categories:  31\nValidation Class Categories:  31\nTest Class Categories:  31\n"
        }
      ],
      "execution_count": 6,
      "metadata": {
        "gather": {
          "logged": 1678123335291
        }
      }
    },
    {
      "cell_type": "code",
      "source": [
        "# Augmentation methods implemented using imgaug; training augmentations should be \n",
        "# more intense, whereas the validation and testing augmentations should be minimal to none.\n",
        "\n",
        "# Setting the amount of dropout for our model (form of data augmentation)\n",
        "dropout_rate = 0.80\n",
        "\n",
        "augs_for_train = iaa.Sequential([   \n",
        "                          iaa.Resize(224, interpolation = 'linear'),\n",
        "                          iaa.Fliplr(0.5),\n",
        "                          iaa.Flipud(0.5),\n",
        "                          iaa.Rot90([1, 2, 3, 4], True),\n",
        "                          iaa.Sometimes(.3, iaa.Affine(scale = (.95, 1.05))),\n",
        "                          iaa.Sometimes(.1, iaa.Invert(1.0)),\n",
        "                          iaa.Sometimes(.5, iaa.SomeOf((0, 1), \n",
        "                                             [\n",
        "                                                 iaa.MedianBlur(3),\n",
        "                                                 iaa.ChannelShuffle(.7),\n",
        "                                                 iaa.EdgeDetect(.5)\n",
        "                                             ])),\n",
        "\n",
        "                          iaa.Sometimes(.5, iaa.SomeOf((0, 1),\n",
        "                                            [\n",
        "                                                 iaa.Dropout(.2),\n",
        "                                                 iaa.ImpulseNoise(.2),\n",
        "                                                 iaa.SaltAndPepper(.2)\n",
        "                                            ]))\n",
        "                       ])\n",
        "\n",
        "\n",
        "augs_for_valid = iaa.Sequential([iaa.Resize(224, interpolation = 'linear')])"
      ],
      "outputs": [],
      "execution_count": 7,
      "metadata": {
        "gather": {
          "logged": 1678123338848
        }
      }
    },
    {
      "cell_type": "code",
      "source": [
        "# Data generators are made to take the patch file paths currently stored in the dataframes; generators\n",
        "# create an augmentation pipeline so that patches can be read, augmented, and normalized on-the-fly \n",
        "# while training.\n",
        "\n",
        "# Number of epochs to train for\n",
        "num_epochs = 12\n",
        "\n",
        "# Batch size is dependent on the amount of memory available on your machine\n",
        "batch_size = 32\n",
        "\n",
        "# Defines the length of an epoch, all images are used\n",
        "steps_per_epoch_train = len(train)/batch_size\n",
        "steps_per_epoch_valid = len(valid)/batch_size\n",
        "\n",
        "# Learning rate \n",
        "lr = .0001\n",
        "\n",
        "# Training images are augmented, and then normalized\n",
        "train_augmentor = ImageDataGenerator(preprocessing_function = augs_for_train.augment_image)\n",
        "                                     \n",
        "                                                                   \n",
        "# Reading from dataframe\n",
        "train_generator = train_augmentor.flow_from_dataframe(dataframe = train, \n",
        "                                                      directory = None,\n",
        "                                                      x_col = 'Patch_Name', \n",
        "                                                      y_col = 'Label', \n",
        "                                                      target_size = (224, 224), \n",
        "                                                      color_mode = \"rgb\",  \n",
        "                                                      class_mode = 'categorical', \n",
        "                                                      batch_size = batch_size,\n",
        "                                                      shuffle = True, \n",
        "                                                      seed = 42)\n",
        "                                                     \n",
        "# Only normalize images, no augmentation\n",
        "validate_augmentor = ImageDataGenerator( preprocessing_function = augs_for_valid.augment_image)\n",
        "\n",
        "# Reading from dataframe                             \n",
        "validation_generator = validate_augmentor.flow_from_dataframe(dataframe = valid,\n",
        "                                                              directory = None, \n",
        "                                                              x_col = 'Patch_Name', \n",
        "                                                              y_col = 'Label', \n",
        "                                                              target_size = (224, 224), \n",
        "                                                              color_mode = \"rgb\",  \n",
        "                                                              class_mode = 'categorical', \n",
        "                                                              batch_size = batch_size, \n",
        "                                                              shuffle = True, \n",
        "                                                              seed = 42)"
      ],
      "outputs": [
        {
          "output_type": "stream",
          "name": "stdout",
          "text": "Found 18875 validated image filenames belonging to 31 classes.\nFound 6661 validated image filenames belonging to 31 classes.\n"
        }
      ],
      "execution_count": 8,
      "metadata": {
        "scrolled": true,
        "gather": {
          "logged": 1678123648289
        }
      }
    },
    {
      "cell_type": "code",
      "source": [
        "# Now we create the model!\n",
        "\n",
        "convnet = tensorflow.keras.applications.convnext.ConvNeXtTiny(\n",
        "        model_name='convnext_tiny',\n",
        "        include_top=False,\n",
        "        include_preprocessing=True,\n",
        "        weights='imagenet',\n",
        "        input_shape=(224, 224, 3),\n",
        "        pooling='max',\n",
        "        classes=len(class_categories),\n",
        "        classifier_activation='softmax',\n",
        ")\n",
        "\n",
        "model = Sequential([\n",
        "        convnet,\n",
        "        Dropout(dropout_rate),\n",
        "        Dense(len(class_categories)),\n",
        "        Activation('softmax')\n",
        "])\n",
        "\n",
        "# Display the model architecture\n",
        "if True:\n",
        "    model.summary()"
      ],
      "outputs": [
        {
          "output_type": "stream",
          "name": "stderr",
          "text": "2023-03-06 17:27:28.221931: I tensorflow/core/platform/cpu_feature_guard.cc:193] This TensorFlow binary is optimized with oneAPI Deep Neural Network Library (oneDNN) to use the following CPU instructions in performance-critical operations:  AVX2 FMA\nTo enable them in other operations, rebuild TensorFlow with the appropriate compiler flags.\n2023-03-06 17:27:28.862062: I tensorflow/core/common_runtime/gpu/gpu_device.cc:1613] Created device /job:localhost/replica:0/task:0/device:GPU:0 with 10784 MB memory:  -> device: 0, name: Tesla K80, pci bus id: 0001:00:00.0, compute capability: 3.7\n"
        },
        {
          "output_type": "stream",
          "name": "stdout",
          "text": "Model: \"sequential\"\n_________________________________________________________________\n Layer (type)                Output Shape              Param #   \n=================================================================\n convnext_tiny (Functional)  (None, 768)               27820128  \n                                                                 \n dropout (Dropout)           (None, 768)               0         \n                                                                 \n dense (Dense)               (None, 31)                23839     \n                                                                 \n activation (Activation)     (None, 31)                0         \n                                                                 \n=================================================================\nTotal params: 27,843,967\nTrainable params: 27,843,967\nNon-trainable params: 0\n_________________________________________________________________\n"
        }
      ],
      "execution_count": 9,
      "metadata": {
        "gather": {
          "logged": 1678123652996
        }
      }
    },
    {
      "cell_type": "code",
      "source": [
        "# Defining the Recall and Precision metric functions\n",
        "\n",
        "def recall_m(y_true, y_pred):\n",
        "        true_positives = K.sum(K.round(K.clip(y_true * y_pred, 0, 1)))\n",
        "        possible_positives = K.sum(K.round(K.clip(y_true, 0, 1)))\n",
        "        recall = true_positives / (possible_positives + K.epsilon())\n",
        "        return recall\n",
        "\n",
        "def precision_m(y_true, y_pred):\n",
        "        true_positives = K.sum(K.round(K.clip(y_true * y_pred, 0, 1)))\n",
        "        predicted_positives = K.sum(K.round(K.clip(y_pred, 0, 1)))\n",
        "        precision = true_positives / (predicted_positives + K.epsilon())\n",
        "        return precision"
      ],
      "outputs": [],
      "execution_count": 10,
      "metadata": {
        "gather": {
          "logged": 1678123653067
        }
      }
    },
    {
      "cell_type": "code",
      "source": [
        "# Defining training callbacks, such as learning rate, which will reduce after two epochs by %65 if the validation loss \n",
        "# does not decrease. Only the epochs with lower validation loss values will be saved.\n",
        "\n",
        "callbacks = [\n",
        "                 ReduceLROnPlateau(monitor = 'val_loss', factor = .65, patience = 2, verbose = 1),\n",
        "                 \n",
        "                 ModelCheckpoint(filepath = WEIGHTS_DIR + 'model-{epoch:03d}-{acc:03f}-{val_acc:03f}.h5', \n",
        "                                 monitor='val_loss', save_weights_only = True, save_best_only = False, verbose = 1),\n",
        "\n",
        "            ]"
      ],
      "outputs": [],
      "execution_count": 11,
      "metadata": {
        "gather": {
          "logged": 1678123653140
        }
      }
    },
    {
      "cell_type": "code",
      "source": [
        "# sets the loss function, optimizier and metrics, probably don't need to change\n",
        "# except maybe the learing rate \n",
        "\n",
        "model.compile(loss = 'categorical_crossentropy',\n",
        "              optimizer = optimizers.Adam(learning_rate=lr), \n",
        "              metrics=['acc', precision_m, recall_m])"
      ],
      "outputs": [],
      "execution_count": 12,
      "metadata": {
        "gather": {
          "logged": 1678123653214
        }
      }
    },
    {
      "cell_type": "code",
      "source": [
        "# Calculate the class weights, plot and save figure\r\n",
        "if weighted:\r\n",
        "    class_weight = compute_class_weights(train)\r\n",
        "else:\r\n",
        "    class_weight = {c: 1.0 for c in class_categories}\r\n",
        "\r\n",
        "plt.figure(figsize=(30,5))\r\n",
        "plt.bar(class_weight.keys(), class_weight.values())\r\n",
        "plt.title(\"ClassWeight\")\r\n",
        "plt.savefig(EXP_FOLDER + \"ClassWeight.png\")\r\n",
        "plt.show()\r\n",
        "\r\n",
        "# Reformat for model.fit()\r\n",
        "class_weight = {class_categories.index(k): v for (k, v) in class_weight.items()}"
      ],
      "outputs": [
        {
          "output_type": "display_data",
          "data": {
            "text/plain": "<Figure size 3000x500 with 1 Axes>",
            "image/png": "[encoded data removed]"
          },
          "metadata": {}
        }
      ],
      "execution_count": 15,
      "metadata": {
        "jupyter": {
          "source_hidden": false,
          "outputs_hidden": false
        },
        "nteract": {
          "transient": {
            "deleting": false
          }
        },
        "gather": {
          "logged": 1678123913030
        }
      }
    },
    {
      "cell_type": "code",
      "source": [
        "# Train the model, logs the results of the training in history\n",
        "\n",
        "history = model.fit(train_generator, \n",
        "                    steps_per_epoch = steps_per_epoch_train, \n",
        "                    epochs = num_epochs, \n",
        "                    validation_data = validation_generator, \n",
        "                    validation_steps = steps_per_epoch_valid,\n",
        "                    callbacks = callbacks,\n",
        "                    verbose = 1,\n",
        "                    class_weight = class_weight)  "
      ],
      "outputs": [
        {
          "output_type": "stream",
          "name": "stdout",
          "text": "Epoch 1/12\n590/589 [==============================] - ETA: 0s - loss: 9.6397 - acc: 0.2561 - precision_m: 0.4036 - recall_m: 0.1627\b\b\b\b\b\b\b\b\b\b\b\b\b\b\b\b\b\b\b\b\b\b\b\b\b\b\b\b\b\b\b\b\b\b\b\b\b\b\b\b\b\b\b\b\b\b\b\b\b\b\b\b\b\b\b\b\b\b\b\b\b\b\b\b\b\b\b\b\b\b\b\b\b\b\b\b\b\b\b\b\b\b\b\b\b\b\b\b\b\b\b\b\b\b\b\b\b\b\b\b\b\b\b\b\b\b\b\b\b\b\b\b\b\b\b\b\b\b\b\b\b\b\b\b\b\b\b\b\b\b\b\b\nEpoch 1: saving model to Experiments/Short_Codes_With_Weights_Even/Weights/model-001-0.256053-0.417055.h5\n589/589 [==============================] - 1191s 2s/step - loss: 9.6397 - acc: 0.2561 - precision_m: 0.4036 - recall_m: 0.1627 - val_loss: 2.6878 - val_acc: 0.4171 - val_precision_m: 0.5061 - val_recall_m: 0.3561 - lr: 1.0000e-04\nEpoch 2/12\n590/589 [==============================] - ETA: 0s - loss: 4.0057 - acc: 0.5722 - precision_m: 0.7239 - recall_m: 0.4880\b\b\b\b\b\b\b\b\b\b\b\b\b\b\b\b\b\b\b\b\b\b\b\b\b\b\b\b\b\b\b\b\b\b\b\b\b\b\b\b\b\b\b\b\b\b\b\b\b\b\b\b\b\b\b\b\b\b\b\b\b\b\b\b\b\b\b\b\b\b\b\b\b\b\b\b\b\b\b\b\b\b\b\b\b\b\b\b\b\b\b\b\b\b\b\b\b\b\b\b\b\b\b\b\b\b\b\b\b\b\b\b\b\b\b\b\b\b\b\b\b\b\b\b\b\b\nEpoch 2: saving model to Experiments/Short_Codes_With_Weights_Even/Weights/model-002-0.572238-0.413301.h5\n589/589 [==============================] - 1157s 2s/step - loss: 4.0057 - acc: 0.5722 - precision_m: 0.7239 - recall_m: 0.4880 - val_loss: 2.1661 - val_acc: 0.4133 - val_precision_m: 0.5536 - val_recall_m: 0.3618 - lr: 1.0000e-04\nEpoch 3/12\n590/589 [==============================] - ETA: 0s - loss: 2.6705 - acc: 0.6932 - precision_m: 0.8075 - recall_m: 0.6176\b\b\b\b\b\b\b\b\b\b\b\b\b\b\b\b\b\b\b\b\b\b\b\b\b\b\b\b\b\b\b\b\b\b\b\b\b\b\b\b\b\b\b\b\b\b\b\b\b\b\b\b\b\b\b\b\b\b\b\b\b\b\b\b\b\b\b\b\b\b\b\b\b\b\b\b\b\b\b\b\b\b\b\b\b\b\b\b\b\b\b\b\b\b\b\b\b\b\b\b\b\b\b\b\b\b\b\b\b\b\b\b\b\b\b\b\b\b\b\b\b\b\b\b\b\b\nEpoch 3: saving model to Experiments/Short_Codes_With_Weights_Even/Weights/model-003-0.693192-0.443177.h5\n589/589 [==============================] - 1163s 2s/step - loss: 2.6705 - acc: 0.6932 - precision_m: 0.8075 - recall_m: 0.6176 - val_loss: 2.2678 - val_acc: 0.4432 - val_precision_m: 0.5081 - val_recall_m: 0.3903 - lr: 1.0000e-04\nEpoch 4/12\n590/589 [==============================] - ETA: 0s - loss: 2.0958 - acc: 0.7561 - precision_m: 0.8414 - recall_m: 0.6931\b\b\b\b\b\b\b\b\b\b\b\b\b\b\b\b\b\b\b\b\b\b\b\b\b\b\b\b\b\b\b\b\b\b\b\b\b\b\b\b\b\b\b\b\b\b\b\b\b\b\b\b\b\b\b\b\b\b\b\b\b\b\b\b\b\b\b\b\b\b\b\b\b\b\b\b\b\b\b\b\b\b\b\b\b\b\b\b\b\b\b\b\b\b\b\b\b\b\b\b\b\b\b\b\b\b\b\b\b\b\b\b\b\b\b\b\b\b\b\b\b\b\b\b\b\b\nEpoch 4: saving model to Experiments/Short_Codes_With_Weights_Even/Weights/model-004-0.756079-0.455637.h5\n589/589 [==============================] - 1155s 2s/step - loss: 2.0958 - acc: 0.7561 - precision_m: 0.8414 - recall_m: 0.6931 - val_loss: 2.1315 - val_acc: 0.4556 - val_precision_m: 0.5622 - val_recall_m: 0.3678 - lr: 1.0000e-04\nEpoch 5/12\n590/589 [==============================] - ETA: 0s - loss: 1.7705 - acc: 0.7928 - precision_m: 0.8661 - recall_m: 0.7396\b\b\b\b\b\b\b\b\b\b\b\b\b\b\b\b\b\b\b\b\b\b\b\b\b\b\b\b\b\b\b\b\b\b\b\b\b\b\b\b\b\b\b\b\b\b\b\b\b\b\b\b\b\b\b\b\b\b\b\b\b\b\b\b\b\b\b\b\b\b\b\b\b\b\b\b\b\b\b\b\b\b\b\b\b\b\b\b\b\b\b\b\b\b\b\b\b\b\b\b\b\b\b\b\b\b\b\b\b\b\b\b\b\b\b\b\b\b\b\b\b\b\b\b\b\b\nEpoch 5: saving model to Experiments/Short_Codes_With_Weights_Even/Weights/model-005-0.792795-0.414052.h5\n589/589 [==============================] - 1152s 2s/step - loss: 1.7705 - acc: 0.7928 - precision_m: 0.8661 - recall_m: 0.7396 - val_loss: 2.3540 - val_acc: 0.4141 - val_precision_m: 0.4901 - val_recall_m: 0.3214 - lr: 1.0000e-04\nEpoch 6/12\n590/589 [==============================] - ETA: 0s - loss: 1.4944 - acc: 0.8240 - precision_m: 0.8850 - recall_m: 0.7825\b\b\b\b\b\b\b\b\b\b\b\b\b\b\b\b\b\b\b\b\b\b\b\b\b\b\b\b\b\b\b\b\b\b\b\b\b\b\b\b\b\b\b\b\b\b\b\b\b\b\b\b\b\b\b\b\b\b\b\b\b\b\b\b\b\b\b\b\b\b\b\b\b\b\b\b\b\b\b\b\b\b\b\b\b\b\b\b\b\b\b\b\b\b\b\b\b\b\b\b\b\b\b\b\b\b\b\b\b\b\b\b\b\b\b\b\b\b\b\b\b\b\b\b\b\b\nEpoch 6: ReduceLROnPlateau reducing learning rate to 6.499999835796189e-05.\n\nEpoch 6: saving model to Experiments/Short_Codes_With_Weights_Even/Weights/model-006-0.824000-0.490317.h5\n589/589 [==============================] - 1149s 2s/step - loss: 1.4944 - acc: 0.8240 - precision_m: 0.8850 - recall_m: 0.7825 - val_loss: 2.4065 - val_acc: 0.4903 - val_precision_m: 0.5409 - val_recall_m: 0.4330 - lr: 1.0000e-04\nEpoch 7/12\n590/589 [==============================] - ETA: 0s - loss: 1.1552 - acc: 0.8571 - precision_m: 0.9011 - recall_m: 0.8272\b\b\b\b\b\b\b\b\b\b\b\b\b\b\b\b\b\b\b\b\b\b\b\b\b\b\b\b\b\b\b\b\b\b\b\b\b\b\b\b\b\b\b\b\b\b\b\b\b\b\b\b\b\b\b\b\b\b\b\b\b\b\b\b\b\b\b\b\b\b\b\b\b\b\b\b\b\b\b\b\b\b\b\b\b\b\b\b\b\b\b\b\b\b\b\b\b\b\b\b\b\b\b\b\b\b\b\b\b\b\b\b\b\b\b\b\b\b\b\b\b\b\b\b\b\b\nEpoch 7: saving model to Experiments/Short_Codes_With_Weights_Even/Weights/model-007-0.857060-0.503228.h5\n589/589 [==============================] - 1154s 2s/step - loss: 1.1552 - acc: 0.8571 - precision_m: 0.9011 - recall_m: 0.8272 - val_loss: 2.2897 - val_acc: 0.5032 - val_precision_m: 0.5677 - val_recall_m: 0.4539 - lr: 6.5000e-05\nEpoch 8/12\n213/589 [=========>....................] - ETA: 10:00 - loss: 1.0359 - acc: 0.8727 - precision_m: 0.9107 - recall_m: 0.8465\b\b\b\b\b\b\b\b\b\b\b\b\b\b\b\b\b\b\b\b\b\b\b\b\b\b\b\b\b\b\b\b\b\b\b\b\b\b\b\b\b\b\b\b\b\b\b\b\b\b\b\b\b\b\b\b\b\b\b\b\b\b\b\b\b\b\b\b\b\b\b\b\b\b\b\b\b\b\b\b\b\b\b\b\b\b\b\b\b\b\b\b\b\b\b\b\b\b\b\b\b\b\b\b\b\b\b\b\b\b\b\b\b\b\b\b\b\b\b\b\b\b\b\r214/589 [=========>....................] - ETA: 9:58 - loss: 1.0354 - acc: 0.8723 - precision_m: 0.9105 - recall_m: 0.8462 \b\b\b\b\b\b\b\b\b\b\b\b\b\b\b\b\b\b\b\b\b\b\b\b\b\b\b\b\b\b\b\b\b\b\b\b\b\b\b\b\b\b\b\b\b\b\b\b\b\b\b\b\b\b\b\b\b\b\b\b\b\b\b\b\b\b\b\b\b\b\b\b\b\b\b\b\b\b\b\b\b\b\b\b\b\b\b\b\b\b\b\b\b\b\b\b\b\b\b\b\b\b\b\b\b\b\b\b\b\b\b\b\b\b\b\b\b\b\b\b\b\b\r285/589 [=============>................] - ETA: 8:05 - loss: 1.0544 - acc: 0.8697 - precision_m: 0.9081 - recall_m: 0.8423\b\b\b\b\b\b\b\b\b\b\b\b\b\b\b\b\b\b\b\b\b\b\b\b\b\b\b\b\b\b\b\b\b\b\b\b\b\b\b\b\b\b\b\b\b\b\b\b\b\b\b\b\b\b\b\b\b\b\b\b\b\b\b\b\b\b\b\b\b\b\b\b\b\b\b\b\b\b\b\b\b\b\b\b\b\b\b\b\b\b\b\b\b\b\b\b\b\b\b\b\b\b\b\b\b\b\b\b\b\b\b\b\b\b\b\b\b\b\b\b\b\b\r286/589 [=============>................] - ETA: 8:04 - loss: 1.0525 - acc: 0.8698 - precision_m: 0.9082 - recall_m: 0.8424"
        },
        {
          "output_type": "stream",
          "name": "stderr",
          "text": "2023-03-06 17:32:25.961266: I tensorflow/compiler/xla/stream_executor/cuda/cuda_dnn.cc:428] Loaded cuDNN version 8204\n2023-03-06 17:32:26.211210: I tensorflow/tsl/platform/default/subprocess.cc:304] Start cannot spawn child process: No such file or directory\n2023-03-06 17:32:26.607250: I tensorflow/compiler/xla/service/service.cc:173] XLA service 0x7f90f800b760 initialized for platform CUDA (this does not guarantee that XLA will be used). Devices:\n2023-03-06 17:32:26.607290: I tensorflow/compiler/xla/service/service.cc:181]   StreamExecutor device (0): Tesla K80, Compute Capability 3.7\n2023-03-06 17:32:26.648413: I tensorflow/tsl/platform/default/subprocess.cc:304] Start cannot spawn child process: No such file or directory\n2023-03-06 17:32:26.843583: I tensorflow/compiler/jit/xla_compilation_cache.cc:477] Compiled cluster using XLA!  This line is logged at most once for the lifetime of the process.\n2023-03-06 17:32:28.791115: I tensorflow/compiler/mlir/tensorflow/utils/dump_mlir_util.cc:268] disabling MLIR crash reproducer, set env var `MLIR_CRASH_REPRODUCER_DIRECTORY` to enable.\n"
        }
      ],
      "execution_count": 16,
      "metadata": {
        "gather": {
          "logged": 1678123005011
        }
      }
    },
    {
      "cell_type": "code",
      "source": [
        "# After training, loads the best weights\n",
        "weights = sorted(glob.glob(WEIGHTS_DIR + \"*.h5\"), key=os.path.getmtime)\n",
        "[print(w, i) for i, w in enumerate(weights)];"
      ],
      "outputs": [],
      "execution_count": null,
      "metadata": {
        "gather": {
          "logged": 1678123013273
        }
      }
    },
    {
      "cell_type": "code",
      "source": [
        "# Reads from dataframe for test set\n",
        "test_generator = validate_augmentor.flow_from_dataframe(dataframe=test, \n",
        "                                                        x_col = 'Patch_Name', \n",
        "                                                        y_col = 'Label', \n",
        "                                                        target_size = (224, 224), \n",
        "                                                        color_mode = \"rgb\",  \n",
        "                                                        class_mode = 'categorical', \n",
        "                                                        batch_size = batch_size, \n",
        "                                                        shuffle = False, \n",
        "                                                        seed = 42)\n",
        "# Defines the length of an epoch\n",
        "steps_per_epoch_test = len(data)//1"
      ],
      "outputs": [],
      "execution_count": null,
      "metadata": {
        "gather": {
          "logged": 1678123089795
        }
      }
    },
    {
      "cell_type": "code",
      "source": [
        "best_weights = weights[2]\r\n",
        "print(\"Best Weights: \", best_weights)\r\n",
        "model.load_weights(best_weights)"
      ],
      "outputs": [],
      "execution_count": null,
      "metadata": {
        "jupyter": {
          "source_hidden": false,
          "outputs_hidden": false
        },
        "nteract": {
          "transient": {
            "deleting": false
          }
        },
        "gather": {
          "logged": 1678123033347
        }
      }
    },
    {
      "cell_type": "code",
      "source": [
        "# Provides a confusion matrix of the results\n",
        "# Results, stores predictions for thresholding\n",
        "predictions = model.predict_generator(test_generator, steps = steps_per_epoch_test)\n",
        "predict_classes = np.argmax(predictions, axis = 1)\n",
        "test_y = test_generator.classes\n",
        "\n",
        "print(\"# of images:\", len(predict_classes))\n",
        "cm = confusion_matrix(y_true = test_y, y_pred = predict_classes)\n",
        "disp = ConfusionMatrixDisplay(confusion_matrix=cm,\n",
        "                              display_labels=class_categories)\n",
        "\n",
        "overall_accuracy = accuracy_score(y_true = test_y,\n",
        "                                  y_pred = predict_classes)\n",
        "\n",
        "class_accuracy = cm.diagonal()/cm.sum(axis=1)\n",
        "class_accuracy = dict(zip(class_categories, class_accuracy))\n",
        "\n",
        "df = pd.DataFrame(list(zip(class_accuracy.keys(), class_accuracy.values())),\n",
        "                  columns=['Class', 'Accuracy'])\n",
        "\n",
        "df.to_csv(EXP_FOLDER + \"ClassAccuracy.csv\")\n",
        "\n",
        "fig, ax = plt.subplots(figsize=(30, 30))\n",
        "plt.title(\"Overall Accuracy :\" + str(overall_accuracy))\n",
        "disp.plot(ax=ax)\n",
        "plt.savefig(EXP_FOLDER + \"ConfusionMatrix.png\")\n",
        "print(\"Class Accuracy: \", df)"
      ],
      "outputs": [],
      "execution_count": null,
      "metadata": {
        "gather": {
          "logged": 1678123248258
        }
      }
    },
    {
      "cell_type": "code",
      "source": [
        "# Higher values represents more sure/confident predictions\n",
        "# .1 unsure -> .5 pretty sure -> .9 very sure\n",
        "\n",
        "# Creating a graph of the threshold values and the accuracy\n",
        "# useful for determing how sure the model is when making predictions\n",
        "\n",
        "threshold_values = np.arange(0.0, 1.0, 0.05)\n",
        "class_ACC = []\n",
        "\n",
        "for threshold in threshold_values:\n",
        "    sure_index = []\n",
        "\n",
        "    for i in range(0, len(predictions)):\n",
        "        if( (sorted(predictions[i])[-1]) - (sorted(predictions[i])[-2]) > threshold):\n",
        "            sure_index.append(i)\n",
        "\n",
        "    sure_test_y = np.take(test_y, sure_index, axis = 0)\n",
        "    sure_pred_y = np.take(predict_classes, sure_index)\n",
        "\n",
        "    class_ACC.append(accuracy_score(sure_test_y, sure_pred_y)) \n",
        "\n",
        "plt.figure(figsize=(10, 5))\n",
        "plt.plot(threshold_values, class_ACC)\n",
        "plt.xlabel('Threshold Values')\n",
        "plt.xlim([0, 1])\n",
        "plt.xticks(ticks = np.arange(0, 1.05, 0.1))\n",
        "plt.ylabel('Classification Accuracy')\n",
        "plt.title('Identifying the ideal threshold value')\n",
        "plt.savefig(EXP_FOLDER + \"AccuracyThreshold.png\")\n",
        "plt.show()"
      ],
      "outputs": [],
      "execution_count": null,
      "metadata": {
        "gather": {
          "logged": 1678123248436
        }
      }
    },
    {
      "cell_type": "code",
      "source": [
        "model.save(WEIGHTS_DIR + \"Best_Model_and_Weights.h5\")"
      ],
      "outputs": [],
      "execution_count": null,
      "metadata": {
        "gather": {
          "logged": 1678123250217
        }
      }
    },
    {
      "cell_type": "code",
      "source": [],
      "outputs": [],
      "execution_count": null,
      "metadata": {
        "jupyter": {
          "source_hidden": false,
          "outputs_hidden": false
        },
        "nteract": {
          "transient": {
            "deleting": false
          }
        }
      }
    }
  ],
  "metadata": {
    "kernel_info": {
      "name": "coralnet"
    },
    "kernelspec": {
      "name": "coralnet",
      "language": "python",
      "display_name": "CoralNet"
    },
    "language_info": {
      "name": "python",
      "version": "3.8.16",
      "mimetype": "text/x-python",
      "codemirror_mode": {
        "name": "ipython",
        "version": 3
      },
      "pygments_lexer": "ipython3",
      "nbconvert_exporter": "python",
      "file_extension": ".py"
    },
    "microsoft": {
      "ms_spell_check": {
        "ms_spell_check_language": "en"
      },
      "host": {
        "AzureML": {
          "notebookHasBeenCompleted": true
        }
      }
    },
    "nteract": {
      "version": "nteract-front-end@1.0.0"
    },
    "vscode": {
      "interpreter": {
        "hash": "29187d11294c07bea965194f215d76d7c863eddc7d453727fd722f0612a38c27"
      }
    }
  },
  "nbformat": 4,
  "nbformat_minor": 2
}