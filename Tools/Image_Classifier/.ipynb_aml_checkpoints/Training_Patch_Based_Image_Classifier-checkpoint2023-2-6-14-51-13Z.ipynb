{
  "cells": [
    {
      "cell_type": "code",
      "source": [
        "import os\n",
        "import glob\n",
        "\n",
        "import warnings\n",
        "warnings.filterwarnings(\"ignore\")\n",
        "\n",
        "import numpy as np\n",
        "import pandas as pd\n",
        "from skimage import io\n",
        "import matplotlib.pyplot as plt\n",
        "\n",
        "import tensorflow\n",
        "from tensorflow.keras import backend as K\n",
        "from tensorflow.keras.models import Sequential\n",
        "from tensorflow.keras import optimizers, losses, metrics\n",
        "from tensorflow.keras.layers import Dense, Activation, Dropout\n",
        "from tensorflow.keras.preprocessing.image import ImageDataGenerator\n",
        "from tensorflow.keras.callbacks import ModelCheckpoint, ReduceLROnPlateau, TensorBoard\n",
        "\n",
        "from sklearn.metrics import mean_squared_error\n",
        "from sklearn.model_selection import cross_val_score\n",
        "from sklearn.model_selection import train_test_split\n",
        "from sklearn.metrics import accuracy_score, confusion_matrix, ConfusionMatrixDisplay\n",
        "\n",
        "from imgaug import augmenters as iaa\n"
      ],
      "outputs": [
        {
          "output_type": "stream",
          "name": "stderr",
          "text": "2023-03-06 04:52:52.602445: I tensorflow/core/platform/cpu_feature_guard.cc:193] This TensorFlow binary is optimized with oneAPI Deep Neural Network Library (oneDNN) to use the following CPU instructions in performance-critical operations:  AVX2 FMA\nTo enable them in other operations, rebuild TensorFlow with the appropriate compiler flags.\n2023-03-06 04:52:53.595437: W tensorflow/compiler/xla/stream_executor/platform/default/dso_loader.cc:64] Could not load dynamic library 'libnvinfer.so.7'; dlerror: libnvinfer.so.7: cannot open shared object file: No such file or directory\n2023-03-06 04:52:53.595546: W tensorflow/compiler/xla/stream_executor/platform/default/dso_loader.cc:64] Could not load dynamic library 'libnvinfer_plugin.so.7'; dlerror: libnvinfer_plugin.so.7: cannot open shared object file: No such file or directory\n2023-03-06 04:52:53.595559: W tensorflow/compiler/tf2tensorrt/utils/py_utils.cc:38] TF-TRT Warning: Cannot dlopen some TensorRT libraries. If you would like to use Nvidia GPU with TensorRT, please make sure the missing libraries mentioned above are installed properly.\n"
        }
      ],
      "execution_count": 1,
      "metadata": {
        "gather": {
          "logged": 1678078374724
        }
      }
    },
    {
      "cell_type": "code",
      "source": [
        "def compute_class_weights(df):\r\n",
        "\r\n",
        "    # Get the frequency of each class\r\n",
        "    class_counts = df['Label'].value_counts()\r\n",
        "    \r\n",
        "    # Compute the inverse frequency of each class\r\n",
        "    inv_freq = np.max(class_counts) / class_counts\r\n",
        "    \r\n",
        "    # Normalize the weights to be between 0 and 1\r\n",
        "    class_weights = inv_freq / np.sum(inv_freq)\r\n",
        "    \r\n",
        "    return class_weights.to_dict()"
      ],
      "outputs": [],
      "execution_count": 2,
      "metadata": {
        "jupyter": {
          "source_hidden": false,
          "outputs_hidden": false
        },
        "nteract": {
          "transient": {
            "deleting": false
          }
        },
        "gather": {
          "logged": 1678078374932
        }
      }
    },
    {
      "cell_type": "code",
      "source": [
        "coarse_classes = {\n",
        "    'LC_Fol': 'Live_Coral', \n",
        "    'LC_Branch': 'Live_Coral', \n",
        "    'Ar_TA': 'Artificial', \n",
        "    'LC_Por': 'Live_Coral', \n",
        "    'UDC_CCA': 'Dead_Coral', \n",
        "    'Ro_TA': 'Rock', \n",
        "    'Pa_FA': 'Pavement', \n",
        "    'Mu_Ba': 'Mud', \n",
        "    'CR_TA': 'Coral_Rubble', \n",
        "    'Pa_Cy': 'Pavement', \n",
        "    'LC_Encr': 'Live_Coral', \n",
        "    'Sa_Ba': 'Sand', \n",
        "    'Pa_H': 'Pavement', \n",
        "    'Pa_TA': 'Pavement', \n",
        "    'UDC_H': 'Dead_Coral', \n",
        "    'CR_FA': 'Coral_Rubble', \n",
        "    'Ro_CCA': 'Rock', \n",
        "    'Mu_Cy': 'Mud', \n",
        "    'UDC_TA': 'Dead_Coral', \n",
        "    'Sa_Cy': 'Sand', \n",
        "    'UDC_FA': 'Dead_Coral', \n",
        "    'Ro_H': 'Rock', \n",
        "    'Sa_FA': 'Sand', \n",
        "    'Pa_CCA': 'Pavement', \n",
        "    'Ro_Ba': 'Rock', \n",
        "    'Ro_Cy': 'Rock', \n",
        "    'Sa_TA': 'Sand', \n",
        "    'Ar_Ba': 'Artificial', \n",
        "    'UDC_Cy': 'Dead_Coral', \n",
        "    'Ar_FA': 'Artificial', \n",
        "    'CR_CCA': 'Coral_Rubble'\n",
        "}\n",
        "\n",
        "functional_groups = {\n",
        "    'LC_Fol': 'Hard_Coral', \n",
        "    'LC_Branch': 'Hard_Coral', \n",
        "    'Ar_TA': 'Algae', \n",
        "    'LC_Por': 'Hard_Coral', \n",
        "    'UDC_CCA': 'Algae', \n",
        "    'Ro_TA': 'Algae', \n",
        "    'Pa_FA': 'Algae', \n",
        "    'Mu_Ba': 'Algae', \n",
        "    'CR_TA': 'Algae', \n",
        "    'Pa_Cy': 'Other', \n",
        "    'LC_Encr': 'Hard_Coral', \n",
        "    'Sa_Ba': 'Algae', \n",
        "    'Pa_H': 'Algae', \n",
        "    'Pa_TA': 'Algae', \n",
        "    'UDC_H': 'Algae', \n",
        "    'CR_FA': 'Algae', \n",
        "    'Ro_CCA': 'Algae', \n",
        "    'Mu_Cy': 'Other', \n",
        "    'UDC_TA': 'Algae', \n",
        "    'Sa_Cy': 'Other', \n",
        "    'UDC_FA': 'Algae', \n",
        "    'Ro_H': 'Algae', \n",
        "    'Sa_FA': 'Algae', \n",
        "    'Pa_CCA': 'Algae', \n",
        "    'Ro_Ba': 'Algae', \n",
        "    'Ro_Cy': 'Other', \n",
        "    'Sa_TA': 'Algae', \n",
        "    'Ar_Ba': 'Algae', \n",
        "    'UDC_Cy': 'Other', \n",
        "    'Ar_FA': 'Algae', \n",
        "    'CR_CCA': 'Algae'\n",
        "}\n",
        "\n",
        "short_codes = [\n",
        "    'LC_Fol', \n",
        "    'LC_Branch', \n",
        "    'Ar_TA', \n",
        "    'LC_Por', \n",
        "    'UDC_CCA', \n",
        "    'Ro_TA', \n",
        "    'Pa_FA', \n",
        "    'Mu_Ba', \n",
        "    'CR_TA', \n",
        "    'Pa_Cy', \n",
        "    'LC_Encr', \n",
        "    'Sa_Ba', \n",
        "    'Pa_H', \n",
        "    'Pa_TA', \n",
        "    'UDC_H', \n",
        "    'CR_FA', \n",
        "    'Ro_CCA', \n",
        "    'Mu_Cy', \n",
        "    'UDC_TA', \n",
        "    'Sa_Cy', \n",
        "    'UDC_FA', \n",
        "    'Ro_H', \n",
        "    'Sa_FA', \n",
        "    'Pa_CCA', \n",
        "    'Ro_Ba', \n",
        "    'Ro_Cy', \n",
        "    'Sa_TA', \n",
        "    'Ar_Ba', \n",
        "    'UDC_Cy', \n",
        "    'Ar_FA', \n",
        "    'CR_CCA'\n",
        "]"
      ],
      "outputs": [],
      "execution_count": 3,
      "metadata": {
        "gather": {
          "logged": 1678078375044
        }
      }
    },
    {
      "cell_type": "code",
      "source": [
        "DATA_PATH = \"/home/azureuser/cloudfiles/code/Users/jordan.pierce/Data/Guam_Saipan/3653/\"\r\n",
        "assert os.path.exists(DATA_PATH)\r\n",
        "\r\n",
        "EXP_DIR = \"Experiments/\"\r\n",
        "EXP_NAME = \"Short_Codes_No_Weights_Even\"\r\n",
        "EXP_FOLDER = EXP_DIR + EXP_NAME + \"/\"\r\n",
        "WEIGHTS_DIR = EXP_FOLDER + \"Weights/\"\r\n",
        "LOGS_DIR = EXP_FOLDER + \"Logs/\"\r\n",
        "\r\n",
        "weighted = False if \"No_Weights\" in EXP_NAME else True\r\n",
        "\r\n",
        "os.makedirs(EXP_DIR, exist_ok=True)\r\n",
        "os.makedirs(EXP_FOLDER, exist_ok=True)\r\n",
        "os.makedirs(WEIGHTS_DIR, exist_ok=True) \r\n",
        "os.makedirs(LOGS_DIR, exist_ok=True) "
      ],
      "outputs": [],
      "execution_count": 4,
      "metadata": {
        "jupyter": {
          "source_hidden": false,
          "outputs_hidden": false
        },
        "nteract": {
          "transient": {
            "deleting": false
          }
        },
        "gather": {
          "logged": 1678078375134
        }
      }
    },
    {
      "cell_type": "code",
      "source": [
        "data = pd.read_csv(DATA_PATH + \"Updated_CNet_Annotations.csv\", index_col=0)\n",
        "\n",
        "# List of Image Names\n",
        "image_names = data['Image'].unique().tolist()\n",
        "print(\"Number Images: \", len(image_names))\n",
        "\n",
        "if \"Coarse\" in EXP_NAME:\n",
        "    data[\"Label\"].replace(coarse_classes, inplace=True)\n",
        "elif \"Functional\" in EXP_NAME:\n",
        "    data[\"Label\"].replace(functional_groups, inplace=True)\n",
        "else:\n",
        "    pass\n",
        "\n",
        "# All class categories in the dataset\n",
        "class_categories = data['Label'].unique()\n",
        "print(\"Class Categories: \", len(class_categories))\n",
        "\n",
        "# Getting a sample of each class category\n",
        "sample = pd.DataFrame()\n",
        "\n",
        "for category in class_categories:\n",
        "    c = data[data['Label'] == category].sample(n=1)\n",
        "    sample = pd.concat((sample, c))"
      ],
      "outputs": [
        {
          "output_type": "stream",
          "name": "stdout",
          "text": "Number Images:  79\nClass Categories:  31\n"
        }
      ],
      "execution_count": 5,
      "metadata": {
        "gather": {
          "logged": 1678078379597
        }
      }
    },
    {
      "cell_type": "code",
      "source": [
        "threshold_met = False\n",
        "seed = 0\n",
        "\n",
        "while not threshold_met:\n",
        "\n",
        "    # Split the Images into training, validation, and test sets.\n",
        "    training_images, testing_images = train_test_split(image_names, test_size=0.4, random_state=seed)\n",
        "    validation_images, testing_images = train_test_split(testing_images, test_size=0.5, random_state=seed)\n",
        "\n",
        "    train = data[data['Image'].isin(training_images)]\n",
        "    valid = data[data['Image'].isin(validation_images)]\n",
        "    test = data[data['Image'].isin(testing_images)]\n",
        "\n",
        "    train = pd.concat((train, sample))\n",
        "    valid = pd.concat((valid, sample))\n",
        "    test = pd.concat((test, sample))\n",
        "\n",
        "    # Concatenate the three dataframes\n",
        "    combined_df = pd.concat([train, valid, test])\n",
        "\n",
        "    # Calculate class percentages for the combined dataframe\n",
        "    grouped_df = combined_df.groupby(\"Label\")\n",
        "    class_counts = grouped_df.size()\n",
        "    class_percentages_combined = class_counts / len(combined_df) * 100\n",
        "\n",
        "    # Calculate class percentages for each of the three dataframes\n",
        "    grouped_train = train.groupby(\"Label\")\n",
        "    class_counts_train = grouped_train.size()\n",
        "    class_percentages_train = class_counts_train / len(train) * 100\n",
        "\n",
        "    grouped_valid = valid.groupby(\"Label\")\n",
        "    class_counts_valid = grouped_valid.size()\n",
        "    class_percentages_valid = class_counts_valid / len(valid) * 100\n",
        "\n",
        "    grouped_test = test.groupby(\"Label\")\n",
        "    class_counts_test = grouped_test.size()\n",
        "    class_percentages_test = class_counts_test / len(test) * 100\n",
        "\n",
        "    # Calculate mean squared error between class percentages for each pair of dataframes\n",
        "    mse_train_valid = mean_squared_error(class_percentages_train, class_percentages_valid)\n",
        "    mse_train_test = mean_squared_error(class_percentages_train, class_percentages_test)\n",
        "    mse_valid_test = mean_squared_error(class_percentages_valid, class_percentages_test)\n",
        "\n",
        "    # Set the threshold to be the average of the MSE values\n",
        "    threshold = 1.1 * (mse_train_valid + mse_train_test + mse_valid_test) / 3\n",
        "\n",
        "    # Determine if the class distributions are close enough for your use case\n",
        "    if mse_train_valid <= threshold and mse_train_test <= threshold and mse_valid_test <= threshold:\n",
        "\n",
        "        threshold_met = True\n",
        "        print(\"Class distributions are similar between all three dataframes.\")\n",
        "\n",
        "        # Print the MSE values\n",
        "        print(\"MSE between train and valid: {:.4f}\".format(mse_train_valid))\n",
        "        print(\"MSE between train and test: {:.4f}\".format(mse_train_test))\n",
        "        print(\"MSE between valid and test: {:.4f}\".format(mse_valid_test))\n",
        "\n",
        "    else:\n",
        "        seed += 1\n",
        "\n",
        "plt.figure(figsize=(20,10))\n",
        "plt.subplot(1,3,1)\n",
        "plt.title(\"Train: \" + str(len(train)))\n",
        "ax = train['Label'].value_counts().plot(kind='bar')\n",
        "ax.set_xticklabels(class_categories)\n",
        "\n",
        "plt.subplot(1,3,2)\n",
        "plt.title(\"Valid: \" + str(len(valid)))\n",
        "ax = valid['Label'].value_counts().plot(kind='bar')\n",
        "ax.set_xticklabels(class_categories)\n",
        "\n",
        "plt.subplot(1,3,3)\n",
        "plt.title(\"Test: \" + str(len(test)))\n",
        "ax = test['Label'].value_counts().plot(kind='bar')\n",
        "ax.set_xticklabels(class_categories)\n",
        "plt.savefig(EXP_FOLDER + \"DatasetSplit.png\")\n",
        "plt.show()\n",
        "\n",
        "# List of Class Categories\n",
        "class_categories = train['Label'].unique().tolist()\n",
        "print(\"Train Class Categories: \", len(class_categories))\n",
        "print(\"Validation Class Categories: \", len(valid['Label'].unique().tolist()))\n",
        "print(\"Test Class Categories: \", len(test['Label'].unique().tolist()))"
      ],
      "outputs": [
        {
          "output_type": "stream",
          "name": "stdout",
          "text": "Class distributions are similar between all three dataframes.\nMSE between train and valid: 20.9991\nMSE between train and test: 21.6089\nMSE between valid and test: 18.0166\n"
        },
        {
          "output_type": "display_data",
          "data": {
            "text/plain": "<Figure size 2000x1000 with 3 Axes>",
            "image/png": "[encoded data removed]"
          },
          "metadata": {}
        },
        {
          "output_type": "stream",
          "name": "stdout",
          "text": "Train Class Categories:  31\nValidation Class Categories:  31\nTest Class Categories:  31\n"
        }
      ],
      "execution_count": 6,
      "metadata": {
        "gather": {
          "logged": 1678078384832
        }
      }
    },
    {
      "cell_type": "code",
      "source": [
        "# Augmentation methods implemented using imgaug; training augmentations should be \n",
        "# more intense, whereas the validation and testing augmentations should be minimal to none.\n",
        "\n",
        "# Setting the amount of dropout for our model (form of data augmentation)\n",
        "dropout_rate = 0.80\n",
        "\n",
        "augs_for_train = iaa.Sequential([   \n",
        "                          iaa.Resize(224, interpolation = 'linear'),\n",
        "                          iaa.Fliplr(0.5),\n",
        "                          iaa.Flipud(0.5),\n",
        "                          iaa.Rot90([1, 2, 3, 4], True),\n",
        "                          iaa.Sometimes(.3, iaa.Affine(scale = (.95, 1.05))),\n",
        "                          iaa.Sometimes(.1, iaa.Invert(1.0)),\n",
        "                          iaa.Sometimes(.5, iaa.SomeOf((0, 1), \n",
        "                                             [\n",
        "                                                 iaa.MedianBlur(3),\n",
        "                                                 iaa.ChannelShuffle(.7),\n",
        "                                                 iaa.EdgeDetect(.5)\n",
        "                                             ])),\n",
        "\n",
        "                          iaa.Sometimes(.5, iaa.SomeOf((0, 1),\n",
        "                                            [\n",
        "                                                 iaa.Dropout(.2),\n",
        "                                                 iaa.ImpulseNoise(.2),\n",
        "                                                 iaa.SaltAndPepper(.2)\n",
        "                                            ]))\n",
        "                       ])\n",
        "\n",
        "\n",
        "augs_for_valid = iaa.Sequential([iaa.Resize(224, interpolation = 'linear')])"
      ],
      "outputs": [],
      "execution_count": 7,
      "metadata": {
        "gather": {
          "logged": 1678078408996
        }
      }
    },
    {
      "cell_type": "code",
      "source": [
        "# Data generators are made to take the patch file paths currently stored in the dataframes; generators\n",
        "# create an augmentation pipeline so that patches can be read, augmented, and normalized on-the-fly \n",
        "# while training.\n",
        "\n",
        "# Number of epochs to train for\n",
        "num_epochs = 12\n",
        "\n",
        "# Batch size is dependent on the amount of memory available on your machine\n",
        "batch_size = 32\n",
        "\n",
        "# Defines the length of an epoch, all images are used\n",
        "steps_per_epoch_train = len(train)/batch_size\n",
        "steps_per_epoch_valid = len(valid)/batch_size\n",
        "\n",
        "# Learning rate \n",
        "lr = .0001\n",
        "\n",
        "# Training images are augmented, and then normalized\n",
        "train_augmentor = ImageDataGenerator(preprocessing_function = augs_for_train.augment_image)\n",
        "                                     \n",
        "                                                                   \n",
        "# Reading from dataframe\n",
        "train_generator = train_augmentor.flow_from_dataframe(dataframe = train, \n",
        "                                                      directory = None,\n",
        "                                                      x_col = 'Patch_Name', \n",
        "                                                      y_col = 'Label', \n",
        "                                                      target_size = (224, 224), \n",
        "                                                      color_mode = \"rgb\",  \n",
        "                                                      class_mode = 'categorical', \n",
        "                                                      batch_size = batch_size,\n",
        "                                                      shuffle = True, \n",
        "                                                      seed = 42)\n",
        "                                                     \n",
        "# Only normalize images, no augmentation\n",
        "validate_augmentor = ImageDataGenerator( preprocessing_function = augs_for_valid.augment_image)\n",
        "\n",
        "# Reading from dataframe                             \n",
        "validation_generator = validate_augmentor.flow_from_dataframe(dataframe = valid,\n",
        "                                                              directory = None, \n",
        "                                                              x_col = 'Patch_Name', \n",
        "                                                              y_col = 'Label', \n",
        "                                                              target_size = (224, 224), \n",
        "                                                              color_mode = \"rgb\",  \n",
        "                                                              class_mode = 'categorical', \n",
        "                                                              batch_size = batch_size, \n",
        "                                                              shuffle = True, \n",
        "                                                              seed = 42)"
      ],
      "outputs": [
        {
          "output_type": "stream",
          "name": "stdout",
          "text": "Found 19804 validated image filenames belonging to 31 classes.\nFound 5424 validated image filenames belonging to 31 classes.\n"
        }
      ],
      "execution_count": 8,
      "metadata": {
        "scrolled": true,
        "gather": {
          "logged": 1678078710076
        }
      }
    },
    {
      "cell_type": "code",
      "source": [
        "# Now we create the model!\n",
        "\n",
        "convnet = tensorflow.keras.applications.convnext.ConvNeXtTiny(\n",
        "        model_name='convnext_tiny',\n",
        "        include_top=False,\n",
        "        include_preprocessing=True,\n",
        "        weights='imagenet',\n",
        "        input_shape=(224, 224, 3),\n",
        "        pooling='max',\n",
        "        classes=len(class_categories),\n",
        "        classifier_activation='softmax',\n",
        ")\n",
        "\n",
        "model = Sequential([\n",
        "        convnet,\n",
        "        Dropout(dropout_rate),\n",
        "        Dense(len(class_categories)),\n",
        "        Activation('softmax')\n",
        "])\n",
        "\n",
        "# Display the model architecture\n",
        "if True:\n",
        "    model.summary()"
      ],
      "outputs": [
        {
          "output_type": "stream",
          "name": "stderr",
          "text": "2023-03-06 04:58:30.234239: I tensorflow/core/platform/cpu_feature_guard.cc:193] This TensorFlow binary is optimized with oneAPI Deep Neural Network Library (oneDNN) to use the following CPU instructions in performance-critical operations:  AVX2 FMA\nTo enable them in other operations, rebuild TensorFlow with the appropriate compiler flags.\n2023-03-06 04:58:30.860218: I tensorflow/core/common_runtime/gpu/gpu_device.cc:1613] Created device /job:localhost/replica:0/task:0/device:GPU:0 with 10784 MB memory:  -> device: 0, name: Tesla K80, pci bus id: 0001:00:00.0, compute capability: 3.7\n"
        },
        {
          "output_type": "stream",
          "name": "stdout",
          "text": "Model: \"sequential\"\n_________________________________________________________________\n Layer (type)                Output Shape              Param #   \n=================================================================\n convnext_tiny (Functional)  (None, 768)               27820128  \n                                                                 \n dropout (Dropout)           (None, 768)               0         \n                                                                 \n dense (Dense)               (None, 31)                23839     \n                                                                 \n activation (Activation)     (None, 31)                0         \n                                                                 \n=================================================================\nTotal params: 27,843,967\nTrainable params: 27,843,967\nNon-trainable params: 0\n_________________________________________________________________\n"
        }
      ],
      "execution_count": 9,
      "metadata": {
        "gather": {
          "logged": 1678078714671
        }
      }
    },
    {
      "cell_type": "code",
      "source": [
        "# Defining the Recall and Precision metric functions\n",
        "\n",
        "def recall_m(y_true, y_pred):\n",
        "        true_positives = K.sum(K.round(K.clip(y_true * y_pred, 0, 1)))\n",
        "        possible_positives = K.sum(K.round(K.clip(y_true, 0, 1)))\n",
        "        recall = true_positives / (possible_positives + K.epsilon())\n",
        "        return recall\n",
        "\n",
        "def precision_m(y_true, y_pred):\n",
        "        true_positives = K.sum(K.round(K.clip(y_true * y_pred, 0, 1)))\n",
        "        predicted_positives = K.sum(K.round(K.clip(y_pred, 0, 1)))\n",
        "        precision = true_positives / (predicted_positives + K.epsilon())\n",
        "        return precision"
      ],
      "outputs": [],
      "execution_count": 10,
      "metadata": {
        "gather": {
          "logged": 1678078714764
        }
      }
    },
    {
      "cell_type": "code",
      "source": [
        "# Defining training callbacks, such as learning rate, which will reduce after two epochs by %65 if the validation loss \n",
        "# does not decrease. Only the epochs with lower validation loss values will be saved.\n",
        "\n",
        "callbacks = [\n",
        "                 ReduceLROnPlateau(monitor = 'val_loss', factor = .65, patience = 2, verbose = 1),\n",
        "                 \n",
        "                 ModelCheckpoint(filepath = WEIGHTS_DIR + 'model-{epoch:03d}-{acc:03f}-{val_acc:03f}.h5', \n",
        "                                 monitor='val_loss', save_weights_only = True, save_best_only = False, verbose = 1),\n",
        "\n",
        "            ]"
      ],
      "outputs": [],
      "execution_count": 11,
      "metadata": {
        "gather": {
          "logged": 1678078714863
        }
      }
    },
    {
      "cell_type": "code",
      "source": [
        "# sets the loss function, optimizier and metrics, probably don't need to change\n",
        "# except maybe the learing rate \n",
        "\n",
        "model.compile(loss = 'categorical_crossentropy',\n",
        "              optimizer = optimizers.Adam(learning_rate=lr), \n",
        "              metrics=['acc', precision_m, recall_m])"
      ],
      "outputs": [],
      "execution_count": 12,
      "metadata": {
        "gather": {
          "logged": 1678078714943
        }
      }
    },
    {
      "cell_type": "code",
      "source": [
        "# Calculate the class weights, plot and save figure\r\n",
        "if weighted:\r\n",
        "    class_weight = compute_class_weights(train)\r\n",
        "else:\r\n",
        "    class_weight = {c: 1.0 for c in class_categories}\r\n",
        "\r\n",
        "plt.figure(figsize=(30,5))\r\n",
        "plt.bar(class_weight.keys(), class_weight.values())\r\n",
        "plt.title(\"ClassWeight\")\r\n",
        "plt.savefig(EXP_FOLDER + \"ClassWeight.png\")\r\n",
        "plt.show()\r\n",
        "\r\n",
        "# Reformat for model.fit()\r\n",
        "class_weight = {class_categories.index(k): v for (k, v) in class_weight.items()}"
      ],
      "outputs": [
        {
          "output_type": "display_data",
          "data": {
            "text/plain": "<Figure size 3000x500 with 1 Axes>",
            "image/png": "[encoded data removed]"
          },
          "metadata": {}
        }
      ],
      "execution_count": 13,
      "metadata": {
        "jupyter": {
          "source_hidden": false,
          "outputs_hidden": false
        },
        "nteract": {
          "transient": {
            "deleting": false
          }
        },
        "gather": {
          "logged": 1678078715237
        }
      }
    },
    {
      "cell_type": "code",
      "source": [
        "# Train the model, logs the results of the training in history\n",
        "\n",
        "history = model.fit(train_generator, \n",
        "                    steps_per_epoch = steps_per_epoch_train, \n",
        "                    epochs = num_epochs, \n",
        "                    validation_data = validation_generator, \n",
        "                    validation_steps = steps_per_epoch_valid,\n",
        "                    callbacks = callbacks,\n",
        "                    verbose = 1,\n",
        "                    class_weight=class_weight)  "
      ],
      "outputs": [
        {
          "output_type": "stream",
          "name": "stdout",
          "text": "Epoch 1/12\n619/618 [==============================] - ETA: 0s - loss: 0.0802 - acc: 0.1007 - precision_m: 0.1277 - recall_m: 0.0776\b\b\b\b\b\b\b\b\b\b\b\b\b\b\b\b\b\b\b\b\b\b\b\b\b\b\b\b\b\b\b\b\b\b\b\b\b\b\b\b\b\b\b\b\b\b\b\b\b\b\b\b\b\b\b\b\b\b\b\b\b\b\b\b\b\b\b\b\b\b\b\b\b\b\b\b\b\b\b\b\b\b\b\b\b\b\b\b\b\b\b\b\b\b\b\b\b\b\b\b\b\b\b\b\b\b\b\b\b\b\b\b\b\b\b\b\b\b\b\b\b\b\b\b\b\b\b\b\b\b\nEpoch 1: saving model to Experiments/Short_Codes_With_Weights_Even/Weights/model-001-0.100737-0.165560.h5\n618/618 [==============================] - 1205s 2s/step - loss: 0.0802 - acc: 0.1007 - precision_m: 0.1277 - recall_m: 0.0776 - val_loss: 5.0107 - val_acc: 0.1656 - val_precision_m: 0.1819 - val_recall_m: 0.1274 - lr: 1.0000e-04\nEpoch 2/12\n619/618 [==============================] - ETA: 0s - loss: 0.0334 - acc: 0.1836 - precision_m: 0.2231 - recall_m: 0.1628\b\b\b\b\b\b\b\b\b\b\b\b\b\b\b\b\b\b\b\b\b\b\b\b\b\b\b\b\b\b\b\b\b\b\b\b\b\b\b\b\b\b\b\b\b\b\b\b\b\b\b\b\b\b\b\b\b\b\b\b\b\b\b\b\b\b\b\b\b\b\b\b\b\b\b\b\b\b\b\b\b\b\b\b\b\b\b\b\b\b\b\b\b\b\b\b\b\b\b\b\b\b\b\b\b\b\b\b\b\b\b\b\b\b\b\b\b\b\b\b\b\b\b\b\b\b\nEpoch 2: saving model to Experiments/Short_Codes_With_Weights_Even/Weights/model-002-0.183650-0.219948.h5\n618/618 [==============================] - 1157s 2s/step - loss: 0.0334 - acc: 0.1836 - precision_m: 0.2231 - recall_m: 0.1628 - val_loss: 4.6128 - val_acc: 0.2199 - val_precision_m: 0.2835 - val_recall_m: 0.2066 - lr: 1.0000e-04\nEpoch 3/12\n619/618 [==============================] - ETA: 0s - loss: 0.0214 - acc: 0.2299 - precision_m: 0.2800 - recall_m: 0.2143\b\b\b\b\b\b\b\b\b\b\b\b\b\b\b\b\b\b\b\b\b\b\b\b\b\b\b\b\b\b\b\b\b\b\b\b\b\b\b\b\b\b\b\b\b\b\b\b\b\b\b\b\b\b\b\b\b\b\b\b\b\b\b\b\b\b\b\b\b\b\b\b\b\b\b\b\b\b\b\b\b\b\b\b\b\b\b\b\b\b\b\b\b\b\b\b\b\b\b\b\b\b\b\b\b\b\b\b\b\b\b\b\b\b\b\b\b\b\b\b\b\b\b\b\b\b\nEpoch 3: saving model to Experiments/Short_Codes_With_Weights_Even/Weights/model-003-0.229903-0.271571.h5\n618/618 [==============================] - 1150s 2s/step - loss: 0.0214 - acc: 0.2299 - precision_m: 0.2800 - recall_m: 0.2143 - val_loss: 4.2024 - val_acc: 0.2716 - val_precision_m: 0.3383 - val_recall_m: 0.2531 - lr: 1.0000e-04\nEpoch 4/12\n619/618 [==============================] - ETA: 0s - loss: 0.0176 - acc: 0.2503 - precision_m: 0.3204 - recall_m: 0.2367\b\b\b\b\b\b\b\b\b\b\b\b\b\b\b\b\b\b\b\b\b\b\b\b\b\b\b\b\b\b\b\b\b\b\b\b\b\b\b\b\b\b\b\b\b\b\b\b\b\b\b\b\b\b\b\b\b\b\b\b\b\b\b\b\b\b\b\b\b\b\b\b\b\b\b\b\b\b\b\b\b\b\b\b\b\b\b\b\b\b\b\b\b\b\b\b\b\b\b\b\b\b\b\b\b\b\b\b\b\b\b\b\b\b\b\b\b\b\b\b\b\b\b\b\b\b\nEpoch 4: saving model to Experiments/Short_Codes_With_Weights_Even/Weights/model-004-0.250303-0.262168.h5\n618/618 [==============================] - 1153s 2s/step - loss: 0.0176 - acc: 0.2503 - precision_m: 0.3204 - recall_m: 0.2367 - val_loss: 4.1332 - val_acc: 0.2622 - val_precision_m: 0.3505 - val_recall_m: 0.2465 - lr: 1.0000e-04\nEpoch 5/12\n619/618 [==============================] - ETA: 0s - loss: 0.0142 - acc: 0.2874 - precision_m: 0.3539 - recall_m: 0.2635\b\b\b\b\b\b\b\b\b\b\b\b\b\b\b\b\b\b\b\b\b\b\b\b\b\b\b\b\b\b\b\b\b\b\b\b\b\b\b\b\b\b\b\b\b\b\b\b\b\b\b\b\b\b\b\b\b\b\b\b\b\b\b\b\b\b\b\b\b\b\b\b\b\b\b\b\b\b\b\b\b\b\b\b\b\b\b\b\b\b\b\b\b\b\b\b\b\b\b\b\b\b\b\b\b\b\b\b\b\b\b\b\b\b\b\b\b\b\b\b\b\b\b\b\b\b\nEpoch 5: saving model to Experiments/Short_Codes_With_Weights_Even/Weights/model-005-0.287417-0.223267.h5\n618/618 [==============================] - 1160s 2s/step - loss: 0.0142 - acc: 0.2874 - precision_m: 0.3539 - recall_m: 0.2635 - val_loss: 4.5236 - val_acc: 0.2233 - val_precision_m: 0.3032 - val_recall_m: 0.2132 - lr: 1.0000e-04\nEpoch 6/12\n619/618 [==============================] - ETA: 0s - loss: 0.0123 - acc: 0.3182 - precision_m: 0.3893 - recall_m: 0.2939\b\b\b\b\b\b\b\b\b\b\b\b\b\b\b\b\b\b\b\b\b\b\b\b\b\b\b\b\b\b\b\b\b\b\b\b\b\b\b\b\b\b\b\b\b\b\b\b\b\b\b\b\b\b\b\b\b\b\b\b\b\b\b\b\b\b\b\b\b\b\b\b\b\b\b\b\b\b\b\b\b\b\b\b\b\b\b\b\b\b\b\b\b\b\b\b\b\b\b\b\b\b\b\b\b\b\b\b\b\b\b\b\b\b\b\b\b\b\b\b\b\b\b\b\b\b\nEpoch 6: saving model to Experiments/Short_Codes_With_Weights_Even/Weights/model-006-0.318219-0.243916.h5\n618/618 [==============================] - 1155s 2s/step - loss: 0.0123 - acc: 0.3182 - precision_m: 0.3893 - recall_m: 0.2939 - val_loss: 3.9549 - val_acc: 0.2439 - val_precision_m: 0.3281 - val_recall_m: 0.2189 - lr: 1.0000e-04\nEpoch 7/12\n619/618 [==============================] - ETA: 0s - loss: 0.0127 - acc: 0.3401 - precision_m: 0.4191 - recall_m: 0.3106\b\b\b\b\b\b\b\b\b\b\b\b\b\b\b\b\b\b\b\b\b\b\b\b\b\b\b\b\b\b\b\b\b\b\b\b\b\b\b\b\b\b\b\b\b\b\b\b\b\b\b\b\b\b\b\b\b\b\b\b\b\b\b\b\b\b\b\b\b\b\b\b\b\b\b\b\b\b\b\b\b\b\b\b\b\b\b\b\b\b\b\b\b\b\b\b\b\b\b\b\b\b\b\b\b\b\b\b\b\b\b\b\b\b\b\b\b\b\b\b\b\b\b\b\b\b\nEpoch 7: saving model to Experiments/Short_Codes_With_Weights_Even/Weights/model-007-0.340083-0.230457.h5\n618/618 [==============================] - 1151s 2s/step - loss: 0.0127 - acc: 0.3401 - precision_m: 0.4191 - recall_m: 0.3106 - val_loss: 3.8921 - val_acc: 0.2305 - val_precision_m: 0.2972 - val_recall_m: 0.2007 - lr: 1.0000e-04\nEpoch 8/12\n619/618 [==============================] - ETA: 0s - loss: 0.0114 - acc: 0.3585 - precision_m: 0.4383 - recall_m: 0.3355\b\b\b\b\b\b\b\b\b\b\b\b\b\b\b\b\b\b\b\b\b\b\b\b\b\b\b\b\b\b\b\b\b\b\b\b\b\b\b\b\b\b\b\b\b\b\b\b\b\b\b\b\b\b\b\b\b\b\b\b\b\b\b\b\b\b\b\b\b\b\b\b\b\b\b\b\b\b\b\b\b\b\b\b\b\b\b\b\b\b\b\b\b\b\b\b\b\b\b\b\b\b\b\b\b\b\b\b\b\b\b\b\b\b\b\b\b\b\b\b\b\b\b\b\b\b\nEpoch 8: saving model to Experiments/Short_Codes_With_Weights_Even/Weights/model-008-0.358513-0.236173.h5\n618/618 [==============================] - 1170s 2s/step - loss: 0.0114 - acc: 0.3585 - precision_m: 0.4383 - recall_m: 0.3355 - val_loss: 3.5081 - val_acc: 0.2362 - val_precision_m: 0.3662 - val_recall_m: 0.2000 - lr: 1.0000e-04\nEpoch 9/12\n619/618 [==============================] - ETA: 0s - loss: 0.0095 - acc: 0.3825 - precision_m: 0.4587 - recall_m: 0.3592\b\b\b\b\b\b\b\b\b\b\b\b\b\b\b\b\b\b\b\b\b\b\b\b\b\b\b\b\b\b\b\b\b\b\b\b\b\b\b\b\b\b\b\b\b\b\b\b\b\b\b\b\b\b\b\b\b\b\b\b\b\b\b\b\b\b\b\b\b\b\b\b\b\b\b\b\b\b\b\b\b\b\b\b\b\b\b\b\b\b\b\b\b\b\b\b\b\b\b\b\b\b\b\b\b\b\b\b\b\b\b\b\b\b\b\b\b\b\b\b\b\b\b\b\b\b\nEpoch 9: saving model to Experiments/Short_Codes_With_Weights_Even/Weights/model-009-0.382498-0.166851.h5\n618/618 [==============================] - 1153s 2s/step - loss: 0.0095 - acc: 0.3825 - precision_m: 0.4587 - recall_m: 0.3592 - val_loss: 3.9899 - val_acc: 0.1669 - val_precision_m: 0.2421 - val_recall_m: 0.1515 - lr: 1.0000e-04\nEpoch 10/12\n619/618 [==============================] - ETA: 0s - loss: 0.0091 - acc: 0.3872 - precision_m: 0.4673 - recall_m: 0.3643\b\b\b\b\b\b\b\b\b\b\b\b\b\b\b\b\b\b\b\b\b\b\b\b\b\b\b\b\b\b\b\b\b\b\b\b\b\b\b\b\b\b\b\b\b\b\b\b\b\b\b\b\b\b\b\b\b\b\b\b\b\b\b\b\b\b\b\b\b\b\b\b\b\b\b\b\b\b\b\b\b\b\b\b\b\b\b\b\b\b\b\b\b\b\b\b\b\b\b\b\b\b\b\b\b\b\b\b\b\b\b\b\b\b\b\b\b\b\b\b\b\b\b\b\b\b\nEpoch 10: ReduceLROnPlateau reducing learning rate to 6.499999835796189e-05.\n\nEpoch 10: saving model to Experiments/Short_Codes_With_Weights_Even/Weights/model-010-0.387245-0.199299.h5\n618/618 [==============================] - 1182s 2s/step - loss: 0.0091 - acc: 0.3872 - precision_m: 0.4673 - recall_m: 0.3643 - val_loss: 3.6454 - val_acc: 0.1993 - val_precision_m: 0.2817 - val_recall_m: 0.1730 - lr: 1.0000e-04\nEpoch 11/12\n619/618 [==============================] - ETA: 0s - loss: 0.0081 - acc: 0.4118 - precision_m: 0.5080 - recall_m: 0.3904\b\b\b\b\b\b\b\b\b\b\b\b\b\b\b\b\b\b\b\b\b\b\b\b\b\b\b\b\b\b\b\b\b\b\b\b\b\b\b\b\b\b\b\b\b\b\b\b\b\b\b\b\b\b\b\b\b\b\b\b\b\b\b\b\b\b\b\b\b\b\b\b\b\b\b\b\b\b\b\b\b\b\b\b\b\b\b\b\b\b\b\b\b\b\b\b\b\b\b\b\b\b\b\b\b\b\b\b\b\b\b\b\b\b\b\b\b\b\b\b\b\b\b\b\b\b\nEpoch 11: saving model to Experiments/Short_Codes_With_Weights_Even/Weights/model-011-0.411785-0.229720.h5\n618/618 [==============================] - 1172s 2s/step - loss: 0.0081 - acc: 0.4118 - precision_m: 0.5080 - recall_m: 0.3904 - val_loss: 3.7250 - val_acc: 0.2297 - val_precision_m: 0.3292 - val_recall_m: 0.2114 - lr: 6.5000e-05\nEpoch 12/12\n619/618 [==============================] - ETA: 0s - loss: 0.0068 - acc: 0.4359 - precision_m: 0.5223 - recall_m: 0.4161\b\b\b\b\b\b\b\b\b\b\b\b\b\b\b\b\b\b\b\b\b\b\b\b\b\b\b\b\b\b\b\b\b\b\b\b\b\b\b\b\b\b\b\b\b\b\b\b\b\b\b\b\b\b\b\b\b\b\b\b\b\b\b\b\b\b\b\b\b\b\b\b\b\b\b\b\b\b\b\b\b\b\b\b\b\b\b\b\b\b\b\b\b\b\b\b\b\b\b\b\b\b\b\b\b\b\b\b\b\b\b\b\b\b\b\b\b\b\b\b\b\b\b\b\b\b\nEpoch 12: ReduceLROnPlateau reducing learning rate to 4.2250000115018337e-05.\n\nEpoch 12: saving model to Experiments/Short_Codes_With_Weights_Even/Weights/model-012-0.435922-0.233038.h5\n618/618 [==============================] - 1166s 2s/step - loss: 0.0068 - acc: 0.4359 - precision_m: 0.5223 - recall_m: 0.4161 - val_loss: 3.6501 - val_acc: 0.2330 - val_precision_m: 0.3428 - val_recall_m: 0.2050 - lr: 6.5000e-05\n"
        },
        {
          "output_type": "stream",
          "name": "stderr",
          "text": "2023-03-06 04:58:58.073597: I tensorflow/compiler/xla/stream_executor/cuda/cuda_dnn.cc:428] Loaded cuDNN version 8204\n2023-03-06 04:58:58.323058: I tensorflow/tsl/platform/default/subprocess.cc:304] Start cannot spawn child process: No such file or directory\n2023-03-06 04:58:58.730568: I tensorflow/compiler/xla/service/service.cc:173] XLA service 0x195510d0 initialized for platform CUDA (this does not guarantee that XLA will be used). Devices:\n2023-03-06 04:58:58.730609: I tensorflow/compiler/xla/service/service.cc:181]   StreamExecutor device (0): Tesla K80, Compute Capability 3.7\n2023-03-06 04:58:58.771558: I tensorflow/tsl/platform/default/subprocess.cc:304] Start cannot spawn child process: No such file or directory\n2023-03-06 04:58:58.970420: I tensorflow/compiler/jit/xla_compilation_cache.cc:477] Compiled cluster using XLA!  This line is logged at most once for the lifetime of the process.\n2023-03-06 04:59:00.774061: I tensorflow/compiler/mlir/tensorflow/utils/dump_mlir_util.cc:268] disabling MLIR crash reproducer, set env var `MLIR_CRASH_REPRODUCER_DIRECTORY` to enable.\n"
        }
      ],
      "execution_count": 14,
      "metadata": {
        "gather": {
          "logged": 1678092692723
        }
      }
    },
    {
      "cell_type": "code",
      "source": [
        "# After training, loads the best weights\n",
        "weights = sorted(glob.glob(WEIGHTS_DIR + \"*.h5\"), key=os.path.getmtime)\n",
        "[print(w, i) for i, w in enumerate(weights)];"
      ],
      "outputs": [
        {
          "output_type": "stream",
          "name": "stdout",
          "text": "Experiments/Short_Codes_With_Weights_Even/Weights/model-001-0.100737-0.165560.h5 0\nExperiments/Short_Codes_With_Weights_Even/Weights/model-002-0.183650-0.219948.h5 1\nExperiments/Short_Codes_With_Weights_Even/Weights/model-003-0.229903-0.271571.h5 2\nExperiments/Short_Codes_With_Weights_Even/Weights/model-004-0.250303-0.262168.h5 3\nExperiments/Short_Codes_With_Weights_Even/Weights/model-005-0.287417-0.223267.h5 4\nExperiments/Short_Codes_With_Weights_Even/Weights/model-006-0.318219-0.243916.h5 5\nExperiments/Short_Codes_With_Weights_Even/Weights/model-007-0.340083-0.230457.h5 6\nExperiments/Short_Codes_With_Weights_Even/Weights/model-008-0.358513-0.236173.h5 7\nExperiments/Short_Codes_With_Weights_Even/Weights/model-009-0.382498-0.166851.h5 8\nExperiments/Short_Codes_With_Weights_Even/Weights/model-010-0.387245-0.199299.h5 9\nExperiments/Short_Codes_With_Weights_Even/Weights/model-011-0.411785-0.229720.h5 10\nExperiments/Short_Codes_With_Weights_Even/Weights/model-012-0.435922-0.233038.h5 11\n"
        }
      ],
      "execution_count": 15,
      "metadata": {
        "gather": {
          "logged": 1678114059058
        }
      }
    },
    {
      "cell_type": "code",
      "source": [
        "best_weights = weights[5]\r\n",
        "print(\"Best Weights: \", best_weights)\r\n",
        "model.load_weights(best_weights)"
      ],
      "outputs": [
        {
          "output_type": "stream",
          "name": "stdout",
          "text": "Best Weights:  Experiments/Short_Codes_With_Weights_Even/Weights/model-006-0.318219-0.243916.h5\n"
        }
      ],
      "execution_count": 16,
      "metadata": {
        "jupyter": {
          "source_hidden": false,
          "outputs_hidden": false
        },
        "nteract": {
          "transient": {
            "deleting": false
          }
        },
        "gather": {
          "logged": 1678114071741
        }
      }
    },
    {
      "cell_type": "code",
      "source": [
        "# Reads from dataframe for test set\n",
        "test_generator = validate_augmentor.flow_from_dataframe(dataframe=test, \n",
        "                                                        x_col = 'Patch_Name', \n",
        "                                                        y_col = 'Label', \n",
        "                                                        target_size = (224, 224), \n",
        "                                                        color_mode = \"rgb\",  \n",
        "                                                        class_mode = 'categorical', \n",
        "                                                        batch_size = batch_size, \n",
        "                                                        shuffle = False, \n",
        "                                                        seed = 42)\n",
        "# Defines the length of an epoch\n",
        "steps_per_epoch_test = len(data)//1"
      ],
      "outputs": [
        {
          "output_type": "stream",
          "name": "stdout",
          "text": "Found 4587 validated image filenames belonging to 31 classes.\n"
        }
      ],
      "execution_count": 17,
      "metadata": {
        "gather": {
          "logged": 1678114131951
        }
      }
    },
    {
      "cell_type": "code",
      "source": [
        "# Provides a confusion matrix of the results\n",
        "# Results, stores predictions for thresholding\n",
        "predictions = model.predict_generator(test_generator, steps = steps_per_epoch_test)\n",
        "predict_classes = np.argmax(predictions, axis = 1)\n",
        "test_y = test_generator.classes\n",
        "\n",
        "print(\"# of images:\", len(predict_classes))\n",
        "cm = confusion_matrix(y_true = test_y, y_pred = predict_classes)\n",
        "disp = ConfusionMatrixDisplay(confusion_matrix=cm,\n",
        "                              display_labels=class_categories)\n",
        "\n",
        "overall_accuracy = accuracy_score(y_true = test_y,\n",
        "                                  y_pred = predict_classes)\n",
        "\n",
        "class_accuracy = cm.diagonal()/cm.sum(axis=1)\n",
        "class_accuracy = dict(zip(class_categories, class_accuracy))\n",
        "\n",
        "df = pd.DataFrame(list(zip(class_accuracy.keys(), class_accuracy.values())),\n",
        "                  columns=['Class', 'Accuracy'])\n",
        "\n",
        "df.to_csv(EXP_FOLDER + \"ClassAccuracy.csv\")\n",
        "\n",
        "fig, ax = plt.subplots(figsize=(30, 30))\n",
        "plt.title(\"Overall Accuracy :\" + str(overall_accuracy))\n",
        "disp.plot(ax=ax)\n",
        "plt.savefig(EXP_FOLDER + \"ConfusionMatrix.png\")\n",
        "print(\"Class Accuracy: \", df)"
      ],
      "outputs": [],
      "execution_count": 18,
      "metadata": {
        "gather": {
          "logged": 1678078179442
        }
      }
    },
    {
      "cell_type": "code",
      "source": [
        "# Higher values represents more sure/confident predictions\n",
        "# .1 unsure -> .5 pretty sure -> .9 very sure\n",
        "\n",
        "# Creating a graph of the threshold values and the accuracy\n",
        "# useful for determing how sure the model is when making predictions\n",
        "\n",
        "threshold_values = np.arange(0.0, 1.0, 0.05)\n",
        "class_ACC = []\n",
        "\n",
        "for threshold in threshold_values:\n",
        "    sure_index = []\n",
        "\n",
        "    for i in range(0, len(predictions)):\n",
        "        if( (sorted(predictions[i])[-1]) - (sorted(predictions[i])[-2]) > threshold):\n",
        "            sure_index.append(i)\n",
        "\n",
        "    sure_test_y = np.take(test_y, sure_index, axis = 0)\n",
        "    sure_pred_y = np.take(predict_classes, sure_index)\n",
        "\n",
        "    class_ACC.append(accuracy_score(sure_test_y, sure_pred_y)) \n",
        "\n",
        "plt.figure(figsize=(10, 5))\n",
        "plt.plot(threshold_values, class_ACC)\n",
        "plt.xlabel('Threshold Values')\n",
        "plt.xlim([0, 1])\n",
        "plt.xticks(ticks = np.arange(0, 1.05, 0.1))\n",
        "plt.ylabel('Classification Accuracy')\n",
        "plt.title('Identifying the ideal threshold value')\n",
        "plt.savefig(EXP_FOLDER + \"AccuracyThreshold.png\")\n",
        "plt.show()"
      ],
      "outputs": [],
      "execution_count": null,
      "metadata": {
        "gather": {
          "logged": 1678078179771
        }
      }
    },
    {
      "cell_type": "code",
      "source": [
        "model.save(WEIGHTS_DIR + \"Best_Model_and_Weights.h5\")"
      ],
      "outputs": [],
      "execution_count": null,
      "metadata": {
        "gather": {
          "logged": 1678078183164
        }
      }
    },
    {
      "cell_type": "code",
      "source": [],
      "outputs": [],
      "execution_count": null,
      "metadata": {
        "jupyter": {
          "source_hidden": false,
          "outputs_hidden": false
        },
        "nteract": {
          "transient": {
            "deleting": false
          }
        }
      }
    }
  ],
  "metadata": {
    "kernel_info": {
      "name": "coralnet"
    },
    "kernelspec": {
      "name": "coralnet",
      "language": "python",
      "display_name": "CoralNet"
    },
    "language_info": {
      "name": "python",
      "version": "3.8.16",
      "mimetype": "text/x-python",
      "codemirror_mode": {
        "name": "ipython",
        "version": 3
      },
      "pygments_lexer": "ipython3",
      "nbconvert_exporter": "python",
      "file_extension": ".py"
    },
    "microsoft": {
      "ms_spell_check": {
        "ms_spell_check_language": "en"
      },
      "host": {
        "AzureML": {
          "notebookHasBeenCompleted": true
        }
      }
    },
    "nteract": {
      "version": "nteract-front-end@1.0.0"
    },
    "vscode": {
      "interpreter": {
        "hash": "29187d11294c07bea965194f215d76d7c863eddc7d453727fd722f0612a38c27"
      }
    }
  },
  "nbformat": 4,
  "nbformat_minor": 2
}