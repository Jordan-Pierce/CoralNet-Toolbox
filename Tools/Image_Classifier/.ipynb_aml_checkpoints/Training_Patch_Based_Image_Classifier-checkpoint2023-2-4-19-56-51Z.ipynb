{
  "cells": [
    {
      "cell_type": "code",
      "source": [
        "import os\n",
        "import glob\n",
        "\n",
        "import warnings\n",
        "warnings.filterwarnings(\"ignore\")\n",
        "\n",
        "import numpy as np\n",
        "import pandas as pd\n",
        "from skimage import io\n",
        "import matplotlib.pyplot as plt\n",
        "\n",
        "import tensorflow\n",
        "from tensorflow.keras import backend as K\n",
        "from tensorflow.keras.models import Sequential\n",
        "from tensorflow.keras import optimizers, losses, metrics\n",
        "from tensorflow.keras.layers import Dense, Activation, Dropout\n",
        "from tensorflow.keras.preprocessing.image import ImageDataGenerator\n",
        "from tensorflow.keras.callbacks import ModelCheckpoint, ReduceLROnPlateau, TensorBoard\n",
        "\n",
        "from sklearn.model_selection import cross_val_score\n",
        "from sklearn.model_selection import train_test_split\n",
        "from sklearn.metrics import accuracy_score, confusion_matrix, ConfusionMatrixDisplay\n",
        "\n",
        "from imgaug import augmenters as iaa\n"
      ],
      "outputs": [
        {
          "output_type": "stream",
          "name": "stderr",
          "text": "2023-03-04 19:25:12.523913: I tensorflow/core/platform/cpu_feature_guard.cc:193] This TensorFlow binary is optimized with oneAPI Deep Neural Network Library (oneDNN) to use the following CPU instructions in performance-critical operations:  AVX2 FMA\nTo enable them in other operations, rebuild TensorFlow with the appropriate compiler flags.\n2023-03-04 19:25:13.522235: W tensorflow/compiler/xla/stream_executor/platform/default/dso_loader.cc:64] Could not load dynamic library 'libnvinfer.so.7'; dlerror: libnvinfer.so.7: cannot open shared object file: No such file or directory\n2023-03-04 19:25:13.522337: W tensorflow/compiler/xla/stream_executor/platform/default/dso_loader.cc:64] Could not load dynamic library 'libnvinfer_plugin.so.7'; dlerror: libnvinfer_plugin.so.7: cannot open shared object file: No such file or directory\n2023-03-04 19:25:13.522349: W tensorflow/compiler/tf2tensorrt/utils/py_utils.cc:38] TF-TRT Warning: Cannot dlopen some TensorRT libraries. If you would like to use Nvidia GPU with TensorRT, please make sure the missing libraries mentioned above are installed properly.\n"
        }
      ],
      "execution_count": 1,
      "metadata": {
        "gather": {
          "logged": 1677957914889
        }
      }
    },
    {
      "cell_type": "code",
      "source": [
        "def compute_class_weights(df):\r\n",
        "\r\n",
        "    # Get the frequency of each class\r\n",
        "    class_counts = df['Label'].value_counts()\r\n",
        "    \r\n",
        "    # Compute the inverse frequency of each class\r\n",
        "    inv_freq = np.max(class_counts) / class_counts\r\n",
        "    \r\n",
        "    # Normalize the weights to be between 0 and 1\r\n",
        "    class_weights = inv_freq / np.sum(inv_freq)\r\n",
        "    \r\n",
        "    return class_weights.to_dict()"
      ],
      "outputs": [],
      "execution_count": 24,
      "metadata": {
        "jupyter": {
          "source_hidden": false,
          "outputs_hidden": false
        },
        "nteract": {
          "transient": {
            "deleting": false
          }
        },
        "gather": {
          "logged": 1677959391469
        }
      }
    },
    {
      "cell_type": "code",
      "source": [
        "DATA_PATH = \"/home/azureuser/cloudfiles/code/Users/jordan.pierce/Data/Guam_Saipan/3653/\"\r\n",
        "assert os.path.exists(DATA_PATH)\r\n",
        "\r\n",
        "EXP_DIR = \"Experiments/\"\r\n",
        "EXP_NAME = \"Short_Codes_With_Weights\"\r\n",
        "EXP_FOLDER = EXP_DIR + EXP_NAME + \"/\"\r\n",
        "WEIGHTS_DIR = EXP_FOLDER + \"Weights/\"\r\n",
        "LOGS_DIR = EXP_FOLDER + \"Logs/\"\r\n",
        "\r\n",
        "weighted = False if \"No_Weights\" in EXP_NAME else True\r\n",
        "\r\n",
        "os.makedirs(EXP_DIR, exist_ok=True)\r\n",
        "os.makedirs(EXP_FOLDER, exist_ok=True)\r\n",
        "os.makedirs(WEIGHTS_DIR, exist_ok=True) \r\n",
        "os.makedirs(LOGS_DIR, exist_ok=True) "
      ],
      "outputs": [],
      "execution_count": 3,
      "metadata": {
        "jupyter": {
          "source_hidden": false,
          "outputs_hidden": false
        },
        "nteract": {
          "transient": {
            "deleting": false
          }
        },
        "gather": {
          "logged": 1677957931866
        }
      }
    },
    {
      "cell_type": "code",
      "source": [
        "coarse_classes = {\n",
        "    'LC_Fol': 'Live_Coral', \n",
        "    'LC_Branch': 'Live_Coral', \n",
        "    'Ar_TA': 'Artificial', \n",
        "    'LC_Por': 'Live_Coral', \n",
        "    'UDC_CCA': 'Dead_Coral', \n",
        "    'Ro_TA': 'Rock', \n",
        "    'Pa_FA': 'Pavement', \n",
        "    'Mu_Ba': 'Mud', \n",
        "    'CR_TA': 'Coral_Rubble', \n",
        "    'Pa_Cy': 'Pavement', \n",
        "    'LC_Encr': 'Live_Coral', \n",
        "    'Sa_Ba': 'Sand', \n",
        "    'Pa_H': 'Pavement', \n",
        "    'Pa_TA': 'Pavement', \n",
        "    'UDC_H': 'Dead_Coral', \n",
        "    'CR_FA': 'Coral_Rubble', \n",
        "    'Ro_CCA': 'Rock', \n",
        "    'Mu_Cy': 'Mud', \n",
        "    'UDC_TA': 'Dead_Coral', \n",
        "    'Sa_Cy': 'Sand', \n",
        "    'UDC_FA': 'Dead_Coral', \n",
        "    'Ro_H': 'Rock', \n",
        "    'Sa_FA': 'Sand', \n",
        "    'Pa_CCA': 'Pavement', \n",
        "    'Ro_Ba': 'Rock', \n",
        "    'Ro_Cy': 'Rock', \n",
        "    'Sa_TA': 'Sand', \n",
        "    'Ar_Ba': 'Artificial', \n",
        "    'UDC_Cy': 'Dead_Coral', \n",
        "    'Ar_FA': 'Artificial', \n",
        "    'CR_CCA': 'Coral_Rubble'\n",
        "}\n",
        "\n",
        "functional_groups = {\n",
        "    'LC_Fol': 'Hard_Coral', \n",
        "    'LC_Branch': 'Hard_Coral', \n",
        "    'Ar_TA': 'Algae', \n",
        "    'LC_Por': 'Hard_Coral', \n",
        "    'UDC_CCA': 'Algae', \n",
        "    'Ro_TA': 'Algae', \n",
        "    'Pa_FA': 'Algae', \n",
        "    'Mu_Ba': 'Algae', \n",
        "    'CR_TA': 'Algae', \n",
        "    'Pa_Cy': 'Other', \n",
        "    'LC_Encr': 'Hard_Coral', \n",
        "    'Sa_Ba': 'Algae', \n",
        "    'Pa_H': 'Algae', \n",
        "    'Pa_TA': 'Algae', \n",
        "    'UDC_H': 'Algae', \n",
        "    'CR_FA': 'Algae', \n",
        "    'Ro_CCA': 'Algae', \n",
        "    'Mu_Cy': 'Other', \n",
        "    'UDC_TA': 'Algae', \n",
        "    'Sa_Cy': 'Other', \n",
        "    'UDC_FA': 'Algae', \n",
        "    'Ro_H': 'Algae', \n",
        "    'Sa_FA': 'Algae', \n",
        "    'Pa_CCA': 'Algae', \n",
        "    'Ro_Ba': 'Algae', \n",
        "    'Ro_Cy': 'Other', \n",
        "    'Sa_TA': 'Algae', \n",
        "    'Ar_Ba': 'Algae', \n",
        "    'UDC_Cy': 'Other', \n",
        "    'Ar_FA': 'Algae', \n",
        "    'CR_CCA': 'Algae'\n",
        "}\n",
        "\n",
        "short_codes = [\n",
        "    'LC_Fol', \n",
        "    'LC_Branch', \n",
        "    'Ar_TA', \n",
        "    'LC_Por', \n",
        "    'UDC_CCA', \n",
        "    'Ro_TA', \n",
        "    'Pa_FA', \n",
        "    'Mu_Ba', \n",
        "    'CR_TA', \n",
        "    'Pa_Cy', \n",
        "    'LC_Encr', \n",
        "    'Sa_Ba', \n",
        "    'Pa_H', \n",
        "    'Pa_TA', \n",
        "    'UDC_H', \n",
        "    'CR_FA', \n",
        "    'Ro_CCA', \n",
        "    'Mu_Cy', \n",
        "    'UDC_TA', \n",
        "    'Sa_Cy', \n",
        "    'UDC_FA', \n",
        "    'Ro_H', \n",
        "    'Sa_FA', \n",
        "    'Pa_CCA', \n",
        "    'Ro_Ba', \n",
        "    'Ro_Cy', \n",
        "    'Sa_TA', \n",
        "    'Ar_Ba', \n",
        "    'UDC_Cy', \n",
        "    'Ar_FA', \n",
        "    'CR_CCA'\n",
        "]"
      ],
      "outputs": [],
      "execution_count": 4,
      "metadata": {
        "gather": {
          "logged": 1677957938998
        }
      }
    },
    {
      "cell_type": "code",
      "source": [
        "data = pd.read_csv(DATA_PATH + \"Updated_CNet_Annotations.csv\", index_col=0)\n",
        "\n",
        "# List of Image Names\n",
        "image_names = data['Image'].unique().tolist()\n",
        "print(\"Number Images: \", len(image_names))\n",
        "\n",
        "# data[\"Label\"].replace(coarse_classes, inplace=True)\n",
        "\n",
        "# All class categories in the dataset\n",
        "class_categories = data['Label'].unique()\n",
        "print(\"Class Categories: \", len(class_categories))\n",
        "\n",
        "# Getting a sample of each class category\n",
        "sample = pd.DataFrame()\n",
        "\n",
        "for category in class_categories:\n",
        "    c = data[data['Label'] == category].sample(n=1)\n",
        "    sample = pd.concat((sample, c))"
      ],
      "outputs": [
        {
          "output_type": "stream",
          "name": "stdout",
          "text": "Number Images:  79\nClass Categories:  31\n"
        }
      ],
      "execution_count": 5,
      "metadata": {
        "gather": {
          "logged": 1677957941983
        }
      }
    },
    {
      "cell_type": "code",
      "source": [
        "# Split the Images into training, validation, and test sets.\n",
        "training_images, testing_images = train_test_split(image_names, test_size=0.1)\n",
        "training_images, validation_images = train_test_split(training_images, test_size=0.2)\n",
        "\n",
        "train = data[data['Image'].isin(training_images)]\n",
        "train = pd.concat((train, sample))\n",
        "\n",
        "valid = data[data['Image'].isin(validation_images)]\n",
        "valid = pd.concat((valid, sample))\n",
        "\n",
        "test = data[data['Image'].isin(testing_images)]\n",
        "test = pd.concat((test, sample))\n",
        "\n",
        "# List of Class Categories\n",
        "class_categories = train['Label'].unique().tolist()\n",
        "print(\"Train Class Categories: \", len(class_categories))\n",
        "\n",
        "class_categories_ = valid['Label'].unique().tolist()\n",
        "print(\"Validation Class Categories: \", len(class_categories_))\n",
        "\n",
        "plt.figure(figsize=(20,10))\n",
        "plt.subplot(1,3,1)\n",
        "train['Label'].value_counts().plot(kind='bar')\n",
        "\n",
        "plt.subplot(1,3,2)\n",
        "valid['Label'].value_counts().plot(kind='bar')\n",
        "\n",
        "plt.subplot(1,3,3)\n",
        "test['Label'].value_counts().plot(kind='bar')\n",
        "plt.savefig(EXP_FOLDER + \"DatasetSplit.png\")\n",
        "plt.show()\n",
        "\n",
        "print(f\"Train: {len(train)}   Valid: {len(valid)}   Test: {len(test)}\")"
      ],
      "outputs": [
        {
          "output_type": "stream",
          "name": "stdout",
          "text": "Train Class Categories:  31\nValidation Class Categories:  31\n"
        },
        {
          "output_type": "display_data",
          "data": {
            "text/plain": "<Figure size 2000x1000 with 3 Axes>",
            "image/png": "[encoded data removed]"
          },
          "metadata": {}
        },
        {
          "output_type": "stream",
          "name": "stdout",
          "text": "Train: 21342   Valid: 5970   Test: 2503\n"
        }
      ],
      "execution_count": 6,
      "metadata": {
        "gather": {
          "logged": 1677957945341
        }
      }
    },
    {
      "cell_type": "code",
      "source": [
        "# Augmentation methods implemented using imgaug; training augmentations should be \n",
        "# more intense, whereas the validation and testing augmentations should be minimal to none.\n",
        "\n",
        "# Setting the amount of dropout for our model (form of data augmentation)\n",
        "dropout_rate = 0.80\n",
        "\n",
        "augs_for_train = iaa.Sequential([   \n",
        "                          iaa.Resize(224, interpolation = 'linear'),\n",
        "                          iaa.Fliplr(0.5),\n",
        "                          iaa.Flipud(0.5),\n",
        "                          iaa.Rot90([1, 2, 3, 4], True),\n",
        "                          iaa.Sometimes(.3, iaa.Affine(scale = (.95, 1.05))),\n",
        "                          iaa.Sometimes(.1, iaa.Invert(1.0)),\n",
        "                          iaa.Sometimes(.5, iaa.SomeOf((0, 1), \n",
        "                                             [\n",
        "                                                 iaa.MedianBlur(3),\n",
        "                                                 iaa.ChannelShuffle(.7),\n",
        "                                                 iaa.EdgeDetect(.5)\n",
        "                                             ])),\n",
        "\n",
        "                          iaa.Sometimes(.5, iaa.SomeOf((0, 1),\n",
        "                                            [\n",
        "                                                 iaa.Dropout(.2),\n",
        "                                                 iaa.ImpulseNoise(.2),\n",
        "                                                 iaa.SaltAndPepper(.2)\n",
        "                                            ]))\n",
        "                       ])\n",
        "\n",
        "\n",
        "augs_for_valid = iaa.Sequential([iaa.Resize(224, interpolation = 'linear')])"
      ],
      "outputs": [],
      "execution_count": 7,
      "metadata": {
        "gather": {
          "logged": 1677957949448
        }
      }
    },
    {
      "cell_type": "code",
      "source": [
        "# Data generators are made to take the patch file paths currently stored in the dataframes; generators\n",
        "# create an augmentation pipeline so that patches can be read, augmented, and normalized on-the-fly \n",
        "# while training.\n",
        "\n",
        "# Number of epochs to train for\n",
        "num_epochs = 10\n",
        "\n",
        "# Batch size is dependent on the amount of memory available on your machine\n",
        "batch_size = 32\n",
        "\n",
        "# Defines the length of an epoch, all images are used\n",
        "steps_per_epoch_train = len(train)/batch_size\n",
        "steps_per_epoch_valid = len(valid)/batch_size\n",
        "\n",
        "# Learning rate \n",
        "lr = .0001\n",
        "\n",
        "# Training images are augmented, and then normalized\n",
        "train_augmentor = ImageDataGenerator(preprocessing_function = augs_for_train.augment_image)\n",
        "                                     \n",
        "                                                                   \n",
        "# Reading from dataframe\n",
        "train_generator = train_augmentor.flow_from_dataframe(dataframe = train, \n",
        "                                                      directory = None,\n",
        "                                                      x_col = 'Patch_Name', \n",
        "                                                      y_col = 'Label', \n",
        "                                                      target_size = (224, 224), \n",
        "                                                      color_mode = \"rgb\",  \n",
        "                                                      class_mode = 'categorical', \n",
        "                                                      batch_size = batch_size,\n",
        "                                                      shuffle = True, \n",
        "                                                      seed = 42)\n",
        "                                                     \n",
        "# Only normalize images, no augmentation\n",
        "validate_augmentor = ImageDataGenerator( preprocessing_function = augs_for_valid.augment_image)\n",
        "\n",
        "# Reading from dataframe                             \n",
        "validation_generator = validate_augmentor.flow_from_dataframe(dataframe = valid,\n",
        "                                                              directory = None, \n",
        "                                                              x_col = 'Patch_Name', \n",
        "                                                              y_col = 'Label', \n",
        "                                                              target_size = (224, 224), \n",
        "                                                              color_mode = \"rgb\",  \n",
        "                                                              class_mode = 'categorical', \n",
        "                                                              batch_size = batch_size, \n",
        "                                                              shuffle = True, \n",
        "                                                              seed = 42)"
      ],
      "outputs": [
        {
          "output_type": "stream",
          "name": "stdout",
          "text": "Found 21342 validated image filenames belonging to 31 classes.\nFound 5970 validated image filenames belonging to 31 classes.\n"
        }
      ],
      "execution_count": 8,
      "metadata": {
        "scrolled": true,
        "gather": {
          "logged": 1677958322093
        }
      }
    },
    {
      "cell_type": "code",
      "source": [
        "# Now we create the model!\n",
        "\n",
        "convnet = tensorflow.keras.applications.convnext.ConvNeXtTiny(\n",
        "        model_name='convnext_tiny',\n",
        "        include_top=False,\n",
        "        include_preprocessing=True,\n",
        "        weights='imagenet',\n",
        "        input_shape=(224, 224, 3),\n",
        "        pooling='max',\n",
        "        classes=len(class_categories),\n",
        "        classifier_activation='softmax',\n",
        ")\n",
        "\n",
        "model = Sequential([\n",
        "        convnet,\n",
        "        Dropout(dropout_rate),\n",
        "        Dense(len(class_categories)),\n",
        "        Activation('softmax')\n",
        "])\n",
        "\n",
        "# Display the model architecture\n",
        "if True:\n",
        "    model.summary()"
      ],
      "outputs": [
        {
          "output_type": "stream",
          "name": "stderr",
          "text": "2023-03-04 19:32:02.092500: I tensorflow/core/platform/cpu_feature_guard.cc:193] This TensorFlow binary is optimized with oneAPI Deep Neural Network Library (oneDNN) to use the following CPU instructions in performance-critical operations:  AVX2 FMA\nTo enable them in other operations, rebuild TensorFlow with the appropriate compiler flags.\n2023-03-04 19:32:02.733008: I tensorflow/core/common_runtime/gpu/gpu_device.cc:1613] Created device /job:localhost/replica:0/task:0/device:GPU:0 with 10784 MB memory:  -> device: 0, name: Tesla K80, pci bus id: 0001:00:00.0, compute capability: 3.7\n"
        },
        {
          "output_type": "stream",
          "name": "stdout",
          "text": "Model: \"sequential\"\n_________________________________________________________________\n Layer (type)                Output Shape              Param #   \n=================================================================\n convnext_tiny (Functional)  (None, 768)               27820128  \n                                                                 \n dropout (Dropout)           (None, 768)               0         \n                                                                 \n dense (Dense)               (None, 31)                23839     \n                                                                 \n activation (Activation)     (None, 31)                0         \n                                                                 \n=================================================================\nTotal params: 27,843,967\nTrainable params: 27,843,967\nNon-trainable params: 0\n_________________________________________________________________\n"
        }
      ],
      "execution_count": 9,
      "metadata": {
        "gather": {
          "logged": 1677958326753
        }
      }
    },
    {
      "cell_type": "code",
      "source": [
        "# Defining the Recall and Precision metric functions\n",
        "\n",
        "def recall_m(y_true, y_pred):\n",
        "        true_positives = K.sum(K.round(K.clip(y_true * y_pred, 0, 1)))\n",
        "        possible_positives = K.sum(K.round(K.clip(y_true, 0, 1)))\n",
        "        recall = true_positives / (possible_positives + K.epsilon())\n",
        "        return recall\n",
        "\n",
        "def precision_m(y_true, y_pred):\n",
        "        true_positives = K.sum(K.round(K.clip(y_true * y_pred, 0, 1)))\n",
        "        predicted_positives = K.sum(K.round(K.clip(y_pred, 0, 1)))\n",
        "        precision = true_positives / (predicted_positives + K.epsilon())\n",
        "        return precision"
      ],
      "outputs": [],
      "execution_count": 10,
      "metadata": {
        "gather": {
          "logged": 1677958326841
        }
      }
    },
    {
      "cell_type": "code",
      "source": [
        "# Defining training callbacks, such as learning rate, which will reduce after two epochs by %65 if the validation loss \n",
        "# does not decrease. Only the epochs with lower validation loss values will be saved.\n",
        "\n",
        "callbacks = [\n",
        "                 ReduceLROnPlateau(monitor = 'val_loss', factor = .65, patience = 2, verbose = 1),\n",
        "                 \n",
        "                 ModelCheckpoint(filepath = WEIGHTS_DIR + 'model-{epoch:03d}-{acc:03f}-{val_acc:03f}.h5', \n",
        "                                 monitor='val_loss', save_weights_only = True, save_best_only = False, verbose = 1),\n",
        "\n",
        "            ]"
      ],
      "outputs": [],
      "execution_count": 11,
      "metadata": {
        "gather": {
          "logged": 1677958326939
        }
      }
    },
    {
      "cell_type": "code",
      "source": [
        "# sets the loss function, optimizier and metrics, probably don't need to change\n",
        "# except maybe the learing rate \n",
        "\n",
        "model.compile(loss = 'categorical_crossentropy',\n",
        "              optimizer = optimizers.Adam(learning_rate=lr), \n",
        "              metrics=['acc', precision_m, recall_m])"
      ],
      "outputs": [],
      "execution_count": 12,
      "metadata": {
        "gather": {
          "logged": 1677958327040
        }
      }
    },
    {
      "cell_type": "code",
      "source": [
        "# Calculate the class weights, plot and save figure\r\n",
        "if weighted:\r\n",
        "    class_weight = compute_class_weights(train)\r\n",
        "else:\r\n",
        "    class_weight = {c: 1.0 for c in class_categories}\r\n",
        "\r\n",
        "plt.figure(figsize=(30,5))\r\n",
        "plt.bar(class_weight.keys(), class_weight.values())\r\n",
        "plt.title(\"ClassWeight\")\r\n",
        "plt.savefig(EXP_FOLDER + \"ClassWeight.png\")\r\n",
        "plt.show()\r\n",
        "\r\n",
        "# Reformat for model.fit()\r\n",
        "class_weight = {class_categories.index(k): v for (k, v) in class_weight.items()}"
      ],
      "outputs": [
        {
          "output_type": "display_data",
          "data": {
            "text/plain": "<Figure size 3000x500 with 1 Axes>",
            "image/png": "[encoded data removed]"
          },
          "metadata": {}
        }
      ],
      "execution_count": 26,
      "metadata": {
        "jupyter": {
          "source_hidden": false,
          "outputs_hidden": false
        },
        "nteract": {
          "transient": {
            "deleting": false
          }
        },
        "gather": {
          "logged": 1677959537737
        }
      }
    },
    {
      "cell_type": "code",
      "source": [
        "# Train the model, logs the results of the training in history\n",
        "\n",
        "history = model.fit(train_generator, \n",
        "                    steps_per_epoch = steps_per_epoch_train, \n",
        "                    epochs = num_epochs, \n",
        "                    validation_data = validation_generator, \n",
        "                    validation_steps = steps_per_epoch_valid,\n",
        "                    callbacks = callbacks,\n",
        "                    verbose = 1,\n",
        "                    class_weight=class_weight)  "
      ],
      "outputs": [
        {
          "output_type": "stream",
          "name": "stdout",
          "text": "Epoch 1/10\n  1/666 [..............................] - ETA: 7:50:14 - loss: 0.2181 - acc: 0.0312 - precision_m: 0.0909 - recall_m: 0.0312\b\b\b\b\b\b\b\b\b\b\b\b\b\b\b\b\b\b\b\b\b\b\b\b\b\b\b\b\b\b\b\b\b\b\b\b\b\b\b\b\b\b\b\b\b\b\b\b\b\b\b\b\b\b\b\b\b\b\b\b\b\b\b\b\b\b\b\b\b\b\b\b\b\b\b\b\b\b\b\b\b\b\b\b\b\b\b\b\b\b\b\b\b\b\b\b\b\b\b\b\b\b\b\b\b\b\b\b\b\b\b\b\b\b\b\b\b\b\b\b\b\b\b\b\b\r  2/666 [..............................] - ETA: 18:05 - loss: 0.4044 - acc: 0.0156 - precision_m: 0.0455 - recall_m: 0.0156  \b\b\b\b\b\b\b\b\b\b\b\b\b\b\b\b\b\b\b\b\b\b\b\b\b\b\b\b\b\b\b\b\b\b\b\b\b\b\b\b\b\b\b\b\b\b\b\b\b\b\b\b\b\b\b\b\b\b\b\b\b\b\b\b\b\b\b\b\b\b\b\b\b\b\b\b\b\b\b\b\b\b\b\b\b\b\b\b\b\b\b\b\b\b\b\b\b\b\b\b\b\b\b\b\b\b\b\b\b\b\b\b\b\b\b\b\b\b\b\b\b\b\b\r123/666 [====>.........................] - ETA: 14:23 - loss: 0.1562 - acc: 0.0597 - precision_m: 0.0656 - recall_m: 0.0409\b\b\b\b\b\b\b\b\b\b\b\b\b\b\b\b\b\b\b\b\b\b\b\b\b\b\b\b\b\b\b\b\b\b\b\b\b\b\b\b\b\b\b\b\b\b\b\b\b\b\b\b\b\b\b\b\b\b\b\b\b\b\b\b\b\b\b\b\b\b\b\b\b\b\b\b\b\b\b\b\b\b\b\b\b\b\b\b\b\b\b\b\b\b\b\b\b\b\b\b\b\b\b\b\b\b\b\b\b\b\b\b\b\b\b\b\b\b\b\b\b\b\b\r124/666 [====>.........................] - ETA: 14:21 - loss: 0.1561 - acc: 0.0595 - precision_m: 0.0654 - recall_m: 0.0408"
        },
        {
          "output_type": "stream",
          "name": "stderr",
          "text": "2023-03-04 19:52:45.081646: I tensorflow/compiler/xla/stream_executor/cuda/cuda_dnn.cc:428] Loaded cuDNN version 8204\n2023-03-04 19:52:45.334299: I tensorflow/tsl/platform/default/subprocess.cc:304] Start cannot spawn child process: No such file or directory\n2023-03-04 19:52:45.724572: I tensorflow/compiler/xla/service/service.cc:173] XLA service 0x7fa0d1b94110 initialized for platform CUDA (this does not guarantee that XLA will be used). Devices:\n2023-03-04 19:52:45.724612: I tensorflow/compiler/xla/service/service.cc:181]   StreamExecutor device (0): Tesla K80, Compute Capability 3.7\n2023-03-04 19:52:45.766124: I tensorflow/tsl/platform/default/subprocess.cc:304] Start cannot spawn child process: No such file or directory\n2023-03-04 19:52:45.961220: I tensorflow/compiler/jit/xla_compilation_cache.cc:477] Compiled cluster using XLA!  This line is logged at most once for the lifetime of the process.\n2023-03-04 19:52:47.785159: I tensorflow/compiler/mlir/tensorflow/utils/dump_mlir_util.cc:268] disabling MLIR crash reproducer, set env var `MLIR_CRASH_REPRODUCER_DIRECTORY` to enable.\n"
        },
        {
          "output_type": "error",
          "ename": "KeyboardInterrupt",
          "evalue": "",
          "traceback": [
            "\u001b[0;31m---------------------------------------------------------------------------\u001b[0m",
            "\u001b[0;31mKeyboardInterrupt\u001b[0m                         Traceback (most recent call last)",
            "Cell \u001b[0;32mIn[27], line 3\u001b[0m\n\u001b[1;32m      1\u001b[0m \u001b[38;5;66;03m# Train the model, logs the results of the training in history\u001b[39;00m\n\u001b[0;32m----> 3\u001b[0m history \u001b[38;5;241m=\u001b[39m \u001b[43mmodel\u001b[49m\u001b[38;5;241;43m.\u001b[39;49m\u001b[43mfit\u001b[49m\u001b[43m(\u001b[49m\u001b[43mtrain_generator\u001b[49m\u001b[43m,\u001b[49m\u001b[43m \u001b[49m\n\u001b[1;32m      4\u001b[0m \u001b[43m                    \u001b[49m\u001b[43msteps_per_epoch\u001b[49m\u001b[43m \u001b[49m\u001b[38;5;241;43m=\u001b[39;49m\u001b[43m \u001b[49m\u001b[43msteps_per_epoch_train\u001b[49m\u001b[43m,\u001b[49m\u001b[43m \u001b[49m\n\u001b[1;32m      5\u001b[0m \u001b[43m                    \u001b[49m\u001b[43mepochs\u001b[49m\u001b[43m \u001b[49m\u001b[38;5;241;43m=\u001b[39;49m\u001b[43m \u001b[49m\u001b[43mnum_epochs\u001b[49m\u001b[43m,\u001b[49m\u001b[43m \u001b[49m\n\u001b[1;32m      6\u001b[0m \u001b[43m                    \u001b[49m\u001b[43mvalidation_data\u001b[49m\u001b[43m \u001b[49m\u001b[38;5;241;43m=\u001b[39;49m\u001b[43m \u001b[49m\u001b[43mvalidation_generator\u001b[49m\u001b[43m,\u001b[49m\u001b[43m \u001b[49m\n\u001b[1;32m      7\u001b[0m \u001b[43m                    \u001b[49m\u001b[43mvalidation_steps\u001b[49m\u001b[43m \u001b[49m\u001b[38;5;241;43m=\u001b[39;49m\u001b[43m \u001b[49m\u001b[43msteps_per_epoch_valid\u001b[49m\u001b[43m,\u001b[49m\n\u001b[1;32m      8\u001b[0m \u001b[43m                    \u001b[49m\u001b[43mcallbacks\u001b[49m\u001b[43m \u001b[49m\u001b[38;5;241;43m=\u001b[39;49m\u001b[43m \u001b[49m\u001b[43mcallbacks\u001b[49m\u001b[43m,\u001b[49m\n\u001b[1;32m      9\u001b[0m \u001b[43m                    \u001b[49m\u001b[43mverbose\u001b[49m\u001b[43m \u001b[49m\u001b[38;5;241;43m=\u001b[39;49m\u001b[43m \u001b[49m\u001b[38;5;241;43m1\u001b[39;49m\u001b[43m,\u001b[49m\n\u001b[1;32m     10\u001b[0m \u001b[43m                    \u001b[49m\u001b[43mclass_weight\u001b[49m\u001b[38;5;241;43m=\u001b[39;49m\u001b[43mclass_weight\u001b[49m\u001b[43m)\u001b[49m\n",
            "File \u001b[0;32m/anaconda/envs/coralnet/lib/python3.8/site-packages/keras/utils/traceback_utils.py:65\u001b[0m, in \u001b[0;36mfilter_traceback.<locals>.error_handler\u001b[0;34m(*args, **kwargs)\u001b[0m\n\u001b[1;32m     63\u001b[0m filtered_tb \u001b[38;5;241m=\u001b[39m \u001b[38;5;28;01mNone\u001b[39;00m\n\u001b[1;32m     64\u001b[0m \u001b[38;5;28;01mtry\u001b[39;00m:\n\u001b[0;32m---> 65\u001b[0m     \u001b[38;5;28;01mreturn\u001b[39;00m \u001b[43mfn\u001b[49m\u001b[43m(\u001b[49m\u001b[38;5;241;43m*\u001b[39;49m\u001b[43margs\u001b[49m\u001b[43m,\u001b[49m\u001b[43m \u001b[49m\u001b[38;5;241;43m*\u001b[39;49m\u001b[38;5;241;43m*\u001b[39;49m\u001b[43mkwargs\u001b[49m\u001b[43m)\u001b[49m\n\u001b[1;32m     66\u001b[0m \u001b[38;5;28;01mexcept\u001b[39;00m \u001b[38;5;167;01mException\u001b[39;00m \u001b[38;5;28;01mas\u001b[39;00m e:\n\u001b[1;32m     67\u001b[0m     filtered_tb \u001b[38;5;241m=\u001b[39m _process_traceback_frames(e\u001b[38;5;241m.\u001b[39m__traceback__)\n",
            "File \u001b[0;32m/anaconda/envs/coralnet/lib/python3.8/site-packages/keras/engine/training.py:1656\u001b[0m, in \u001b[0;36mModel.fit\u001b[0;34m(self, x, y, batch_size, epochs, verbose, callbacks, validation_split, validation_data, shuffle, class_weight, sample_weight, initial_epoch, steps_per_epoch, validation_steps, validation_batch_size, validation_freq, max_queue_size, workers, use_multiprocessing)\u001b[0m\n\u001b[1;32m   1654\u001b[0m logs \u001b[38;5;241m=\u001b[39m tmp_logs\n\u001b[1;32m   1655\u001b[0m end_step \u001b[38;5;241m=\u001b[39m step \u001b[38;5;241m+\u001b[39m data_handler\u001b[38;5;241m.\u001b[39mstep_increment\n\u001b[0;32m-> 1656\u001b[0m \u001b[43mcallbacks\u001b[49m\u001b[38;5;241;43m.\u001b[39;49m\u001b[43mon_train_batch_end\u001b[49m\u001b[43m(\u001b[49m\u001b[43mend_step\u001b[49m\u001b[43m,\u001b[49m\u001b[43m \u001b[49m\u001b[43mlogs\u001b[49m\u001b[43m)\u001b[49m\n\u001b[1;32m   1657\u001b[0m \u001b[38;5;28;01mif\u001b[39;00m \u001b[38;5;28mself\u001b[39m\u001b[38;5;241m.\u001b[39mstop_training:\n\u001b[1;32m   1658\u001b[0m     \u001b[38;5;28;01mbreak\u001b[39;00m\n",
            "File \u001b[0;32m/anaconda/envs/coralnet/lib/python3.8/site-packages/keras/callbacks.py:476\u001b[0m, in \u001b[0;36mCallbackList.on_train_batch_end\u001b[0;34m(self, batch, logs)\u001b[0m\n\u001b[1;32m    469\u001b[0m \u001b[38;5;124;03m\"\"\"Calls the `on_train_batch_end` methods of its callbacks.\u001b[39;00m\n\u001b[1;32m    470\u001b[0m \n\u001b[1;32m    471\u001b[0m \u001b[38;5;124;03mArgs:\u001b[39;00m\n\u001b[1;32m    472\u001b[0m \u001b[38;5;124;03m    batch: Integer, index of batch within the current epoch.\u001b[39;00m\n\u001b[1;32m    473\u001b[0m \u001b[38;5;124;03m    logs: Dict. Aggregated metric results up until this batch.\u001b[39;00m\n\u001b[1;32m    474\u001b[0m \u001b[38;5;124;03m\"\"\"\u001b[39;00m\n\u001b[1;32m    475\u001b[0m \u001b[38;5;28;01mif\u001b[39;00m \u001b[38;5;28mself\u001b[39m\u001b[38;5;241m.\u001b[39m_should_call_train_batch_hooks:\n\u001b[0;32m--> 476\u001b[0m     \u001b[38;5;28;43mself\u001b[39;49m\u001b[38;5;241;43m.\u001b[39;49m\u001b[43m_call_batch_hook\u001b[49m\u001b[43m(\u001b[49m\u001b[43mModeKeys\u001b[49m\u001b[38;5;241;43m.\u001b[39;49m\u001b[43mTRAIN\u001b[49m\u001b[43m,\u001b[49m\u001b[43m \u001b[49m\u001b[38;5;124;43m\"\u001b[39;49m\u001b[38;5;124;43mend\u001b[39;49m\u001b[38;5;124;43m\"\u001b[39;49m\u001b[43m,\u001b[49m\u001b[43m \u001b[49m\u001b[43mbatch\u001b[49m\u001b[43m,\u001b[49m\u001b[43m \u001b[49m\u001b[43mlogs\u001b[49m\u001b[38;5;241;43m=\u001b[39;49m\u001b[43mlogs\u001b[49m\u001b[43m)\u001b[49m\n",
            "File \u001b[0;32m/anaconda/envs/coralnet/lib/python3.8/site-packages/keras/callbacks.py:323\u001b[0m, in \u001b[0;36mCallbackList._call_batch_hook\u001b[0;34m(self, mode, hook, batch, logs)\u001b[0m\n\u001b[1;32m    321\u001b[0m     \u001b[38;5;28mself\u001b[39m\u001b[38;5;241m.\u001b[39m_call_batch_begin_hook(mode, batch, logs)\n\u001b[1;32m    322\u001b[0m \u001b[38;5;28;01melif\u001b[39;00m hook \u001b[38;5;241m==\u001b[39m \u001b[38;5;124m\"\u001b[39m\u001b[38;5;124mend\u001b[39m\u001b[38;5;124m\"\u001b[39m:\n\u001b[0;32m--> 323\u001b[0m     \u001b[38;5;28;43mself\u001b[39;49m\u001b[38;5;241;43m.\u001b[39;49m\u001b[43m_call_batch_end_hook\u001b[49m\u001b[43m(\u001b[49m\u001b[43mmode\u001b[49m\u001b[43m,\u001b[49m\u001b[43m \u001b[49m\u001b[43mbatch\u001b[49m\u001b[43m,\u001b[49m\u001b[43m \u001b[49m\u001b[43mlogs\u001b[49m\u001b[43m)\u001b[49m\n\u001b[1;32m    324\u001b[0m \u001b[38;5;28;01melse\u001b[39;00m:\n\u001b[1;32m    325\u001b[0m     \u001b[38;5;28;01mraise\u001b[39;00m \u001b[38;5;167;01mValueError\u001b[39;00m(\n\u001b[1;32m    326\u001b[0m         \u001b[38;5;124mf\u001b[39m\u001b[38;5;124m\"\u001b[39m\u001b[38;5;124mUnrecognized hook: \u001b[39m\u001b[38;5;132;01m{\u001b[39;00mhook\u001b[38;5;132;01m}\u001b[39;00m\u001b[38;5;124m. \u001b[39m\u001b[38;5;124m\"\u001b[39m\n\u001b[1;32m    327\u001b[0m         \u001b[38;5;124m'\u001b[39m\u001b[38;5;124mExpected values are [\u001b[39m\u001b[38;5;124m\"\u001b[39m\u001b[38;5;124mbegin\u001b[39m\u001b[38;5;124m\"\u001b[39m\u001b[38;5;124m, \u001b[39m\u001b[38;5;124m\"\u001b[39m\u001b[38;5;124mend\u001b[39m\u001b[38;5;124m\"\u001b[39m\u001b[38;5;124m]\u001b[39m\u001b[38;5;124m'\u001b[39m\n\u001b[1;32m    328\u001b[0m     )\n",
            "File \u001b[0;32m/anaconda/envs/coralnet/lib/python3.8/site-packages/keras/callbacks.py:346\u001b[0m, in \u001b[0;36mCallbackList._call_batch_end_hook\u001b[0;34m(self, mode, batch, logs)\u001b[0m\n\u001b[1;32m    343\u001b[0m     batch_time \u001b[38;5;241m=\u001b[39m time\u001b[38;5;241m.\u001b[39mtime() \u001b[38;5;241m-\u001b[39m \u001b[38;5;28mself\u001b[39m\u001b[38;5;241m.\u001b[39m_batch_start_time\n\u001b[1;32m    344\u001b[0m     \u001b[38;5;28mself\u001b[39m\u001b[38;5;241m.\u001b[39m_batch_times\u001b[38;5;241m.\u001b[39mappend(batch_time)\n\u001b[0;32m--> 346\u001b[0m \u001b[38;5;28;43mself\u001b[39;49m\u001b[38;5;241;43m.\u001b[39;49m\u001b[43m_call_batch_hook_helper\u001b[49m\u001b[43m(\u001b[49m\u001b[43mhook_name\u001b[49m\u001b[43m,\u001b[49m\u001b[43m \u001b[49m\u001b[43mbatch\u001b[49m\u001b[43m,\u001b[49m\u001b[43m \u001b[49m\u001b[43mlogs\u001b[49m\u001b[43m)\u001b[49m\n\u001b[1;32m    348\u001b[0m \u001b[38;5;28;01mif\u001b[39;00m \u001b[38;5;28mlen\u001b[39m(\u001b[38;5;28mself\u001b[39m\u001b[38;5;241m.\u001b[39m_batch_times) \u001b[38;5;241m>\u001b[39m\u001b[38;5;241m=\u001b[39m \u001b[38;5;28mself\u001b[39m\u001b[38;5;241m.\u001b[39m_num_batches_for_timing_check:\n\u001b[1;32m    349\u001b[0m     end_hook_name \u001b[38;5;241m=\u001b[39m hook_name\n",
            "File \u001b[0;32m/anaconda/envs/coralnet/lib/python3.8/site-packages/keras/callbacks.py:394\u001b[0m, in \u001b[0;36mCallbackList._call_batch_hook_helper\u001b[0;34m(self, hook_name, batch, logs)\u001b[0m\n\u001b[1;32m    392\u001b[0m \u001b[38;5;28;01mfor\u001b[39;00m callback \u001b[38;5;129;01min\u001b[39;00m \u001b[38;5;28mself\u001b[39m\u001b[38;5;241m.\u001b[39mcallbacks:\n\u001b[1;32m    393\u001b[0m     hook \u001b[38;5;241m=\u001b[39m \u001b[38;5;28mgetattr\u001b[39m(callback, hook_name)\n\u001b[0;32m--> 394\u001b[0m     \u001b[43mhook\u001b[49m\u001b[43m(\u001b[49m\u001b[43mbatch\u001b[49m\u001b[43m,\u001b[49m\u001b[43m \u001b[49m\u001b[43mlogs\u001b[49m\u001b[43m)\u001b[49m\n\u001b[1;32m    396\u001b[0m \u001b[38;5;28;01mif\u001b[39;00m \u001b[38;5;28mself\u001b[39m\u001b[38;5;241m.\u001b[39m_check_timing:\n\u001b[1;32m    397\u001b[0m     \u001b[38;5;28;01mif\u001b[39;00m hook_name \u001b[38;5;129;01mnot\u001b[39;00m \u001b[38;5;129;01min\u001b[39;00m \u001b[38;5;28mself\u001b[39m\u001b[38;5;241m.\u001b[39m_hook_times:\n",
            "File \u001b[0;32m/anaconda/envs/coralnet/lib/python3.8/site-packages/keras/callbacks.py:1094\u001b[0m, in \u001b[0;36mProgbarLogger.on_train_batch_end\u001b[0;34m(self, batch, logs)\u001b[0m\n\u001b[1;32m   1093\u001b[0m \u001b[38;5;28;01mdef\u001b[39;00m \u001b[38;5;21mon_train_batch_end\u001b[39m(\u001b[38;5;28mself\u001b[39m, batch, logs\u001b[38;5;241m=\u001b[39m\u001b[38;5;28;01mNone\u001b[39;00m):\n\u001b[0;32m-> 1094\u001b[0m     \u001b[38;5;28;43mself\u001b[39;49m\u001b[38;5;241;43m.\u001b[39;49m\u001b[43m_batch_update_progbar\u001b[49m\u001b[43m(\u001b[49m\u001b[43mbatch\u001b[49m\u001b[43m,\u001b[49m\u001b[43m \u001b[49m\u001b[43mlogs\u001b[49m\u001b[43m)\u001b[49m\n",
            "File \u001b[0;32m/anaconda/envs/coralnet/lib/python3.8/site-packages/keras/callbacks.py:1170\u001b[0m, in \u001b[0;36mProgbarLogger._batch_update_progbar\u001b[0;34m(self, batch, logs)\u001b[0m\n\u001b[1;32m   1166\u001b[0m     \u001b[38;5;28mself\u001b[39m\u001b[38;5;241m.\u001b[39mseen \u001b[38;5;241m+\u001b[39m\u001b[38;5;241m=\u001b[39m add_seen\n\u001b[1;32m   1168\u001b[0m \u001b[38;5;28;01mif\u001b[39;00m \u001b[38;5;28mself\u001b[39m\u001b[38;5;241m.\u001b[39mverbose \u001b[38;5;241m==\u001b[39m \u001b[38;5;241m1\u001b[39m:\n\u001b[1;32m   1169\u001b[0m     \u001b[38;5;66;03m# Only block async when verbose = 1.\u001b[39;00m\n\u001b[0;32m-> 1170\u001b[0m     logs \u001b[38;5;241m=\u001b[39m \u001b[43mtf_utils\u001b[49m\u001b[38;5;241;43m.\u001b[39;49m\u001b[43msync_to_numpy_or_python_type\u001b[49m\u001b[43m(\u001b[49m\u001b[43mlogs\u001b[49m\u001b[43m)\u001b[49m\n\u001b[1;32m   1171\u001b[0m     \u001b[38;5;28mself\u001b[39m\u001b[38;5;241m.\u001b[39mprogbar\u001b[38;5;241m.\u001b[39mupdate(\u001b[38;5;28mself\u001b[39m\u001b[38;5;241m.\u001b[39mseen, \u001b[38;5;28mlist\u001b[39m(logs\u001b[38;5;241m.\u001b[39mitems()), finalize\u001b[38;5;241m=\u001b[39m\u001b[38;5;28;01mFalse\u001b[39;00m)\n",
            "File \u001b[0;32m/anaconda/envs/coralnet/lib/python3.8/site-packages/keras/utils/tf_utils.py:665\u001b[0m, in \u001b[0;36msync_to_numpy_or_python_type\u001b[0;34m(tensors)\u001b[0m\n\u001b[1;32m    662\u001b[0m         \u001b[38;5;28;01mreturn\u001b[39;00m t\n\u001b[1;32m    663\u001b[0m     \u001b[38;5;28;01mreturn\u001b[39;00m t\u001b[38;5;241m.\u001b[39mitem() \u001b[38;5;28;01mif\u001b[39;00m np\u001b[38;5;241m.\u001b[39mndim(t) \u001b[38;5;241m==\u001b[39m \u001b[38;5;241m0\u001b[39m \u001b[38;5;28;01melse\u001b[39;00m t\n\u001b[0;32m--> 665\u001b[0m \u001b[38;5;28;01mreturn\u001b[39;00m \u001b[43mtf\u001b[49m\u001b[38;5;241;43m.\u001b[39;49m\u001b[43mnest\u001b[49m\u001b[38;5;241;43m.\u001b[39;49m\u001b[43mmap_structure\u001b[49m\u001b[43m(\u001b[49m\u001b[43m_to_single_numpy_or_python_type\u001b[49m\u001b[43m,\u001b[49m\u001b[43m \u001b[49m\u001b[43mtensors\u001b[49m\u001b[43m)\u001b[49m\n",
            "File \u001b[0;32m/anaconda/envs/coralnet/lib/python3.8/site-packages/tensorflow/python/util/nest.py:917\u001b[0m, in \u001b[0;36mmap_structure\u001b[0;34m(func, *structure, **kwargs)\u001b[0m\n\u001b[1;32m    913\u001b[0m flat_structure \u001b[38;5;241m=\u001b[39m (flatten(s, expand_composites) \u001b[38;5;28;01mfor\u001b[39;00m s \u001b[38;5;129;01min\u001b[39;00m structure)\n\u001b[1;32m    914\u001b[0m entries \u001b[38;5;241m=\u001b[39m \u001b[38;5;28mzip\u001b[39m(\u001b[38;5;241m*\u001b[39mflat_structure)\n\u001b[1;32m    916\u001b[0m \u001b[38;5;28;01mreturn\u001b[39;00m pack_sequence_as(\n\u001b[0;32m--> 917\u001b[0m     structure[\u001b[38;5;241m0\u001b[39m], [func(\u001b[38;5;241m*\u001b[39mx) \u001b[38;5;28;01mfor\u001b[39;00m x \u001b[38;5;129;01min\u001b[39;00m entries],\n\u001b[1;32m    918\u001b[0m     expand_composites\u001b[38;5;241m=\u001b[39mexpand_composites)\n",
            "File \u001b[0;32m/anaconda/envs/coralnet/lib/python3.8/site-packages/tensorflow/python/util/nest.py:917\u001b[0m, in \u001b[0;36m<listcomp>\u001b[0;34m(.0)\u001b[0m\n\u001b[1;32m    913\u001b[0m flat_structure \u001b[38;5;241m=\u001b[39m (flatten(s, expand_composites) \u001b[38;5;28;01mfor\u001b[39;00m s \u001b[38;5;129;01min\u001b[39;00m structure)\n\u001b[1;32m    914\u001b[0m entries \u001b[38;5;241m=\u001b[39m \u001b[38;5;28mzip\u001b[39m(\u001b[38;5;241m*\u001b[39mflat_structure)\n\u001b[1;32m    916\u001b[0m \u001b[38;5;28;01mreturn\u001b[39;00m pack_sequence_as(\n\u001b[0;32m--> 917\u001b[0m     structure[\u001b[38;5;241m0\u001b[39m], [\u001b[43mfunc\u001b[49m\u001b[43m(\u001b[49m\u001b[38;5;241;43m*\u001b[39;49m\u001b[43mx\u001b[49m\u001b[43m)\u001b[49m \u001b[38;5;28;01mfor\u001b[39;00m x \u001b[38;5;129;01min\u001b[39;00m entries],\n\u001b[1;32m    918\u001b[0m     expand_composites\u001b[38;5;241m=\u001b[39mexpand_composites)\n",
            "File \u001b[0;32m/anaconda/envs/coralnet/lib/python3.8/site-packages/keras/utils/tf_utils.py:658\u001b[0m, in \u001b[0;36msync_to_numpy_or_python_type.<locals>._to_single_numpy_or_python_type\u001b[0;34m(t)\u001b[0m\n\u001b[1;32m    655\u001b[0m \u001b[38;5;28;01mdef\u001b[39;00m \u001b[38;5;21m_to_single_numpy_or_python_type\u001b[39m(t):\n\u001b[1;32m    656\u001b[0m     \u001b[38;5;66;03m# Don't turn ragged or sparse tensors to NumPy.\u001b[39;00m\n\u001b[1;32m    657\u001b[0m     \u001b[38;5;28;01mif\u001b[39;00m \u001b[38;5;28misinstance\u001b[39m(t, tf\u001b[38;5;241m.\u001b[39mTensor):\n\u001b[0;32m--> 658\u001b[0m         t \u001b[38;5;241m=\u001b[39m \u001b[43mt\u001b[49m\u001b[38;5;241;43m.\u001b[39;49m\u001b[43mnumpy\u001b[49m\u001b[43m(\u001b[49m\u001b[43m)\u001b[49m\n\u001b[1;32m    659\u001b[0m     \u001b[38;5;66;03m# Strings, ragged and sparse tensors don't have .item(). Return them\u001b[39;00m\n\u001b[1;32m    660\u001b[0m     \u001b[38;5;66;03m# as-is.\u001b[39;00m\n\u001b[1;32m    661\u001b[0m     \u001b[38;5;28;01mif\u001b[39;00m \u001b[38;5;129;01mnot\u001b[39;00m \u001b[38;5;28misinstance\u001b[39m(t, (np\u001b[38;5;241m.\u001b[39mndarray, np\u001b[38;5;241m.\u001b[39mgeneric)):\n",
            "File \u001b[0;32m/anaconda/envs/coralnet/lib/python3.8/site-packages/tensorflow/python/framework/ops.py:1155\u001b[0m, in \u001b[0;36m_EagerTensorBase.numpy\u001b[0;34m(self)\u001b[0m\n\u001b[1;32m   1132\u001b[0m \u001b[38;5;124;03m\"\"\"Copy of the contents of this Tensor into a NumPy array or scalar.\u001b[39;00m\n\u001b[1;32m   1133\u001b[0m \n\u001b[1;32m   1134\u001b[0m \u001b[38;5;124;03mUnlike NumPy arrays, Tensors are immutable, so this method has to copy\u001b[39;00m\n\u001b[0;32m   (...)\u001b[0m\n\u001b[1;32m   1152\u001b[0m \u001b[38;5;124;03m    NumPy dtype.\u001b[39;00m\n\u001b[1;32m   1153\u001b[0m \u001b[38;5;124;03m\"\"\"\u001b[39;00m\n\u001b[1;32m   1154\u001b[0m \u001b[38;5;66;03m# TODO(slebedev): Consider avoiding a copy for non-CPU or remote tensors.\u001b[39;00m\n\u001b[0;32m-> 1155\u001b[0m maybe_arr \u001b[38;5;241m=\u001b[39m \u001b[38;5;28;43mself\u001b[39;49m\u001b[38;5;241;43m.\u001b[39;49m\u001b[43m_numpy\u001b[49m\u001b[43m(\u001b[49m\u001b[43m)\u001b[49m  \u001b[38;5;66;03m# pylint: disable=protected-access\u001b[39;00m\n\u001b[1;32m   1156\u001b[0m \u001b[38;5;28;01mreturn\u001b[39;00m maybe_arr\u001b[38;5;241m.\u001b[39mcopy() \u001b[38;5;28;01mif\u001b[39;00m \u001b[38;5;28misinstance\u001b[39m(maybe_arr, np\u001b[38;5;241m.\u001b[39mndarray) \u001b[38;5;28;01melse\u001b[39;00m maybe_arr\n",
            "File \u001b[0;32m/anaconda/envs/coralnet/lib/python3.8/site-packages/tensorflow/python/framework/ops.py:1121\u001b[0m, in \u001b[0;36m_EagerTensorBase._numpy\u001b[0;34m(self)\u001b[0m\n\u001b[1;32m   1119\u001b[0m \u001b[38;5;28;01mdef\u001b[39;00m \u001b[38;5;21m_numpy\u001b[39m(\u001b[38;5;28mself\u001b[39m):\n\u001b[1;32m   1120\u001b[0m   \u001b[38;5;28;01mtry\u001b[39;00m:\n\u001b[0;32m-> 1121\u001b[0m     \u001b[38;5;28;01mreturn\u001b[39;00m \u001b[38;5;28;43mself\u001b[39;49m\u001b[38;5;241;43m.\u001b[39;49m\u001b[43m_numpy_internal\u001b[49m\u001b[43m(\u001b[49m\u001b[43m)\u001b[49m\n\u001b[1;32m   1122\u001b[0m   \u001b[38;5;28;01mexcept\u001b[39;00m core\u001b[38;5;241m.\u001b[39m_NotOkStatusException \u001b[38;5;28;01mas\u001b[39;00m e:  \u001b[38;5;66;03m# pylint: disable=protected-access\u001b[39;00m\n\u001b[1;32m   1123\u001b[0m     \u001b[38;5;28;01mraise\u001b[39;00m core\u001b[38;5;241m.\u001b[39m_status_to_exception(e) \u001b[38;5;28;01mfrom\u001b[39;00m \u001b[38;5;28mNone\u001b[39m\n",
            "\u001b[0;31mKeyboardInterrupt\u001b[0m: "
          ]
        }
      ],
      "execution_count": 27,
      "metadata": {
        "gather": {
          "logged": 1677959783746
        }
      }
    },
    {
      "cell_type": "code",
      "source": [
        "# After training, loads the best weights\n",
        "best_weights = sorted(glob.glob(WEIGHTS_DIR + \"*.h5\"), key=os.path.getmtime)[-1]\n",
        "print(\"Best Weights: \", best_weights)\n",
        "model.load_weights(best_weights)"
      ],
      "outputs": [],
      "execution_count": null,
      "metadata": {
        "gather": {
          "logged": 1677957277190
        }
      }
    },
    {
      "cell_type": "code",
      "source": [
        "# Reads from dataframe for test set\n",
        "test_generator = validate_augmentor.flow_from_dataframe(dataframe = test, \n",
        "                                                        x_col = 'Patch_Name', \n",
        "                                                        y_col = 'Label', \n",
        "                                                        target_size = (224, 224), \n",
        "                                                        color_mode = \"rgb\",  \n",
        "                                                        class_mode = 'categorical', \n",
        "                                                        batch_size = batch_size, \n",
        "                                                        shuffle = False, \n",
        "                                                        seed = 42)\n",
        "# Defines the length of an epoch\n",
        "steps_per_epoch_test = len(data)//1"
      ],
      "outputs": [],
      "execution_count": null,
      "metadata": {
        "gather": {
          "logged": 1677957304429
        }
      }
    },
    {
      "cell_type": "code",
      "source": [
        "# Provides a confusion matrix of the results\n",
        "# Results, stores predictions for thresholding\n",
        "predictions = model.predict_generator(test_generator, steps = steps_per_epoch_test)\n",
        "predict_classes = np.argmax(predictions, axis = 1)\n",
        "test_y = test_generator.classes\n",
        "\n",
        "print(\"# of images:\", len(predict_classes))\n",
        "cm = confusion_matrix(y_true = test_y, y_pred = predict_classes)\n",
        "disp = ConfusionMatrixDisplay(confusion_matrix=cm,\n",
        "                              display_labels=class_categories)\n",
        "\n",
        "overall_accuracy = accuracy_score(y_true = test_y,\n",
        "                                  y_pred = predict_classes)\n",
        "\n",
        "class_accuracy = cm.diagonal()/cm.sum(axis=1)\n",
        "class_accuracy = dict(zip(class_categories, class_accuracy))\n",
        "\n",
        "df = pd.DataFrame(list(zip(class_accuracy.keys(), class_accuracy.values())),\n",
        "                  columns=['Class', 'Accuracy'])\n",
        "\n",
        "df.to_csv(EXP_FOLDER + \"ClassAccuracy.csv\")\n",
        "\n",
        "fig, ax = plt.subplots(figsize=(30, 30))\n",
        "plt.title(\"Overall Accuracy :\" + str(overall_accuracy))\n",
        "disp.plot(ax=ax)\n",
        "plt.savefig(EXP_FOLDER + \"ConfusionMatrix.png\")\n",
        "print(\"Class Accuracy: \", df)"
      ],
      "outputs": [],
      "execution_count": null,
      "metadata": {
        "gather": {
          "logged": 1677957389331
        }
      }
    },
    {
      "cell_type": "code",
      "source": [
        "# Higher values represents more sure/confident predictions\n",
        "# .1 unsure -> .5 pretty sure -> .9 very sure\n",
        "\n",
        "# Look at creating a graph of the threshold values and the accuracy\n",
        "# useful for determing how sure the model is when making predictions\n",
        "\n",
        "threshold_values = np.arange(0.0, 1.0, 0.05)\n",
        "class_ACC = []\n",
        "\n",
        "for threshold in threshold_values:\n",
        "    sure_index = []\n",
        "\n",
        "    for i in range(0, len(predictions)):\n",
        "        if( (sorted(predictions[i])[-1]) - (sorted(predictions[i])[-2]) > threshold):\n",
        "            sure_index.append(i)\n",
        "\n",
        "    sure_test_y = np.take(test_y, sure_index, axis = 0)\n",
        "    sure_pred_y = np.take(predict_classes, sure_index)\n",
        "\n",
        "    class_ACC.append(accuracy_score(sure_test_y, sure_pred_y)) \n",
        "\n",
        "plt.figure(figsize=(10, 5))\n",
        "plt.plot(threshold_values, class_ACC)\n",
        "plt.xlabel('Threshold Values')\n",
        "plt.xlim([0, 1])\n",
        "plt.xticks(ticks = np.arange(0, 1.05, 0.1))\n",
        "plt.ylabel('Classification Accuracy')\n",
        "plt.title('Identifying the ideal threshold value')\n",
        "plt.savefig(EXP_FOLDER + \"AccuracyThreshold.png\")\n",
        "plt.show()"
      ],
      "outputs": [],
      "execution_count": null,
      "metadata": {
        "gather": {
          "logged": 1677957389849
        }
      }
    },
    {
      "cell_type": "code",
      "source": [
        "model.save(WEIGHTS_DIR + \"Best_Model_and_Weights.h5\")"
      ],
      "outputs": [],
      "execution_count": null,
      "metadata": {
        "gather": {
          "logged": 1677957392344
        }
      }
    },
    {
      "cell_type": "code",
      "source": [],
      "outputs": [],
      "execution_count": null,
      "metadata": {
        "jupyter": {
          "source_hidden": false,
          "outputs_hidden": false
        },
        "nteract": {
          "transient": {
            "deleting": false
          }
        }
      }
    }
  ],
  "metadata": {
    "kernel_info": {
      "name": "coralnet"
    },
    "kernelspec": {
      "name": "coralnet",
      "language": "python",
      "display_name": "CoralNet"
    },
    "language_info": {
      "name": "python",
      "version": "3.8.16",
      "mimetype": "text/x-python",
      "codemirror_mode": {
        "name": "ipython",
        "version": 3
      },
      "pygments_lexer": "ipython3",
      "nbconvert_exporter": "python",
      "file_extension": ".py"
    },
    "microsoft": {
      "ms_spell_check": {
        "ms_spell_check_language": "en"
      },
      "host": {
        "AzureML": {
          "notebookHasBeenCompleted": true
        }
      }
    },
    "nteract": {
      "version": "nteract-front-end@1.0.0"
    },
    "vscode": {
      "interpreter": {
        "hash": "29187d11294c07bea965194f215d76d7c863eddc7d453727fd722f0612a38c27"
      }
    }
  },
  "nbformat": 4,
  "nbformat_minor": 2
}