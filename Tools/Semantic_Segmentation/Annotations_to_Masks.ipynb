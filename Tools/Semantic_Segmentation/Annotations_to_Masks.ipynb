{
 "cells": [
  {
   "cell_type": "code",
   "execution_count": null,
   "metadata": {},
   "outputs": [],
   "source": [
    "import os\n",
    "import glob\n",
    "\n",
    "import numpy as np\n",
    "import pandas as pd\n",
    "from PIL import Image\n",
    "import matplotlib.pyplot as plt\n",
    "from skimage.io import imread, imsave"
   ]
  },
  {
   "cell_type": "code",
   "execution_count": null,
   "metadata": {},
   "outputs": [],
   "source": [
    "short_codes = [\n",
    "    'Background',\n",
    "    'LC_Fol', \n",
    "    'LC_Branch', \n",
    "    'Ar_TA', \n",
    "    'LC_Por', \n",
    "    'UDC_CCA', \n",
    "    'Ro_TA', \n",
    "    'Pa_FA', \n",
    "    'Mu_Ba', \n",
    "    'CR_TA', \n",
    "    'Pa_Cy', \n",
    "    'LC_Encr', \n",
    "    'Sa_Ba', \n",
    "    'Pa_H', \n",
    "    'Pa_TA', \n",
    "    'UDC_H', \n",
    "    'CR_FA', \n",
    "    'Ro_CCA', \n",
    "    'Mu_Cy', \n",
    "    'UDC_TA', \n",
    "    'Sa_Cy', \n",
    "    'UDC_FA', \n",
    "    'Ro_H', \n",
    "    'Sa_FA', \n",
    "    'Pa_CCA', \n",
    "    'Ro_Ba', \n",
    "    'Ro_Cy', \n",
    "    'Sa_TA', \n",
    "    'Ar_Ba', \n",
    "    'UDC_Cy', \n",
    "    'Ar_FA', \n",
    "    'CR_CCA'\n",
    "]\n",
    "\n",
    "# Creating a mapping of short codes to color values\n",
    "class2label = {k:i for i, k in enumerate(short_codes)}"
   ]
  },
  {
   "cell_type": "code",
   "execution_count": null,
   "metadata": {},
   "outputs": [],
   "source": [
    "data_root = \"/home/azureuser/cloudfiles/code/Users/jordan.pierce/Data/Guam_Saipan/3653/\"\n",
    "image_path = data_root + \"images/\"\n",
    "mask_path = data_root + \"masks/\"\n",
    "label_path = data_root + \"CNet_Annotations.csv\"\n",
    "\n",
    "os.makedirs(mask_path, exist_ok=True)\n",
    "\n",
    "df = pd.read_csv(label_path)\n",
    "df = df[df['Annotator'] == 'Imported']"
   ]
  },
  {
   "cell_type": "code",
   "execution_count": null,
   "metadata": {},
   "outputs": [],
   "source": [
    "def label_mask(mask, y, x, class_category, size=30):\n",
    "    \"\"\"Given an image, and a Y, X location, this function will extract the patch. \n",
    "        Default patch size is 112 x 112\"\"\"\n",
    "\n",
    "    mask[abs(size - y) : abs(size + y), abs(size - x) : abs(size + x)] = class_category\n",
    "    \n",
    "    return mask\n",
    "\n",
    "    \n",
    "mask_df = []\n",
    "\n",
    "for image_name in df['Name'].unique():\n",
    "\n",
    "    image_name = image_path + image_name\n",
    "    mask_name = mask_path + os.path.basename(image_name).split(\".\")[0] + \".npy\"\n",
    "\n",
    "    width, height = Image.open(image_name).size\n",
    "    mask = np.zeros(shape = (height, width), dtype=np.uint8)\n",
    "\n",
    "    image_df = df[df['Name'] == os.path.basename(image_name)]\n",
    "    \n",
    "    for i, r in image_df.iterrows():\n",
    "\n",
    "        y, x = r['Row'], r['Column']\n",
    "        class_category = class2label[r['Label']]\n",
    "        mask = label_mask(mask, y, x, class_category, 112)\n",
    "\n",
    "    try:\n",
    "        \n",
    "        np.save(file=mask_name, arr=mask)\n",
    "        mask_df.append([image_name, mask_name])\n",
    "\n",
    "    except Exception as e:\n",
    "        print(e)\n",
    "        pass \n",
    "       \n",
    "mask_df = pd.DataFrame(mask_df, columns=['Image', 'Mask'])\n",
    "mask_df.to_csv(data_root + \"Updated_CNet_Segmentation_Masks.csv\")"
   ]
  },
  {
   "cell_type": "code",
   "execution_count": null,
   "metadata": {},
   "outputs": [],
   "source": []
  }
 ],
 "metadata": {
  "kernelspec": {
   "display_name": "coralnet",
   "language": "python",
   "name": "python3"
  },
  "language_info": {
   "codemirror_mode": {
    "name": "ipython",
    "version": 3
   },
   "file_extension": ".py",
   "mimetype": "text/x-python",
   "name": "python",
   "nbconvert_exporter": "python",
   "pygments_lexer": "ipython3",
   "version": "3.8.16"
  },
  "orig_nbformat": 4,
  "vscode": {
   "interpreter": {
    "hash": "29187d11294c07bea965194f215d76d7c863eddc7d453727fd722f0612a38c27"
   }
  }
 },
 "nbformat": 4,
 "nbformat_minor": 2
}
