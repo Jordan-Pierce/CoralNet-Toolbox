{
 "cells": [
  {
   "cell_type": "code",
   "execution_count": 57,
   "metadata": {
    "gather": {
     "logged": 1682716064547
    },
    "jupyter": {
     "outputs_hidden": false,
     "source_hidden": false
    },
    "nteract": {
     "transient": {
      "deleting": false
     }
    }
   },
   "outputs": [],
   "source": [
    "import os\n",
    "import glob\n",
    "import time\n",
    "import tqdm\n",
    "\n",
    "from selenium import webdriver\n",
    "from selenium.webdriver.common.by import By\n",
    "from selenium.webdriver.support.ui import WebDriverWait\n",
    "from selenium.webdriver.support import expected_conditions as EC"
   ]
  },
  {
   "cell_type": "code",
   "execution_count": 79,
   "metadata": {},
   "outputs": [],
   "source": [
    "# Mission Iconic Reef's Source ID\n",
    "SOURCE_ID = 3993\n",
    "\n",
    "# Root path to data\n",
    "ROOT = \"C://Users/jordan.pierce/Documents/GitHub/CoralNet_Tools/Tools/CoralNet_Data/3420/\"\n",
    "\n",
    "# Path to Images to upload\n",
    "FOLDER_OF_IMAGES = glob.glob(ROOT + \"images/*.jpg\")\n",
    "\n",
    "# Path to Labelset file to upload\n",
    "LABELSET_PATH = ROOT + \"label_set.csv\"\n",
    "\n",
    "# Path to CSV file to upload\n",
    "CSV_PATH = ROOT + \"annotations.csv\""
   ]
  },
  {
   "cell_type": "code",
   "execution_count": 80,
   "metadata": {},
   "outputs": [],
   "source": [
    "assert os.getenv(\"CORALNET_USERNAME\") != None, print(\"Username not found\")\n",
    "assert os.getenv(\"CORALNET_PASSWORD\") != None, print(\"Password not found\")"
   ]
  },
  {
   "cell_type": "code",
   "execution_count": 81,
   "metadata": {},
   "outputs": [
    {
     "name": "stdout",
     "output_type": "stream",
     "text": [
      "Uploading:  C://Users/jordan.pierce/Documents/GitHub/CoralNet_Tools/Tools/CoralNet_Data/3420/images\\mcr_lter1_fringingreef_pole1-2_qu1_20080415.jpg\n",
      "Uploading:  C://Users/jordan.pierce/Documents/GitHub/CoralNet_Tools/Tools/CoralNet_Data/3420/images\\mcr_lter1_fringingreef_pole1-2_qu2_20080415.jpg\n",
      "Uploading:  C://Users/jordan.pierce/Documents/GitHub/CoralNet_Tools/Tools/CoralNet_Data/3420/images\\mcr_lter1_fringingreef_pole1-2_qu3_20080415.jpg\n",
      "Uploading:  C://Users/jordan.pierce/Documents/GitHub/CoralNet_Tools/Tools/CoralNet_Data/3420/images\\mcr_lter1_fringingreef_pole1-2_qu4_20080415.jpg\n",
      "Uploading:  C://Users/jordan.pierce/Documents/GitHub/CoralNet_Tools/Tools/CoralNet_Data/3420/images\\mcr_lter1_fringingreef_pole1-2_qu5_20080415.jpg\n",
      "Uploading:  C://Users/jordan.pierce/Documents/GitHub/CoralNet_Tools/Tools/CoralNet_Data/3420/images\\mcr_lter1_fringingreef_pole1-2_qu6_20080415.jpg\n",
      "Uploading:  C://Users/jordan.pierce/Documents/GitHub/CoralNet_Tools/Tools/CoralNet_Data/3420/images\\mcr_lter1_fringingreef_pole1-2_qu7_20080415.jpg\n",
      "Uploading:  C://Users/jordan.pierce/Documents/GitHub/CoralNet_Tools/Tools/CoralNet_Data/3420/images\\mcr_lter1_fringingreef_pole1-2_qu8_20080415.jpg\n",
      "Uploading:  C://Users/jordan.pierce/Documents/GitHub/CoralNet_Tools/Tools/CoralNet_Data/3420/images\\mcr_lter1_fringingreef_pole2-3_qu1_20080415.jpg\n",
      "Uploading:  C://Users/jordan.pierce/Documents/GitHub/CoralNet_Tools/Tools/CoralNet_Data/3420/images\\mcr_lter1_fringingreef_pole2-3_qu2_20080415.jpg\n",
      "Uploading:  C://Users/jordan.pierce/Documents/GitHub/CoralNet_Tools/Tools/CoralNet_Data/3420/images\\mcr_lter1_fringingreef_pole2-3_qu3_20080415.jpg\n",
      "Uploading:  C://Users/jordan.pierce/Documents/GitHub/CoralNet_Tools/Tools/CoralNet_Data/3420/images\\mcr_lter1_fringingreef_pole2-3_qu4_20080415.jpg\n",
      "Uploading:  C://Users/jordan.pierce/Documents/GitHub/CoralNet_Tools/Tools/CoralNet_Data/3420/images\\mcr_lter1_fringingreef_pole2-3_qu5_20080415.jpg\n",
      "Uploading:  C://Users/jordan.pierce/Documents/GitHub/CoralNet_Tools/Tools/CoralNet_Data/3420/images\\mcr_lter1_fringingreef_pole2-3_qu6_20080415.jpg\n",
      "Uploading:  C://Users/jordan.pierce/Documents/GitHub/CoralNet_Tools/Tools/CoralNet_Data/3420/images\\mcr_lter1_fringingreef_pole2-3_qu7_20080415.jpg\n",
      "Uploading:  C://Users/jordan.pierce/Documents/GitHub/CoralNet_Tools/Tools/CoralNet_Data/3420/images\\mcr_lter1_fringingreef_pole2-3_qu8_20080415.jpg\n",
      "Uploading:  C://Users/jordan.pierce/Documents/GitHub/CoralNet_Tools/Tools/CoralNet_Data/3420/images\\mcr_lter1_fringingreef_pole3-4_qu1_20080415.jpg\n",
      "Uploading:  C://Users/jordan.pierce/Documents/GitHub/CoralNet_Tools/Tools/CoralNet_Data/3420/images\\mcr_lter1_fringingreef_pole3-4_qu2_20080415.jpg\n",
      "Uploading:  C://Users/jordan.pierce/Documents/GitHub/CoralNet_Tools/Tools/CoralNet_Data/3420/images\\mcr_lter1_fringingreef_pole3-4_qu3_20080415.jpg\n",
      "Uploading:  C://Users/jordan.pierce/Documents/GitHub/CoralNet_Tools/Tools/CoralNet_Data/3420/images\\mcr_lter1_fringingreef_pole3-4_qu4_20080415.jpg\n"
     ]
    }
   ],
   "source": [
    "# -------------------------------------------------------------------------------------------\n",
    "# Login\n",
    "# -------------------------------------------------------------------------------------------\n",
    "\n",
    "# Set up the browser driver (in this case, Chrome)\n",
    "driver = webdriver.Chrome()\n",
    "\n",
    "# Navigate to the page to login\n",
    "driver.get(\"https://coralnet.ucsd.edu/accounts/login/\")\n",
    "\n",
    "# Find the username and password input fields and the login button\n",
    "username_input = WebDriverWait(driver, 10).until(\n",
    "    EC.presence_of_element_located((By.ID, \"id_username\"))\n",
    ")\n",
    "password_input = WebDriverWait(driver, 10).until(\n",
    "    EC.presence_of_element_located((By.ID, \"id_password\"))\n",
    ")\n",
    "login_button = WebDriverWait(driver, 10).until(\n",
    "    EC.presence_of_element_located((By.XPATH, \"//input[@type='submit'][@value='Sign in']\"))\n",
    ")\n",
    "\n",
    "# Enter the username and password\n",
    "username_input.send_keys(os.getenv(\"CORALNET_USERNAME\"))\n",
    "password_input.send_keys(os.getenv(\"CORALNET_PASSWORD\"))\n",
    "\n",
    "# Click the login button\n",
    "print(\"Logging in...\")\n",
    "login_button.click()\n",
    "\n",
    "# -------------------------------------------------------------------------------------------\n",
    "# Upload Labelset\n",
    "# -------------------------------------------------------------------------------------------\n",
    "\n",
    "# Go to the upload page\n",
    "driver.get(f\"https://coralnet.ucsd.edu/source/{SOURCE_ID}/labelset/import/\")\n",
    "\n",
    "# Locate the file input field\n",
    "file_input = WebDriverWait(driver, 10).until(\n",
    "    EC.presence_of_element_located((By.XPATH, \"//input[@type='file'][@name='csv_file']\"))\n",
    ")\n",
    "\n",
    "# Send the path of the file you want to upload directly to the file input field\n",
    "file_input.send_keys(LABELSET_PATH)\n",
    "print(\"Uploading Labelset: \", LABELSET_PATH)\n",
    "\n",
    "# Upload the images\n",
    "upload_button = WebDriverWait(driver, 20).until(\n",
    "    EC.presence_of_element_located((By.ID,  \"id_upload_submit\"))\n",
    ")\n",
    "\n",
    "# Click the button\n",
    "upload_button.click()\n",
    "time.sleep(10)\n",
    "\n",
    "\n",
    "# -------------------------------------------------------------------------------------------\n",
    "# Upload Images\n",
    "# -------------------------------------------------------------------------------------------\n",
    "\n",
    "# Go to the upload page\n",
    "driver.get(f\"https://coralnet.ucsd.edu/source/{SOURCE_ID}/upload/images/\")\n",
    "\n",
    "# Locate the file input field\n",
    "file_input = WebDriverWait(driver, 10).until(\n",
    "    EC.presence_of_element_located((By.XPATH, \"//input[@type='file'][@name='files']\"))\n",
    ")\n",
    "\n",
    "# Send the path of the file(s) you want to upload directly to the file input field\n",
    "for image_path in FOLDER_OF_IMAGES:\n",
    "    file_input.send_keys(image_path)\n",
    "\n",
    "# Upload the images\n",
    "upload_button = WebDriverWait(driver, 10).until(\n",
    "    EC.presence_of_element_located((By.ID,  \"id_upload_submit\"))\n",
    ")\n",
    "\n",
    "# Click the button\n",
    "upload_button.click()\n",
    "\n",
    "for image_path in tqdm(FOLDER_OF_IMAGES):\n",
    "    time.sleep(5)\n",
    "    \n",
    "print(\"Image upload complete!\")\n",
    "\n",
    "# -------------------------------------------------------------------------------------------\n",
    "# Upload CSV file\n",
    "# -------------------------------------------------------------------------------------------\n",
    "\n",
    "# Go to the upload page\n",
    "driver.get(f\"https://coralnet.ucsd.edu/source/{SOURCE_ID}/upload/annotations_csv/\")\n",
    "\n",
    "# Locate the file input field\n",
    "file_input = WebDriverWait(driver, 10).until(\n",
    "    EC.presence_of_element_located((By.XPATH, \"//input[@type='file'][@name='csv_file']\"))\n",
    ")\n",
    "\n",
    "# Send the path of the file you want to upload directly to the file input field\n",
    "file_input.send_keys(CSV_PATH)\n",
    "print(\"Uploading Annotations: \", CSV_PATH)\n",
    "time.sleep(10)\n",
    "\n",
    "# Upload the images\n",
    "upload_button = WebDriverWait(driver, 30).until(\n",
    "    EC.presence_of_element_located((By.ID,  \"id_upload_submit\"))\n",
    ")\n",
    "\n",
    "upload_button.click()\n",
    "print(\"Annotation upload complete!\")"
   ]
  },
  {
   "cell_type": "code",
   "execution_count": null,
   "metadata": {},
   "outputs": [],
   "source": []
  }
 ],
 "metadata": {
  "kernel_info": {
   "name": "python38-azureml"
  },
  "kernelspec": {
   "display_name": "Python [conda env:coralnet] *",
   "language": "python",
   "name": "conda-env-coralnet-py"
  },
  "language_info": {
   "codemirror_mode": {
    "name": "ipython",
    "version": 3
   },
   "file_extension": ".py",
   "mimetype": "text/x-python",
   "name": "python",
   "nbconvert_exporter": "python",
   "pygments_lexer": "ipython3",
   "version": "3.8.15"
  },
  "microsoft": {
   "ms_spell_check": {
    "ms_spell_check_language": "en"
   }
  },
  "nteract": {
   "version": "nteract-front-end@1.0.0"
  }
 },
 "nbformat": 4,
 "nbformat_minor": 2
}
