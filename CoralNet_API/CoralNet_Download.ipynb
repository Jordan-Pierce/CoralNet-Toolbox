{
 "cells": [
  {
   "cell_type": "markdown",
   "source": [
    "### Download CoralNet (Notebook)\n",
    "\n",
    "This notebook can be useful for experimenting with the functions in\n",
    "`Download_CoralNet.py`. The script is designed to be run from the command line,\n",
    "and will allow a user to download the images, annotations, labelset, and\n",
    "model metadata from a list containing the IDs of sources they are interested\n",
    " in."
   ],
   "metadata": {
    "collapsed": false
   }
  },
  {
   "cell_type": "markdown",
   "source": [
    "#### Import packages"
   ],
   "metadata": {
    "collapsed": false
   }
  },
  {
   "cell_type": "code",
   "execution_count": 1,
   "outputs": [],
   "source": [
    "from CoralNet_Download import *"
   ],
   "metadata": {
    "collapsed": false
   }
  },
  {
   "cell_type": "markdown",
   "source": [
    "#### Set up authentication\n",
    "\n",
    "The first step is to authenticate with CoralNet. You need to provide your\n",
    "username and password. If you don't have an account, you can create one at\n",
    "https://coralnet.ucsd.edu/. If you don't want to provide your credentials\n",
    "every time you run the script, you can store them in a separate file, or make\n",
    "them user/environmental variables. If you don't want to store your credentials\n",
    "in a file, you can also provide them as arguments when you run the script."
   ],
   "metadata": {
    "collapsed": false
   }
  },
  {
   "cell_type": "code",
   "execution_count": 2,
   "outputs": [
    {
     "name": "stdout",
     "output_type": "stream",
     "text": [
      "NOTE: Successfully logged in for jordan.pierce@noaa.gov\n"
     ]
    }
   ],
   "source": [
    "# Username\n",
    "CORALNET_USERNAME = os.getenv(\"CORALNET_USERNAME\")\n",
    "USERNAME = input(\"Username: \") if not CORALNET_USERNAME else CORALNET_USERNAME\n",
    "\n",
    "# Password\n",
    "CORALNET_PASSWORD = os.getenv(\"CORALNET_PASSWORD\")\n",
    "PASSWORD = input(\"Password: \") if not CORALNET_PASSWORD else CORALNET_PASSWORD\n",
    "\n",
    "try:\n",
    "    # Authenticate\n",
    "    authenticate(USERNAME, PASSWORD)\n",
    "except Exception as e:\n",
    "    print(e)\n",
    "\n",
    "# Set the path to the root directory where you want to save the data for\n",
    "# each source. The data will be saved in a subdirectory named after the source.\n",
    "OUTPUT_DIR = \"../CoralNet_Data/\""
   ],
   "metadata": {
    "collapsed": false
   }
  },
  {
   "cell_type": "markdown",
   "source": [
    "#### Download one or multiple sources' data\n",
    "\n",
    "In this cell we'll download a source's data given the ID of the source.\n",
    "The only requirements are that the source exists and that the user has\n",
    "permission to access it. The source ID can be found in the URL of the source's\n",
    "page on CoralNet. You also need to provide your username and password,\n",
    "regardless of whether the source is public or private. If the source is\n",
    "private and you do have access to it, you will be able to download the data."
   ],
   "metadata": {
    "collapsed": false
   }
  },
  {
   "cell_type": "code",
   "execution_count": null,
   "outputs": [
    {
     "name": "stdout",
     "output_type": "stream",
     "text": [
      "Downloading Metadata...\n"
     ]
    }
   ],
   "source": [
    "# Next we download the data for each desired source. If you want to download\n",
    "# data for multiple sources, you can put the source IDs in a list and iterate\n",
    "# over them, or use multiprocessing/threading to download data simultaneously.\n",
    "\n",
    "# Source IDs\n",
    "SOURCE_IDs = [4033]\n",
    "\n",
    "[download_data(id, USERNAME, PASSWORD, OUTPUT_DIR) for id in SOURCE_IDs];"
   ],
   "metadata": {
    "collapsed": false
   }
  },
  {
   "cell_type": "markdown",
   "source": [
    "#### Download a list of all public sources\n",
    "\n",
    "If you want to know what sources are available on CoralNet, you can download a\n",
    "dataframe containing all public source IDs and their name. The dataframe is\n",
    "saved as a csv file in the output directory."
   ],
   "metadata": {
    "collapsed": false
   }
  },
  {
   "cell_type": "code",
   "execution_count": 6,
   "outputs": [
    {
     "name": "stdout",
     "output_type": "stream",
     "text": [
      "Downloading CoralNet Source List...\n",
      "Source ID list exported successfully.\n"
     ]
    },
    {
     "data": {
      "text/plain": "    Source_ID             Source_Name\n67       3383                 BIO 403\n601      1358       Tiles_Bermuda2019\n436      2970                    NFWF\n45       3560            Andrej Fucak\n518      3032  Rocky Shore Costa Rica",
      "text/html": "<div>\n<style scoped>\n    .dataframe tbody tr th:only-of-type {\n        vertical-align: middle;\n    }\n\n    .dataframe tbody tr th {\n        vertical-align: top;\n    }\n\n    .dataframe thead th {\n        text-align: right;\n    }\n</style>\n<table border=\"1\" class=\"dataframe\">\n  <thead>\n    <tr style=\"text-align: right;\">\n      <th></th>\n      <th>Source_ID</th>\n      <th>Source_Name</th>\n    </tr>\n  </thead>\n  <tbody>\n    <tr>\n      <th>67</th>\n      <td>3383</td>\n      <td>BIO 403</td>\n    </tr>\n    <tr>\n      <th>601</th>\n      <td>1358</td>\n      <td>Tiles_Bermuda2019</td>\n    </tr>\n    <tr>\n      <th>436</th>\n      <td>2970</td>\n      <td>NFWF</td>\n    </tr>\n    <tr>\n      <th>45</th>\n      <td>3560</td>\n      <td>Andrej Fucak</td>\n    </tr>\n    <tr>\n      <th>518</th>\n      <td>3032</td>\n      <td>Rocky Shore Costa Rica</td>\n    </tr>\n  </tbody>\n</table>\n</div>"
     },
     "execution_count": 6,
     "metadata": {},
     "output_type": "execute_result"
    }
   ],
   "source": [
    "public_sources = download_coralnet_sources(USERNAME, PASSWORD, OUTPUT_DIR)\n",
    "public_sources.sample(5)"
   ],
   "metadata": {
    "collapsed": false
   }
  },
  {
   "cell_type": "markdown",
   "source": [
    "#### Download a list of all public labelsets\n",
    "\n",
    "You can also download a dataframe containing all the public labelsets. The\n",
    "dataframe will contain the name of the labelset, the link to the labelset's\n",
    "page on CoralNet, the functional group, and the other attributes you find in\n",
    " the table on the labelset page. The dataframe is saved as a csv file in the\n",
    "    output directory."
   ],
   "metadata": {
    "collapsed": false
   }
  },
  {
   "cell_type": "code",
   "execution_count": 10,
   "outputs": [
    {
     "name": "stdout",
     "output_type": "stream",
     "text": [
      "Downloading CoralNet Labeset List...\n",
      "Labelset list exported successfully.\n"
     ]
    },
    {
     "data": {
      "text/plain": "     Label ID                                          Name  \\\n910      5949                     Dictiosphaeria versluysii   \n5303     2994         Cnidaria: Colonial anemone: zoanthids   \n2234     2694                  0mm Yellow Encrusting Sponge   \n3121     1648                      Crown of Thorns Sea Star   \n3044     1857  Coral: Black/Octocorals: Massive soft corals   \n\n                                        URL     Functional Group Popularity %  \\\n910   https://coralnet.ucsd.edu/label/5949/           Hard coral            0   \n5303  https://coralnet.ucsd.edu/label/2994/                Other           40   \n2234  https://coralnet.ucsd.edu/label/2694/  Other Invertebrates           43   \n3121  https://coralnet.ucsd.edu/label/1648/  Other Invertebrates           74   \n3044  https://coralnet.ucsd.edu/label/1857/  Other Invertebrates           54   \n\n     Short Code  Duplicate                    Duplicate Notes  Verified  \\\n910        DVER      False                                        False   \n5303         CC      False                                        False   \n2234   0mmYEnSp      False                                        False   \n3121        COT      False                                         True   \n3044         OM       True  Duplicate of Soft Coral (massive)     False   \n\n      Has Calcification Rates  \n910                     False  \n5303                    False  \n2234                    False  \n3121                    False  \n3044                    False  ",
      "text/html": "<div>\n<style scoped>\n    .dataframe tbody tr th:only-of-type {\n        vertical-align: middle;\n    }\n\n    .dataframe tbody tr th {\n        vertical-align: top;\n    }\n\n    .dataframe thead th {\n        text-align: right;\n    }\n</style>\n<table border=\"1\" class=\"dataframe\">\n  <thead>\n    <tr style=\"text-align: right;\">\n      <th></th>\n      <th>Label ID</th>\n      <th>Name</th>\n      <th>URL</th>\n      <th>Functional Group</th>\n      <th>Popularity %</th>\n      <th>Short Code</th>\n      <th>Duplicate</th>\n      <th>Duplicate Notes</th>\n      <th>Verified</th>\n      <th>Has Calcification Rates</th>\n    </tr>\n  </thead>\n  <tbody>\n    <tr>\n      <th>910</th>\n      <td>5949</td>\n      <td>Dictiosphaeria versluysii</td>\n      <td>https://coralnet.ucsd.edu/label/5949/</td>\n      <td>Hard coral</td>\n      <td>0</td>\n      <td>DVER</td>\n      <td>False</td>\n      <td></td>\n      <td>False</td>\n      <td>False</td>\n    </tr>\n    <tr>\n      <th>5303</th>\n      <td>2994</td>\n      <td>Cnidaria: Colonial anemone: zoanthids</td>\n      <td>https://coralnet.ucsd.edu/label/2994/</td>\n      <td>Other</td>\n      <td>40</td>\n      <td>CC</td>\n      <td>False</td>\n      <td></td>\n      <td>False</td>\n      <td>False</td>\n    </tr>\n    <tr>\n      <th>2234</th>\n      <td>2694</td>\n      <td>0mm Yellow Encrusting Sponge</td>\n      <td>https://coralnet.ucsd.edu/label/2694/</td>\n      <td>Other Invertebrates</td>\n      <td>43</td>\n      <td>0mmYEnSp</td>\n      <td>False</td>\n      <td></td>\n      <td>False</td>\n      <td>False</td>\n    </tr>\n    <tr>\n      <th>3121</th>\n      <td>1648</td>\n      <td>Crown of Thorns Sea Star</td>\n      <td>https://coralnet.ucsd.edu/label/1648/</td>\n      <td>Other Invertebrates</td>\n      <td>74</td>\n      <td>COT</td>\n      <td>False</td>\n      <td></td>\n      <td>True</td>\n      <td>False</td>\n    </tr>\n    <tr>\n      <th>3044</th>\n      <td>1857</td>\n      <td>Coral: Black/Octocorals: Massive soft corals</td>\n      <td>https://coralnet.ucsd.edu/label/1857/</td>\n      <td>Other Invertebrates</td>\n      <td>54</td>\n      <td>OM</td>\n      <td>True</td>\n      <td>Duplicate of Soft Coral (massive)</td>\n      <td>False</td>\n      <td>False</td>\n    </tr>\n  </tbody>\n</table>\n</div>"
     },
     "execution_count": 10,
     "metadata": {},
     "output_type": "execute_result"
    }
   ],
   "source": [
    "public_labelsets = download_coralnet_labelset(USERNAME, PASSWORD, OUTPUT_DIR)\n",
    "public_labelsets.sample(5)"
   ],
   "metadata": {
    "collapsed": false
   }
  },
  {
   "cell_type": "markdown",
   "source": [
    "#### Find public sources with desired labelsets\n",
    "\n",
    "Given a list of desired labelsets, you can then identify which sources\n",
    "contain them. With the source IDs, you can then download all\n",
    "public sources that contain those labelsets."
   ],
   "metadata": {
    "collapsed": false
   }
  },
  {
   "cell_type": "code",
   "execution_count": 7,
   "outputs": [
    {
     "data": {
      "text/plain": "        Name                                  URL Functional_Group  \\\n25  Acropora  https://coralnet.ucsd.edu/label/59/       Hard coral   \n\n   Popularity % Short_Code  Duplicate Duplicate Notes  Verified  \\\n25           85   Acropora      False                      True   \n\n    Has_Calcification_Rates  \n25                     True  ",
      "text/html": "<div>\n<style scoped>\n    .dataframe tbody tr th:only-of-type {\n        vertical-align: middle;\n    }\n\n    .dataframe tbody tr th {\n        vertical-align: top;\n    }\n\n    .dataframe thead th {\n        text-align: right;\n    }\n</style>\n<table border=\"1\" class=\"dataframe\">\n  <thead>\n    <tr style=\"text-align: right;\">\n      <th></th>\n      <th>Name</th>\n      <th>URL</th>\n      <th>Functional_Group</th>\n      <th>Popularity %</th>\n      <th>Short_Code</th>\n      <th>Duplicate</th>\n      <th>Duplicate Notes</th>\n      <th>Verified</th>\n      <th>Has_Calcification_Rates</th>\n    </tr>\n  </thead>\n  <tbody>\n    <tr>\n      <th>25</th>\n      <td>Acropora</td>\n      <td>https://coralnet.ucsd.edu/label/59/</td>\n      <td>Hard coral</td>\n      <td>85</td>\n      <td>Acropora</td>\n      <td>False</td>\n      <td></td>\n      <td>True</td>\n      <td>True</td>\n    </tr>\n  </tbody>\n</table>\n</div>"
     },
     "execution_count": 7,
     "metadata": {},
     "output_type": "execute_result"
    }
   ],
   "source": [
    "# List of desired labelsets\n",
    "desired_labelsets = [\"Acropora\"]\n",
    "subset_labelset = public_labelsets[public_labelsets[\"Name\"].isin(desired_labelsets)]\n",
    "\n",
    "subset_labelset"
   ],
   "metadata": {
    "collapsed": false
   }
  },
  {
   "cell_type": "code",
   "execution_count": 8,
   "outputs": [
    {
     "name": "stdout",
     "output_type": "stream",
     "text": [
      "Finding sources with desired labelsets...\n",
      "Source ID List exported successfully.\n"
     ]
    }
   ],
   "source": [
    "desired_sources = get_sources_with(subset_labelset, USERNAME, PASSWORD, OUTPUT_DIR)"
   ],
   "metadata": {
    "collapsed": false
   }
  },
  {
   "cell_type": "markdown",
   "source": [
    "Use this dataframe with the public sources dataframe as filter to identify\n",
    " just the sources with the desired labelsets."
   ],
   "metadata": {
    "collapsed": false
   }
  },
  {
   "cell_type": "code",
   "execution_count": 9,
   "outputs": [
    {
     "data": {
      "text/plain": "    Source_ID         Source_Name\n10       3551    2Maldives_2Katie\n28       3305  AFCD trial species\n29       4029         Ahmed Fizal\n31        290           AIMS LTMP\n50       3424                 Ant\n..        ...                 ...\n642      3577            WAPA RFI\n652      3415            Windward\n654      3046        WorkshopTest\n656       109     WSU West Hawaii\n662      2416            小琉球珊瑚隨手拍\n\n[100 rows x 2 columns]",
      "text/html": "<div>\n<style scoped>\n    .dataframe tbody tr th:only-of-type {\n        vertical-align: middle;\n    }\n\n    .dataframe tbody tr th {\n        vertical-align: top;\n    }\n\n    .dataframe thead th {\n        text-align: right;\n    }\n</style>\n<table border=\"1\" class=\"dataframe\">\n  <thead>\n    <tr style=\"text-align: right;\">\n      <th></th>\n      <th>Source_ID</th>\n      <th>Source_Name</th>\n    </tr>\n  </thead>\n  <tbody>\n    <tr>\n      <th>10</th>\n      <td>3551</td>\n      <td>2Maldives_2Katie</td>\n    </tr>\n    <tr>\n      <th>28</th>\n      <td>3305</td>\n      <td>AFCD trial species</td>\n    </tr>\n    <tr>\n      <th>29</th>\n      <td>4029</td>\n      <td>Ahmed Fizal</td>\n    </tr>\n    <tr>\n      <th>31</th>\n      <td>290</td>\n      <td>AIMS LTMP</td>\n    </tr>\n    <tr>\n      <th>50</th>\n      <td>3424</td>\n      <td>Ant</td>\n    </tr>\n    <tr>\n      <th>...</th>\n      <td>...</td>\n      <td>...</td>\n    </tr>\n    <tr>\n      <th>642</th>\n      <td>3577</td>\n      <td>WAPA RFI</td>\n    </tr>\n    <tr>\n      <th>652</th>\n      <td>3415</td>\n      <td>Windward</td>\n    </tr>\n    <tr>\n      <th>654</th>\n      <td>3046</td>\n      <td>WorkshopTest</td>\n    </tr>\n    <tr>\n      <th>656</th>\n      <td>109</td>\n      <td>WSU West Hawaii</td>\n    </tr>\n    <tr>\n      <th>662</th>\n      <td>2416</td>\n      <td>小琉球珊瑚隨手拍</td>\n    </tr>\n  </tbody>\n</table>\n<p>100 rows × 2 columns</p>\n</div>"
     },
     "execution_count": 9,
     "metadata": {},
     "output_type": "execute_result"
    }
   ],
   "source": [
    "public_sources[public_sources[\"Source_ID\"].isin(desired_sources['Source_ID'])]"
   ],
   "metadata": {
    "collapsed": false
   }
  }
 ],
 "metadata": {
  "kernelspec": {
   "display_name": "Python 3",
   "language": "python",
   "name": "python3"
  },
  "language_info": {
   "codemirror_mode": {
    "name": "ipython",
    "version": 2
   },
   "file_extension": ".py",
   "mimetype": "text/x-python",
   "name": "python",
   "nbconvert_exporter": "python",
   "pygments_lexer": "ipython2",
   "version": "2.7.6"
  }
 },
 "nbformat": 4,
 "nbformat_minor": 0
}
