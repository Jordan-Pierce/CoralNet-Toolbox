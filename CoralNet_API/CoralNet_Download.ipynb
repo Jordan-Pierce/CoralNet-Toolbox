{
 "cells": [
  {
   "cell_type": "markdown",
   "source": [
    "### Download CoralNet (Notebook)\n",
    "\n",
    "This notebook can be useful for experimenting with the functions in\n",
    "`Download_CoralNet.py`. The script is designed to be run from the command line,\n",
    "and will allow a user to download the images, annotations, labelset, and\n",
    "model metadata from a list containing the IDs of sources they are interested\n",
    " in."
   ],
   "metadata": {
    "collapsed": false
   }
  },
  {
   "cell_type": "markdown",
   "source": [
    "#### Import packages"
   ],
   "metadata": {
    "collapsed": false
   }
  },
  {
   "cell_type": "code",
   "execution_count": 1,
   "outputs": [
    {
     "ename": "IndentationError",
     "evalue": "unexpected indent (CoralNet_Download_.py, line 837)",
     "output_type": "error",
     "traceback": [
      "Traceback \u001B[1;36m(most recent call last)\u001B[0m:\n",
      "\u001B[0m  File \u001B[0;32m~\\Miniconda3\\envs\\coralnet\\lib\\site-packages\\IPython\\core\\interactiveshell.py:3433\u001B[0m in \u001B[0;35mrun_code\u001B[0m\n    exec(code_obj, self.user_global_ns, self.user_ns)\u001B[0m\n",
      "\u001B[1;36m  Cell \u001B[1;32mIn [1], line 1\u001B[1;36m\n\u001B[1;33m    from CoralNet_Download_ import *\u001B[1;36m\n",
      "\u001B[1;36m  File \u001B[1;32m~\\Documents\\GitHub\\CoralNet_Tools\\CoralNet_API\\CoralNet_Download_.py:837\u001B[1;36m\u001B[0m\n\u001B[1;33m    for source_id in args.source_ids:\u001B[0m\n\u001B[1;37m    ^\u001B[0m\n\u001B[1;31mIndentationError\u001B[0m\u001B[1;31m:\u001B[0m unexpected indent\n"
     ]
    }
   ],
   "source": [
    "from CoralNet_Download import *"
   ],
   "metadata": {
    "collapsed": false
   }
  },
  {
   "cell_type": "markdown",
   "source": [
    "#### Set up authentication\n",
    "\n",
    "The first step is to authenticate with CoralNet. You need to provide your\n",
    "username and password. If you don't have an account, you can create one at\n",
    "https://coralnet.ucsd.edu/. If you don't want to provide your credentials\n",
    "every time you run the script, you can store them in a separate file, or make\n",
    "them user/environmental variables. If you don't want to store your credentials\n",
    "in a file, you can also provide them as arguments when you run the script."
   ],
   "metadata": {
    "collapsed": false
   }
  },
  {
   "cell_type": "code",
   "execution_count": 2,
   "outputs": [
    {
     "name": "stdout",
     "output_type": "stream",
     "text": [
      "NOTE: Authentication successful for jordan.pierce@noaa.gov\n"
     ]
    }
   ],
   "source": [
    "# Username\n",
    "CORALNET_USERNAME = os.getenv(\"CORALNET_USERNAME\")\n",
    "USERNAME = input(\"Username: \") if not CORALNET_USERNAME else CORALNET_USERNAME\n",
    "\n",
    "# Password\n",
    "CORALNET_PASSWORD = os.getenv(\"CORALNET_PASSWORD\")\n",
    "PASSWORD = input(\"Password: \") if not CORALNET_PASSWORD else CORALNET_PASSWORD\n",
    "\n",
    "try:\n",
    "    # Authenticate\n",
    "    authenticate(USERNAME, PASSWORD)\n",
    "except Exception as e:\n",
    "    print(e)"
   ],
   "metadata": {
    "collapsed": false
   }
  },
  {
   "cell_type": "markdown",
   "source": [
    "#### Set up the output directory\n",
    "\n",
    "This will be the root directory where all data for all sources will be saved.\n",
    "Each source will be a sub-folder in this directory."
   ],
   "metadata": {
    "collapsed": false
   }
  },
  {
   "cell_type": "code",
   "execution_count": null,
   "outputs": [],
   "source": [
    "# Set the path to the root directory where you want to save the data for\n",
    "# each source. The data will be saved in a subdirectory named after the source.\n",
    "OUTPUT_DIR = \"../CoralNet_Data/\""
   ],
   "metadata": {
    "collapsed": false
   }
  },
  {
   "cell_type": "markdown",
   "source": [
    "#### Download data from a single source\n",
    "\n",
    "In this cell, we specify the source of interest by its ID, and create a sub-folder to hold all\n",
    "the download data for it."
   ],
   "metadata": {
    "collapsed": false
   }
  },
  {
   "cell_type": "code",
   "execution_count": 3,
   "outputs": [],
   "source": [
    "# The ID of the source to download data from\n",
    "SOURCE_ID = 4060\n",
    "\n",
    "# Where to store the downloaded data\n",
    "SOURCE_DIR = os.path.abspath(OUTPUT_DIR) + f\"\\\\{str(SOURCE_ID)}\\\\\"\n",
    "\n",
    "# Create the directory if it doesn't exist\n",
    "os.makedirs(SOURCE_DIR, exist_ok=True)"
   ],
   "metadata": {
    "collapsed": false
   }
  },
  {
   "cell_type": "markdown",
   "source": [
    "#### Creating a driver (i.e, browser)\n",
    "\n",
    "The CoralNet website is built using JavaScript, so we need to use a browser\n",
    "driver to interact with it. The driver will be used to log in to CoralNet,\n",
    "navigate to the source of interest, and download the data. The driver can be either Chrome,\n",
    "Firefox or Edge.\n",
    "\n",
    "We can also set the driver to be \"headless\", which means that the browser will not be visible\n",
    "when the script is running. This is useful if you want to run the script in the background.\n",
    "\n",
    "We also set the download directory to be the directory we created above."
   ],
   "metadata": {
    "collapsed": false
   }
  },
  {
   "cell_type": "code",
   "execution_count": 14,
   "outputs": [
    {
     "name": "stdout",
     "output_type": "stream",
     "text": [
      "NOTE: Using Google Chrome\n"
     ]
    }
   ],
   "source": [
    "options = Options()\n",
    "\n",
    "# If True, browser will operate in the background\n",
    "headless = True\n",
    "\n",
    "if headless:\n",
    "    # Set headless mode\n",
    "    options.add_argument(\"--headless\")\n",
    "    options.add_argument(\"--disable-images\")\n",
    "\n",
    "# Pass the options object while creating the driver\n",
    "driver = check_for_browsers(options=options)\n",
    "\n",
    "# Set the download directory\n",
    "download_settings = {\n",
    "        \"behavior\": \"allow\",\n",
    "        \"downloadPath\": SOURCE_DIR\n",
    "}\n",
    "\n",
    "driver.execute_cdp_cmd('Page.setDownloadBehavior', download_settings)"
   ],
   "metadata": {
    "collapsed": false
   }
  },
  {
   "cell_type": "markdown",
   "source": [
    "#### Log in to CoralNet\n",
    "\n",
    "The first step is to log in to CoralNet. The login function will take your username, password\n",
    "and driver as input, and return a driver that has been logged in to CoralNet."
   ],
   "metadata": {
    "collapsed": false
   }
  },
  {
   "cell_type": "code",
   "execution_count": 15,
   "outputs": [
    {
     "name": "stdout",
     "output_type": "stream",
     "text": [
      "NOTE: Successfully logged in for jordan.pierce@noaa.gov\n"
     ]
    }
   ],
   "source": [
    "# Log in to CoralNet\n",
    "driver, _ = login(driver, USERNAME, PASSWORD)"
   ],
   "metadata": {
    "collapsed": false
   }
  },
  {
   "cell_type": "markdown",
   "source": [
    "#### Get the images for the source\n",
    "\n",
    "The next step is to get the images for the source. The function will take the driver and the ID\n",
    "of the source, and crawl all of the pages for that source, extracting the image names, and image\n",
    " page URLs. This information will then be used to get the image URLs that are currently hosted\n",
    " on AWS.\n",
    "\n",
    "Wit this dataframe, we can then download all of the images from AWS to the specified directory."
   ],
   "metadata": {
    "collapsed": false
   }
  },
  {
   "cell_type": "code",
   "execution_count": 5,
   "outputs": [
    {
     "name": "stdout",
     "output_type": "stream",
     "text": [
      "NOTE: Crawling all pages for source 4060\n"
     ]
    },
    {
     "name": "stderr",
     "output_type": "stream",
     "text": [
      " 50%|█████     | 1/2 [00:01<00:01,  1.43s/it]\n"
     ]
    },
    {
     "name": "stdout",
     "output_type": "stream",
     "text": [
      "NOTE: Finished crawling all pages\n",
      "NOTE: Retrieving image URLs\n"
     ]
    },
    {
     "name": "stderr",
     "output_type": "stream",
     "text": [
      "100%|██████████| 30/30 [00:01<00:00, 18.20it/s]"
     ]
    },
    {
     "name": "stdout",
     "output_type": "stream",
     "text": [
      "NOTE: Retrieved 30 image URLs\n"
     ]
    },
    {
     "name": "stderr",
     "output_type": "stream",
     "text": [
      "\n"
     ]
    },
    {
     "data": {
      "text/plain": "                                       image_page  \\\n10  https://coralnet.ucsd.edu/image/3390411/view/   \n15  https://coralnet.ucsd.edu/image/3392449/view/   \n13  https://coralnet.ucsd.edu/image/3390415/view/   \n\n                                         image_name  \\\n10  mcr_lter1_fringingreef_pole2-3_qu3_20080415.jpg   \n15  mcr_lter1_fringingreef_pole2-3_qu8_20080415.jpg   \n13  mcr_lter1_fringingreef_pole2-3_qu6_20080415.jpg   \n\n                                            image_url  \n10  https://coralnet-production.s3.amazonaws.com:4...  \n15  https://coralnet-production.s3.amazonaws.com:4...  \n13  https://coralnet-production.s3.amazonaws.com:4...  ",
      "text/html": "<div>\n<style scoped>\n    .dataframe tbody tr th:only-of-type {\n        vertical-align: middle;\n    }\n\n    .dataframe tbody tr th {\n        vertical-align: top;\n    }\n\n    .dataframe thead th {\n        text-align: right;\n    }\n</style>\n<table border=\"1\" class=\"dataframe\">\n  <thead>\n    <tr style=\"text-align: right;\">\n      <th></th>\n      <th>image_page</th>\n      <th>image_name</th>\n      <th>image_url</th>\n    </tr>\n  </thead>\n  <tbody>\n    <tr>\n      <th>10</th>\n      <td>https://coralnet.ucsd.edu/image/3390411/view/</td>\n      <td>mcr_lter1_fringingreef_pole2-3_qu3_20080415.jpg</td>\n      <td>https://coralnet-production.s3.amazonaws.com:4...</td>\n    </tr>\n    <tr>\n      <th>15</th>\n      <td>https://coralnet.ucsd.edu/image/3392449/view/</td>\n      <td>mcr_lter1_fringingreef_pole2-3_qu8_20080415.jpg</td>\n      <td>https://coralnet-production.s3.amazonaws.com:4...</td>\n    </tr>\n    <tr>\n      <th>13</th>\n      <td>https://coralnet.ucsd.edu/image/3390415/view/</td>\n      <td>mcr_lter1_fringingreef_pole2-3_qu6_20080415.jpg</td>\n      <td>https://coralnet-production.s3.amazonaws.com:4...</td>\n    </tr>\n  </tbody>\n</table>\n</div>"
     },
     "execution_count": 5,
     "metadata": {},
     "output_type": "execute_result"
    }
   ],
   "source": [
    "# Get the images for the source\n",
    "driver, IMAGES = get_images(driver, SOURCE_ID)\n",
    "\n",
    "if IMAGES is not None:\n",
    "    # Get the image page URLs\n",
    "    image_pages = IMAGES['image_page'].tolist()\n",
    "    # Get the image AWS URLs\n",
    "    IMAGES['image_url'] = get_image_urls(image_pages,\n",
    "                                         USERNAME,\n",
    "                                         PASSWORD)\n",
    "\n",
    "    # Download the images to the specified directory\n",
    "    download_images(IMAGES, SOURCE_DIR)\n",
    "\n",
    "# Display some images\n",
    "IMAGES.sample(3)"
   ],
   "metadata": {
    "collapsed": false
   }
  },
  {
   "cell_type": "markdown",
   "source": [
    "#### Get the labelset for the source\n",
    "\n",
    "This next cell will get the labelset for the source. The function will take the driver and the\n",
    "ID of the source, and download the labelset as a CSV file. The CSV file is read into a\n",
    "dataframe, and returned."
   ],
   "metadata": {
    "collapsed": false
   }
  },
  {
   "cell_type": "code",
   "execution_count": 6,
   "outputs": [
    {
     "name": "stdout",
     "output_type": "stream",
     "text": [
      "NOTE: Downloading labelset for 4060\n",
      "NOTE: Labelset saved successfully\n"
     ]
    },
    {
     "data": {
      "text/plain": "    Label ID Short Code\n9         81      Macro\n8         66      Lepta\n13        85        Off",
      "text/html": "<div>\n<style scoped>\n    .dataframe tbody tr th:only-of-type {\n        vertical-align: middle;\n    }\n\n    .dataframe tbody tr th {\n        vertical-align: top;\n    }\n\n    .dataframe thead th {\n        text-align: right;\n    }\n</style>\n<table border=\"1\" class=\"dataframe\">\n  <thead>\n    <tr style=\"text-align: right;\">\n      <th></th>\n      <th>Label ID</th>\n      <th>Short Code</th>\n    </tr>\n  </thead>\n  <tbody>\n    <tr>\n      <th>9</th>\n      <td>81</td>\n      <td>Macro</td>\n    </tr>\n    <tr>\n      <th>8</th>\n      <td>66</td>\n      <td>Lepta</td>\n    </tr>\n    <tr>\n      <th>13</th>\n      <td>85</td>\n      <td>Off</td>\n    </tr>\n  </tbody>\n</table>\n</div>"
     },
     "execution_count": 6,
     "metadata": {},
     "output_type": "execute_result"
    }
   ],
   "source": [
    "# Download the labelset for the source\n",
    "driver, LABELSET = download_labelset(driver, SOURCE_ID, SOURCE_DIR)\n",
    "\n",
    "# Display some labelset\n",
    "LABELSET.sample(3)"
   ],
   "metadata": {
    "collapsed": false
   }
  },
  {
   "cell_type": "markdown",
   "source": [
    "#### Get the metadata for the source\n",
    "\n",
    "This cell will get the metadata for the source. The function will take the driver and the ID of\n",
    "the source, and return all the model metadata associated with the source. If there is no model,\n",
    "the function returns None."
   ],
   "metadata": {
    "collapsed": false
   }
  },
  {
   "cell_type": "code",
   "execution_count": 18,
   "outputs": [
    {
     "name": "stdout",
     "output_type": "stream",
     "text": [
      "NOTE: Downloading model metadata for 4060\n"
     ]
    },
    {
     "name": "stderr",
     "output_type": "stream",
     "text": [
      "100%|██████████| 1/1 [00:00<?, ?it/s]"
     ]
    },
    {
     "name": "stdout",
     "output_type": "stream",
     "text": [
      "NOTE: Metadata saved successfully\n"
     ]
    },
    {
     "name": "stderr",
     "output_type": "stream",
     "text": [
      "\n"
     ]
    },
    {
     "data": {
      "text/plain": "   Classifier nbr  Accuracy %  N_Images Train_Time        Date Model_ID\n0               1          84        30    0:00:29  2023-05-16    35231",
      "text/html": "<div>\n<style scoped>\n    .dataframe tbody tr th:only-of-type {\n        vertical-align: middle;\n    }\n\n    .dataframe tbody tr th {\n        vertical-align: top;\n    }\n\n    .dataframe thead th {\n        text-align: right;\n    }\n</style>\n<table border=\"1\" class=\"dataframe\">\n  <thead>\n    <tr style=\"text-align: right;\">\n      <th></th>\n      <th>Classifier nbr</th>\n      <th>Accuracy %</th>\n      <th>N_Images</th>\n      <th>Train_Time</th>\n      <th>Date</th>\n      <th>Model_ID</th>\n    </tr>\n  </thead>\n  <tbody>\n    <tr>\n      <th>0</th>\n      <td>1</td>\n      <td>84</td>\n      <td>30</td>\n      <td>0:00:29</td>\n      <td>2023-05-16</td>\n      <td>35231</td>\n    </tr>\n  </tbody>\n</table>\n</div>"
     },
     "execution_count": 18,
     "metadata": {},
     "output_type": "execute_result"
    }
   ],
   "source": [
    "# Download the metadata for the source\n",
    "driver, META = download_metadata(driver, SOURCE_ID, SOURCE_DIR)\n",
    "\n",
    "# Display some metadata\n",
    "META.sample(1)"
   ],
   "metadata": {
    "collapsed": false
   }
  },
  {
   "cell_type": "markdown",
   "source": [
    "#### Get the annotations for the source\n",
    "\n",
    "This cell will download all the annotations in the source, choosing all of the options that are\n",
    "available, including machine suggested annotations. Unfortunately, CoralNet takes quite a bit of\n",
    " time to serve up the annotations, so this cell can take a while to run. The function takes a\n",
    " \"wait_time\" variable, indicating how long to wait for the annotations to load (default is 3600\n",
    " seconds)."
   ],
   "metadata": {
    "collapsed": false
   }
  },
  {
   "cell_type": "code",
   "execution_count": 8,
   "outputs": [
    {
     "name": "stdout",
     "output_type": "stream",
     "text": [
      "NOTE: Downloading annotations for source 4060\n",
      "NOTE: Annotations saved successfully\n"
     ]
    },
    {
     "data": {
      "text/plain": "                                                 Name  Date  Aux1  Aux2  Aux3  \\\n5825  mcr_lter1_fringingreef_pole4-5_qu6_20080415.jpg   NaN   NaN   NaN   NaN   \n5437  mcr_lter1_fringingreef_pole4-5_qu4_20080415.jpg   NaN   NaN   NaN   NaN   \n3312  mcr_lter1_fringingreef_pole3-4_qu1_20080415.jpg   NaN   NaN   NaN   NaN   \n2990  mcr_lter1_fringingreef_pole2-3_qu7_20080415.jpg   NaN   NaN   NaN   NaN   \n2553  mcr_lter1_fringingreef_pole2-3_qu5_20080415.jpg   NaN   NaN   NaN   NaN   \n\n      Aux4  Aux5  Height (cm)  Latitude  Longitude  ...  Machine suggestion 1  \\\n5825   NaN   NaN          NaN       NaN        NaN  ...                   NaN   \n5437   NaN   NaN          NaN       NaN        NaN  ...                   NaN   \n3312   NaN   NaN          NaN       NaN        NaN  ...                   NaN   \n2990   NaN   NaN          NaN       NaN        NaN  ...                   NaN   \n2553   NaN   NaN          NaN       NaN        NaN  ...                   NaN   \n\n      Machine confidence 1  Machine suggestion 2  Machine confidence 2  \\\n5825                   NaN                   NaN                   NaN   \n5437                   NaN                   NaN                   NaN   \n3312                   NaN                   NaN                   NaN   \n2990                   NaN                   NaN                   NaN   \n2553                   NaN                   NaN                   NaN   \n\n      Machine suggestion 3  Machine confidence 3  Machine suggestion 4  \\\n5825                   NaN                   NaN                   NaN   \n5437                   NaN                   NaN                   NaN   \n3312                   NaN                   NaN                   NaN   \n2990                   NaN                   NaN                   NaN   \n2553                   NaN                   NaN                   NaN   \n\n      Machine confidence 4  Machine suggestion 5  Machine confidence 5  \n5825                   NaN                   NaN                   NaN  \n5437                   NaN                   NaN                   NaN  \n3312                   NaN                   NaN                   NaN  \n2990                   NaN                   NaN                   NaN  \n2553                   NaN                   NaN                   NaN  \n\n[5 rows x 33 columns]",
      "text/html": "<div>\n<style scoped>\n    .dataframe tbody tr th:only-of-type {\n        vertical-align: middle;\n    }\n\n    .dataframe tbody tr th {\n        vertical-align: top;\n    }\n\n    .dataframe thead th {\n        text-align: right;\n    }\n</style>\n<table border=\"1\" class=\"dataframe\">\n  <thead>\n    <tr style=\"text-align: right;\">\n      <th></th>\n      <th>Name</th>\n      <th>Date</th>\n      <th>Aux1</th>\n      <th>Aux2</th>\n      <th>Aux3</th>\n      <th>Aux4</th>\n      <th>Aux5</th>\n      <th>Height (cm)</th>\n      <th>Latitude</th>\n      <th>Longitude</th>\n      <th>...</th>\n      <th>Machine suggestion 1</th>\n      <th>Machine confidence 1</th>\n      <th>Machine suggestion 2</th>\n      <th>Machine confidence 2</th>\n      <th>Machine suggestion 3</th>\n      <th>Machine confidence 3</th>\n      <th>Machine suggestion 4</th>\n      <th>Machine confidence 4</th>\n      <th>Machine suggestion 5</th>\n      <th>Machine confidence 5</th>\n    </tr>\n  </thead>\n  <tbody>\n    <tr>\n      <th>5825</th>\n      <td>mcr_lter1_fringingreef_pole4-5_qu6_20080415.jpg</td>\n      <td>NaN</td>\n      <td>NaN</td>\n      <td>NaN</td>\n      <td>NaN</td>\n      <td>NaN</td>\n      <td>NaN</td>\n      <td>NaN</td>\n      <td>NaN</td>\n      <td>NaN</td>\n      <td>...</td>\n      <td>NaN</td>\n      <td>NaN</td>\n      <td>NaN</td>\n      <td>NaN</td>\n      <td>NaN</td>\n      <td>NaN</td>\n      <td>NaN</td>\n      <td>NaN</td>\n      <td>NaN</td>\n      <td>NaN</td>\n    </tr>\n    <tr>\n      <th>5437</th>\n      <td>mcr_lter1_fringingreef_pole4-5_qu4_20080415.jpg</td>\n      <td>NaN</td>\n      <td>NaN</td>\n      <td>NaN</td>\n      <td>NaN</td>\n      <td>NaN</td>\n      <td>NaN</td>\n      <td>NaN</td>\n      <td>NaN</td>\n      <td>NaN</td>\n      <td>...</td>\n      <td>NaN</td>\n      <td>NaN</td>\n      <td>NaN</td>\n      <td>NaN</td>\n      <td>NaN</td>\n      <td>NaN</td>\n      <td>NaN</td>\n      <td>NaN</td>\n      <td>NaN</td>\n      <td>NaN</td>\n    </tr>\n    <tr>\n      <th>3312</th>\n      <td>mcr_lter1_fringingreef_pole3-4_qu1_20080415.jpg</td>\n      <td>NaN</td>\n      <td>NaN</td>\n      <td>NaN</td>\n      <td>NaN</td>\n      <td>NaN</td>\n      <td>NaN</td>\n      <td>NaN</td>\n      <td>NaN</td>\n      <td>NaN</td>\n      <td>...</td>\n      <td>NaN</td>\n      <td>NaN</td>\n      <td>NaN</td>\n      <td>NaN</td>\n      <td>NaN</td>\n      <td>NaN</td>\n      <td>NaN</td>\n      <td>NaN</td>\n      <td>NaN</td>\n      <td>NaN</td>\n    </tr>\n    <tr>\n      <th>2990</th>\n      <td>mcr_lter1_fringingreef_pole2-3_qu7_20080415.jpg</td>\n      <td>NaN</td>\n      <td>NaN</td>\n      <td>NaN</td>\n      <td>NaN</td>\n      <td>NaN</td>\n      <td>NaN</td>\n      <td>NaN</td>\n      <td>NaN</td>\n      <td>NaN</td>\n      <td>...</td>\n      <td>NaN</td>\n      <td>NaN</td>\n      <td>NaN</td>\n      <td>NaN</td>\n      <td>NaN</td>\n      <td>NaN</td>\n      <td>NaN</td>\n      <td>NaN</td>\n      <td>NaN</td>\n      <td>NaN</td>\n    </tr>\n    <tr>\n      <th>2553</th>\n      <td>mcr_lter1_fringingreef_pole2-3_qu5_20080415.jpg</td>\n      <td>NaN</td>\n      <td>NaN</td>\n      <td>NaN</td>\n      <td>NaN</td>\n      <td>NaN</td>\n      <td>NaN</td>\n      <td>NaN</td>\n      <td>NaN</td>\n      <td>NaN</td>\n      <td>...</td>\n      <td>NaN</td>\n      <td>NaN</td>\n      <td>NaN</td>\n      <td>NaN</td>\n      <td>NaN</td>\n      <td>NaN</td>\n      <td>NaN</td>\n      <td>NaN</td>\n      <td>NaN</td>\n      <td>NaN</td>\n    </tr>\n  </tbody>\n</table>\n<p>5 rows × 33 columns</p>\n</div>"
     },
     "execution_count": 8,
     "metadata": {},
     "output_type": "execute_result"
    }
   ],
   "source": [
    "# Download the annotations for the source\n",
    "driver, ANNOTATIONS = download_annotations(driver, SOURCE_ID, SOURCE_DIR)\n",
    "\n",
    "# Display some annotations\n",
    "ANNOTATIONS.sample(5)"
   ],
   "metadata": {
    "collapsed": false
   }
  },
  {
   "cell_type": "markdown",
   "source": [
    "#### Downloading a list of CoralNet Sources\n",
    "\n",
    "These next few cells can be used to help download information from CoralNet that would help in\n",
    "identifying potential sources of interest. For example, this first cell will download a list of\n",
    "all the public sources on CoralNet, including ID, name, and page URL."
   ],
   "metadata": {
    "collapsed": false
   }
  },
  {
   "cell_type": "code",
   "execution_count": 9,
   "outputs": [
    {
     "name": "stdout",
     "output_type": "stream",
     "text": [
      "NOTE: Downloading CoralNet Source List\n"
     ]
    },
    {
     "name": "stderr",
     "output_type": "stream",
     "text": [
      "100%|██████████| 670/670 [00:00<00:00, 41881.16it/s]"
     ]
    },
    {
     "name": "stdout",
     "output_type": "stream",
     "text": [
      "NOTE: CoralNet Source list saved successfully\n"
     ]
    },
    {
     "name": "stderr",
     "output_type": "stream",
     "text": [
      "\n"
     ]
    },
    {
     "data": {
      "text/plain": "    Source_ID            Source_Name                              Source_URL\n509      2895      RD practice - 9x9  https://coralnet.ucsd.edu/source/2895/\n517      1294  Restoration Seaflower  https://coralnet.ucsd.edu/source/1294/\n374      2874           Maui_Puamana  https://coralnet.ucsd.edu/source/2874/\n562      2190            Snakebay10m  https://coralnet.ucsd.edu/source/2190/\n366      2860          Maui_Kahekili  https://coralnet.ucsd.edu/source/2860/",
      "text/html": "<div>\n<style scoped>\n    .dataframe tbody tr th:only-of-type {\n        vertical-align: middle;\n    }\n\n    .dataframe tbody tr th {\n        vertical-align: top;\n    }\n\n    .dataframe thead th {\n        text-align: right;\n    }\n</style>\n<table border=\"1\" class=\"dataframe\">\n  <thead>\n    <tr style=\"text-align: right;\">\n      <th></th>\n      <th>Source_ID</th>\n      <th>Source_Name</th>\n      <th>Source_URL</th>\n    </tr>\n  </thead>\n  <tbody>\n    <tr>\n      <th>509</th>\n      <td>2895</td>\n      <td>RD practice - 9x9</td>\n      <td>https://coralnet.ucsd.edu/source/2895/</td>\n    </tr>\n    <tr>\n      <th>517</th>\n      <td>1294</td>\n      <td>Restoration Seaflower</td>\n      <td>https://coralnet.ucsd.edu/source/1294/</td>\n    </tr>\n    <tr>\n      <th>374</th>\n      <td>2874</td>\n      <td>Maui_Puamana</td>\n      <td>https://coralnet.ucsd.edu/source/2874/</td>\n    </tr>\n    <tr>\n      <th>562</th>\n      <td>2190</td>\n      <td>Snakebay10m</td>\n      <td>https://coralnet.ucsd.edu/source/2190/</td>\n    </tr>\n    <tr>\n      <th>366</th>\n      <td>2860</td>\n      <td>Maui_Kahekili</td>\n      <td>https://coralnet.ucsd.edu/source/2860/</td>\n    </tr>\n  </tbody>\n</table>\n</div>"
     },
     "execution_count": 9,
     "metadata": {},
     "output_type": "execute_result"
    }
   ],
   "source": [
    "# Download the list of sources on CoralNet\n",
    "driver, SOURCES = download_coralnet_sources(driver, OUTPUT_DIR)\n",
    "\n",
    "# Display some sources\n",
    "SOURCES.sample(5)"
   ],
   "metadata": {
    "collapsed": false
   }
  },
  {
   "cell_type": "markdown",
   "source": [
    "#### Downloading a list of CoralNet Labelsets\n",
    "\n",
    "In additon to the sources, we can also download all the public labelsets on CoralNet, along with\n",
    " all the additional attributes associated with each. This includes the labelset name, ID, page\n",
    " URL, functional group, short code, and popularity."
   ],
   "metadata": {
    "collapsed": false
   }
  },
  {
   "cell_type": "code",
   "execution_count": 10,
   "outputs": [
    {
     "name": "stdout",
     "output_type": "stream",
     "text": [
      "NOTE: Downloading CoralNet Labelset List\n"
     ]
    },
    {
     "name": "stderr",
     "output_type": "stream",
     "text": [
      "100%|██████████| 7461/7461 [00:00<00:00, 13581.45it/s]"
     ]
    },
    {
     "name": "stdout",
     "output_type": "stream",
     "text": [
      "NOTE: Labelset list saved successfully\n"
     ]
    },
    {
     "name": "stderr",
     "output_type": "stream",
     "text": [
      "\n"
     ]
    },
    {
     "data": {
      "text/plain": "     Label ID                                       Name  \\\n6280     5510           Cyanobacteria/BG algae on rubble   \n285      1943                            Astreopora spp.   \n5383     4764               (Dark) Drink Bottles – Green   \n4891     4777  Pebble / gravel: Biologenic: Coral rubble   \n5906      506                        Amphiroa beauvoisii   \n\n                                        URL Functional Group Popularity %  \\\n6280  https://coralnet.ucsd.edu/label/5510/            Algae           51   \n285   https://coralnet.ucsd.edu/label/1943/       Hard coral           52   \n5383  https://coralnet.ucsd.edu/label/4764/            Other           34   \n4891  https://coralnet.ucsd.edu/label/4777/   Soft Substrate            0   \n5906   https://coralnet.ucsd.edu/label/506/            Algae           63   \n\n     Short Code  Duplicate          Duplicate Notes  Verified  \\\n6280   CYAN_RUB      False                              False   \n285     Ast_spp       True  Duplicate of Astreopora     False   \n5383  DBGreen_D      False                              False   \n4891      SUPBR      False                              False   \n5906     AmpBea      False                              False   \n\n      Has Calcification Rates  \n6280                    False  \n285                     False  \n5383                    False  \n4891                    False  \n5906                    False  ",
      "text/html": "<div>\n<style scoped>\n    .dataframe tbody tr th:only-of-type {\n        vertical-align: middle;\n    }\n\n    .dataframe tbody tr th {\n        vertical-align: top;\n    }\n\n    .dataframe thead th {\n        text-align: right;\n    }\n</style>\n<table border=\"1\" class=\"dataframe\">\n  <thead>\n    <tr style=\"text-align: right;\">\n      <th></th>\n      <th>Label ID</th>\n      <th>Name</th>\n      <th>URL</th>\n      <th>Functional Group</th>\n      <th>Popularity %</th>\n      <th>Short Code</th>\n      <th>Duplicate</th>\n      <th>Duplicate Notes</th>\n      <th>Verified</th>\n      <th>Has Calcification Rates</th>\n    </tr>\n  </thead>\n  <tbody>\n    <tr>\n      <th>6280</th>\n      <td>5510</td>\n      <td>Cyanobacteria/BG algae on rubble</td>\n      <td>https://coralnet.ucsd.edu/label/5510/</td>\n      <td>Algae</td>\n      <td>51</td>\n      <td>CYAN_RUB</td>\n      <td>False</td>\n      <td></td>\n      <td>False</td>\n      <td>False</td>\n    </tr>\n    <tr>\n      <th>285</th>\n      <td>1943</td>\n      <td>Astreopora spp.</td>\n      <td>https://coralnet.ucsd.edu/label/1943/</td>\n      <td>Hard coral</td>\n      <td>52</td>\n      <td>Ast_spp</td>\n      <td>True</td>\n      <td>Duplicate of Astreopora</td>\n      <td>False</td>\n      <td>False</td>\n    </tr>\n    <tr>\n      <th>5383</th>\n      <td>4764</td>\n      <td>(Dark) Drink Bottles – Green</td>\n      <td>https://coralnet.ucsd.edu/label/4764/</td>\n      <td>Other</td>\n      <td>34</td>\n      <td>DBGreen_D</td>\n      <td>False</td>\n      <td></td>\n      <td>False</td>\n      <td>False</td>\n    </tr>\n    <tr>\n      <th>4891</th>\n      <td>4777</td>\n      <td>Pebble / gravel: Biologenic: Coral rubble</td>\n      <td>https://coralnet.ucsd.edu/label/4777/</td>\n      <td>Soft Substrate</td>\n      <td>0</td>\n      <td>SUPBR</td>\n      <td>False</td>\n      <td></td>\n      <td>False</td>\n      <td>False</td>\n    </tr>\n    <tr>\n      <th>5906</th>\n      <td>506</td>\n      <td>Amphiroa beauvoisii</td>\n      <td>https://coralnet.ucsd.edu/label/506/</td>\n      <td>Algae</td>\n      <td>63</td>\n      <td>AmpBea</td>\n      <td>False</td>\n      <td></td>\n      <td>False</td>\n      <td>False</td>\n    </tr>\n  </tbody>\n</table>\n</div>"
     },
     "execution_count": 10,
     "metadata": {},
     "output_type": "execute_result"
    }
   ],
   "source": [
    "# Download the list of labelsets on CoralNet\n",
    "driver, LABELSETS = download_coralnet_labelsets(driver, OUTPUT_DIR)\n",
    "\n",
    "# Display some labelsets\n",
    "LABELSETS.sample(5)"
   ],
   "metadata": {
    "collapsed": false
   }
  },
  {
   "cell_type": "markdown",
   "source": [
    "#### Downloading a list of CoralNet Sources that contain a specific labelset\n",
    "\n",
    "Finally, you can download specific sources that contain at least one example of a labelset of\n",
    "interest. In this example, we're interested in Acropora (branching) corals; we use the labelset\n",
    " dataframe to find the ID of the labelset, and then use that ID to find all the sources that\n",
    " contain at least one example of that labelset.\n",
    "\n",
    "In return, we're provided a dataframe of sources, which we can then download the images, labelset,\n",
    " metadata and annotations for."
   ],
   "metadata": {
    "collapsed": false
   }
  },
  {
   "cell_type": "code",
   "execution_count": 11,
   "outputs": [
    {
     "name": "stdout",
     "output_type": "stream",
     "text": [
      "NOTE: Downloading list of sources\n"
     ]
    },
    {
     "name": "stderr",
     "output_type": "stream",
     "text": [
      "1it [00:10, 10.95s/it]"
     ]
    },
    {
     "name": "stdout",
     "output_type": "stream",
     "text": [
      "NOTE: Source ID List saved successfully\n"
     ]
    },
    {
     "name": "stderr",
     "output_type": "stream",
     "text": [
      "\n"
     ]
    },
    {
     "data": {
      "text/plain": "   Source_ID                                        Source_Name  \\\n23      3567  Tonga_2022-08 & Samoa_2022-09 & Samoa_2019-12 ...   \n7       3300                                         Memba MB19   \n6       2384                                            IvorKSA   \n22      3350                                        TEST Louise   \n20      2799                                               TEST   \n\n                               Source_URL              Contains  \n23  https://coralnet.ucsd.edu/label/3567/  Acropora (branching)  \n7   https://coralnet.ucsd.edu/label/3300/  Acropora (branching)  \n6   https://coralnet.ucsd.edu/label/2384/  Acropora (branching)  \n22  https://coralnet.ucsd.edu/label/3350/  Acropora (branching)  \n20  https://coralnet.ucsd.edu/label/2799/  Acropora (branching)  ",
      "text/html": "<div>\n<style scoped>\n    .dataframe tbody tr th:only-of-type {\n        vertical-align: middle;\n    }\n\n    .dataframe tbody tr th {\n        vertical-align: top;\n    }\n\n    .dataframe thead th {\n        text-align: right;\n    }\n</style>\n<table border=\"1\" class=\"dataframe\">\n  <thead>\n    <tr style=\"text-align: right;\">\n      <th></th>\n      <th>Source_ID</th>\n      <th>Source_Name</th>\n      <th>Source_URL</th>\n      <th>Contains</th>\n    </tr>\n  </thead>\n  <tbody>\n    <tr>\n      <th>23</th>\n      <td>3567</td>\n      <td>Tonga_2022-08 &amp; Samoa_2022-09 &amp; Samoa_2019-12 ...</td>\n      <td>https://coralnet.ucsd.edu/label/3567/</td>\n      <td>Acropora (branching)</td>\n    </tr>\n    <tr>\n      <th>7</th>\n      <td>3300</td>\n      <td>Memba MB19</td>\n      <td>https://coralnet.ucsd.edu/label/3300/</td>\n      <td>Acropora (branching)</td>\n    </tr>\n    <tr>\n      <th>6</th>\n      <td>2384</td>\n      <td>IvorKSA</td>\n      <td>https://coralnet.ucsd.edu/label/2384/</td>\n      <td>Acropora (branching)</td>\n    </tr>\n    <tr>\n      <th>22</th>\n      <td>3350</td>\n      <td>TEST Louise</td>\n      <td>https://coralnet.ucsd.edu/label/3350/</td>\n      <td>Acropora (branching)</td>\n    </tr>\n    <tr>\n      <th>20</th>\n      <td>2799</td>\n      <td>TEST</td>\n      <td>https://coralnet.ucsd.edu/label/2799/</td>\n      <td>Acropora (branching)</td>\n    </tr>\n  </tbody>\n</table>\n</div>"
     },
     "execution_count": 11,
     "metadata": {},
     "output_type": "execute_result"
    }
   ],
   "source": [
    "# Get the sources that contain the labelsets of interest\n",
    "DESIRED_LABELSET = LABELSETS[LABELSETS['Name'] == \"Acropora (branching)\"]\n",
    "\n",
    "# Filter the sources to only those that have the desired labelset\n",
    "driver, SOURCE_LIST = get_sources_with(driver, DESIRED_LABELSET, OUTPUT_DIR)\n",
    "\n",
    "# Display some sources\n",
    "SOURCE_LIST.sample(5)"
   ],
   "metadata": {
    "collapsed": false
   }
  },
  {
   "cell_type": "markdown",
   "source": [
    "#### Download all the data\n",
    "\n",
    "Now that we have a list of sources that contain the labelset of interest, we can download all the\n",
    " data for each source. This includes the images, labelset, metadata and annotations. This can\n",
    " take a while to run, so it's best to run this cell and then go do something else for a while.\n",
    "\n",
    "In theory, it's possible to download all the public data from CoralNet, just know that the\n",
    "annotations require a lot of time to download (this is a limitation of CoralNet, not this script)."
   ],
   "metadata": {
    "collapsed": false
   }
  },
  {
   "cell_type": "code",
   "execution_count": null,
   "outputs": [],
   "source": [
    "# Loop through each of the source ids\n",
    "for source_id in SOURCE_LIST['ID'].tolist():\n",
    "    # Download the data for the source\n",
    "    download_data(driver, source_id, OUTPUT_DIR)"
   ],
   "metadata": {
    "collapsed": false
   }
  },
  {
   "cell_type": "markdown",
   "source": [
    "#### Closing the browser\n",
    "\n",
    "Last but not least, we close the browser."
   ],
   "metadata": {
    "collapsed": false
   }
  },
  {
   "cell_type": "code",
   "execution_count": 12,
   "outputs": [],
   "source": [
    "driver.close()"
   ],
   "metadata": {
    "collapsed": false
   }
  }
 ],
 "metadata": {
  "kernelspec": {
   "display_name": "Python 3",
   "language": "python",
   "name": "python3"
  },
  "language_info": {
   "codemirror_mode": {
    "name": "ipython",
    "version": 2
   },
   "file_extension": ".py",
   "mimetype": "text/x-python",
   "name": "python",
   "nbconvert_exporter": "python",
   "pygments_lexer": "ipython2",
   "version": "2.7.6"
  }
 },
 "nbformat": 4,
 "nbformat_minor": 0
}
