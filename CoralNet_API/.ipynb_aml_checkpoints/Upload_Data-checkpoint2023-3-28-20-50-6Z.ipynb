{
  "cells": [
   {
    "cell_type": "code",
    "execution_count": null,
    "metadata": {},
    "outputs": [],
    "source": []
   }
  ],
  "metadata": {
   "kernelspec": {
    "display_name": "Python 3.10 - SDK v2",
    "language": "python",
    "name": "python310-sdkv2"
   },
   "language_info": {
    "codemirror_mode": {
     "name": "ipython",
     "version": 3
    },
    "file_extension": ".py",
    "mimetype": "text/x-python",
    "name": "python",
    "nbconvert_exporter": "python",
    "pygments_lexer": "ipython3",
    "version": "3.10.6"
   }
  },
  "nbformat": 4,
  "nbformat_minor": 2
 }