{
 "cells": [
  {
   "cell_type": "markdown",
   "source": [
    "### Upload CoralNet (Notebook)\n",
    "\n",
    "This notebook can be useful for experimenting with the functions in\n",
    "`Upload_CoralNet.py`. The script is designed to be run from the command line,\n",
    "and will allow a user to upload the images, annotations, and a labelset to a\n",
    " specific source."
   ],
   "metadata": {
    "collapsed": false
   }
  },
  {
   "cell_type": "markdown",
   "source": [
    "#### Import Packages"
   ],
   "metadata": {
    "collapsed": false
   }
  },
  {
   "cell_type": "code",
   "execution_count": 1,
   "outputs": [],
   "source": [
    "from CoralNet_Upload import *"
   ],
   "metadata": {
    "collapsed": false
   }
  },
  {
   "cell_type": "markdown",
   "source": [
    "#### Set up authentication\n",
    "\n",
    "The first step is to authenticate with CoralNet. You need to provide your\n",
    "username and password. If you don't have an account, you can create one at\n",
    "https://coralnet.ucsd.edu/. If you don't want to provide your credentials\n",
    "every time you run the script, you can store them in a separate file, or make\n",
    "them user/environmental variables. If you don't want to store your credentials\n",
    "in a file, you can also provide them as arguments when you run the script."
   ],
   "metadata": {
    "collapsed": false
   }
  },
  {
   "cell_type": "code",
   "execution_count": 2,
   "outputs": [
    {
     "name": "stdout",
     "output_type": "stream",
     "text": [
      "NOTE: Authentication successful for jordan.pierce@noaa.gov\n"
     ]
    }
   ],
   "source": [
    "# Username\n",
    "CORALNET_USERNAME = os.getenv(\"CORALNET_USERNAME\")\n",
    "USERNAME = input(\"Username: \") if not CORALNET_USERNAME else CORALNET_USERNAME\n",
    "\n",
    "# Password\n",
    "CORALNET_PASSWORD = os.getenv(\"CORALNET_PASSWORD\")\n",
    "PASSWORD = input(\"Password: \") if not CORALNET_PASSWORD else CORALNET_PASSWORD\n",
    "\n",
    "try:\n",
    "    # Authenticate\n",
    "    authenticate(USERNAME, PASSWORD)\n",
    "except Exception as e:\n",
    "    print(e)"
   ],
   "metadata": {
    "collapsed": false
   }
  },
  {
   "cell_type": "markdown",
   "source": [
    "#### Set up the source\n",
    "\n",
    "Next, we set the source we want to upload data to. If credentials\n",
    "provided don't have access to the source, the script will tell you, and then\n",
    " exit."
   ],
   "metadata": {
    "collapsed": false
   }
  },
  {
   "cell_type": "code",
   "execution_count": 3,
   "outputs": [],
   "source": [
    "# ID of the source to upload data to\n",
    "SOURCE_ID = 4117"
   ],
   "metadata": {
    "collapsed": false
   }
  },
  {
   "cell_type": "markdown",
   "source": [
    "#### Prepare the data\n",
    "\n",
    "Next we'll set up the data that we want to upload. This includes the path to\n",
    "a folder containing images, a path to a CSV file containing annotations, and\n",
    "a path to a CSV file containing the labelset.\n",
    "\n",
    "The annotation and labelset file need to be in the format that CoralNet\n",
    "expects. You can find examples of these files in the `CoralNet_Data` folder.\n",
    " If the files are not in the correct format, the script will tell you, and\n",
    " skip over the files. If there is no data to upload, the script exits."
   ],
   "metadata": {
    "collapsed": false
   }
  },
  {
   "cell_type": "code",
   "execution_count": 35,
   "outputs": [
    {
     "name": "stdout",
     "output_type": "stream",
     "text": [
      "NOTE: Found 216 images to upload.\n",
      "NOTE: Found labelset to upload.\n",
      "NOTE: Found annotations to upload.\n"
     ]
    }
   ],
   "source": [
    "# Flags to determine what to upload\n",
    "UPLOAD_IMAGES = False\n",
    "UPLOAD_LABELSET = False\n",
    "UPLOAD_ANNOTATIONS = False\n",
    "\n",
    "# Data to be uploaded\n",
    "images_path = \".\\\\VISCORE\\\\Data\\\\images\"\n",
    "IMAGES = glob.glob(images_path + \"\\\\*.*\")\n",
    "IMAGES = [i for i in IMAGES if os.path.basename(i).split(\".\")[-1].lower() in IMG_FORMATS]\n",
    "IMAGES = [os.path.abspath(i) for i in IMAGES]\n",
    "\n",
    "# Check if there are images to upload\n",
    "if len(IMAGES) > 0:\n",
    "    print(f\"NOTE: Found {len(IMAGES)} images to upload.\")\n",
    "    UPLOAD_IMAGES = True\n",
    "\n",
    "# Assign the labelset\n",
    "labelset_path = \".\\\\VISCORE\\\\CoralNet_VPI_Labelset_With_Exact_Match.csv\"\n",
    "LABELSET = os.path.abspath(labelset_path)\n",
    "\n",
    "# Check if there is a labelset to upload\n",
    "if os.path.exists(LABELSET) and \"csv\" in LABELSET.split(\".\")[-1]:\n",
    "    print(f\"NOTE: Found labelset to upload.\")\n",
    "    UPLOAD_LABELSET = True\n",
    "\n",
    "# Assign the annotations\n",
    "annotations_path = \".\\\\VISCORE\\\\Data\\\\EDR_R5-1_2021-12-09_labels_updated.csv\"\n",
    "ANNOTATIONS = os.path.abspath(annotations_path)\n",
    "\n",
    "# Check if there are annotations to upload\n",
    "if os.path.exists(ANNOTATIONS) and \"csv\" in ANNOTATIONS.split(\".\")[-1]:\n",
    "    print(f\"NOTE: Found annotations to upload.\")\n",
    "    UPLOAD_ANNOTATIONS = True\n",
    "\n",
    "# If there are no images, labelset, or annotations to upload, exit\n",
    "if not UPLOAD_IMAGES and not UPLOAD_LABELSET and not UPLOAD_ANNOTATIONS:\n",
    "    print(f\"ERROR: No data to upload. Please check the following files:\\n\"\n",
    "          f\"Images: {images_path}\\n\"\n",
    "          f\"Labelset: {labelset_path}\\n\"\n",
    "          f\"Annotations: {annotations_path}\")"
   ],
   "metadata": {
    "collapsed": false
   }
  },
  {
   "cell_type": "markdown",
   "source": [
    "#### Set up the browser driver\n",
    "\n",
    "Before attempting to upload data, you need to set up the browser driver. This\n",
    "will create a web browser that will be used to interact with CoralNet. The\n",
    "code will identify which browsers are available on your machine, and will\n",
    "create a driver for the first one it finds.\n",
    "\n",
    "For this example, we will use Chrome, and set headless mode to False, so that\n",
    "we can see what is happening. If you want to run the script without opening\n",
    "a browser, you can set headless mode to True."
   ],
   "metadata": {
    "collapsed": false
   }
  },
  {
   "cell_type": "code",
   "execution_count": 29,
   "outputs": [
    {
     "name": "stdout",
     "output_type": "stream",
     "text": [
      "NOTE: Using Google Chrome\n"
     ]
    }
   ],
   "source": [
    "options = Options()\n",
    "\n",
    "headless = False\n",
    "\n",
    "if headless:\n",
    "    # Set headless mode\n",
    "    options.add_argument(\"--headless\")\n",
    "\n",
    "# Pass the options object while creating the driver\n",
    "driver = check_for_browsers(options=options)\n",
    "\n",
    "# Store the credentials in the driver\n",
    "driver.capabilities['credentials'] = {\n",
    "    'username': USERNAME,\n",
    "    'password': PASSWORD\n",
    "}"
   ],
   "metadata": {
    "collapsed": false
   }
  },
  {
   "cell_type": "markdown",
   "source": [
    "#### Login\n",
    "\n",
    "The first step is to log in to CoralNet. If the credentials provided don't\n",
    "have access to CoralNet, the script will tell you, and then exit.\n"
   ],
   "metadata": {
    "collapsed": false
   }
  },
  {
   "cell_type": "code",
   "execution_count": 30,
   "outputs": [
    {
     "name": "stdout",
     "output_type": "stream",
     "text": [
      "NOTE: Successfully logged in for jordan.pierce@noaa.gov\n"
     ]
    }
   ],
   "source": [
    "# Log in to CoralNet\n",
    "driver, _ = login(driver)"
   ],
   "metadata": {
    "collapsed": false
   }
  },
  {
   "cell_type": "markdown",
   "source": [
    "#### Upload the data\n",
    "\n",
    "The order for uploading data should be:\n",
    "\n",
    "- Labelset\n",
    "- Images\n",
    "- Annotations\n",
    "\n",
    "The labelset or images can be uploaded first, but annotations must be uploaded\n",
    "after labelset and images. If you attempt to upload annotations that\n",
    "correspond to images that are not in the source, they will not be uploaded.\n",
    "Similarly, if you attempt to upload annotations containing labels that are\n",
    "not in the labelset, they will not be uploaded.\n",
    "\n",
    "If you attempt to upload images that are already in the source, they will be\n",
    " skipped, and labelsets already in the source will not be uploaded again,\n",
    " but new labels will be added to the labelset. If you attempt to upload\n",
    "    annotations that are already in the source, they will be overwritten.\n",
    "\n",
    "It's also important to not click on anything in the browser while the script\n",
    " is running."
   ],
   "metadata": {
    "collapsed": false
   }
  },
  {
   "cell_type": "code",
   "execution_count": 31,
   "metadata": {},
   "outputs": [
    {
     "name": "stdout",
     "output_type": "stream",
     "text": [
      "\n",
      "NOTE: Navigating to labelset upload page\n",
      "NOTE: File input field is enabled\n",
      "NOTE: Uploading CoralNet_VPI_Labelset_With_Exact_Match.csv\n",
      "NOTE: Labelset saved\n"
     ]
    }
   ],
   "source": [
    "# Upload the labelset\n",
    "if UPLOAD_LABELSET:\n",
    "    upload_labelset(driver, SOURCE_ID, LABELSET)"
   ]
  },
  {
   "cell_type": "code",
   "execution_count": 32,
   "outputs": [
    {
     "name": "stdout",
     "output_type": "stream",
     "text": [
      "\n",
      "Navigating to image upload page...\n",
      "NOTE: File input field is enabled\n",
      "NOTE: Sending DSC_7150.JPG\n",
      "NOTE: Sending DSC_7156.JPG\n",
      "NOTE: Sending DSC_7162.JPG\n",
      "NOTE: Sending DSC_7168.JPG\n",
      "NOTE: Sending DSC_7174.JPG\n",
      "NOTE: Sending DSC_7180.JPG\n",
      "NOTE: Sending DSC_7186.JPG\n",
      "NOTE: Sending DSC_7192.JPG\n",
      "NOTE: Sending DSC_7198.JPG\n",
      "NOTE: Sending DSC_7204.JPG\n",
      "NOTE: Sending DSC_7210.JPG\n",
      "NOTE: Sending DSC_7216.JPG\n",
      "NOTE: Sending DSC_7222.JPG\n",
      "NOTE: Sending DSC_7228.JPG\n",
      "NOTE: Sending DSC_7234.JPG\n",
      "NOTE: Sending DSC_7240.JPG\n",
      "NOTE: Sending DSC_7246.JPG\n",
      "NOTE: Sending DSC_7252.JPG\n",
      "NOTE: Sending DSC_7258.JPG\n",
      "NOTE: Sending DSC_7264.JPG\n",
      "NOTE: Sending DSC_7270.JPG\n",
      "NOTE: Sending DSC_7276.JPG\n",
      "NOTE: Sending DSC_7282.JPG\n",
      "NOTE: Sending DSC_7288.JPG\n",
      "NOTE: Sending DSC_7294.JPG\n",
      "NOTE: Sending DSC_7300.JPG\n",
      "NOTE: Sending DSC_7306.JPG\n",
      "NOTE: Sending DSC_7312.JPG\n",
      "NOTE: Sending DSC_7318.JPG\n",
      "NOTE: Sending DSC_7324.JPG\n",
      "NOTE: Sending DSC_7330.JPG\n",
      "NOTE: Sending DSC_7336.JPG\n",
      "NOTE: Sending DSC_7342.JPG\n",
      "NOTE: Sending DSC_7348.JPG\n",
      "NOTE: Sending DSC_7354.JPG\n",
      "NOTE: Sending DSC_7360.JPG\n",
      "NOTE: Sending DSC_7366.JPG\n",
      "NOTE: Sending DSC_7372.JPG\n",
      "NOTE: Sending DSC_7378.JPG\n",
      "NOTE: Sending DSC_7384.JPG\n",
      "NOTE: Sending DSC_7390.JPG\n",
      "NOTE: Sending DSC_7396.JPG\n",
      "NOTE: Sending DSC_7402.JPG\n",
      "NOTE: Sending DSC_7408.JPG\n",
      "NOTE: Sending DSC_7414.JPG\n",
      "NOTE: Sending DSC_7420.JPG\n",
      "NOTE: Sending DSC_7426.JPG\n",
      "NOTE: Sending DSC_7432.JPG\n",
      "NOTE: Sending DSC_7438.JPG\n",
      "NOTE: Sending DSC_7444.JPG\n",
      "NOTE: Sending DSC_7450.JPG\n",
      "NOTE: Sending DSC_7456.JPG\n",
      "NOTE: Sending DSC_7462.JPG\n",
      "NOTE: Sending DSC_7468.JPG\n",
      "NOTE: Sending DSC_7474.JPG\n",
      "NOTE: Sending DSC_7480.JPG\n",
      "NOTE: Sending DSC_7486.JPG\n",
      "NOTE: Sending DSC_7492.JPG\n",
      "NOTE: Sending DSC_7498.JPG\n",
      "NOTE: Sending DSC_7504.JPG\n",
      "NOTE: Sending DSC_7510.JPG\n",
      "NOTE: Sending DSC_7516.JPG\n",
      "NOTE: Sending DSC_7522.JPG\n",
      "NOTE: Sending DSC_7528.JPG\n",
      "NOTE: Sending DSC_7534.JPG\n",
      "NOTE: Sending DSC_7540.JPG\n",
      "NOTE: Sending DSC_7546.JPG\n",
      "NOTE: Sending DSC_7552.JPG\n",
      "NOTE: Sending DSC_7558.JPG\n",
      "NOTE: Sending DSC_7564.JPG\n",
      "NOTE: Sending DSC_7570.JPG\n",
      "NOTE: Sending DSC_7576.JPG\n",
      "NOTE: Sending DSC_7582.JPG\n",
      "NOTE: Sending DSC_7588.JPG\n",
      "NOTE: Sending DSC_7594.JPG\n",
      "NOTE: Sending DSC_7600.JPG\n",
      "NOTE: Sending DSC_7606.JPG\n",
      "NOTE: Sending DSC_7612.JPG\n",
      "NOTE: Sending DSC_7618.JPG\n",
      "NOTE: Sending DSC_7624.JPG\n",
      "NOTE: Sending DSC_7630.JPG\n",
      "NOTE: Sending DSC_7636.JPG\n",
      "NOTE: Sending DSC_7642.JPG\n",
      "NOTE: Sending DSC_7648.JPG\n",
      "NOTE: Sending DSC_7654.JPG\n",
      "NOTE: Sending DSC_7660.JPG\n",
      "NOTE: Sending DSC_7666.JPG\n",
      "NOTE: Sending DSC_7672.JPG\n",
      "NOTE: Sending DSC_7678.JPG\n",
      "NOTE: Sending DSC_7684.JPG\n",
      "NOTE: Sending DSC_7690.JPG\n",
      "NOTE: Sending DSC_7696.JPG\n",
      "NOTE: Sending DSC_7702.JPG\n",
      "NOTE: Sending DSC_7708.JPG\n",
      "NOTE: Sending DSC_7714.JPG\n",
      "NOTE: Sending DSC_7720.JPG\n",
      "NOTE: Sending DSC_7726.JPG\n",
      "NOTE: Sending DSC_7732.JPG\n",
      "NOTE: Sending DSC_7738.JPG\n",
      "NOTE: Sending DSC_7744.JPG\n",
      "NOTE: Sending DSC_7750.JPG\n",
      "NOTE: Sending DSC_7756.JPG\n",
      "NOTE: Sending DSC_7762.JPG\n",
      "NOTE: Sending DSC_7768.JPG\n",
      "NOTE: Sending DSC_7774.JPG\n",
      "NOTE: Sending DSC_7780.JPG\n",
      "NOTE: Sending DSC_7786.JPG\n",
      "NOTE: Sending DSC_7792.JPG\n",
      "NOTE: Sending DSC_7798.JPG\n",
      "NOTE: Sending DSC_7804.JPG\n",
      "NOTE: Sending DSC_7810.JPG\n",
      "NOTE: Sending DSC_7816.JPG\n",
      "NOTE: Sending DSC_7822.JPG\n",
      "NOTE: Sending DSC_7828.JPG\n",
      "NOTE: Sending DSC_7834.JPG\n",
      "NOTE: Sending DSC_7840.JPG\n",
      "NOTE: Sending DSC_7846.JPG\n",
      "NOTE: Sending DSC_7852.JPG\n",
      "NOTE: Sending DSC_7858.JPG\n",
      "NOTE: Sending DSC_7864.JPG\n",
      "NOTE: Sending DSC_7870.JPG\n",
      "NOTE: Sending DSC_7876.JPG\n",
      "NOTE: Sending DSC_7882.JPG\n",
      "NOTE: Sending DSC_7888.JPG\n",
      "NOTE: Sending DSC_7894.JPG\n",
      "NOTE: Sending DSC_7900.JPG\n",
      "NOTE: Sending DSC_7906.JPG\n",
      "NOTE: Sending DSC_7912.JPG\n",
      "NOTE: Sending DSC_7918.JPG\n",
      "NOTE: Sending DSC_7924.JPG\n",
      "NOTE: Sending DSC_7930.JPG\n",
      "NOTE: Sending DSC_7936.JPG\n",
      "NOTE: Sending DSC_7942.JPG\n",
      "NOTE: Sending DSC_7948.JPG\n",
      "NOTE: Sending DSC_7954.JPG\n",
      "NOTE: Sending DSC_7960.JPG\n",
      "NOTE: Sending DSC_7966.JPG\n",
      "NOTE: Sending DSC_7972.JPG\n",
      "NOTE: Sending DSC_7978.JPG\n",
      "NOTE: Sending DSC_7984.JPG\n",
      "NOTE: Sending DSC_7990.JPG\n",
      "NOTE: Sending DSC_7996.JPG\n",
      "NOTE: Sending DSC_8002.JPG\n",
      "NOTE: Sending DSC_8008.JPG\n",
      "NOTE: Sending DSC_8014.JPG\n",
      "NOTE: Sending DSC_8020.JPG\n",
      "NOTE: Sending DSC_8026.JPG\n",
      "NOTE: Sending DSC_8032.JPG\n",
      "NOTE: Sending DSC_8038.JPG\n",
      "NOTE: Sending DSC_8044.JPG\n",
      "NOTE: Sending DSC_8050.JPG\n",
      "NOTE: Sending DSC_8056.JPG\n",
      "NOTE: Sending DSC_8062.JPG\n",
      "NOTE: Sending DSC_8068.JPG\n",
      "NOTE: Sending DSC_8074.JPG\n",
      "NOTE: Sending DSC_8080.JPG\n",
      "NOTE: Sending DSC_8086.JPG\n",
      "NOTE: Sending DSC_8092.JPG\n",
      "NOTE: Sending DSC_8098.JPG\n",
      "NOTE: Sending DSC_8104.JPG\n",
      "NOTE: Sending DSC_8110.JPG\n",
      "NOTE: Sending DSC_8116.JPG\n",
      "NOTE: Sending DSC_8122.JPG\n",
      "NOTE: Sending DSC_8128.JPG\n",
      "NOTE: Sending DSC_8134.JPG\n",
      "NOTE: Sending DSC_8140.JPG\n",
      "NOTE: Sending DSC_8146.JPG\n",
      "NOTE: Sending DSC_8152.JPG\n",
      "NOTE: Sending DSC_8158.JPG\n",
      "NOTE: Sending DSC_8164.JPG\n",
      "NOTE: Sending DSC_8170.JPG\n",
      "NOTE: Sending DSC_8176.JPG\n",
      "NOTE: Sending DSC_8182.JPG\n",
      "NOTE: Sending DSC_8188.JPG\n",
      "NOTE: Sending DSC_8194.JPG\n",
      "NOTE: Sending DSC_8200.JPG\n",
      "NOTE: Sending DSC_8206.JPG\n",
      "NOTE: Sending DSC_8212.JPG\n",
      "NOTE: Sending DSC_8218.JPG\n",
      "NOTE: Sending DSC_8224.JPG\n",
      "NOTE: Sending DSC_8230.JPG\n",
      "NOTE: Sending DSC_8236.JPG\n",
      "NOTE: Sending DSC_8242.JPG\n",
      "NOTE: Sending DSC_8248.JPG\n",
      "NOTE: Sending DSC_8254.JPG\n",
      "NOTE: Sending DSC_8260.JPG\n",
      "NOTE: Sending DSC_8266.JPG\n",
      "NOTE: Sending DSC_8272.JPG\n",
      "NOTE: Sending DSC_8278.JPG\n",
      "NOTE: Sending DSC_8284.JPG\n",
      "NOTE: Sending DSC_8290.JPG\n",
      "NOTE: Sending DSC_8296.JPG\n",
      "NOTE: Sending DSC_8302.JPG\n",
      "NOTE: Sending DSC_8308.JPG\n",
      "NOTE: Sending DSC_8314.JPG\n",
      "NOTE: Sending DSC_8320.JPG\n",
      "NOTE: Sending DSC_8326.JPG\n",
      "NOTE: Sending DSC_8332.JPG\n",
      "NOTE: Sending DSC_8338.JPG\n",
      "NOTE: Sending DSC_8344.JPG\n",
      "NOTE: Sending DSC_8350.JPG\n",
      "NOTE: Sending DSC_8356.JPG\n",
      "NOTE: Sending DSC_8362.JPG\n",
      "NOTE: Sending DSC_8368.JPG\n",
      "NOTE: Sending DSC_8374.JPG\n",
      "NOTE: Sending DSC_8380.JPG\n",
      "NOTE: Sending DSC_8386.JPG\n",
      "NOTE: Sending DSC_8392.JPG\n",
      "NOTE: Sending DSC_8398.JPG\n",
      "NOTE: Sending DSC_8404.JPG\n",
      "NOTE: Sending DSC_8410.JPG\n",
      "NOTE: Sending DSC_8416.JPG\n",
      "NOTE: Sending DSC_8422.JPG\n",
      "NOTE: Sending DSC_8428.JPG\n",
      "NOTE: Sending DSC_8434.JPG\n",
      "NOTE: Sending DSC_8440.JPG\n",
      "\n",
      "216 file(s) total\n",
      "216 file(s) (3389.39 MB) can be uploaded\n",
      "\n",
      "NOTE: Uploading...\n",
      "NOTE: Uploaded: 5 of 216 (84.01 MB of 3389.39 MB, 2.5%)\n",
      "NOTE: Uploaded: 6 of 216 (99.39 MB of 3389.39 MB, 2.9%)\n",
      "NOTE: Uploaded: 8 of 216 (132.53 MB of 3389.39 MB, 3.9%)\n",
      "NOTE: Uploaded: 13 of 216 (211.55 MB of 3389.39 MB, 6.2%)\n",
      "NOTE: Uploaded: 17 of 216 (274.51 MB of 3389.39 MB, 8.1%)\n",
      "NOTE: Uploaded: 23 of 216 (371.88 MB of 3389.39 MB, 11.0%)\n",
      "NOTE: Uploaded: 24 of 216 (388.92 MB of 3389.39 MB, 11.5%)\n",
      "NOTE: Uploaded: 25 of 216 (403.62 MB of 3389.39 MB, 11.9%)\n",
      "NOTE: Uploaded: 27 of 216 (435.55 MB of 3389.39 MB, 12.9%)\n",
      "NOTE: Uploaded: 28 of 216 (452.29 MB of 3389.39 MB, 13.3%)\n",
      "NOTE: Uploaded: 29 of 216 (467.25 MB of 3389.39 MB, 13.8%)\n",
      "NOTE: Uploaded: 30 of 216 (482.7 MB of 3389.39 MB, 14.2%)\n",
      "NOTE: Uploaded: 35 of 216 (562.23 MB of 3389.39 MB, 16.6%)\n",
      "NOTE: Uploaded: 38 of 216 (610.68 MB of 3389.39 MB, 18.0%)\n",
      "NOTE: Uploaded: 40 of 216 (642.79 MB of 3389.39 MB, 19.0%)\n",
      "NOTE: Uploaded: 43 of 216 (688.86 MB of 3389.39 MB, 20.3%)\n",
      "NOTE: Uploaded: 45 of 216 (721.77 MB of 3389.39 MB, 21.3%)\n",
      "NOTE: Uploaded: 51 of 216 (818.04 MB of 3389.39 MB, 24.1%)\n",
      "NOTE: Uploaded: 55 of 216 (880.84 MB of 3389.39 MB, 26.0%)\n",
      "NOTE: Uploaded: 56 of 216 (895.37 MB of 3389.39 MB, 26.4%)\n",
      "NOTE: Uploaded: 57 of 216 (910.73 MB of 3389.39 MB, 26.9%)\n",
      "NOTE: Uploaded: 61 of 216 (974.16 MB of 3389.39 MB, 28.7%)\n",
      "NOTE: Uploaded: 65 of 216 (1036.6 MB of 3389.39 MB, 30.6%)\n",
      "NOTE: Uploaded: 66 of 216 (1051.82 MB of 3389.39 MB, 31.0%)\n",
      "NOTE: Uploaded: 72 of 216 (1142.19 MB of 3389.39 MB, 33.7%)\n",
      "NOTE: Uploaded: 73 of 216 (1157.44 MB of 3389.39 MB, 34.1%)\n",
      "NOTE: Uploaded: 74 of 216 (1172.95 MB of 3389.39 MB, 34.6%)\n",
      "NOTE: Uploaded: 75 of 216 (1190.45 MB of 3389.39 MB, 35.1%)\n",
      "NOTE: Uploaded: 76 of 216 (1206.49 MB of 3389.39 MB, 35.6%)\n",
      "NOTE: Uploaded: 86 of 216 (1362.73 MB of 3389.39 MB, 40.2%)\n",
      "NOTE: Uploaded: 88 of 216 (1393.41 MB of 3389.39 MB, 41.1%)\n",
      "NOTE: Uploaded: 90 of 216 (1423.4 MB of 3389.39 MB, 42.0%)\n",
      "NOTE: Uploaded: 92 of 216 (1455.98 MB of 3389.39 MB, 43.0%)\n",
      "NOTE: Uploaded: 94 of 216 (1486.89 MB of 3389.39 MB, 43.9%)\n",
      "NOTE: Uploaded: 95 of 216 (1502.15 MB of 3389.39 MB, 44.3%)\n",
      "NOTE: Uploaded: 96 of 216 (1518.55 MB of 3389.39 MB, 44.8%)\n",
      "NOTE: Uploaded: 98 of 216 (1548.66 MB of 3389.39 MB, 45.7%)\n",
      "NOTE: Uploaded: 99 of 216 (1563.94 MB of 3389.39 MB, 46.1%)\n",
      "NOTE: Uploaded: 108 of 216 (1704.39 MB of 3389.39 MB, 50.3%)\n",
      "NOTE: Uploaded: 110 of 216 (1737.44 MB of 3389.39 MB, 51.3%)\n",
      "NOTE: Uploaded: 112 of 216 (1768.69 MB of 3389.39 MB, 52.2%)\n",
      "NOTE: Uploaded: 114 of 216 (1801.38 MB of 3389.39 MB, 53.1%)\n",
      "NOTE: Uploaded: 116 of 216 (1832.29 MB of 3389.39 MB, 54.1%)\n",
      "NOTE: Uploaded: 120 of 216 (1898.65 MB of 3389.39 MB, 56.0%)\n",
      "NOTE: Uploaded: 122 of 216 (1932.63 MB of 3389.39 MB, 57.0%)\n",
      "NOTE: Uploaded: 128 of 216 (2028.58 MB of 3389.39 MB, 59.9%)\n",
      "NOTE: Uploaded: 129 of 216 (2044.72 MB of 3389.39 MB, 60.3%)\n",
      "NOTE: Uploaded: 133 of 216 (2107.61 MB of 3389.39 MB, 62.2%)\n",
      "NOTE: Uploaded: 136 of 216 (2153.68 MB of 3389.39 MB, 63.5%)\n",
      "NOTE: Uploaded: 137 of 216 (2168.77 MB of 3389.39 MB, 64.0%)\n",
      "NOTE: Uploaded: 141 of 216 (2225.48 MB of 3389.39 MB, 65.7%)\n",
      "NOTE: Uploaded: 146 of 216 (2298.49 MB of 3389.39 MB, 67.8%)\n",
      "NOTE: Uploaded: 149 of 216 (2344.26 MB of 3389.39 MB, 69.2%)\n",
      "NOTE: Uploaded: 151 of 216 (2378.5 MB of 3389.39 MB, 70.2%)\n",
      "NOTE: Uploaded: 152 of 216 (2392.96 MB of 3389.39 MB, 70.6%)\n",
      "NOTE: Uploaded: 155 of 216 (2441.02 MB of 3389.39 MB, 72.0%)\n",
      "NOTE: Uploaded: 157 of 216 (2473.86 MB of 3389.39 MB, 73.0%)\n",
      "NOTE: Uploaded: 158 of 216 (2488.28 MB of 3389.39 MB, 73.4%)\n",
      "NOTE: Uploaded: 167 of 216 (2627.12 MB of 3389.39 MB, 77.5%)\n",
      "NOTE: Uploaded: 168 of 216 (2644.01 MB of 3389.39 MB, 78.0%)\n",
      "NOTE: Uploaded: 169 of 216 (2659.85 MB of 3389.39 MB, 78.5%)\n",
      "NOTE: Uploaded: 170 of 216 (2675.91 MB of 3389.39 MB, 78.9%)\n",
      "NOTE: Uploaded: 171 of 216 (2692.64 MB of 3389.39 MB, 79.4%)\n",
      "NOTE: Uploaded: 172 of 216 (2708.64 MB of 3389.39 MB, 79.9%)\n",
      "NOTE: Uploaded: 174 of 216 (2740.4 MB of 3389.39 MB, 80.9%)\n",
      "NOTE: Uploaded: 176 of 216 (2771.59 MB of 3389.39 MB, 81.8%)\n",
      "NOTE: Uploaded: 177 of 216 (2785.86 MB of 3389.39 MB, 82.2%)\n",
      "NOTE: Uploaded: 182 of 216 (2863.17 MB of 3389.39 MB, 84.5%)\n",
      "NOTE: Uploaded: 185 of 216 (2908.88 MB of 3389.39 MB, 85.8%)\n",
      "NOTE: Uploaded: 186 of 216 (2924.71 MB of 3389.39 MB, 86.3%)\n",
      "NOTE: Uploaded: 188 of 216 (2955.66 MB of 3389.39 MB, 87.2%)\n",
      "NOTE: Uploaded: 192 of 216 (3018.58 MB of 3389.39 MB, 89.1%)\n",
      "NOTE: Uploaded: 195 of 216 (3066.44 MB of 3389.39 MB, 90.5%)\n",
      "NOTE: Uploaded: 200 of 216 (3139.68 MB of 3389.39 MB, 92.6%)\n",
      "NOTE: Uploaded: 201 of 216 (3154.94 MB of 3389.39 MB, 93.1%)\n",
      "NOTE: Uploaded: 202 of 216 (3170.36 MB of 3389.39 MB, 93.5%)\n",
      "NOTE: Uploaded: 203 of 216 (3185.32 MB of 3389.39 MB, 94.0%)\n",
      "NOTE: Uploaded: 206 of 216 (3234.49 MB of 3389.39 MB, 95.4%)\n",
      "NOTE: Uploaded: 207 of 216 (3249.13 MB of 3389.39 MB, 95.9%)\n",
      "NOTE: Uploaded: 208 of 216 (3264.36 MB of 3389.39 MB, 96.3%)\n",
      "NOTE: Uploaded: 212 of 216 (3327.67 MB of 3389.39 MB, 98.2%)\n",
      "NOTE: Upload complete\n"
     ]
    }
   ],
   "source": [
    "# Upload the images\n",
    "if UPLOAD_IMAGES:\n",
    "    upload_images(driver, SOURCE_ID, IMAGES)"
   ],
   "metadata": {
    "collapsed": false
   }
  },
  {
   "cell_type": "code",
   "execution_count": 36,
   "metadata": {},
   "outputs": [
    {
     "name": "stdout",
     "output_type": "stream",
     "text": [
      "\n",
      "NOTE: Navigating to annotation upload page\n",
      "NOTE: File input field is enabled\n",
      "NOTE: Uploading EDR_R5-1_2021-12-09_labels_updated.csv\n",
      "NOTE: Processing CSV file...\n",
      "\n",
      "Found data for 203 images\n",
      "Total of 8458 points and 8458 annotations\n",
      "\n",
      "NOTE: Saving points and annotations...\n",
      "NOTE: Points and annotations saved\n"
     ]
    }
   ],
   "source": [
    "# Upload the annotations\n",
    "if UPLOAD_ANNOTATIONS:\n",
    "    upload_annotations(driver, SOURCE_ID, ANNOTATIONS)"
   ]
  },
  {
   "cell_type": "markdown",
   "source": [
    "#### Close the browser\n",
    "\n",
    "Once the process is completed, you can close the browser."
   ],
   "metadata": {
    "collapsed": false
   }
  },
  {
   "cell_type": "code",
   "execution_count": 37,
   "outputs": [],
   "source": [
    "driver.quit()"
   ],
   "metadata": {
    "collapsed": false
   }
  },
  {
   "cell_type": "code",
   "execution_count": null,
   "outputs": [],
   "source": [],
   "metadata": {
    "collapsed": false
   }
  }
 ],
 "metadata": {
  "kernel_info": {
   "name": "python38-azureml"
  },
  "kernelspec": {
   "display_name": "Python [conda env:coralnet] *",
   "language": "python",
   "name": "conda-env-coralnet-py"
  },
  "language_info": {
   "codemirror_mode": {
    "name": "ipython",
    "version": 3
   },
   "file_extension": ".py",
   "mimetype": "text/x-python",
   "name": "python",
   "nbconvert_exporter": "python",
   "pygments_lexer": "ipython3",
   "version": "3.8.15"
  },
  "microsoft": {
   "ms_spell_check": {
    "ms_spell_check_language": "en"
   }
  },
  "nteract": {
   "version": "nteract-front-end@1.0.0"
  }
 },
 "nbformat": 4,
 "nbformat_minor": 2
}
