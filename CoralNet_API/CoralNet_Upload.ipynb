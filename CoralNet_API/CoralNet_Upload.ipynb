{
 "cells": [
  {
   "cell_type": "code",
   "execution_count": 1,
   "metadata": {
    "gather": {
     "logged": 1682716064547
    },
    "jupyter": {
     "outputs_hidden": false,
     "source_hidden": false
    },
    "nteract": {
     "transient": {
      "deleting": false
     }
    }
   },
   "outputs": [],
   "source": [
    "from CoralNet import *\n",
    "from CoralNet_Upload import *"
   ]
  },
  {
   "cell_type": "code",
   "execution_count": 18,
   "metadata": {},
   "outputs": [],
   "source": [
    "def get_status(driver):\n",
    "    \n",
    "    # Get the status display to check upload\n",
    "    status_display = WebDriverWait(driver, 10).until(\n",
    "        EC.presence_of_element_located((By.ID, \"status_display\"))\n",
    "    )\n",
    "\n",
    "    # Get the status details to check upload\n",
    "    status_detail = WebDriverWait(driver, 10).until(\n",
    "        EC.presence_of_element_located((By.ID, \"status_detail\"))\n",
    "    )\n",
    "        \n",
    "    return driver, status_display.text, status_detail.text\n",
    "\n",
    "\n",
    "def login(driver):\n",
    "\n",
    "    # Navigate to the page to login\n",
    "    driver.get(CORALNET_URL + \"/accounts/login/\")\n",
    "\n",
    "    # Find the username and password input fields and the login button\n",
    "    username_input = WebDriverWait(driver, 10).until(\n",
    "        EC.presence_of_element_located((By.ID, \"id_username\"))\n",
    "    )\n",
    "    password_input = WebDriverWait(driver, 10).until(\n",
    "        EC.presence_of_element_located((By.ID, \"id_password\"))\n",
    "    )\n",
    "    login_button = WebDriverWait(driver, 10).until(\n",
    "        EC.presence_of_element_located((By.XPATH, \"//input[@type='submit'][@value='Sign in']\"))\n",
    "    )\n",
    "\n",
    "    # Enter the username and password\n",
    "    username_input.send_keys(USERNAME)\n",
    "    password_input.send_keys(PASSWORD)\n",
    "\n",
    "    # Click the login button\n",
    "    time.sleep(5)\n",
    "    login_button.click()\n",
    "\n",
    "    # Confirm login was successful; after 60 seconds, throw an error.\n",
    "    try:\n",
    "        WebDriverWait(driver, 10).until(\n",
    "            EC.presence_of_element_located((By.XPATH, \"//a[@href='/accounts/logout/']/span[text()='Sign out']\"))\n",
    "        )\n",
    "        print(f\"NOTE: Successfully logged in for {USERNAME}\")\n",
    "\n",
    "    except Exception as e:\n",
    "        raise ValueError(f\"ERROR: Could not login with {USERNAME}\")\n",
    "    \n",
    "    return driver\n",
    "\n",
    "\n",
    "def upload_labelset(driver):\n",
    "\n",
    "    # Go to the upload page\n",
    "    driver.get(CORALNET_URL + f\"source/{SOURCE_ID}/labelset/import/\")\n",
    "\n",
    "    # Locate the file input field\n",
    "    file_input = WebDriverWait(driver, 10).until(\n",
    "        EC.presence_of_element_located((By.XPATH, \"//input[@type='file'][@name='csv_file']\"))\n",
    "    )\n",
    "\n",
    "    try:\n",
    "        # Submit the file\n",
    "        file_input.send_keys(LABELSET)\n",
    "\n",
    "    except Exception as e:\n",
    "        raise ValueError(\"ERROR: Labelset file is not in the correct format\")\n",
    "\n",
    "    # Wait for the button to appear and click it\n",
    "    save_button = WebDriverWait(driver, 60).until(\n",
    "        EC.presence_of_element_located((By.ID, \"id_upload_submit\"))\n",
    "    )\n",
    "\n",
    "    # Click the button; wait for the labelsets to be imported\n",
    "    time.sleep(5)\n",
    "    save_button.click()\n",
    "\n",
    "    try:\n",
    "        # Wait for the status message to appear to know if it was successful\n",
    "        WebDriverWait(driver, 60).until(\n",
    "            EC.text_to_be_present_in_element((By.ID, \"status_display\"), \"Labelset saved\")\n",
    "        )\n",
    "        print(f\"NOTE: Successfully uploaded {os.path.basename(LABELSET)}\")\n",
    "\n",
    "    except Exception as e:\n",
    "        raise ValueError(f\"ERROR: Could not upload {os.path.basename(LABELSET)}.\")\n",
    "\n",
    "    return driver\n",
    "        \n",
    "    \n",
    "def upload_labels(driver):\n",
    "\n",
    "    # Go to the upload page\n",
    "    driver.get(CORALNET_URL + f\"source/{SOURCE_ID}/upload/annotations_csv/\")\n",
    "\n",
    "    try:\n",
    "        # Locate the file input field; if the labelset wasn't set correctly an error is thrown\n",
    "        file_input = WebDriverWait(driver, 10).until(\n",
    "            EC.presence_of_element_located((By.XPATH, \"//input[@type='file'][@name='csv_file']\"))\n",
    "        )\n",
    "\n",
    "    except Exception as e:\n",
    "        raise ValueError(f\"ERROR: Labelset associated with source {SOURCE_ID} has not been set\")\n",
    "\n",
    "\n",
    "    try: \n",
    "\n",
    "        # Submit the file\n",
    "        file_input.send_keys(LABELS)\n",
    "\n",
    "        while True:\n",
    "\n",
    "            # Get the status \n",
    "            driver, display, details = get_status(driver)\n",
    "\n",
    "            if \"Processing\" in display:\n",
    "                continue\n",
    "\n",
    "            if \"Error\" in display:\n",
    "                raise ValueError(f\"ERROR: {display}\\n{details}\")\n",
    "\n",
    "            if \"Data OK\" in display:\n",
    "                break\n",
    "\n",
    "        # Wait for the button to appear and click it\n",
    "        save_button = WebDriverWait(driver, 60).until(\n",
    "            EC.presence_of_element_located((By.ID, \"id_upload_submit\"))\n",
    "        )\n",
    "\n",
    "        # Click the button; wait for the labelsets to be imported\n",
    "        time.sleep(5)\n",
    "        save_button.click()\n",
    "\n",
    "        while True:\n",
    "\n",
    "            # Get the status \n",
    "            driver, display, details = get_status(driver)\n",
    "\n",
    "            if \"Saving\" in display:\n",
    "                continue\n",
    "\n",
    "            elif \"saved\" in display:\n",
    "                break\n",
    "\n",
    "            else:\n",
    "                raise ValueError(f\"ERROR: {display}\\n{details}\")\n",
    "\n",
    "        print(f\"NOTE: Successfully uploaded {os.path.basename(LABELS)}\")\n",
    "\n",
    "    except Exception as e:\n",
    "        raise ValueError(f\"ERROR: Could not upload and/or save {os.path.basename(LABELS)}\\n{e}\")\n",
    "\n",
    "    return driver\n"
   ]
  },
  {
   "cell_type": "code",
   "execution_count": 23,
   "outputs": [],
   "source": [
    "def upload_images(driver):\n",
    "    # Go to the upload page\n",
    "    driver.get(CORALNET_URL + f\"/source/{SOURCE_ID}/upload/images/\")\n",
    "\n",
    "    # Locate the file input field\n",
    "    file_input = WebDriverWait(driver, 10).until(\n",
    "        EC.presence_of_element_located((By.XPATH, \"//input[@type='file'][@name='files']\"))\n",
    "    )\n",
    "\n",
    "    # Loop through the list of file paths and send each one to the file input field\n",
    "    for image_path in IMAGES:\n",
    "        file_input.send_keys(image_path)\n",
    "\n",
    "    # Check if 0 files can be uploaded\n",
    "    upload_status = driver.find_element(By.XPATH, \"//ul/li[2]\").text\n",
    "    if \"0 file(s)\" in upload_status:\n",
    "        print(\"No images can be uploaded.\")\n",
    "        return driver\n",
    "\n",
    "    # Wait for the upload button to appear\n",
    "    upload_button = WebDriverWait(driver, 10).until(\n",
    "        EC.presence_of_element_located((By.XPATH, \"//button[@id='id_upload_submit']\"))\n",
    "    )\n",
    "\n",
    "    # Click the upload button\n",
    "    upload_button.click()\n",
    "\n",
    "    try:\n",
    "        # Confirm upload was successful; after 60 seconds, throw an error.\n",
    "        WebDriverWait(driver, 30 * len(IMAGES)).until(\n",
    "            EC.text_to_be_present_in_element((By.ID, \"status_display\"), \"Upload complete\")\n",
    "        )\n",
    "\n",
    "        print(f\"NOTE: Successfully uploaded {len(IMAGES)} images\")\n",
    "\n",
    "    except Exception as e:\n",
    "        raise ValueError(\"ERROR: Could not upload images\")\n",
    "\n",
    "    return driver"
   ],
   "metadata": {
    "collapsed": false
   }
  },
  {
   "cell_type": "code",
   "execution_count": 3,
   "outputs": [
    {
     "name": "stdout",
     "output_type": "stream",
     "text": [
      "NOTE: Successfully logged in for jordan.pierce@noaa.gov\n",
      "NOTE: Successful authentication\n"
     ]
    }
   ],
   "source": [
    "# Username\n",
    "CORALNET_USERNAME = os.getenv(\"CORALNET_USERNAME\")\n",
    "USERNAME = input(\"Username: \") if not CORALNET_USERNAME else CORALNET_USERNAME\n",
    "\n",
    "# Password\n",
    "CORALNET_PASSWORD = os.getenv(\"CORALNET_PASSWORD\")\n",
    "PASSWORD = input(\"Password: \") if not CORALNET_PASSWORD else CORALNET_PASSWORD\n",
    "\n",
    "try:\n",
    "    # Authenticate\n",
    "    authenticate(USERNAME, PASSWORD)\n",
    "    CORALNET_TOKEN, HEADERS = get_token(USERNAME, PASSWORD)\n",
    "except Exception as e:\n",
    "    print(e)"
   ],
   "metadata": {
    "collapsed": false
   }
  },
  {
   "cell_type": "code",
   "execution_count": 4,
   "outputs": [],
   "source": [
    "# ID of the source to upload data to\n",
    "SOURCE_ID = 4048\n",
    "\n",
    "# Where the data root is on the local machine\n",
    "# The path needs to be absolute, not relative.\n",
    "DATA_ROOT = \"../CoralNet_Data/3420/\"\n",
    "DATA_ROOT = os.path.abspath(DATA_ROOT) + \"/\"\n",
    "\n",
    "# Check that the data root exists\n",
    "if not os.path.exists(DATA_ROOT):\n",
    "    raise ValueError(f\"ERROR: {DATA_ROOT} does not exist\")"
   ],
   "metadata": {
    "collapsed": false
   }
  },
  {
   "cell_type": "code",
   "execution_count": 19,
   "outputs": [],
   "source": [
    "# Collecting data to be uploaded\n",
    "IMAGES = glob.glob(DATA_ROOT + \"images/*.*\")[0:4]\n",
    "LABELS = DATA_ROOT + \"annotations.csv\"\n",
    "LABELSET = DATA_ROOT + \"labelset.csv\"\n",
    "\n",
    "# Flags to determine what to upload\n",
    "UPLOAD_IMAGES = False if len(IMAGES) == 0 else True\n",
    "UPLOAD_LABELS = False if not os.path.exists(LABELS) else True\n",
    "UPLOAD_LABELSET = False if not os.path.exists(LABELSET) else True"
   ],
   "metadata": {
    "collapsed": false
   }
  },
  {
   "cell_type": "code",
   "execution_count": 24,
   "metadata": {},
   "outputs": [
    {
     "name": "stdout",
     "output_type": "stream",
     "text": [
      "NOTE: Successfully logged in for jordan.pierce@noaa.gov\n",
      "NOTE: Uploading 4 images...\n"
     ]
    },
    {
     "ename": "KeyboardInterrupt",
     "evalue": "",
     "output_type": "error",
     "traceback": [
      "\u001B[1;31m---------------------------------------------------------------------------\u001B[0m",
      "\u001B[1;31mKeyboardInterrupt\u001B[0m                         Traceback (most recent call last)",
      "Cell \u001B[1;32mIn [24], line 9\u001B[0m\n\u001B[0;32m      7\u001B[0m \u001B[38;5;28;01mif\u001B[39;00m UPLOAD_IMAGES:\n\u001B[0;32m      8\u001B[0m     \u001B[38;5;28mprint\u001B[39m(\u001B[38;5;124mf\u001B[39m\u001B[38;5;124m\"\u001B[39m\u001B[38;5;124mNOTE: Uploading \u001B[39m\u001B[38;5;132;01m{\u001B[39;00m\u001B[38;5;28mlen\u001B[39m(IMAGES)\u001B[38;5;132;01m}\u001B[39;00m\u001B[38;5;124m images...\u001B[39m\u001B[38;5;124m\"\u001B[39m)\n\u001B[1;32m----> 9\u001B[0m     driver \u001B[38;5;241m=\u001B[39m \u001B[43mupload_images\u001B[49m\u001B[43m(\u001B[49m\u001B[43mdriver\u001B[49m\u001B[43m)\u001B[49m\n\u001B[0;32m     11\u001B[0m \u001B[38;5;66;03m# if UPLOAD_LABELSET:\u001B[39;00m\n\u001B[0;32m     12\u001B[0m \u001B[38;5;66;03m#     print(f\"NOTE: Uploading labelset: {LABELSET}\")\u001B[39;00m\n\u001B[0;32m     13\u001B[0m \u001B[38;5;66;03m#     driver = upload_labelset(driver)\u001B[39;00m\n\u001B[1;32m   (...)\u001B[0m\n\u001B[0;32m     16\u001B[0m \u001B[38;5;66;03m#     print(f\"NOTE: Uploading labels {LABELS}\")\u001B[39;00m\n\u001B[0;32m     17\u001B[0m \u001B[38;5;66;03m#     driver = upload_labels(driver)\u001B[39;00m\n\u001B[0;32m     19\u001B[0m \u001B[38;5;28;01mif\u001B[39;00m \u001B[38;5;28minput\u001B[39m(\u001B[38;5;124m\"\u001B[39m\u001B[38;5;124mExit? (y/n): \u001B[39m\u001B[38;5;124m\"\u001B[39m)\u001B[38;5;241m.\u001B[39mlower() \u001B[38;5;241m==\u001B[39m \u001B[38;5;124m\"\u001B[39m\u001B[38;5;124my\u001B[39m\u001B[38;5;124m\"\u001B[39m:\n",
      "Cell \u001B[1;32mIn [23], line 30\u001B[0m, in \u001B[0;36mupload_images\u001B[1;34m(driver)\u001B[0m\n\u001B[0;32m     26\u001B[0m upload_button\u001B[38;5;241m.\u001B[39mclick()\n\u001B[0;32m     28\u001B[0m \u001B[38;5;28;01mtry\u001B[39;00m:\n\u001B[0;32m     29\u001B[0m     \u001B[38;5;66;03m# Confirm upload was successful; after 60 seconds, throw an error.\u001B[39;00m\n\u001B[1;32m---> 30\u001B[0m     \u001B[43mWebDriverWait\u001B[49m\u001B[43m(\u001B[49m\u001B[43mdriver\u001B[49m\u001B[43m,\u001B[49m\u001B[43m \u001B[49m\u001B[38;5;241;43m30\u001B[39;49m\u001B[43m \u001B[49m\u001B[38;5;241;43m*\u001B[39;49m\u001B[43m \u001B[49m\u001B[38;5;28;43mlen\u001B[39;49m\u001B[43m(\u001B[49m\u001B[43mIMAGES\u001B[49m\u001B[43m)\u001B[49m\u001B[43m)\u001B[49m\u001B[38;5;241;43m.\u001B[39;49m\u001B[43muntil\u001B[49m\u001B[43m(\u001B[49m\n\u001B[0;32m     31\u001B[0m \u001B[43m        \u001B[49m\u001B[43mEC\u001B[49m\u001B[38;5;241;43m.\u001B[39;49m\u001B[43mtext_to_be_present_in_element\u001B[49m\u001B[43m(\u001B[49m\u001B[43m(\u001B[49m\u001B[43mBy\u001B[49m\u001B[38;5;241;43m.\u001B[39;49m\u001B[43mID\u001B[49m\u001B[43m,\u001B[49m\u001B[43m \u001B[49m\u001B[38;5;124;43m\"\u001B[39;49m\u001B[38;5;124;43mstatus_display\u001B[39;49m\u001B[38;5;124;43m\"\u001B[39;49m\u001B[43m)\u001B[49m\u001B[43m,\u001B[49m\u001B[43m \u001B[49m\u001B[38;5;124;43m\"\u001B[39;49m\u001B[38;5;124;43mUpload complete\u001B[39;49m\u001B[38;5;124;43m\"\u001B[39;49m\u001B[43m)\u001B[49m\n\u001B[0;32m     32\u001B[0m \u001B[43m    \u001B[49m\u001B[43m)\u001B[49m\n\u001B[0;32m     34\u001B[0m     \u001B[38;5;28mprint\u001B[39m(\u001B[38;5;124mf\u001B[39m\u001B[38;5;124m\"\u001B[39m\u001B[38;5;124mNOTE: Successfully uploaded \u001B[39m\u001B[38;5;132;01m{\u001B[39;00m\u001B[38;5;28mlen\u001B[39m(IMAGES)\u001B[38;5;132;01m}\u001B[39;00m\u001B[38;5;124m images\u001B[39m\u001B[38;5;124m\"\u001B[39m)\n\u001B[0;32m     36\u001B[0m \u001B[38;5;28;01mexcept\u001B[39;00m \u001B[38;5;167;01mException\u001B[39;00m \u001B[38;5;28;01mas\u001B[39;00m e:\n",
      "File \u001B[1;32m~\\Miniconda3\\envs\\coralnet\\lib\\site-packages\\selenium\\webdriver\\support\\wait.py:92\u001B[0m, in \u001B[0;36mWebDriverWait.until\u001B[1;34m(self, method, message)\u001B[0m\n\u001B[0;32m     90\u001B[0m     screen \u001B[38;5;241m=\u001B[39m \u001B[38;5;28mgetattr\u001B[39m(exc, \u001B[38;5;124m\"\u001B[39m\u001B[38;5;124mscreen\u001B[39m\u001B[38;5;124m\"\u001B[39m, \u001B[38;5;28;01mNone\u001B[39;00m)\n\u001B[0;32m     91\u001B[0m     stacktrace \u001B[38;5;241m=\u001B[39m \u001B[38;5;28mgetattr\u001B[39m(exc, \u001B[38;5;124m\"\u001B[39m\u001B[38;5;124mstacktrace\u001B[39m\u001B[38;5;124m\"\u001B[39m, \u001B[38;5;28;01mNone\u001B[39;00m)\n\u001B[1;32m---> 92\u001B[0m \u001B[43mtime\u001B[49m\u001B[38;5;241;43m.\u001B[39;49m\u001B[43msleep\u001B[49m\u001B[43m(\u001B[49m\u001B[38;5;28;43mself\u001B[39;49m\u001B[38;5;241;43m.\u001B[39;49m\u001B[43m_poll\u001B[49m\u001B[43m)\u001B[49m\n\u001B[0;32m     93\u001B[0m \u001B[38;5;28;01mif\u001B[39;00m time\u001B[38;5;241m.\u001B[39mmonotonic() \u001B[38;5;241m>\u001B[39m end_time:\n\u001B[0;32m     94\u001B[0m     \u001B[38;5;28;01mbreak\u001B[39;00m\n",
      "\u001B[1;31mKeyboardInterrupt\u001B[0m: "
     ]
    }
   ],
   "source": [
    "# Set up the browser driver (in this case, Chrome)\n",
    "driver = webdriver.Chrome()\n",
    "\n",
    "# Log in to CoralNet\n",
    "driver = login(driver)\n",
    "\n",
    "if UPLOAD_IMAGES:\n",
    "    print(f\"NOTE: Uploading {len(IMAGES)} images...\")\n",
    "    driver = upload_images(driver)\n",
    "\n",
    "# if UPLOAD_LABELSET:\n",
    "#     print(f\"NOTE: Uploading labelset: {LABELSET}\")\n",
    "#     driver = upload_labelset(driver)\n",
    "#\n",
    "# if UPLOAD_LABELS:\n",
    "#     print(f\"NOTE: Uploading labels {LABELS}\")\n",
    "#     driver = upload_labels(driver)\n",
    "\n",
    "if input(\"Exit? (y/n): \").lower() == \"y\":\n",
    "    driver.quit()\n",
    "    print(\"NOTE: Browser closed.\")"
   ]
  },
  {
   "cell_type": "code",
   "execution_count": null,
   "metadata": {},
   "outputs": [],
   "source": []
  }
 ],
 "metadata": {
  "kernel_info": {
   "name": "python38-azureml"
  },
  "kernelspec": {
   "display_name": "Python [conda env:coralnet] *",
   "language": "python",
   "name": "conda-env-coralnet-py"
  },
  "language_info": {
   "codemirror_mode": {
    "name": "ipython",
    "version": 3
   },
   "file_extension": ".py",
   "mimetype": "text/x-python",
   "name": "python",
   "nbconvert_exporter": "python",
   "pygments_lexer": "ipython3",
   "version": "3.8.15"
  },
  "microsoft": {
   "ms_spell_check": {
    "ms_spell_check_language": "en"
   }
  },
  "nteract": {
   "version": "nteract-front-end@1.0.0"
  }
 },
 "nbformat": 4,
 "nbformat_minor": 2
}
