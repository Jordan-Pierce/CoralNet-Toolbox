{
 "cells": [
  {
   "cell_type": "markdown",
   "source": [
    "### CoralNet Labelset (Notebook)\n",
    "\n",
    "This notebook walks through the steps of creating a labelset on CoralNet. Creating a labelset is\n",
    " an action that cannot be undone without the assistance of CoralNet. Please note that this is\n",
    " just an example of how you can set up to be able to create labelsets in bulk; change what you\n",
    " need to, to accommodate for your specific project needs.\n",
    "\n",
    "**Do not abuse this tool**\n",
    "\n",
    "CoralNet uses labelsets to combine similar images and annotations to a single class category. A\n",
    "labelset is created and shared globally across CoralNet. The label name and short code (a short,\n",
    " representative string) must be unique, and description and thumbnail for the label are\n",
    " required; the functional group must be one of the following:\n",
    "```python\n",
    "\"Other Invertebrates\",\n",
    "\"Hard coral\",\n",
    "\"Soft Substrate\",\n",
    "\"Hard Substrate\",\n",
    "\"Other\",\n",
    "\"Algae\",\n",
    "\"Seagrass\"\n",
    "```"
   ],
   "metadata": {
    "collapsed": false
   }
  },
  {
   "cell_type": "markdown",
   "source": [
    "### Imports"
   ],
   "metadata": {
    "collapsed": false
   }
  },
  {
   "cell_type": "code",
   "execution_count": 5,
   "outputs": [],
   "source": [
    "import sys\n",
    "sys.path.append(\"../\")\n",
    "\n",
    "from CoralNet_Labelset import *\n",
    "from CoralNet_Download import *"
   ],
   "metadata": {
    "collapsed": false
   }
  },
  {
   "cell_type": "markdown",
   "source": [
    "#### Set up authentication\n",
    "\n",
    "The first step is to authenticate with CoralNet. You need to provide your\n",
    "username and password. If you don't have an account, you can create one at\n",
    "https://coralnet.ucsd.edu/. If you don't want to provide your credentials\n",
    "every time you run the script, you can store them in a separate file, or make\n",
    "them user/environmental variables. If you don't want to store your credentials\n",
    "in a file, you can also provide them as arguments when you run the script."
   ],
   "metadata": {
    "collapsed": false
   }
  },
  {
   "cell_type": "code",
   "execution_count": 6,
   "outputs": [
    {
     "name": "stdout",
     "output_type": "stream",
     "text": [
      "\n",
      "###############################################\n",
      "Authentication\n",
      "###############################################\n",
      "\n",
      "NOTE: Authenticating user jordan.pierce@noaa.gov\n",
      "NOTE: Authentication successful for jordan.pierce@noaa.gov\n"
     ]
    }
   ],
   "source": [
    "# Username\n",
    "CORALNET_USERNAME = os.getenv(\"CORALNET_USERNAME\")\n",
    "USERNAME = input(\"Username: \") if not CORALNET_USERNAME else CORALNET_USERNAME\n",
    "\n",
    "# Password\n",
    "CORALNET_PASSWORD = os.getenv(\"CORALNET_PASSWORD\")\n",
    "PASSWORD = input(\"Password: \") if not CORALNET_PASSWORD else CORALNET_PASSWORD\n",
    "\n",
    "try:\n",
    "    # Authenticate\n",
    "    authenticate(USERNAME, PASSWORD)\n",
    "except Exception as e:\n",
    "    print(e)"
   ],
   "metadata": {
    "collapsed": false
   }
  },
  {
   "cell_type": "markdown",
   "source": [
    "### Source ID\n",
    "\n",
    "To create a labelset, you must create it for the intention of using it with a specific source.\n",
    "Therefore, to use this script, you must provide a source ID that will contain this labelset."
   ],
   "metadata": {
    "collapsed": false
   }
  },
  {
   "cell_type": "code",
   "execution_count": 7,
   "outputs": [],
   "source": [
    "# ID of the source to upload data to\n",
    "SOURCE_ID = 4098"
   ],
   "metadata": {
    "collapsed": false
   }
  },
  {
   "cell_type": "markdown",
   "source": [
    "### Labelsets\n",
    "\n",
    "In this example, we're creating CoralNet labelsets for each of the labels used in Mission Iconic\n",
    " Reefs (MIR). Below we open a table containing information for each label used by MIR."
   ],
   "metadata": {
    "collapsed": false
   }
  },
  {
   "cell_type": "code",
   "execution_count": 8,
   "outputs": [
    {
     "data": {
      "text/plain": "    VPI_ID   VPI_label_V3   VPI_label_V4            VPI_name       Taxo_high  \\\n19      18  Green_Diploso  Green_diploso     Green_Diplosoma        Tunicata   \n27      26         M_phar          M_pha  Madracis_pharensis  Astrocoeniidae   \n21      20   Icilligorgia   Icilligorgia        Icilligorgia       Octocoral   \n\n        Fxnl_high       Fxnl_low  \n19  Invertebrates  Invertebrates  \n27     Hard_coral     Hard_coral  \n21     Soft_coral     Soft_coral  ",
      "text/html": "<div>\n<style scoped>\n    .dataframe tbody tr th:only-of-type {\n        vertical-align: middle;\n    }\n\n    .dataframe tbody tr th {\n        vertical-align: top;\n    }\n\n    .dataframe thead th {\n        text-align: right;\n    }\n</style>\n<table border=\"1\" class=\"dataframe\">\n  <thead>\n    <tr style=\"text-align: right;\">\n      <th></th>\n      <th>VPI_ID</th>\n      <th>VPI_label_V3</th>\n      <th>VPI_label_V4</th>\n      <th>VPI_name</th>\n      <th>Taxo_high</th>\n      <th>Fxnl_high</th>\n      <th>Fxnl_low</th>\n    </tr>\n  </thead>\n  <tbody>\n    <tr>\n      <th>19</th>\n      <td>18</td>\n      <td>Green_Diploso</td>\n      <td>Green_diploso</td>\n      <td>Green_Diplosoma</td>\n      <td>Tunicata</td>\n      <td>Invertebrates</td>\n      <td>Invertebrates</td>\n    </tr>\n    <tr>\n      <th>27</th>\n      <td>26</td>\n      <td>M_phar</td>\n      <td>M_pha</td>\n      <td>Madracis_pharensis</td>\n      <td>Astrocoeniidae</td>\n      <td>Hard_coral</td>\n      <td>Hard_coral</td>\n    </tr>\n    <tr>\n      <th>21</th>\n      <td>20</td>\n      <td>Icilligorgia</td>\n      <td>Icilligorgia</td>\n      <td>Icilligorgia</td>\n      <td>Octocoral</td>\n      <td>Soft_coral</td>\n      <td>Soft_coral</td>\n    </tr>\n  </tbody>\n</table>\n</div>"
     },
     "execution_count": 8,
     "metadata": {},
     "output_type": "execute_result"
    }
   ],
   "source": [
    "from VISCORE import *\n",
    "\n",
    "vpi_table.sample(3)"
   ],
   "metadata": {
    "collapsed": false
   }
  },
  {
   "cell_type": "markdown",
   "source": [
    "### Avoid Duplicates\n",
    "\n",
    "Mentioned above, the label and short code must be unique. To avoid creating a duplicate, we'll\n",
    "use the `get_coralnet_labelsets` function in the `Download_CoralNet` script and use it to\n",
    "prevent us from creating a duplicate.\n",
    "\n",
    "To do this, we need to create a driver (i.e., browser) and login to CoralNet with our\n",
    "credentials. Then we'll download the most up-to-date labelset list from CoralNet."
   ],
   "metadata": {
    "collapsed": false
   }
  },
  {
   "cell_type": "code",
   "execution_count": 9,
   "outputs": [
    {
     "name": "stdout",
     "output_type": "stream",
     "text": [
      "\n",
      "###############################################\n",
      "Browser\n",
      "###############################################\n",
      "\n"
     ]
    },
    {
     "name": "stderr",
     "output_type": "stream",
     "text": [
      "[WDM] - Downloading: 100%|██████████| 6.30M/6.30M [00:01<00:00, 6.38MB/s]\n"
     ]
    },
    {
     "name": "stdout",
     "output_type": "stream",
     "text": [
      "NOTE: Using Google Chrome\n",
      "\n",
      "###############################################\n",
      "Login\n",
      "###############################################\n",
      "\n",
      "NOTE: Successfully logged in for jordan.pierce@noaa.gov\n"
     ]
    }
   ],
   "source": [
    "# Pass the options object while creating the driver\n",
    "driver = check_for_browsers(headless=True)\n",
    "\n",
    "# Store the credentials in the driver\n",
    "driver.capabilities['credentials'] = {\n",
    "    'username': USERNAME,\n",
    "    'password': PASSWORD\n",
    "}\n",
    "\n",
    "# Log in to CoralNet\n",
    "driver, _ = login(driver)"
   ],
   "metadata": {
    "collapsed": false
   }
  },
  {
   "cell_type": "code",
   "execution_count": 10,
   "outputs": [
    {
     "name": "stdout",
     "output_type": "stream",
     "text": [
      "\n",
      "###############################################\n",
      "CoralNet Labelset Dataframe\n",
      "###############################################\n",
      "\n",
      "NOTE: Downloading CoralNet Labelset Dataframe\n"
     ]
    },
    {
     "name": "stderr",
     "output_type": "stream",
     "text": [
      "100%|██████████| 7547/7547 [00:00<00:00, 13993.73it/s]"
     ]
    },
    {
     "name": "stdout",
     "output_type": "stream",
     "text": [
      "NOTE: Labelset Dataframe saved successfully\n"
     ]
    },
    {
     "name": "stderr",
     "output_type": "stream",
     "text": [
      "\n"
     ]
    },
    {
     "data": {
      "text/plain": "     Label ID                 Name                                    URL  \\\n1726     5464  Pavona spp. massive  https://coralnet.ucsd.edu/label/5464/   \n6129      423             Caulerpa   https://coralnet.ucsd.edu/label/423/   \n4471      841      Solaster endeca   https://coralnet.ucsd.edu/label/841/   \n\n         Functional Group Popularity % Short Code  Duplicate Duplicate Notes  \\\n1726           Hard coral            0      PAVMA      False                   \n6129                Algae           80   Caulerpa      False                   \n4471  Other Invertebrates            0        Sen      False                   \n\n      Verified  Has Calcification Rates  \n1726     False                    False  \n6129      True                    False  \n4471     False                    False  ",
      "text/html": "<div>\n<style scoped>\n    .dataframe tbody tr th:only-of-type {\n        vertical-align: middle;\n    }\n\n    .dataframe tbody tr th {\n        vertical-align: top;\n    }\n\n    .dataframe thead th {\n        text-align: right;\n    }\n</style>\n<table border=\"1\" class=\"dataframe\">\n  <thead>\n    <tr style=\"text-align: right;\">\n      <th></th>\n      <th>Label ID</th>\n      <th>Name</th>\n      <th>URL</th>\n      <th>Functional Group</th>\n      <th>Popularity %</th>\n      <th>Short Code</th>\n      <th>Duplicate</th>\n      <th>Duplicate Notes</th>\n      <th>Verified</th>\n      <th>Has Calcification Rates</th>\n    </tr>\n  </thead>\n  <tbody>\n    <tr>\n      <th>1726</th>\n      <td>5464</td>\n      <td>Pavona spp. massive</td>\n      <td>https://coralnet.ucsd.edu/label/5464/</td>\n      <td>Hard coral</td>\n      <td>0</td>\n      <td>PAVMA</td>\n      <td>False</td>\n      <td></td>\n      <td>False</td>\n      <td>False</td>\n    </tr>\n    <tr>\n      <th>6129</th>\n      <td>423</td>\n      <td>Caulerpa</td>\n      <td>https://coralnet.ucsd.edu/label/423/</td>\n      <td>Algae</td>\n      <td>80</td>\n      <td>Caulerpa</td>\n      <td>False</td>\n      <td></td>\n      <td>True</td>\n      <td>False</td>\n    </tr>\n    <tr>\n      <th>4471</th>\n      <td>841</td>\n      <td>Solaster endeca</td>\n      <td>https://coralnet.ucsd.edu/label/841/</td>\n      <td>Other Invertebrates</td>\n      <td>0</td>\n      <td>Sen</td>\n      <td>False</td>\n      <td></td>\n      <td>False</td>\n      <td>False</td>\n    </tr>\n  </tbody>\n</table>\n</div>"
     },
     "execution_count": 10,
     "metadata": {},
     "output_type": "execute_result"
    }
   ],
   "source": [
    "# Get the most up-to-date labelset from CoralNet\n",
    "driver, coralnet_labelset = download_coralnet_labelsets(driver, None)\n",
    "\n",
    "# Convert the Name column to be a standard version\n",
    "coralnet_labelset['name'] = [n.lower() for n in coralnet_labelset['Name'].values]\n",
    "\n",
    "coralnet_labelset.sample(3)"
   ],
   "metadata": {
    "collapsed": false
   }
  },
  {
   "cell_type": "markdown",
   "source": [
    "### Finding Existing Labelsets\n",
    "\n",
    "Before creating labelsets on CoralNet, we first identify any existing labelsets that match our\n",
    "labels. To do this, well loop through our list of labels, and find those that match the ones\n",
    "just downloaded from CoralNet."
   ],
   "metadata": {
    "collapsed": false
   }
  },
  {
   "cell_type": "code",
   "execution_count": 9,
   "outputs": [],
   "source": [
    "# A list to hold all CoralNet labelsets for VPI labels\n",
    "labelsets = []\n",
    "no_labelsets = []\n",
    "\n",
    "count = 0\n",
    "\n",
    "for i, r in vpi_table.iterrows():\n",
    "\n",
    "    # First try to get the name, exactly\n",
    "    name = r['VPI_name'].lower().replace(\"_\", \" \")\n",
    "    labelset = coralnet_labelset[coralnet_labelset['name'] == name]\n",
    "\n",
    "    # If that doesn't work, try to get name, but slightly modified\n",
    "    if labelset.empty:\n",
    "        name = r['VPI_name'].lower().replace(\"_sp\", \" spp.\")\n",
    "        labelset = coralnet_labelset[coralnet_labelset['name'] == name]\n",
    "\n",
    "    if labelset.empty:\n",
    "        name = r['VPI_name'].lower() + \" spp.\"\n",
    "        labelset = coralnet_labelset[coralnet_labelset['name'] == name]\n",
    "\n",
    "    if labelset.empty:\n",
    "        name = r['VPI_name'].lower().replace(\"_sp\", \"\")\n",
    "        labelset = coralnet_labelset[coralnet_labelset['name'] == name]\n",
    "\n",
    "    # If that doesn't work, try to get the sub-label, exactly\n",
    "    if labelset.empty:\n",
    "        label = r['VPI_label_V3'].lower().replace(\"_\", \" \")\n",
    "        labelset = coralnet_labelset[coralnet_labelset['name'] == label]\n",
    "\n",
    "    if labelset.empty:\n",
    "        label = r['VPI_label_V4'].lower().replace(\"_\", \" \")\n",
    "        labelset = coralnet_labelset[coralnet_labelset['name'] == label]\n",
    "\n",
    "    # If the labelset isn't empty, then we found an exact match\n",
    "    if not labelset.empty:\n",
    "        r['Label ID'] = labelset['Label ID'].item()\n",
    "        r['Name'] = labelset['Name'].item()\n",
    "        r['Short Code'] = labelset['Short Code'].item()\n",
    "        r['Functional Group'] = labelset['Functional Group'].item()\n",
    "        labelsets.append(r)\n",
    "    else:\n",
    "        # Use fuzzy logic to find the 5 closest matches\n",
    "        name = r['VPI_name'].lower().replace(\"_\", \" \")\n",
    "        choices = process.extract(name, coralnet_labelset['name'].values, limit=5)\n",
    "        choice_name = [c[0] for c in choices]\n",
    "        choice_score = [c[1] for c in choices]\n",
    "\n",
    "        choices = coralnet_labelset[coralnet_labelset['name'].isin(choice_name)]\n",
    "\n",
    "        for _, (i_, r_) in enumerate(choices.iterrows()):\n",
    "            r[f'Name {str(_+1)}'] = r_['Name']\n",
    "            r[f'Label ID {str(_+1)}'] = r_['Label ID']\n",
    "            r[f'Functional Group {str(_+1)}'] = r_['Functional Group']\n",
    "\n",
    "        no_labelsets.append(r)\n",
    "\n",
    "pd.DataFrame(no_labelsets).to_csv(\"./VISCORE/CoralNet_VPI_Labelset_No_Exact_Match.csv\")\n",
    "pd.DataFrame(labelsets).to_csv(\"./VISCORE/CoralNet_VPI_Labelset_With_Exact_Match.csv\")"
   ],
   "metadata": {
    "collapsed": false
   }
  },
  {
   "cell_type": "markdown",
   "source": [
    "Now we move on to creating labelsets on CoralNet for those labels that do not already exist. In\n",
    "this next cell, we first find all the labelsets that start with a prefix used by MIR, so we know\n",
    "if one already exists."
   ],
   "metadata": {
    "collapsed": false
   }
  },
  {
   "cell_type": "code",
   "execution_count": 19,
   "outputs": [],
   "source": [
    "# Custom Prefix\n",
    "prefix = \"MIR_\"\n",
    "\n",
    "# List of names and short codes already in use\n",
    "used_names = coralnet_labelset['Name'].values.tolist()\n",
    "used_short_codes = coralnet_labelset['Short Code'].values.tolist()"
   ],
   "metadata": {
    "collapsed": false
   }
  },
  {
   "cell_type": "markdown",
   "source": [
    "### Creating a Labelset\n",
    "\n",
    "This next loop creates a short code for each label in the VPI table, and then creates a\n",
    "dictionary that is then passed to the function."
   ],
   "metadata": {
    "collapsed": false
   }
  },
  {
   "cell_type": "code",
   "execution_count": 17,
   "outputs": [
    {
     "name": "stdout",
     "output_type": "stream",
     "text": [
      "\n",
      "NOTE: Navigating to labelset creation page\n",
      "NOTE: Submitted labelset MIR Black coral, MIR_BLAC\n"
     ]
    }
   ],
   "source": [
    "for i, r in vpi_table.iterrows():\n",
    "\n",
    "    # This label already has an existing labelset, so skip it\n",
    "    if r['VPI_name'].lower().replace(\"_\", \" \") in coralnet_labelset['name'].values:\n",
    "        continue\n",
    "\n",
    "    try:\n",
    "        # Create a short code for the name\n",
    "        short_code = get_short_code(r['VPI_name'], prefix, used_short_codes, 4)\n",
    "        # Add to list so it won't be used again\n",
    "        used_short_codes.append(short_code)\n",
    "\n",
    "        # Change the name to MIR Name\n",
    "        name = f\"{prefix}{r['VPI_name']}\"\n",
    "        name = name.replace(\"_\", \" \")\n",
    "        # Check that it doesn't already exist\n",
    "        assert name not in used_names\n",
    "\n",
    "    except Exception as e:\n",
    "        print(f\"ERROR: Could not create labelset for {r['VPI_name']}\\n{e}\")\n",
    "        continue\n",
    "\n",
    "    # Get the functional group\n",
    "    fxnl_group = FUNC_GROUPS_DICT[r['Fxnl_high']]\n",
    "\n",
    "    # The name of the label, grabbed from VPI_name\n",
    "    labelset_name = name\n",
    "    # The unique short code, created from function\n",
    "    labelset_short = short_code\n",
    "    # Mapped from VPI to CoralNet\n",
    "    labelset_func = fxnl_group\n",
    "    # Boilerplate info, plus some MIR specific info\n",
    "    labelset_description = DESCRIPTION\n",
    "    labelset_description += f\"For MIR Use: \\n\"\n",
    "    labelset_description += f\"VPI_ID: {r['VPI_ID']}\\n\"\n",
    "    labelset_description += f\"VPI_label_V3: {r['VPI_label_V3']}\\n\"\n",
    "    labelset_description += f\"VPI_label_V$: {r['VPI_label_V4']}\\n\"\n",
    "    labelset_description += f\"VPI_name: {r['VPI_name']}\\n\"\n",
    "    labelset_description += f\"Taxo_high: {r['Taxo_high']}\\n\"\n",
    "    labelset_description += f\"Fxnl_high: {r['Fxnl_high']}\\n\"\n",
    "    labelset_description += f\"Fxnl_low: {r['Fxnl_low']}\"\n",
    "    # Image downloaded from internet\n",
    "    labelset_thumbnail = \"./Figures/MIR_Logo.png\"\n",
    "    labelset_thumbnail = os.path.abspath(labelset_thumbnail)\n",
    "\n",
    "    # Dict to pass to function\n",
    "    labelset = {\"Name\": labelset_name,\n",
    "                \"Short Code\": labelset_short,\n",
    "                \"Functional Group\": labelset_func,\n",
    "                \"Description\": labelset_description,\n",
    "                \"Image Path\": labelset_thumbnail}\n",
    "\n",
    "    driver, success = create_labelset(driver, SOURCE_ID, labelset)\n",
    "\n",
    "    if success:\n",
    "        # CoralNet specific names, don't change\n",
    "        r['Name'] = name\n",
    "        r['Short Code'] = short_code\n",
    "        r['Functional Group'] = fxnl_group\n",
    "\n",
    "        # Append to list\n",
    "        labelsets.append(r)"
   ],
   "metadata": {
    "collapsed": false
   }
  },
  {
   "cell_type": "code",
   "execution_count": 29,
   "outputs": [],
   "source": [
    "# Output the updated table for posterity\n",
    "pd.DataFrame(labelsets).to_csv(\"./VISCORE/CoralNet_VPI_Labelsets.csv\")"
   ],
   "metadata": {
    "collapsed": false
   }
  },
  {
   "cell_type": "markdown",
   "source": [
    "### Close the Browser"
   ],
   "metadata": {
    "collapsed": false
   }
  },
  {
   "cell_type": "code",
   "execution_count": 22,
   "outputs": [],
   "source": [
    "driver.close()"
   ],
   "metadata": {
    "collapsed": false
   }
  },
  {
   "cell_type": "code",
   "execution_count": null,
   "outputs": [],
   "source": [],
   "metadata": {
    "collapsed": false
   }
  }
 ],
 "metadata": {
  "kernelspec": {
   "display_name": "Python 3",
   "language": "python",
   "name": "python3"
  },
  "language_info": {
   "codemirror_mode": {
    "name": "ipython",
    "version": 2
   },
   "file_extension": ".py",
   "mimetype": "text/x-python",
   "name": "python",
   "nbconvert_exporter": "python",
   "pygments_lexer": "ipython2",
   "version": "2.7.6"
  }
 },
 "nbformat": 4,
 "nbformat_minor": 0
}
