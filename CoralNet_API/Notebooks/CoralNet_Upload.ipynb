{
 "cells": [
  {
   "cell_type": "markdown",
   "source": [
    "### Upload CoralNet (Notebook)\n",
    "\n",
    "This notebook can be useful for experimenting with the functions in\n",
    "`Upload_CoralNet.py`. The script is designed to be run from the command line,\n",
    "and will allow a user to upload the images, annotations, and a labelset to a\n",
    " specific source."
   ],
   "metadata": {
    "collapsed": false
   }
  },
  {
   "cell_type": "markdown",
   "source": [
    "#### Import Packages"
   ],
   "metadata": {
    "collapsed": false
   }
  },
  {
   "cell_type": "code",
   "execution_count": 1,
   "outputs": [],
   "source": [
    "from CoralNet import *\n",
    "from CoralNet_Upload import *"
   ],
   "metadata": {
    "collapsed": false
   }
  },
  {
   "cell_type": "markdown",
   "source": [
    "#### Set up authentication\n",
    "\n",
    "The first step is to authenticate with CoralNet. You need to provide your\n",
    "username and password. If you don't have an account, you can create one at\n",
    "https://coralnet.ucsd.edu/. If you don't want to provide your credentials\n",
    "every time you run the script, you can store them in a separate file, or make\n",
    "them user/environmental variables. If you don't want to store your credentials\n",
    "in a file, you can also provide them as arguments when you run the script."
   ],
   "metadata": {
    "collapsed": false
   }
  },
  {
   "cell_type": "code",
   "execution_count": 2,
   "outputs": [
    {
     "name": "stdout",
     "output_type": "stream",
     "text": [
      "NOTE: Authentication successful for jordan.pierce@noaa.gov\n",
      "NOTE: Token retrieved successfully\n"
     ]
    }
   ],
   "source": [
    "# Username\n",
    "CORALNET_USERNAME = os.getenv(\"CORALNET_USERNAME\")\n",
    "USERNAME = input(\"Username: \") if not CORALNET_USERNAME else CORALNET_USERNAME\n",
    "\n",
    "# Password\n",
    "CORALNET_PASSWORD = os.getenv(\"CORALNET_PASSWORD\")\n",
    "PASSWORD = input(\"Password: \") if not CORALNET_PASSWORD else CORALNET_PASSWORD\n",
    "\n",
    "try:\n",
    "    # Authenticate\n",
    "    authenticate(USERNAME, PASSWORD)\n",
    "    CORALNET_TOKEN, HEADERS = get_token(USERNAME, PASSWORD)\n",
    "except Exception as e:\n",
    "    print(e)"
   ],
   "metadata": {
    "collapsed": false
   }
  },
  {
   "cell_type": "markdown",
   "source": [
    "#### Prepare the data\n",
    "\n",
    "Next we'll set up the data that we want to upload. This includes the path to\n",
    "a folder containing images, a path to a CSV file containing annotations, and\n",
    "a path to a CSV file containing the labelset.\n",
    "\n",
    "The annotation and labelset file need to be in the format that CoralNet\n",
    "expects. You can find examples of these files in the `CoralNet_Data` folder.\n",
    " If the files are not in the correct format, the script will tell you, and\n",
    " skip over the files. If there is no data to upload, the script exits."
   ],
   "metadata": {
    "collapsed": false
   }
  },
  {
   "cell_type": "code",
   "execution_count": 3,
   "outputs": [
    {
     "name": "stdout",
     "output_type": "stream",
     "text": [
      "NOTE: Found 15 images to upload.\n",
      "NOTE: Found labelset to upload.\n",
      "NOTE: Found annotations to upload.\n"
     ]
    }
   ],
   "source": [
    "# Flags to determine what to upload\n",
    "UPLOAD_IMAGES = False\n",
    "UPLOAD_LABELSET = False\n",
    "UPLOAD_ANNOTATIONS = False\n",
    "\n",
    "# Data to be uploaded\n",
    "images_path = \"../CoralNet_Data/3420/images/\"\n",
    "IMAGES = os.path.abspath(images_path)\n",
    "IMAGES = glob.glob(IMAGES + \"\\\\*.*\")[15:30] # just the first 15 images\n",
    "IMAGES = [i for i in IMAGES if i.split('.')[-1] in IMG_FORMATS]\n",
    "\n",
    "# Check if there are images to upload\n",
    "if len(IMAGES) > 0:\n",
    "    print(f\"NOTE: Found {len(IMAGES)} images to upload.\")\n",
    "    UPLOAD_IMAGES = True\n",
    "\n",
    "# Assign the labelset\n",
    "labelset_path = \"../CoralNet_Data/3420/labelset.csv\"\n",
    "LABELSET = os.path.abspath(labelset_path)\n",
    "\n",
    "# Check if there is a labelset to upload\n",
    "if os.path.exists(LABELSET) and \"csv\" in LABELSET.split(\".\")[-1]:\n",
    "    print(f\"NOTE: Found labelset to upload.\")\n",
    "    UPLOAD_LABELSET = True\n",
    "\n",
    "# Assign the annotations\n",
    "annotations_path = \"../CoralNet_Data/3420/annotations.csv\"\n",
    "ANNOTATIONS = os.path.abspath(annotations_path)\n",
    "\n",
    "# Check if there are annotations to upload\n",
    "if os.path.exists(ANNOTATIONS) and \"csv\" in ANNOTATIONS.split(\".\")[-1]:\n",
    "    print(f\"NOTE: Found annotations to upload.\")\n",
    "    UPLOAD_ANNOTATIONS = True\n",
    "\n",
    "# If there are no images, labelset, or annotations to upload, exit\n",
    "if not UPLOAD_IMAGES and not UPLOAD_LABELSET and not UPLOAD_ANNOTATIONS:\n",
    "    print(f\"ERROR: No data to upload. Please check the following files:\\n\"\n",
    "          f\"Images: {images_path}\\n\"\n",
    "          f\"Labelset: {labelset_path}\\n\"\n",
    "          f\"Annotations: {annotations_path}\")"
   ],
   "metadata": {
    "collapsed": false
   }
  },
  {
   "cell_type": "markdown",
   "source": [
    "#### Set up the source\n",
    "\n",
    "Finally, we set the source we want to upload data to. If credentials\n",
    "provided don't have access to the source, the script will tell you, and then\n",
    " exit."
   ],
   "metadata": {
    "collapsed": false
   }
  },
  {
   "cell_type": "code",
   "execution_count": 4,
   "outputs": [],
   "source": [
    "# ID of the source to upload data to\n",
    "SOURCE_ID = 4060"
   ],
   "metadata": {
    "collapsed": false
   }
  },
  {
   "cell_type": "markdown",
   "source": [
    "#### Set up the browser driver\n",
    "\n",
    "Before attempting to upload data, you need to set up the browser driver. This\n",
    "will create a web browser that will be used to interact with CoralNet. The\n",
    "code will identify which browsers are available on your machine, and will\n",
    "create a driver for the first one it finds.\n",
    "\n",
    "For this example, we will use Chrome, and set headless mode to False, so that\n",
    "we can see what is happening. If you want to run the script without opening\n",
    "a browser, you can set headless mode to True."
   ],
   "metadata": {
    "collapsed": false
   }
  },
  {
   "cell_type": "code",
   "execution_count": 5,
   "outputs": [
    {
     "name": "stdout",
     "output_type": "stream",
     "text": [
      "NOTE: Using Google Chrome\n"
     ]
    }
   ],
   "source": [
    "options = Options()\n",
    "\n",
    "headless = False\n",
    "\n",
    "if headless:\n",
    "    # Set headless mode\n",
    "    options.add_argument(\"--headless\")\n",
    "\n",
    "# Pass the options object while creating the driver\n",
    "driver = check_for_browsers(options=options)\n",
    "\n",
    "# Store the credentials in the driver\n",
    "driver.capabilities['credentials'] = {\n",
    "    'username': USERNAME,\n",
    "    'password': PASSWORD,\n",
    "}"
   ],
   "metadata": {
    "collapsed": false
   }
  },
  {
   "cell_type": "markdown",
   "source": [
    "#### Login\n",
    "\n",
    "The first step is to log in to CoralNet. If the credentials provided don't\n",
    "have access to CoralNet, the script will tell you, and then exit.\n"
   ],
   "metadata": {
    "collapsed": false
   }
  },
  {
   "cell_type": "code",
   "execution_count": 6,
   "outputs": [],
   "source": [
    "# Log in to CoralNet\n",
    "driver, _ = login(driver)"
   ],
   "metadata": {
    "collapsed": false
   }
  },
  {
   "cell_type": "markdown",
   "source": [
    "#### Upload the data\n",
    "\n",
    "The order for uploading data should be:\n",
    "\n",
    "- Labelset\n",
    "- Images\n",
    "- Annotations\n",
    "\n",
    "The labelset or images can be uploaded first, but annotations must be uploaded\n",
    "after labelset and images. If you attempt to upload annotations that\n",
    "correspond to images that are not in the source, they will not be uploaded.\n",
    "Similarly, if you attempt to upload annotations containing labels that are\n",
    "not in the labelset, they will not be uploaded.\n",
    "\n",
    "If you attempt to upload images that are already in the source, they will be\n",
    " skipped, and labelsets already in the source will not be uploaded again,\n",
    " but new labels will be added to the labelset. If you attempt to upload\n",
    "    annotations that are already in the source, they will be overwritten.\n",
    "\n",
    "It's also important to not click on anything in the browser while the script\n",
    " is running."
   ],
   "metadata": {
    "collapsed": false
   }
  },
  {
   "cell_type": "code",
   "execution_count": 7,
   "metadata": {},
   "outputs": [
    {
     "name": "stdout",
     "output_type": "stream",
     "text": [
      "\n",
      "NOTE: Navigating to labelset upload page\n",
      "NOTE: File input field is enabled\n",
      "NOTE: Uploading labelset.csv\n",
      "NOTE: Labelset saved\n"
     ]
    }
   ],
   "source": [
    "# Upload the labelset\n",
    "if UPLOAD_LABELSET:\n",
    "    upload_labelset(driver, SOURCE_ID, LABELSET)"
   ]
  },
  {
   "cell_type": "code",
   "execution_count": 8,
   "outputs": [
    {
     "name": "stdout",
     "output_type": "stream",
     "text": [
      "\n",
      "Navigating to image upload page...\n",
      "NOTE: File input field is enabled\n",
      "NOTE: Sending mcr_lter1_fringingreef_pole2-3_qu8_20080415.jpg\n",
      "NOTE: Sending mcr_lter1_fringingreef_pole3-4_qu1_20080415.jpg\n",
      "NOTE: Sending mcr_lter1_fringingreef_pole3-4_qu2_20080415.jpg\n",
      "NOTE: Sending mcr_lter1_fringingreef_pole3-4_qu3_20080415.jpg\n",
      "NOTE: Sending mcr_lter1_fringingreef_pole3-4_qu4_20080415.jpg\n",
      "NOTE: Sending mcr_lter1_fringingreef_pole3-4_qu5_20080415.jpg\n",
      "NOTE: Sending mcr_lter1_fringingreef_pole3-4_qu6_20080415.jpg\n",
      "NOTE: Sending mcr_lter1_fringingreef_pole3-4_qu7_20080415.jpg\n",
      "NOTE: Sending mcr_lter1_fringingreef_pole3-4_qu8_20080415.jpg\n",
      "NOTE: Sending mcr_lter1_fringingreef_pole4-5_qu1_20080415.jpg\n",
      "NOTE: Sending mcr_lter1_fringingreef_pole4-5_qu2_20080415.jpg\n",
      "NOTE: Sending mcr_lter1_fringingreef_pole4-5_qu3_20080415.jpg\n",
      "NOTE: Sending mcr_lter1_fringingreef_pole4-5_qu4_20080415.jpg\n",
      "NOTE: Sending mcr_lter1_fringingreef_pole4-5_qu5_20080415.jpg\n",
      "NOTE: Sending mcr_lter1_fringingreef_pole4-5_qu6_20080415.jpg\n",
      "\n",
      "15 file(s) total\n",
      "15 file(s) (39.03 MB) can be uploaded\n",
      "\n",
      "NOTE: Uploading...\n",
      "NOTE: Uploaded: 2 of 15 (5.46 MB of 39.03 MB, 14.0%)\n",
      "NOTE: Uploaded: 7 of 15 (18.73 MB of 39.03 MB, 48.0%)\n",
      "NOTE: Uploaded: 10 of 15 (26.75 MB of 39.03 MB, 68.5%)\n",
      "NOTE: Uploaded: 12 of 15 (31.68 MB of 39.03 MB, 81.2%)\n",
      "NOTE: Uploaded: 13 of 15 (34.63 MB of 39.03 MB, 88.7%)\n",
      "NOTE: Upload complete\n"
     ]
    }
   ],
   "source": [
    "# Upload the images\n",
    "if UPLOAD_IMAGES:\n",
    "    upload_images(driver, SOURCE_ID, IMAGES)"
   ],
   "metadata": {
    "collapsed": false
   }
  },
  {
   "cell_type": "code",
   "execution_count": 9,
   "metadata": {},
   "outputs": [
    {
     "name": "stdout",
     "output_type": "stream",
     "text": [
      "\n",
      "NOTE: Navigating to annotation upload page\n",
      "NOTE: File input field is enabled\n",
      "NOTE: Uploading annotations.csv\n",
      "NOTE: Processing CSV file...\n",
      "\n",
      "Found data for 30 images\n",
      "Total of 6000 points and 6000 annotations\n",
      "15 images have existing annotations that will be deleted\n",
      "\n",
      "NOTE: Saving points and annotations...\n",
      "NOTE: Points and annotations saved\n"
     ]
    }
   ],
   "source": [
    "# Upload the annotations\n",
    "if UPLOAD_ANNOTATIONS:\n",
    "    upload_annotations(driver, SOURCE_ID, ANNOTATIONS)"
   ]
  },
  {
   "cell_type": "markdown",
   "source": [
    "#### Close the browser\n",
    "\n",
    "Once the process is completed, you can close the browser."
   ],
   "metadata": {
    "collapsed": false
   }
  },
  {
   "cell_type": "code",
   "execution_count": 10,
   "outputs": [
    {
     "name": "stdout",
     "output_type": "stream",
     "text": [
      "Browser closed.\n",
      "Done.\n"
     ]
    }
   ],
   "source": [
    "driver.quit()"
   ],
   "metadata": {
    "collapsed": false
   }
  },
  {
   "cell_type": "code",
   "execution_count": null,
   "outputs": [],
   "source": [],
   "metadata": {
    "collapsed": false
   }
  }
 ],
 "metadata": {
  "kernel_info": {
   "name": "python38-azureml"
  },
  "kernelspec": {
   "display_name": "Python [conda env:coralnet] *",
   "language": "python",
   "name": "conda-env-coralnet-py"
  },
  "language_info": {
   "codemirror_mode": {
    "name": "ipython",
    "version": 3
   },
   "file_extension": ".py",
   "mimetype": "text/x-python",
   "name": "python",
   "nbconvert_exporter": "python",
   "pygments_lexer": "ipython3",
   "version": "3.8.15"
  },
  "microsoft": {
   "ms_spell_check": {
    "ms_spell_check_language": "en"
   }
  },
  "nteract": {
   "version": "nteract-front-end@1.0.0"
  }
 },
 "nbformat": 4,
 "nbformat_minor": 2
}
