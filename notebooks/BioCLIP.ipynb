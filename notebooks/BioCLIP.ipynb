{
 "cells": [
  {
   "cell_type": "code",
   "execution_count": null,
   "id": "77dec124",
   "metadata": {},
   "outputs": [],
   "source": [
    "import bioclip\n",
    "from bioclip import TreeOfLifeClassifier, Rank\n",
    "\n",
    "import pandas as pd"
   ]
  },
  {
   "cell_type": "code",
   "execution_count": null,
   "id": "fda6fdc3",
   "metadata": {},
   "outputs": [],
   "source": [
    "classifier = TreeOfLifeClassifier()"
   ]
  },
  {
   "cell_type": "code",
   "execution_count": null,
   "id": "10c21182",
   "metadata": {},
   "outputs": [],
   "source": [
    "predictions = classifier.predict(\"Ursus-arctos.jpeg\", Rank.SPECIES)\n",
    "\n",
    "for prediction in predictions:\n",
    "    print(prediction[\"species\"], \"-\", prediction[\"score\"])"
   ]
  },
  {
   "cell_type": "code",
   "execution_count": null,
   "id": "6f71387b",
   "metadata": {},
   "outputs": [],
   "source": [
    "df = pd.DataFrame(predictions)\n",
    "df"
   ]
  },
  {
   "cell_type": "code",
   "execution_count": null,
   "id": "99da060c",
   "metadata": {},
   "outputs": [],
   "source": [
    "from bioclip import CustomLabelsClassifier\n",
    "\n",
    "classifier = CustomLabelsClassifier([\"duck\",\"fish\",\"bear\"])\n",
    "predictions = classifier.predict(\"Ursus-arctos.jpeg\")\n",
    "for prediction in predictions:\n",
    "   print(prediction[\"classification\"], prediction[\"score\"])"
   ]
  },
  {
   "cell_type": "code",
   "execution_count": null,
   "id": "5ac52cdc",
   "metadata": {},
   "outputs": [],
   "source": []
  }
 ],
 "metadata": {
  "kernelspec": {
   "display_name": "coralnet10",
   "language": "python",
   "name": "python3"
  },
  "language_info": {
   "codemirror_mode": {
    "name": "ipython",
    "version": 3
   },
   "file_extension": ".py",
   "mimetype": "text/x-python",
   "name": "python",
   "nbconvert_exporter": "python",
   "pygments_lexer": "ipython3",
   "version": "3.10.15"
  }
 },
 "nbformat": 4,
 "nbformat_minor": 5
}
