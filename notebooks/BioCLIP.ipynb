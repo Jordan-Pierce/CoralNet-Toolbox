{
 "cells": [
  {
   "cell_type": "code",
   "execution_count": 20,
   "id": "77dec124",
   "metadata": {},
   "outputs": [],
   "source": [
    "import bioclip\n",
    "from bioclip import TreeOfLifeClassifier, Rank\n",
    "\n",
    "import pandas as pd"
   ]
  },
  {
   "cell_type": "code",
   "execution_count": null,
   "id": "fda6fdc3",
   "metadata": {},
   "outputs": [],
   "source": [
    "classifier = TreeOfLifeClassifier()"
   ]
  },
  {
   "cell_type": "code",
   "execution_count": null,
   "id": "10c21182",
   "metadata": {},
   "outputs": [],
   "source": [
    "predictions = classifier.predict(\"Ursus-arctos.jpeg\", Rank.SPECIES)\n",
    "\n",
    "for prediction in predictions:\n",
    "    print(prediction[\"species\"], \"-\", prediction[\"score\"])"
   ]
  },
  {
   "cell_type": "code",
   "execution_count": 22,
   "id": "6f71387b",
   "metadata": {},
   "outputs": [
    {
     "data": {
      "text/html": [
       "<div>\n",
       "<style scoped>\n",
       "    .dataframe tbody tr th:only-of-type {\n",
       "        vertical-align: middle;\n",
       "    }\n",
       "\n",
       "    .dataframe tbody tr th {\n",
       "        vertical-align: top;\n",
       "    }\n",
       "\n",
       "    .dataframe thead th {\n",
       "        text-align: right;\n",
       "    }\n",
       "</style>\n",
       "<table border=\"1\" class=\"dataframe\">\n",
       "  <thead>\n",
       "    <tr style=\"text-align: right;\">\n",
       "      <th></th>\n",
       "      <th>file_name</th>\n",
       "      <th>kingdom</th>\n",
       "      <th>phylum</th>\n",
       "      <th>class</th>\n",
       "      <th>order</th>\n",
       "      <th>family</th>\n",
       "      <th>genus</th>\n",
       "      <th>species_epithet</th>\n",
       "      <th>species</th>\n",
       "      <th>common_name</th>\n",
       "      <th>score</th>\n",
       "    </tr>\n",
       "  </thead>\n",
       "  <tbody>\n",
       "    <tr>\n",
       "      <th>0</th>\n",
       "      <td>Ursus-arctos.jpeg</td>\n",
       "      <td>Animalia</td>\n",
       "      <td>Chordata</td>\n",
       "      <td>Mammalia</td>\n",
       "      <td>Carnivora</td>\n",
       "      <td>Ursidae</td>\n",
       "      <td>Ursus</td>\n",
       "      <td>arctos</td>\n",
       "      <td>Ursus arctos</td>\n",
       "      <td>Kodiak bear</td>\n",
       "      <td>0.935602</td>\n",
       "    </tr>\n",
       "    <tr>\n",
       "      <th>1</th>\n",
       "      <td>Ursus-arctos.jpeg</td>\n",
       "      <td>Animalia</td>\n",
       "      <td>Chordata</td>\n",
       "      <td>Mammalia</td>\n",
       "      <td>Carnivora</td>\n",
       "      <td>Ursidae</td>\n",
       "      <td>Ursus</td>\n",
       "      <td>arctos syriacus</td>\n",
       "      <td>Ursus arctos syriacus</td>\n",
       "      <td>syrian brown bear</td>\n",
       "      <td>0.056171</td>\n",
       "    </tr>\n",
       "    <tr>\n",
       "      <th>2</th>\n",
       "      <td>Ursus-arctos.jpeg</td>\n",
       "      <td>Animalia</td>\n",
       "      <td>Chordata</td>\n",
       "      <td>Mammalia</td>\n",
       "      <td>Carnivora</td>\n",
       "      <td>Ursidae</td>\n",
       "      <td>Ursus</td>\n",
       "      <td>arctos bruinosus</td>\n",
       "      <td>Ursus arctos bruinosus</td>\n",
       "      <td></td>\n",
       "      <td>0.004126</td>\n",
       "    </tr>\n",
       "    <tr>\n",
       "      <th>3</th>\n",
       "      <td>Ursus-arctos.jpeg</td>\n",
       "      <td>Animalia</td>\n",
       "      <td>Chordata</td>\n",
       "      <td>Mammalia</td>\n",
       "      <td>Carnivora</td>\n",
       "      <td>Ursidae</td>\n",
       "      <td>Ursus</td>\n",
       "      <td>arctus</td>\n",
       "      <td>Ursus arctus</td>\n",
       "      <td></td>\n",
       "      <td>0.002496</td>\n",
       "    </tr>\n",
       "    <tr>\n",
       "      <th>4</th>\n",
       "      <td>Ursus-arctos.jpeg</td>\n",
       "      <td>Animalia</td>\n",
       "      <td>Chordata</td>\n",
       "      <td>Mammalia</td>\n",
       "      <td>Carnivora</td>\n",
       "      <td>Ursidae</td>\n",
       "      <td>Ursus</td>\n",
       "      <td>americanus</td>\n",
       "      <td>Ursus americanus</td>\n",
       "      <td>Louisiana black bear</td>\n",
       "      <td>0.000501</td>\n",
       "    </tr>\n",
       "  </tbody>\n",
       "</table>\n",
       "</div>"
      ],
      "text/plain": [
       "           file_name   kingdom    phylum     class      order   family  genus  \\\n",
       "0  Ursus-arctos.jpeg  Animalia  Chordata  Mammalia  Carnivora  Ursidae  Ursus   \n",
       "1  Ursus-arctos.jpeg  Animalia  Chordata  Mammalia  Carnivora  Ursidae  Ursus   \n",
       "2  Ursus-arctos.jpeg  Animalia  Chordata  Mammalia  Carnivora  Ursidae  Ursus   \n",
       "3  Ursus-arctos.jpeg  Animalia  Chordata  Mammalia  Carnivora  Ursidae  Ursus   \n",
       "4  Ursus-arctos.jpeg  Animalia  Chordata  Mammalia  Carnivora  Ursidae  Ursus   \n",
       "\n",
       "    species_epithet                 species           common_name     score  \n",
       "0            arctos            Ursus arctos           Kodiak bear  0.935602  \n",
       "1   arctos syriacus   Ursus arctos syriacus     syrian brown bear  0.056171  \n",
       "2  arctos bruinosus  Ursus arctos bruinosus                        0.004126  \n",
       "3            arctus            Ursus arctus                        0.002496  \n",
       "4        americanus        Ursus americanus  Louisiana black bear  0.000501  "
      ]
     },
     "execution_count": 22,
     "metadata": {},
     "output_type": "execute_result"
    }
   ],
   "source": [
    "df = pd.DataFrame(predictions)\n",
    "df"
   ]
  },
  {
   "cell_type": "code",
   "execution_count": 9,
   "id": "99da060c",
   "metadata": {},
   "outputs": [
    {
     "name": "stderr",
     "output_type": "stream",
     "text": [
      "100%|██████████| 1/1 [00:00<00:00,  1.86images/s]"
     ]
    },
    {
     "name": "stdout",
     "output_type": "stream",
     "text": [
      "bear 1.0\n",
      "duck 1.0306884234978497e-09\n",
      "fish 2.9324763103910634e-12\n"
     ]
    },
    {
     "name": "stderr",
     "output_type": "stream",
     "text": [
      "\n"
     ]
    }
   ],
   "source": [
    "from bioclip import CustomLabelsClassifier\n",
    "\n",
    "classifier = CustomLabelsClassifier([\"duck\",\"fish\",\"bear\"])\n",
    "predictions = classifier.predict(\"Ursus-arctos.jpeg\")\n",
    "for prediction in predictions:\n",
    "   print(prediction[\"classification\"], prediction[\"score\"])"
   ]
  },
  {
   "cell_type": "code",
   "execution_count": null,
   "id": "5ac52cdc",
   "metadata": {},
   "outputs": [],
   "source": []
  }
 ],
 "metadata": {
  "kernelspec": {
   "display_name": "coralnet10",
   "language": "python",
   "name": "python3"
  },
  "language_info": {
   "codemirror_mode": {
    "name": "ipython",
    "version": 3
   },
   "file_extension": ".py",
   "mimetype": "text/x-python",
   "name": "python",
   "nbconvert_exporter": "python",
   "pygments_lexer": "ipython3",
   "version": "3.10.15"
  }
 },
 "nbformat": 4,
 "nbformat_minor": 5
}
