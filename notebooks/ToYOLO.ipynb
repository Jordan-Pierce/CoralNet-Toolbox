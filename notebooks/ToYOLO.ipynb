{
 "cells": [
  {
   "cell_type": "code",
   "id": "initial_id",
   "metadata": {
    "collapsed": true
   },
   "source": [
    "import os\n",
    "import glob\n",
    "import argparse\n",
    "\n",
    "from coralnet_toolshed.ToYOLO import to_yolo"
   ],
   "outputs": [],
   "execution_count": null
  },
  {
   "metadata": {},
   "cell_type": "code",
   "source": [
    "output_dir = f\"B:\\\\CoralNet-Toolbox\\\\Data\\\\MIR_AI\"\n",
    "\n",
    "patch_folders = glob.glob(f\"{output_dir}\\\\patches\\\\*\")"
   ],
   "id": "a86156e067090aad",
   "outputs": [],
   "execution_count": null
  },
  {
   "metadata": {},
   "cell_type": "code",
   "source": [
    "args = argparse.Namespace()\n",
    "\n",
    "args.patches = [f\"{patch_folder}/patches.csv\" for patch_folder in patch_folders]\n",
    "args.about = 1000\n",
    "args.even_dist = True\n",
    "args.output_name = \"combined_1000\"\n",
    "args.output_dir = output_dir"
   ],
   "id": "46c608ba854b53ef",
   "outputs": [],
   "execution_count": null
  },
  {
   "metadata": {},
   "cell_type": "code",
   "source": "to_yolo(args)",
   "id": "129045d9aa3bb0de",
   "outputs": [],
   "execution_count": null
  },
  {
   "metadata": {},
   "cell_type": "code",
   "source": "",
   "id": "7efe2fbdc2bf52",
   "outputs": [],
   "execution_count": null
  }
 ],
 "metadata": {
  "kernelspec": {
   "display_name": "Python 3",
   "language": "python",
   "name": "python3"
  },
  "language_info": {
   "codemirror_mode": {
    "name": "ipython",
    "version": 2
   },
   "file_extension": ".py",
   "mimetype": "text/x-python",
   "name": "python",
   "nbconvert_exporter": "python",
   "pygments_lexer": "ipython2",
   "version": "2.7.6"
  }
 },
 "nbformat": 4,
 "nbformat_minor": 5
}
