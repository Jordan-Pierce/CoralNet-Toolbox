{
  "cells": [
    {
      "cell_type": "code",
      "execution_count": null,
      "metadata": {},
      "outputs": [],
      "source": [
        "import os\n",
        "from tqdm import tqdm\n",
        "\n",
        "import cv2\n",
        "import numpy as np\n",
        "import pandas as pd\n",
        "import matplotlib.pyplot as plt\n",
        "\n",
        "import faiss"
      ]
    },
    {
      "cell_type": "code",
      "execution_count": null,
      "metadata": {},
      "outputs": [],
      "source": [
        "from deep_cluster.embeddings import calculate_embeddings_exp_1\n",
        "from deep_cluster.embeddings import calculate_embeddings_exp_2\n",
        "from deep_cluster.embeddings import calculate_embeddings_exp_3\n",
        "from deep_cluster.embeddings import calculate_embeddings_exp_4\n",
        "from deep_cluster.embeddings import calculate_embeddings_exp_5\n",
        "from deep_cluster.embeddings import calculate_embeddings_exp_6\n",
        "from deep_cluster.embeddings import calculate_embeddings_exp_7\n",
        "from deep_cluster.embeddings import calculate_embeddings_exp_8\n",
        "from deep_cluster.embeddings import calculate_embeddings_exp_9\n",
        "from deep_cluster.embeddings import calculate_embeddings_exp_10"
      ]
    },
    {
      "cell_type": "markdown",
      "metadata": {},
      "source": [
        "# Data Prep"
      ]
    },
    {
      "cell_type": "code",
      "execution_count": null,
      "metadata": {},
      "outputs": [],
      "source": [
        "labeled_data_path = \"../data/Madeline_Data/MadelineIs_Modified.csv\"\n",
        "unlabeled_data_path = \"../data/Unlabeled_AUV_Data/Unlabeled_AUV_Data.csv\""
      ]
    },
    {
      "cell_type": "code",
      "execution_count": null,
      "metadata": {},
      "outputs": [],
      "source": [
        "# Get the labeled data\n",
        "labeled_df = pd.read_csv(labeled_data_path)\n",
        "labeled_df = labeled_df[['Image_Path', 'Sclass', 'Ssubclass', 'Sgroup']]\n",
        "\n",
        "# Drop any rows with NA values\n",
        "labeled_df = labeled_df.dropna(subset=['Image_Path', 'Sclass', 'Ssubclass', 'Sgroup'])"
      ]
    },
    {
      "cell_type": "code",
      "execution_count": null,
      "metadata": {},
      "outputs": [],
      "source": [
        "# Get the unlabeled data, subset, conform\n",
        "unlabeled_df = pd.read_csv(unlabeled_data_path)\n",
        "unlabeled_df['Image_Path'] = unlabeled_df['image_path']\n",
        "unlabeled_df = unlabeled_df[['Image_Path']]\n",
        "\n",
        "# No labels, set as Unlabeled\n",
        "unlabeled_df['Sclass'] = \"Unlabeled\"\n",
        "unlabeled_df['Ssubclass'] = \"Unlabeled\"\n",
        "unlabeled_df['Sgroup'] = \"Unlabeled\""
      ]
    },
    {
      "cell_type": "code",
      "execution_count": null,
      "metadata": {},
      "outputs": [],
      "source": [
        "# Combine the labeled and unlabeled data\n",
        "all_data_df = pd.concat([labeled_df, unlabeled_df], axis=0)\n",
        "all_data_df.reset_index(drop=True, inplace=True)"
      ]
    },
    {
      "cell_type": "code",
      "execution_count": null,
      "metadata": {},
      "outputs": [],
      "source": [
        "print(f\"Total samples: {len(all_data_df)}\")\n",
        "print(f\"Labeled: {len(labeled_df)}\")\n",
        "print(f\"Unlabeled: {len(unlabeled_df)}\")"
      ]
    },
    {
      "cell_type": "code",
      "execution_count": null,
      "metadata": {},
      "outputs": [],
      "source": [
        "# ---> Making modifications to the dataframe Image Paths (after moving locally) <---\n",
        "all_data_df['Image_Path'] = all_data_df['Image_Path'].str.replace('name_tbd', 'JordanP\\\\name_tbd')"
      ]
    },
    {
      "attachments": {},
      "cell_type": "markdown",
      "metadata": {
        "id": "8FOt7vq28y0n"
      },
      "source": [
        "## Calculate Embeddings\n",
        "\n",
        "To build an image-to-image search engine, we need to store:\n",
        "\n",
        "1. An embedding representation of each image in our dataset, for use in querying for related images, and;\n",
        "2. An index that maps the index of an embedding in the `faiss` data store to file names (faiss associates values with indices, so we need a way to map these indices back to file names)."
      ]
    },
    {
      "cell_type": "code",
      "execution_count": null,
      "metadata": {},
      "outputs": [],
      "source": [
        "def get_experiment_embedding_methods():\n",
        "    \"\"\"Return a dictionary of all embedding methods to test.\"\"\"\n",
        "    return {\n",
        "        \"raw_pixels\": calculate_embeddings_exp_1,\n",
        "        \"normalized_pixels\": calculate_embeddings_exp_2,\n",
        "        \"pca_pixels\": calculate_embeddings_exp_3,\n",
        "        \"rgb_features\": calculate_embeddings_exp_4,\n",
        "        \n",
        "        \"hog_features\": calculate_embeddings_exp_5,\n",
        "        \"lbp_features\": calculate_embeddings_exp_6,\n",
        "        \"sift_features\": calculate_embeddings_exp_7,\n",
        "        \n",
        "        \"yolov8n_features\": calculate_embeddings_exp_8,\n",
        "        \"yolov8x_features\": calculate_embeddings_exp_9,\n",
        "        \"dino_features\": calculate_embeddings_exp_10,\n",
        "    }\n",
        "    \n",
        "embedding_methods = get_experiment_embedding_methods()"
      ]
    },
    {
      "cell_type": "code",
      "execution_count": null,
      "metadata": {},
      "outputs": [],
      "source": [
        "image_column = 'Image_Path'\n",
        "imgsz = 112"
      ]
    },
    {
      "cell_type": "code",
      "execution_count": null,
      "metadata": {
        "id": "dIlMSzUA3cmB"
      },
      "outputs": [],
      "source": [
        "embeddings = embedding_methods['yolov8n_features'](all_data_df, image_column=image_column, imgsz=imgsz)"
      ]
    },
    {
      "attachments": {},
      "cell_type": "markdown",
      "metadata": {
        "id": "HR20yvZxACMj"
      },
      "source": [
        "## Prepare to Search the Index\n",
        "\n",
        "Below, we define a function that retrieves `k` images with embeddings most similar to the embedding of an input image from our vector index. In other words, this function will search for related images in our index and return their positions in the index."
      ]
    },
    {
      "cell_type": "code",
      "execution_count": null,
      "metadata": {},
      "outputs": [],
      "source": [
        "def create_indices(df: pd.DataFrame, embeddings: np.array) -> faiss.IndexFlatL2:\n",
        "    \"\"\"\n",
        "    Create an index that contains all of the images in the specified list of files.\n",
        "    \"\"\"\n",
        "    # Create a FAISS index\n",
        "    indices = faiss.IndexFlatL2(embeddings.shape[1])  # L2 distance index\n",
        "\n",
        "    # Dictionary to hold the image paths and their corresponding embeddings\n",
        "    image_to_embeddings = {}\n",
        "    \n",
        "    # Loop through the DataFrame and add each image / embedding to the index\n",
        "    for idx, (i, r) in enumerate(tqdm(df.iterrows(), total=len(df))):\n",
        "\n",
        "      image_to_embeddings[r['Image_Path']] = embeddings[idx]\n",
        "      indices.add(embeddings[idx].reshape(1, -1))\n",
        "\n",
        "    # Save the index to a file\n",
        "    faiss.write_index(indices, \"data.bin\")\n",
        "\n",
        "    return indices, image_to_embeddings"
      ]
    },
    {
      "cell_type": "code",
      "execution_count": null,
      "metadata": {},
      "outputs": [],
      "source": [
        "indices, image_to_embeddings = create_indices(all_data_df, embeddings)"
      ]
    },
    {
      "attachments": {},
      "cell_type": "markdown",
      "metadata": {
        "id": "5EMOGjbZAT0p"
      },
      "source": [
        "## Search the Index\n",
        "\n",
        "The code below takes an input image (`search_file`), calculates an embedding for the image, and uses that embedding to find related images.\n",
        "\n",
        "We display the `k` top results (default 3) in the notebook."
      ]
    },
    {
      "cell_type": "code",
      "execution_count": null,
      "metadata": {
        "id": "jYrsC4ax3e47"
      },
      "outputs": [],
      "source": [
        "def search_index(indices: faiss.IndexFlatL2, embeddings: np.array, k: int = 3) -> list:\n",
        "    \"\"\"\n",
        "    Search the index for the images that are most similar to the provided image.\n",
        "    \"\"\"\n",
        "    D, I = indices.search(embeddings.reshape(1, -1), k)\n",
        "\n",
        "    return I[0]"
      ]
    },
    {
      "cell_type": "code",
      "execution_count": null,
      "metadata": {},
      "outputs": [],
      "source": [
        "# Pick based on label, class name\n",
        "label_columns = [\"Sgroup\", \"Ssubclass\", \"Sclass\"]\n",
        "\n",
        "for label_column in label_columns:\n",
        "    print(f\"\\n {'=' * 5} Label column: {label_column} {'=' * 5}\")\n",
        "    print(all_data_df[label_column].value_counts())"
      ]
    },
    {
      "cell_type": "code",
      "execution_count": null,
      "metadata": {},
      "outputs": [],
      "source": [
        "# Define the search image\n",
        "label_column = \"Sgroup\"\n",
        "label = \"Gravel Mixes\"\n",
        "\n",
        "# Obtain a random sample of the specified label\n",
        "sample = all_data_df[all_data_df[label_column] == label].sample(1)\n",
        "\n",
        "# Get the image path\n",
        "sample_path = sample['Image_Path'].values[0]\n",
        "\n",
        "# Get the corresponding embedding\n",
        "sample_embedding = image_to_embeddings[sample_path]\n",
        "\n",
        "# Read the (resized) image\n",
        "sample_image = cv2.resize(cv2.imread(sample_path), (256, 256)) \n",
        "\n",
        "plt.title(f\"{os.path.basename(sample_path)} - {label_column} - {label}\")\n",
        "plt.imshow(sample_image)"
      ]
    },
    {
      "cell_type": "code",
      "execution_count": null,
      "metadata": {},
      "outputs": [],
      "source": [
        "k = 10\n",
        "\n",
        "# Search the index for similar images\n",
        "similar_indices = search_index(indices, sample_embedding, k)"
      ]
    },
    {
      "cell_type": "code",
      "execution_count": null,
      "metadata": {},
      "outputs": [],
      "source": [
        "similar_indices"
      ]
    },
    {
      "cell_type": "markdown",
      "metadata": {},
      "source": [
        "# Plot the Results\n",
        "\n",
        "Plot the images the correspond to the k nearest to the search image, in feature space."
      ]
    },
    {
      "cell_type": "code",
      "execution_count": null,
      "metadata": {
        "colab": {
          "base_uri": "https://localhost:8080/",
          "height": 1000
        },
        "id": "un8SqO893g5U",
        "outputId": "d703bd79-ec0a-4d10-bee4-cc05e2f05c39"
      },
      "outputs": [],
      "source": [
        "def display_similar_images(indices: np.ndarray, df: pd.DataFrame, label_column: str, imgsz: int = 256, num_cols: int = 2):\n",
        "    \"\"\"\n",
        "    Displays similar images based on the provided indices.\n",
        "\n",
        "    Args:\n",
        "        indices (np.ndarray): Array of indices representing similar images.\n",
        "        df (pd.DataFrame): DataFrame containing image paths and labels.\n",
        "        label_column (str): The column name in the DataFrame for the image label.\n",
        "        imgsz (int, optional): The size to resize the images to. Defaults to 256.\n",
        "        num_cols (int, optional): The number of columns in the display grid. Defaults to 2.\n",
        "    \"\"\"\n",
        "    num_images = len(indices)\n",
        "    num_rows = (num_images + num_cols - 1) // num_cols  # Calculate the number of rows needed\n",
        "\n",
        "    fig, axes = plt.subplots(num_rows, num_cols, figsize=(12, 6 * num_rows))  # Adjust figure size for better visualization\n",
        "\n",
        "    # If axes is a single Axes object, wrap it in a list to make it iterable\n",
        "    if num_rows == 1 and num_cols == 1:\n",
        "        axes = [[axes]]\n",
        "    elif num_rows == 1:\n",
        "        axes = [axes]\n",
        "\n",
        "    for i, index in enumerate(indices):\n",
        "        # Calculate the row and column index for the subplot\n",
        "        row_idx = i // num_cols\n",
        "        col_idx = i % num_cols\n",
        "        \n",
        "        # Get the image path of the similar image\n",
        "        image_path = df.iloc[index]['Image_Path']\n",
        "        \n",
        "        # Read and resize the image\n",
        "        try:\n",
        "            image = cv2.resize(cv2.imread(image_path), (imgsz, imgsz))\n",
        "            image = cv2.cvtColor(image, cv2.COLOR_BGR2RGB)  # Convert BGR to RGB\n",
        "            \n",
        "            # Display the image\n",
        "            ax = axes[row_idx][col_idx]\n",
        "            ax.imshow(image)\n",
        "            ax.set_title(f\"{os.path.basename(image_path)} - {label_column}: {df.iloc[index][label_column]}\")\n",
        "            ax.axis('off')  # Hide the axis\n",
        "        except Exception as e:\n",
        "            print(f\"Error processing image {image_path}: {e}\")\n",
        "            continue\n",
        "\n",
        "    # If the number of images is odd, remove the last empty subplot\n",
        "    if num_images % num_cols != 0:\n",
        "        axes[-1][-1].axis('off')\n",
        "\n",
        "    plt.tight_layout()  # Adjust layout to prevent overlapping titles/labels\n",
        "    plt.show()"
      ]
    },
    {
      "cell_type": "code",
      "execution_count": null,
      "metadata": {},
      "outputs": [],
      "source": [
        "display_similar_images(similar_indices, all_data_df, label_column, imgsz=imgsz, num_cols=2)"
      ]
    },
    {
      "cell_type": "code",
      "execution_count": null,
      "metadata": {},
      "outputs": [],
      "source": []
    }
  ],
  "metadata": {
    "accelerator": "GPU",
    "colab": {
      "gpuType": "T4",
      "provenance": []
    },
    "gpuClass": "standard",
    "kernelspec": {
      "display_name": "dc",
      "language": "python",
      "name": "python3"
    },
    "language_info": {
      "codemirror_mode": {
        "name": "ipython",
        "version": 3
      },
      "file_extension": ".py",
      "mimetype": "text/x-python",
      "name": "python",
      "nbconvert_exporter": "python",
      "pygments_lexer": "ipython3",
      "version": "3.10.16"
    },
    "widgets": {
      "application/vnd.jupyter.widget-state+json": {
        "0f6ce79297ab406a8788f27bae7a34a7": {
          "model_module": "@jupyter-widgets/controls",
          "model_module_version": "1.5.0",
          "model_name": "HTMLModel",
          "state": {
            "_dom_classes": [],
            "_model_module": "@jupyter-widgets/controls",
            "_model_module_version": "1.5.0",
            "_model_name": "HTMLModel",
            "_view_count": null,
            "_view_module": "@jupyter-widgets/controls",
            "_view_module_version": "1.5.0",
            "_view_name": "HTMLView",
            "description": "",
            "description_tooltip": null,
            "layout": "IPY_MODEL_e86471d85a1b4b6eb6c905f5eaf21953",
            "placeholder": "​",
            "style": "IPY_MODEL_90f4e9139c004b499b6d5e7e76aaa940",
            "value": "100%"
          }
        },
        "1d79af2da0ac43ca9186a1f9606c26bd": {
          "model_module": "@jupyter-widgets/controls",
          "model_module_version": "1.5.0",
          "model_name": "HBoxModel",
          "state": {
            "_dom_classes": [],
            "_model_module": "@jupyter-widgets/controls",
            "_model_module_version": "1.5.0",
            "_model_name": "HBoxModel",
            "_view_count": null,
            "_view_module": "@jupyter-widgets/controls",
            "_view_module_version": "1.5.0",
            "_view_name": "HBoxView",
            "box_style": "",
            "children": [
              "IPY_MODEL_0f6ce79297ab406a8788f27bae7a34a7",
              "IPY_MODEL_ae7d0e88f76649789c7c0b9b0fd957cb",
              "IPY_MODEL_e9caba4b92a844ea99a660689838fb48"
            ],
            "layout": "IPY_MODEL_246ad51e3cbf46d398f6504c6d4525b1"
          }
        },
        "246ad51e3cbf46d398f6504c6d4525b1": {
          "model_module": "@jupyter-widgets/base",
          "model_module_version": "1.2.0",
          "model_name": "LayoutModel",
          "state": {
            "_model_module": "@jupyter-widgets/base",
            "_model_module_version": "1.2.0",
            "_model_name": "LayoutModel",
            "_view_count": null,
            "_view_module": "@jupyter-widgets/base",
            "_view_module_version": "1.2.0",
            "_view_name": "LayoutView",
            "align_content": null,
            "align_items": null,
            "align_self": null,
            "border": null,
            "bottom": null,
            "display": null,
            "flex": null,
            "flex_flow": null,
            "grid_area": null,
            "grid_auto_columns": null,
            "grid_auto_flow": null,
            "grid_auto_rows": null,
            "grid_column": null,
            "grid_gap": null,
            "grid_row": null,
            "grid_template_areas": null,
            "grid_template_columns": null,
            "grid_template_rows": null,
            "height": null,
            "justify_content": null,
            "justify_items": null,
            "left": null,
            "margin": null,
            "max_height": null,
            "max_width": null,
            "min_height": null,
            "min_width": null,
            "object_fit": null,
            "object_position": null,
            "order": null,
            "overflow": null,
            "overflow_x": null,
            "overflow_y": null,
            "padding": null,
            "right": null,
            "top": null,
            "visibility": null,
            "width": null
          }
        },
        "5b9ddd4b199f4fcc818cf7f781822343": {
          "model_module": "@jupyter-widgets/controls",
          "model_module_version": "1.5.0",
          "model_name": "DescriptionStyleModel",
          "state": {
            "_model_module": "@jupyter-widgets/controls",
            "_model_module_version": "1.5.0",
            "_model_name": "DescriptionStyleModel",
            "_view_count": null,
            "_view_module": "@jupyter-widgets/base",
            "_view_module_version": "1.2.0",
            "_view_name": "StyleView",
            "description_width": ""
          }
        },
        "90f4e9139c004b499b6d5e7e76aaa940": {
          "model_module": "@jupyter-widgets/controls",
          "model_module_version": "1.5.0",
          "model_name": "DescriptionStyleModel",
          "state": {
            "_model_module": "@jupyter-widgets/controls",
            "_model_module_version": "1.5.0",
            "_model_name": "DescriptionStyleModel",
            "_view_count": null,
            "_view_module": "@jupyter-widgets/base",
            "_view_module_version": "1.2.0",
            "_view_name": "StyleView",
            "description_width": ""
          }
        },
        "adeeb07cc6cc4349b13a8044197f789c": {
          "model_module": "@jupyter-widgets/controls",
          "model_module_version": "1.5.0",
          "model_name": "ProgressStyleModel",
          "state": {
            "_model_module": "@jupyter-widgets/controls",
            "_model_module_version": "1.5.0",
            "_model_name": "ProgressStyleModel",
            "_view_count": null,
            "_view_module": "@jupyter-widgets/base",
            "_view_module_version": "1.2.0",
            "_view_name": "StyleView",
            "bar_color": null,
            "description_width": ""
          }
        },
        "ae7d0e88f76649789c7c0b9b0fd957cb": {
          "model_module": "@jupyter-widgets/controls",
          "model_module_version": "1.5.0",
          "model_name": "FloatProgressModel",
          "state": {
            "_dom_classes": [],
            "_model_module": "@jupyter-widgets/controls",
            "_model_module_version": "1.5.0",
            "_model_name": "FloatProgressModel",
            "_view_count": null,
            "_view_module": "@jupyter-widgets/controls",
            "_view_module_version": "1.5.0",
            "_view_name": "ProgressView",
            "bar_style": "success",
            "description": "",
            "description_tooltip": null,
            "layout": "IPY_MODEL_c78a26af3c6f48fa906beed684486841",
            "max": 128,
            "min": 0,
            "orientation": "horizontal",
            "style": "IPY_MODEL_adeeb07cc6cc4349b13a8044197f789c",
            "value": 128
          }
        },
        "c78a26af3c6f48fa906beed684486841": {
          "model_module": "@jupyter-widgets/base",
          "model_module_version": "1.2.0",
          "model_name": "LayoutModel",
          "state": {
            "_model_module": "@jupyter-widgets/base",
            "_model_module_version": "1.2.0",
            "_model_name": "LayoutModel",
            "_view_count": null,
            "_view_module": "@jupyter-widgets/base",
            "_view_module_version": "1.2.0",
            "_view_name": "LayoutView",
            "align_content": null,
            "align_items": null,
            "align_self": null,
            "border": null,
            "bottom": null,
            "display": null,
            "flex": null,
            "flex_flow": null,
            "grid_area": null,
            "grid_auto_columns": null,
            "grid_auto_flow": null,
            "grid_auto_rows": null,
            "grid_column": null,
            "grid_gap": null,
            "grid_row": null,
            "grid_template_areas": null,
            "grid_template_columns": null,
            "grid_template_rows": null,
            "height": null,
            "justify_content": null,
            "justify_items": null,
            "left": null,
            "margin": null,
            "max_height": null,
            "max_width": null,
            "min_height": null,
            "min_width": null,
            "object_fit": null,
            "object_position": null,
            "order": null,
            "overflow": null,
            "overflow_x": null,
            "overflow_y": null,
            "padding": null,
            "right": null,
            "top": null,
            "visibility": null,
            "width": null
          }
        },
        "e86471d85a1b4b6eb6c905f5eaf21953": {
          "model_module": "@jupyter-widgets/base",
          "model_module_version": "1.2.0",
          "model_name": "LayoutModel",
          "state": {
            "_model_module": "@jupyter-widgets/base",
            "_model_module_version": "1.2.0",
            "_model_name": "LayoutModel",
            "_view_count": null,
            "_view_module": "@jupyter-widgets/base",
            "_view_module_version": "1.2.0",
            "_view_name": "LayoutView",
            "align_content": null,
            "align_items": null,
            "align_self": null,
            "border": null,
            "bottom": null,
            "display": null,
            "flex": null,
            "flex_flow": null,
            "grid_area": null,
            "grid_auto_columns": null,
            "grid_auto_flow": null,
            "grid_auto_rows": null,
            "grid_column": null,
            "grid_gap": null,
            "grid_row": null,
            "grid_template_areas": null,
            "grid_template_columns": null,
            "grid_template_rows": null,
            "height": null,
            "justify_content": null,
            "justify_items": null,
            "left": null,
            "margin": null,
            "max_height": null,
            "max_width": null,
            "min_height": null,
            "min_width": null,
            "object_fit": null,
            "object_position": null,
            "order": null,
            "overflow": null,
            "overflow_x": null,
            "overflow_y": null,
            "padding": null,
            "right": null,
            "top": null,
            "visibility": null,
            "width": null
          }
        },
        "e9caba4b92a844ea99a660689838fb48": {
          "model_module": "@jupyter-widgets/controls",
          "model_module_version": "1.5.0",
          "model_name": "HTMLModel",
          "state": {
            "_dom_classes": [],
            "_model_module": "@jupyter-widgets/controls",
            "_model_module_version": "1.5.0",
            "_model_name": "HTMLModel",
            "_view_count": null,
            "_view_module": "@jupyter-widgets/controls",
            "_view_module_version": "1.5.0",
            "_view_name": "HTMLView",
            "description": "",
            "description_tooltip": null,
            "layout": "IPY_MODEL_fbea295831894b1c8ca25f27f842f432",
            "placeholder": "​",
            "style": "IPY_MODEL_5b9ddd4b199f4fcc818cf7f781822343",
            "value": " 128/128 [00:03&lt;00:00, 38.39it/s]"
          }
        },
        "fbea295831894b1c8ca25f27f842f432": {
          "model_module": "@jupyter-widgets/base",
          "model_module_version": "1.2.0",
          "model_name": "LayoutModel",
          "state": {
            "_model_module": "@jupyter-widgets/base",
            "_model_module_version": "1.2.0",
            "_model_name": "LayoutModel",
            "_view_count": null,
            "_view_module": "@jupyter-widgets/base",
            "_view_module_version": "1.2.0",
            "_view_name": "LayoutView",
            "align_content": null,
            "align_items": null,
            "align_self": null,
            "border": null,
            "bottom": null,
            "display": null,
            "flex": null,
            "flex_flow": null,
            "grid_area": null,
            "grid_auto_columns": null,
            "grid_auto_flow": null,
            "grid_auto_rows": null,
            "grid_column": null,
            "grid_gap": null,
            "grid_row": null,
            "grid_template_areas": null,
            "grid_template_columns": null,
            "grid_template_rows": null,
            "height": null,
            "justify_content": null,
            "justify_items": null,
            "left": null,
            "margin": null,
            "max_height": null,
            "max_width": null,
            "min_height": null,
            "min_width": null,
            "object_fit": null,
            "object_position": null,
            "order": null,
            "overflow": null,
            "overflow_x": null,
            "overflow_y": null,
            "padding": null,
            "right": null,
            "top": null,
            "visibility": null,
            "width": null
          }
        }
      }
    }
  },
  "nbformat": 4,
  "nbformat_minor": 0
}
