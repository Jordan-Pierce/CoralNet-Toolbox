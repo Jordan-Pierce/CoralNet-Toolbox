{
 "cells": [
  {
   "cell_type": "code",
   "execution_count": null,
   "id": "0cdce321",
   "metadata": {},
   "outputs": [],
   "source": [
    "import os\n",
    "import json\n",
    "import glob \n",
    "\n",
    "import numpy as np\n",
    "import pandas as pd\n",
    "\n",
    "import cv2"
   ]
  },
  {
   "cell_type": "code",
   "execution_count": null,
   "id": "d971e9a3",
   "metadata": {},
   "outputs": [],
   "source": [
    "datasets_dir = os.path.abspath(\"../data/tator/grid/datasets\")\n",
    "datasets_dir\n",
    "\n",
    "datasets_folders = glob.glob(os.path.join(datasets_dir, \"*\"))\n",
    "datasets_folders"
   ]
  },
  {
   "cell_type": "code",
   "execution_count": null,
   "id": "d199631c",
   "metadata": {},
   "outputs": [],
   "source": [
    "dataset = datasets_folders[0]\n",
    "images = glob.glob(os.path.join(dataset, \"*.png\"))\n",
    "json_files = glob.glob(os.path.join(dataset, \"*.json\"))"
   ]
  },
  {
   "cell_type": "code",
   "execution_count": null,
   "id": "10f97ec2",
   "metadata": {},
   "outputs": [],
   "source": [
    "json_data = []\n",
    "\n",
    "for json_file in json_files:\n",
    "    with open(json_file, 'r') as f:\n",
    "        d = json.load(f)\n",
    "        json_data.append(d)"
   ]
  },
  {
   "cell_type": "code",
   "execution_count": null,
   "id": "cb266903",
   "metadata": {},
   "outputs": [],
   "source": [
    "json_file, json_data[0]['grid'].keys()"
   ]
  },
  {
   "cell_type": "code",
   "execution_count": null,
   "id": "6099112c",
   "metadata": {},
   "outputs": [],
   "source": [
    "json_data[0]['grid']"
   ]
  },
  {
   "cell_type": "code",
   "execution_count": null,
   "id": "3f5c4264",
   "metadata": {},
   "outputs": [],
   "source": [
    "cell_data = []\n",
    "\n",
    "for j in json_data:\n",
    "    keys = j['grid'].keys()\n",
    "    for k in keys:\n",
    "        d = j['grid'][k]\n",
    "        for sub_key in d.keys():\n",
    "            cell = d[sub_key]\n",
    "            if not len(cell['labels']):\n",
    "                continue\n",
    "            \n",
    "            label = cell['labels'][0]\n",
    "            top_left_x = cell['top_left_x']\n",
    "            top_left_y = cell['top_left_y']\n",
    "            width = cell['width']\n",
    "            height = cell['height']\n",
    "            \n",
    "            col = cell['center_x']\n",
    "            row = cell['center_y']\n",
    "            patch_size = min(width, height)\n",
    "            # Split off the \"_version*.json\" part of the filename\n",
    "            image_name = os.path.basename(json_file).split(\"_version\")[0] + \".png\"\n",
    "            cell_data.append([image_name, label, col, row, patch_size])"
   ]
  },
  {
   "cell_type": "code",
   "execution_count": null,
   "id": "fe43642b",
   "metadata": {},
   "outputs": [],
   "source": [
    "pd.DataFrame(cell_data, columns=[\"image_name\", \"label\", \"col\", \"row\", \"patch_size\"])"
   ]
  },
  {
   "cell_type": "code",
   "execution_count": null,
   "id": "42af8035",
   "metadata": {},
   "outputs": [],
   "source": [
    "import matplotlib.pyplot as plt\n",
    "\n",
    "# Get unique labels and assign colors\n",
    "unique_labels = list(set([cell[1] for cell in cell_data]))\n",
    "color_map = {label: plt.cm.tab10(i % 10) for i, label in enumerate(unique_labels)}\n",
    "\n",
    "# plot all of the coordinates, and create colored rectangles around each point, based on patch size\n",
    "plt.figure(figsize=(10, 10))\n",
    "img = cv2.imread(os.path.join(dataset, images[0]))\n",
    "plt.imshow(img)\n",
    "for i, cell in enumerate(cell_data):\n",
    "    image_name, label, col, row, patch_size = cell\n",
    "    color = color_map[label]\n",
    "    rect = plt.Rectangle((col - patch_size / 2, row - patch_size / 2), patch_size, patch_size, linewidth=1, edgecolor=color, facecolor='none')\n",
    "    plt.gca().add_patch(rect)\n",
    "    plt.text(col, row, \"\", color=color, fontsize=8, ha='center')"
   ]
  },
  {
   "cell_type": "code",
   "execution_count": null,
   "id": "0f05ee86",
   "metadata": {},
   "outputs": [],
   "source": []
  }
 ],
 "metadata": {
  "kernelspec": {
   "display_name": "coralnet10",
   "language": "python",
   "name": "python3"
  },
  "language_info": {
   "codemirror_mode": {
    "name": "ipython",
    "version": 3
   },
   "file_extension": ".py",
   "mimetype": "text/x-python",
   "name": "python",
   "nbconvert_exporter": "python",
   "pygments_lexer": "ipython3",
   "version": "3.10.18"
  }
 },
 "nbformat": 4,
 "nbformat_minor": 5
}
