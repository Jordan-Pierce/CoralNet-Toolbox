{
 "cells": [
  {
   "cell_type": "code",
   "execution_count": 1,
   "id": "0cdce321",
   "metadata": {},
   "outputs": [],
   "source": [
    "import os\n",
    "import json\n",
    "import glob \n",
    "\n",
    "import numpy as np\n",
    "import pandas as pd\n",
    "\n",
    "import cv2"
   ]
  },
  {
   "cell_type": "code",
   "execution_count": 2,
   "id": "d971e9a3",
   "metadata": {},
   "outputs": [
    {
     "data": {
      "text/plain": [
       "['c:\\\\Users\\\\jordan\\\\Documents\\\\GitHub\\\\CoralNet-Toolbox\\\\data\\\\tator\\\\grid\\\\datasets\\\\dreiss-annotations-wscnms-dropcam',\n",
       " 'c:\\\\Users\\\\jordan\\\\Documents\\\\GitHub\\\\CoralNet-Toolbox\\\\data\\\\tator\\\\grid\\\\datasets\\\\dreiss-annotations-wscnms-usgs-auv',\n",
       " 'c:\\\\Users\\\\jordan\\\\Documents\\\\GitHub\\\\CoralNet-Toolbox\\\\data\\\\tator\\\\grid\\\\datasets\\\\hard-mud-annotations-wscnms-dropcam',\n",
       " 'c:\\\\Users\\\\jordan\\\\Documents\\\\GitHub\\\\CoralNet-Toolbox\\\\data\\\\tator\\\\grid\\\\datasets\\\\hard-mud-annotations-wscnms-usgs-auv',\n",
       " 'c:\\\\Users\\\\jordan\\\\Documents\\\\GitHub\\\\CoralNet-Toolbox\\\\data\\\\tator\\\\grid\\\\datasets\\\\sand-annotations-wscnms-dropcam',\n",
       " 'c:\\\\Users\\\\jordan\\\\Documents\\\\GitHub\\\\CoralNet-Toolbox\\\\data\\\\tator\\\\grid\\\\datasets\\\\sand-annotations-wscnms-usgs-auv',\n",
       " 'c:\\\\Users\\\\jordan\\\\Documents\\\\GitHub\\\\CoralNet-Toolbox\\\\data\\\\tator\\\\grid\\\\datasets\\\\sav-annotations-wscnms-dropcam',\n",
       " 'c:\\\\Users\\\\jordan\\\\Documents\\\\GitHub\\\\CoralNet-Toolbox\\\\data\\\\tator\\\\grid\\\\datasets\\\\sav-annotations-wscnms-usgs-auv',\n",
       " 'c:\\\\Users\\\\jordan\\\\Documents\\\\GitHub\\\\CoralNet-Toolbox\\\\data\\\\tator\\\\grid\\\\datasets\\\\shell-hash-annotations-wscnms-dropcam',\n",
       " 'c:\\\\Users\\\\jordan\\\\Documents\\\\GitHub\\\\CoralNet-Toolbox\\\\data\\\\tator\\\\grid\\\\datasets\\\\shell-hash-annotations-wscnms-usgs-auv',\n",
       " 'c:\\\\Users\\\\jordan\\\\Documents\\\\GitHub\\\\CoralNet-Toolbox\\\\data\\\\tator\\\\grid\\\\datasets\\\\soft-mud-annotations-wscnms-dropcam',\n",
       " 'c:\\\\Users\\\\jordan\\\\Documents\\\\GitHub\\\\CoralNet-Toolbox\\\\data\\\\tator\\\\grid\\\\datasets\\\\soft-mud-annotations-wscnms-usgs-auv']"
      ]
     },
     "execution_count": 2,
     "metadata": {},
     "output_type": "execute_result"
    }
   ],
   "source": [
    "datasets_dir = os.path.abspath(\"../data/tator/grid/datasets\")\n",
    "datasets_dir\n",
    "\n",
    "datasets_folders = glob.glob(os.path.join(datasets_dir, \"*\"))\n",
    "datasets_folders"
   ]
  },
  {
   "cell_type": "code",
   "execution_count": null,
   "id": "3f5c4264",
   "metadata": {},
   "outputs": [],
   "source": [
    "cell_data = []\n",
    "\n",
    "for dataset_folder in datasets_folders:\n",
    "    dataset = dataset_folder\n",
    "    images = glob.glob(os.path.join(dataset, \"*.png\"))\n",
    "    json_files = glob.glob(os.path.join(dataset, \"*.json\"))\n",
    "\n",
    "    for json_file in json_files:\n",
    "        with open(json_file, 'r') as f:\n",
    "            d = json.load(f)\n",
    "            json_data = [d]\n",
    "            \n",
    "        image_name = os.path.basename(json_file).split(\"_version\")[0] + \".png\"\n",
    "            \n",
    "        for j in json_data:\n",
    "            keys = j['grid'].keys()\n",
    "            for k in keys:\n",
    "                d = j['grid'][k]\n",
    "                for sub_key in d.keys():\n",
    "                    cell = d[sub_key]\n",
    "                    if not len(cell['labels']):\n",
    "                        continue\n",
    "                    \n",
    "                    label = cell['labels'][0]\n",
    "                    top_left_x = cell['top_left_x']\n",
    "                    top_left_y = cell['top_left_y']\n",
    "                    width = cell['width']\n",
    "                    height = cell['height']\n",
    "                    \n",
    "                    col = cell['center_x']\n",
    "                    row = cell['center_y']\n",
    "                    patch_size = min(width, height)\n",
    "                    # Split off the \"_version*.json\" part of the filename\n",
    "                    image_name = os.path.basename(json_file).split(\"_version\")[0] + \".png\"\n",
    "                    cell_data.append([image_name, label, col, row, patch_size])\n",
    "                \n",
    "    df = pd.DataFrame(cell_data, columns=[\"Name\", \"Label\", \"Column\", \"Row\", \"Patch_Size\"])\n",
    "    df = df.drop_duplicates()\n",
    "    df.to_csv(f\"{datasets_dir}/grid_annotations.csv\", index=False)"
   ]
  },
  {
   "cell_type": "code",
   "execution_count": null,
   "id": "7acbfbd3",
   "metadata": {},
   "outputs": [],
   "source": []
  }
 ],
 "metadata": {
  "kernelspec": {
   "display_name": "coralnet10",
   "language": "python",
   "name": "python3"
  },
  "language_info": {
   "codemirror_mode": {
    "name": "ipython",
    "version": 3
   },
   "file_extension": ".py",
   "mimetype": "text/x-python",
   "name": "python",
   "nbconvert_exporter": "python",
   "pygments_lexer": "ipython3",
   "version": "3.10.18"
  }
 },
 "nbformat": 4,
 "nbformat_minor": 5
}
