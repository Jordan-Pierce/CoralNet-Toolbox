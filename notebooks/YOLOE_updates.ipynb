{
 "cells": [
  {
   "cell_type": "code",
   "execution_count": 1,
   "id": "aa9a0df5",
   "metadata": {},
   "outputs": [],
   "source": [
    "import numpy as np\n",
    "import torch\n",
    "\n",
    "from ultralytics import YOLOE\n",
    "from ultralytics.models.yolo.yoloe import YOLOEVPSegPredictor"
   ]
  },
  {
   "cell_type": "code",
   "execution_count": 2,
   "id": "6b546441",
   "metadata": {},
   "outputs": [],
   "source": [
    "# Initialize a YOLOE model\n",
    "model = YOLOE(\"yoloe-v8s-seg.pt\")"
   ]
  },
  {
   "cell_type": "code",
   "execution_count": 3,
   "id": "8fa82f3a",
   "metadata": {},
   "outputs": [
    {
     "name": "stdout",
     "output_type": "stream",
     "text": [
      "Ultralytics 8.3.156  Python-3.10.15 torch-2.7.1+cpu CPU (11th Gen Intel Core(TM) i7-1185G7 3.00GHz)\n",
      "YOLOe-v8s-seg summary (fused): 109 layers, 15,406,182 parameters, 1,857,958 gradients\n",
      "\n",
      "image 1/1 c:\\Users\\jordan.pierce\\Documents\\GitHub\\CoralNet-Toolbox\\notebooks\\bus.jpg: 640x480 4 object0s, 2 object1s, 422.7ms\n",
      "Speed: 7.8ms preprocess, 422.7ms inference, 3213.5ms postprocess per image at shape (1, 3, 640, 480)\n"
     ]
    }
   ],
   "source": [
    "# Define visual prompts using bounding boxes and their corresponding class IDs.\n",
    "# Each box highlights an example of the object you want the model to detect.\n",
    "visual_prompts = dict(\n",
    "    bboxes=np.array(\n",
    "        [\n",
    "            [221.52, 405.8, 344.98, 857.54],  # Box enclosing person\n",
    "            [120, 425, 160, 445],  # Box enclosing glasses\n",
    "        ],\n",
    "    ),\n",
    "    cls=np.array(\n",
    "        [\n",
    "            0,  # ID to be assigned for person\n",
    "            1,  # ID to be assigned for glassses\n",
    "        ]\n",
    "    ),\n",
    ")\n",
    "\n",
    "# Run inference on an image, using the provided visual prompts as guidance\n",
    "results = model.predict(\n",
    "    \"bus.jpg\",\n",
    "    visual_prompts=visual_prompts,\n",
    "    predictor=YOLOEVPSegPredictor,\n",
    ")\n",
    "\n",
    "# # Show results\n",
    "# results[0].show()"
   ]
  },
  {
   "cell_type": "code",
   "execution_count": 4,
   "id": "89b793ca",
   "metadata": {},
   "outputs": [],
   "source": [
    "vpe = []\n",
    "model.predictor.prompts = visual_prompts.copy()\n",
    "vpe.append(model.predictor.get_vpe(\"bus.jpg\"))"
   ]
  },
  {
   "cell_type": "code",
   "execution_count": 5,
   "id": "e035970d",
   "metadata": {},
   "outputs": [],
   "source": [
    "# add more reference images for same objects \n",
    "model.predictor.prompts = visual_prompts.copy()\n",
    "vpe.append(model.predictor.get_vpe(\"bus.jpg\"))\n",
    "\n",
    "vpe = torch.nn.functional.normalize(torch.cat(vpe).mean(0, keepdims=True), dim=-1, p=2)\n",
    "model.set_classes([\"person\", \"bus\"], vpe)"
   ]
  },
  {
   "cell_type": "code",
   "execution_count": 7,
   "id": "2a0b0fca",
   "metadata": {},
   "outputs": [
    {
     "ename": "AttributeError",
     "evalue": "'list' object has no attribute 'keys'",
     "output_type": "error",
     "traceback": [
      "\u001b[1;31m---------------------------------------------------------------------------\u001b[0m",
      "\u001b[1;31mAttributeError\u001b[0m                            Traceback (most recent call last)",
      "Cell \u001b[1;32mIn[7], line 1\u001b[0m\n\u001b[1;32m----> 1\u001b[0m results \u001b[38;5;241m=\u001b[39m \u001b[43mmodel\u001b[49m\u001b[38;5;241;43m.\u001b[39;49m\u001b[43mpredict\u001b[49m\u001b[43m(\u001b[49m\n\u001b[0;32m      2\u001b[0m \u001b[43m    \u001b[49m\u001b[38;5;124;43m\"\u001b[39;49m\u001b[38;5;124;43mVISCORE_Training_Selfie.png\u001b[39;49m\u001b[38;5;124;43m\"\u001b[39;49m\u001b[43m,\u001b[49m\n\u001b[0;32m      3\u001b[0m \u001b[43m    \u001b[49m\u001b[43mvisual_prompts\u001b[49m\u001b[38;5;241;43m=\u001b[39;49m\u001b[43m[\u001b[49m\u001b[43mvisual_prompts\u001b[49m\u001b[43m,\u001b[49m\u001b[43m \u001b[49m\u001b[43mvisual_prompts\u001b[49m\u001b[43m]\u001b[49m\u001b[43m,\u001b[49m\n\u001b[0;32m      4\u001b[0m \u001b[43m    \u001b[49m\u001b[43mpredictor\u001b[49m\u001b[38;5;241;43m=\u001b[39;49m\u001b[43mYOLOEVPSegPredictor\u001b[49m\u001b[43m,\u001b[49m\n\u001b[0;32m      5\u001b[0m \u001b[43m)\u001b[49m\n\u001b[0;32m      7\u001b[0m \u001b[38;5;66;03m# Show results\u001b[39;00m\n\u001b[0;32m      8\u001b[0m results[\u001b[38;5;241m0\u001b[39m]\u001b[38;5;241m.\u001b[39mshow()\n",
      "File \u001b[1;32mc:\\Users\\jordan.pierce\\Miniconda3\\envs\\coralnet10\\lib\\site-packages\\ultralytics\\models\\yolo\\model.py:403\u001b[0m, in \u001b[0;36mYOLOE.predict\u001b[1;34m(self, source, stream, visual_prompts, refer_image, predictor, **kwargs)\u001b[0m\n\u001b[0;32m    376\u001b[0m \u001b[38;5;250m\u001b[39m\u001b[38;5;124;03m\"\"\"\u001b[39;00m\n\u001b[0;32m    377\u001b[0m \u001b[38;5;124;03mRun prediction on images, videos, directories, streams, etc.\u001b[39;00m\n\u001b[0;32m    378\u001b[0m \n\u001b[1;32m   (...)\u001b[0m\n\u001b[0;32m    399\u001b[0m \u001b[38;5;124;03m    >>> results = model.predict(\"path/to/image.jpg\", visual_prompts=prompts)\u001b[39;00m\n\u001b[0;32m    400\u001b[0m \u001b[38;5;124;03m\"\"\"\u001b[39;00m\n\u001b[0;32m    401\u001b[0m \u001b[38;5;28;01mif\u001b[39;00m \u001b[38;5;28mlen\u001b[39m(visual_prompts):\n\u001b[0;32m    402\u001b[0m     \u001b[38;5;28;01massert\u001b[39;00m \u001b[38;5;124m\"\u001b[39m\u001b[38;5;124mbboxes\u001b[39m\u001b[38;5;124m\"\u001b[39m \u001b[38;5;129;01min\u001b[39;00m visual_prompts \u001b[38;5;129;01mand\u001b[39;00m \u001b[38;5;124m\"\u001b[39m\u001b[38;5;124mcls\u001b[39m\u001b[38;5;124m\"\u001b[39m \u001b[38;5;129;01min\u001b[39;00m visual_prompts, (\n\u001b[1;32m--> 403\u001b[0m         \u001b[38;5;124mf\u001b[39m\u001b[38;5;124m\"\u001b[39m\u001b[38;5;124mExpected \u001b[39m\u001b[38;5;124m'\u001b[39m\u001b[38;5;124mbboxes\u001b[39m\u001b[38;5;124m'\u001b[39m\u001b[38;5;124m and \u001b[39m\u001b[38;5;124m'\u001b[39m\u001b[38;5;124mcls\u001b[39m\u001b[38;5;124m'\u001b[39m\u001b[38;5;124m in visual prompts, but got \u001b[39m\u001b[38;5;132;01m{\u001b[39;00m\u001b[43mvisual_prompts\u001b[49m\u001b[38;5;241;43m.\u001b[39;49m\u001b[43mkeys\u001b[49m()\u001b[38;5;132;01m}\u001b[39;00m\u001b[38;5;124m\"\u001b[39m\n\u001b[0;32m    404\u001b[0m     )\n\u001b[0;32m    405\u001b[0m     \u001b[38;5;28;01massert\u001b[39;00m \u001b[38;5;28mlen\u001b[39m(visual_prompts[\u001b[38;5;124m\"\u001b[39m\u001b[38;5;124mbboxes\u001b[39m\u001b[38;5;124m\"\u001b[39m]) \u001b[38;5;241m==\u001b[39m \u001b[38;5;28mlen\u001b[39m(visual_prompts[\u001b[38;5;124m\"\u001b[39m\u001b[38;5;124mcls\u001b[39m\u001b[38;5;124m\"\u001b[39m]), (\n\u001b[0;32m    406\u001b[0m         \u001b[38;5;124mf\u001b[39m\u001b[38;5;124m\"\u001b[39m\u001b[38;5;124mExpected equal number of bounding boxes and classes, but got \u001b[39m\u001b[38;5;132;01m{\u001b[39;00m\u001b[38;5;28mlen\u001b[39m(visual_prompts[\u001b[38;5;124m'\u001b[39m\u001b[38;5;124mbboxes\u001b[39m\u001b[38;5;124m'\u001b[39m])\u001b[38;5;132;01m}\u001b[39;00m\u001b[38;5;124m and \u001b[39m\u001b[38;5;124m\"\u001b[39m\n\u001b[0;32m    407\u001b[0m         \u001b[38;5;124mf\u001b[39m\u001b[38;5;124m\"\u001b[39m\u001b[38;5;132;01m{\u001b[39;00m\u001b[38;5;28mlen\u001b[39m(visual_prompts[\u001b[38;5;124m'\u001b[39m\u001b[38;5;124mcls\u001b[39m\u001b[38;5;124m'\u001b[39m])\u001b[38;5;132;01m}\u001b[39;00m\u001b[38;5;124m respectively\u001b[39m\u001b[38;5;124m\"\u001b[39m\n\u001b[0;32m    408\u001b[0m     )\n\u001b[0;32m    409\u001b[0m \u001b[38;5;28mself\u001b[39m\u001b[38;5;241m.\u001b[39mpredictor \u001b[38;5;241m=\u001b[39m (predictor \u001b[38;5;129;01mor\u001b[39;00m \u001b[38;5;28mself\u001b[39m\u001b[38;5;241m.\u001b[39m_smart_load(\u001b[38;5;124m\"\u001b[39m\u001b[38;5;124mpredictor\u001b[39m\u001b[38;5;124m\"\u001b[39m))(\n\u001b[0;32m    410\u001b[0m     overrides\u001b[38;5;241m=\u001b[39m{\n\u001b[0;32m    411\u001b[0m         \u001b[38;5;124m\"\u001b[39m\u001b[38;5;124mtask\u001b[39m\u001b[38;5;124m\"\u001b[39m: \u001b[38;5;28mself\u001b[39m\u001b[38;5;241m.\u001b[39mmodel\u001b[38;5;241m.\u001b[39mtask,\n\u001b[1;32m   (...)\u001b[0m\n\u001b[0;32m    417\u001b[0m     _callbacks\u001b[38;5;241m=\u001b[39m\u001b[38;5;28mself\u001b[39m\u001b[38;5;241m.\u001b[39mcallbacks,\n\u001b[0;32m    418\u001b[0m )\n",
      "\u001b[1;31mAttributeError\u001b[0m: 'list' object has no attribute 'keys'"
     ]
    }
   ],
   "source": [
    "results = model.predict(\n",
    "    \"VISCORE_Training_Selfie.png\",\n",
    "    visual_prompts=[visual_prompts, visual_prompts],\n",
    "    predictor=YOLOEVPSegPredictor,\n",
    ")\n",
    "\n",
    "# Show results\n",
    "results[0].show()"
   ]
  },
  {
   "cell_type": "code",
   "execution_count": null,
   "id": "29386aad",
   "metadata": {},
   "outputs": [],
   "source": []
  }
 ],
 "metadata": {
  "kernelspec": {
   "display_name": "coralnet10",
   "language": "python",
   "name": "python3"
  },
  "language_info": {
   "codemirror_mode": {
    "name": "ipython",
    "version": 3
   },
   "file_extension": ".py",
   "mimetype": "text/x-python",
   "name": "python",
   "nbconvert_exporter": "python",
   "pygments_lexer": "ipython3",
   "version": "3.10.18"
  }
 },
 "nbformat": 4,
 "nbformat_minor": 5
}
