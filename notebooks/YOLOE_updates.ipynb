{
 "cells": [
  {
   "cell_type": "code",
   "execution_count": null,
   "id": "ae1f0ff7",
   "metadata": {},
   "outputs": [],
   "source": [
    "import os\n",
    "\n",
    "import numpy as np\n",
    "import matplotlib.pyplot as plt\n",
    "from sklearn.decomposition import PCA\n",
    "\n",
    "import torch\n",
    "\n",
    "from ultralytics import YOLOE\n",
    "from ultralytics.models.yolo.yoloe import YOLOEVPSegPredictor, YOLOEVPDetectPredictor\n"
   ]
  },
  {
   "cell_type": "code",
   "execution_count": null,
   "id": "56b84852",
   "metadata": {},
   "outputs": [],
   "source": [
    "# Initialize a YOLOE segmentation model\n",
    "model = YOLOE(\"yoloe-11s-seg.pt\")"
   ]
  },
  {
   "cell_type": "code",
   "execution_count": null,
   "id": "f916cc58",
   "metadata": {},
   "outputs": [],
   "source": [
    "# --- Step 1: Define prompts for reference images ---\n",
    "# Prompts for the first reference image\n",
    "visual_prompts_1 = dict(\n",
    "    bboxes=np.array(\n",
    "        [\n",
    "            [215, 392, 350, 864],  # Box enclosing person\n",
    "        ],\n",
    "    ),\n",
    "    cls=np.array(\n",
    "        [\n",
    "            0,  # ID to be assigned for person\n",
    "        ]\n",
    "    ),\n",
    ")\n",
    "\n",
    "# Prompts for a second reference image (using bus.jpg again for simplicity)\n",
    "visual_prompts_2 = dict(\n",
    "    bboxes=np.array(\n",
    "        [\n",
    "            [41, 391, 246, 905],  # Box enclosing person\n",
    "        ],\n",
    "    ),\n",
    "    cls=np.array(\n",
    "        [\n",
    "            0,  # ID to be assigned for person\n",
    "        ]\n",
    "    ),\n",
    ")\n",
    "\n",
    "# # Prompts for a second reference image (using bus.jpg again for simplicity)\n",
    "visual_prompts_3 = dict(\n",
    "    bboxes=np.array(\n",
    "        [\n",
    "            [1, 535, 82, 879],  # Box enclosing person\n",
    "        ],\n",
    "    ),\n",
    "    cls=np.array(\n",
    "        [\n",
    "            0,  # ID to be assigned for person\n",
    "        ]\n",
    "    ),\n",
    ")\n",
    "\n",
    "# Prompts for a second reference image (using bus.jpg again for simplicity)\n",
    "visual_prompts_4 = dict(\n",
    "    bboxes=np.array(\n",
    "        [\n",
    "            [666, 385, 807, 875],  # Box enclosing person\n",
    "        ],\n",
    "    ),\n",
    "    cls=np.array(\n",
    "        [\n",
    "            0,  # ID to be assigned for person\n",
    "        ]\n",
    "    ),\n",
    ")"
   ]
  },
  {
   "cell_type": "code",
   "execution_count": 7,
   "id": "920c41ca",
   "metadata": {},
   "outputs": [
    {
     "name": "stdout",
     "output_type": "stream",
     "text": [
      "Ultralytics 8.3.175  Python-3.10.18 torch-2.8.0+cu126 CUDA:0 (NVIDIA GeForce RTX 3090 Ti, 24564MiB)\n",
      "YOLOe-11s-seg summary (fused): 137 layers, 13,693,398 parameters, 1,857,958 gradients\n",
      "\n",
      "image 1/1 c:\\Users\\jordan\\Documents\\GitHub\\CoralNet-Toolbox\\notebooks\\bus.jpg: 640x480 3 object0s, 77.6ms\n",
      "Speed: 2.5ms preprocess, 77.6ms inference, 996.0ms postprocess per image at shape (1, 3, 640, 480)\n"
     ]
    }
   ],
   "source": [
    "# --- Step 2: Manually create a predictor instance ---\n",
    "results = model.predict(\n",
    "    \"bus.jpg\",\n",
    "    visual_prompts=visual_prompts_1,\n",
    "    predictor=YOLOEVPDetectPredictor,\n",
    ")\n",
    "\n",
    "results[0].show()"
   ]
  },
  {
   "cell_type": "code",
   "execution_count": 8,
   "id": "2807208b",
   "metadata": {},
   "outputs": [
    {
     "name": "stdout",
     "output_type": "stream",
     "text": [
      "Generating VPEs from reference images...\n",
      "Generated VPE from the first prompt.\n",
      "Generated VPE from the second prompt.\n",
      "Generated VPE from the third prompt.\n",
      "Generated VPE from the fourth prompt.\n"
     ]
    }
   ],
   "source": [
    "\n",
    "# --- Step 3: Generate and collect VPEs from reference images ---\n",
    "vpe_list = []\n",
    "print(\"Generating VPEs from reference images...\")\n",
    "\n",
    "# Generate VPE for the first image\n",
    "model.predictor.set_prompts(visual_prompts_1)\n",
    "vpe1 = model.predictor.get_vpe(\"bus.jpg\")\n",
    "vpe_list.append(vpe1)\n",
    "print(\"Generated VPE from the first prompt.\")\n",
    "\n",
    "# Generate VPE for the second image\n",
    "model.predictor.set_prompts(visual_prompts_2)\n",
    "vpe2 = model.predictor.get_vpe(\"bus.jpg\")\n",
    "vpe_list.append(vpe2)\n",
    "print(\"Generated VPE from the second prompt.\")\n",
    "\n",
    "# # Generate VPE for the third image\n",
    "model.predictor.set_prompts(visual_prompts_3)\n",
    "vpe3 = model.predictor.get_vpe(\"bus.jpg\")\n",
    "vpe_list.append(vpe3)\n",
    "print(\"Generated VPE from the third prompt.\")\n",
    "\n",
    "# Generate VPE for the fourth image\n",
    "model.predictor.set_prompts(visual_prompts_4)  \n",
    "vpe4 = model.predictor.get_vpe(\"bus.jpg\")\n",
    "vpe_list.append(vpe4)\n",
    "print(\"Generated VPE from the fourth prompt.\")\n"
   ]
  },
  {
   "cell_type": "code",
   "execution_count": 9,
   "id": "987ea2b6",
   "metadata": {},
   "outputs": [
    {
     "name": "stdout",
     "output_type": "stream",
     "text": [
      "\n",
      "Successfully combined VPEs into a single, normalized embedding.\n"
     ]
    }
   ],
   "source": [
    "# --- Step 4: Aggregate the VPEs ---\n",
    "# Combine the list of VPE tensors and average them\n",
    "final_vpe = torch.cat(vpe_list).mean(dim=0, keepdim=True)\n",
    "\n",
    "# Normalize the final embedding\n",
    "final_vpe = torch.nn.functional.normalize(final_vpe, p=2, dim=-1)\n",
    "print(\"\\nSuccessfully combined VPEs into a single, normalized embedding.\")"
   ]
  },
  {
   "cell_type": "code",
   "execution_count": null,
   "id": "5ff02f86",
   "metadata": {},
   "outputs": [
    {
     "data": {
      "image/png": "[encoded data removed]",
      "text/plain": [
       "<Figure size 1000x700 with 1 Axes>"
      ]
     },
     "metadata": {},
     "output_type": "display_data"
    }
   ],
   "source": [
    "# --- Step 5: Visualize VPEs using PCA ---\n",
    "\n",
    "# Convert tensors to numpy arrays for PCA\n",
    "vpe_arrays = [vpe.detach().cpu().numpy().squeeze() for vpe in vpe_list]\n",
    "final_vpe_array = final_vpe.detach().cpu().numpy().squeeze()\n",
    "\n",
    "# Stack all embeddings for PCA\n",
    "all_vpes = np.vstack(vpe_arrays + [final_vpe_array])\n",
    "\n",
    "# Apply PCA to reduce to 2 dimensions\n",
    "pca = PCA(n_components=2)\n",
    "vpes_2d = pca.fit_transform(all_vpes)\n",
    "\n",
    "# Create a simple scatter plot\n",
    "plt.figure(figsize=(10, 7))\n",
    "\n",
    "# Plot individual VPEs\n",
    "plt.scatter(vpes_2d[0, 0], vpes_2d[0, 1], color='blue', s=100, label='VPE 1')\n",
    "plt.scatter(vpes_2d[1, 0], vpes_2d[1, 1], color='green', s=100, label='VPE 2')\n",
    "plt.scatter(vpes_2d[2, 0], vpes_2d[2, 1], color='orange', s=100, label='VPE 3')\n",
    "plt.scatter(vpes_2d[3, 0], vpes_2d[3, 1], color='purple', s=100, label='VPE 4')\n",
    "\n",
    "# Plot the final (averaged) VPE\n",
    "plt.scatter(vpes_2d[4, 0], vpes_2d[4, 1], color='red', s=200, marker='*', label='Final VPE')\n",
    "\n",
    "# Add labels and information\n",
    "plt.title('PCA Visualization of Visual Prompt Embeddings', fontsize=15)\n",
    "plt.xlabel(f'Principal Component 1 ({pca.explained_variance_ratio_[0]:.2%} variance)')\n",
    "plt.ylabel(f'Principal Component 2 ({pca.explained_variance_ratio_[1]:.2%} variance)')\n",
    "plt.grid(alpha=0.3)\n",
    "plt.legend()\n",
    "\n",
    "# Add a text annotation with information about the original dimensionality\n",
    "orig_dim = vpe_list[0].shape[1]\n",
    "plt.figtext(0.5, 0.01, \n",
    "            f\"Original dimension: {orig_dim} → Reduced to 2D\\n\"\n",
    "            f\"Total explained variance: {sum(pca.explained_variance_ratio_):.2%}\",\n",
    "            ha='center')\n",
    "\n",
    "plt.tight_layout(rect=[0, 0.03, 1, 0.95])  # Adjust layout to accommodate the text\n",
    "plt.show()"
   ]
  },
  {
   "cell_type": "code",
   "execution_count": null,
   "id": "206724d7",
   "metadata": {},
   "outputs": [],
   "source": [
    "# --- Step 6: Run inference using the aggregated VPE ---\n",
    "\n",
    "# Directly set the final tensor as the prompt for the predictor.\n",
    "# The `inference` method is designed to use this tensor.\n",
    "model.is_fused = lambda: False\n",
    "model.set_classes([\"person\"], final_vpe)"
   ]
  },
  {
   "cell_type": "code",
   "execution_count": 19,
   "id": "af27425f",
   "metadata": {},
   "outputs": [
    {
     "name": "stdout",
     "output_type": "stream",
     "text": [
      "\n",
      "image 1/1 c:\\Users\\jordan\\Documents\\GitHub\\CoralNet-Toolbox\\notebooks\\zidane.jpg: 384x640 1 person, 72.8ms\n",
      "Speed: 1.5ms preprocess, 72.8ms inference, 33.2ms postprocess per image at shape (1, 3, 384, 640)\n",
      "Inference complete. Results are generated.\n"
     ]
    }
   ],
   "source": [
    "results = model.predict(\"zidane.jpg\")\n",
    "\n",
    "print(\"Inference complete. Results are generated.\")\n",
    "# You can now process or display the 'results'.\n",
    "results[0].show()"
   ]
  },
  {
   "cell_type": "code",
   "execution_count": 20,
   "id": "fe632566",
   "metadata": {},
   "outputs": [
    {
     "name": "stdout",
     "output_type": "stream",
     "text": [
      "\n",
      "image 1/1 c:\\Users\\jordan\\Documents\\GitHub\\CoralNet-Toolbox\\notebooks\\bus.jpg: 640x480 5 persons, 10.7ms\n",
      "Speed: 2.8ms preprocess, 10.7ms inference, 2.6ms postprocess per image at shape (1, 3, 640, 480)\n",
      "Inference complete. Results are generated.\n"
     ]
    }
   ],
   "source": [
    "results = model.predict(\"bus.jpg\")\n",
    "\n",
    "print(\"Inference complete. Results are generated.\")\n",
    "# You can now process or display the 'results'.\n",
    "results[0].show()\n"
   ]
  },
  {
   "cell_type": "code",
   "execution_count": 21,
   "id": "be3da890",
   "metadata": {},
   "outputs": [
    {
     "name": "stdout",
     "output_type": "stream",
     "text": [
      "\n",
      "image 1/1 c:\\Users\\jordan\\Documents\\GitHub\\CoralNet-Toolbox\\notebooks\\people_1.jpg: 448x640 5 persons, 71.4ms\n",
      "Speed: 2.2ms preprocess, 71.4ms inference, 2.6ms postprocess per image at shape (1, 3, 448, 640)\n",
      "Inference complete. Results are generated.\n"
     ]
    }
   ],
   "source": [
    "results = model.predict(\"people_1.jpg\")\n",
    "\n",
    "print(\"Inference complete. Results are generated.\")\n",
    "# You can now process or display the 'results'.\n",
    "results[0].show()\n"
   ]
  },
  {
   "cell_type": "code",
   "execution_count": null,
   "id": "ba00ed7b",
   "metadata": {},
   "outputs": [],
   "source": []
  },
  {
   "cell_type": "markdown",
   "id": "2e77de69",
   "metadata": {},
   "source": [
    "### Exporting Final VPEs and Re-importing"
   ]
  },
  {
   "cell_type": "code",
   "execution_count": 22,
   "id": "7c37889d",
   "metadata": {},
   "outputs": [
    {
     "data": {
      "text/plain": [
       "tensor([[[-9.6949e-03,  2.1620e-02,  2.7101e-02, -5.8837e-02,  9.2145e-03, -1.4030e-02,  2.8804e-02, -9.6638e-03, -6.8302e-03, -1.1863e-01,  1.0181e-01, -5.4819e-02, -1.1983e-01,  1.5630e-03, -1.8654e-02, -1.1144e-02,  4.7958e-02, -6.2789e-03, -4.3141e-03,  1.2277e-02,  2.9385e-02, -1.4775e-03,  5.8635e-02,\n",
       "           4.2288e-02,  4.7035e-02,  1.1830e-03, -8.6836e-03,  9.5640e-02, -1.3936e-02, -9.1632e-04, -1.5387e-03, -5.3074e-02,  5.8432e-03, -2.1165e-02,  5.9366e-02,  2.9493e-02, -4.7558e-02,  4.9393e-02, -2.9484e-02, -1.6430e-02,  1.8850e-02,  2.9378e-02,  5.5461e-02, -1.1259e-02,  9.7095e-03,  3.1146e-02,\n",
       "          -2.2103e-02, -6.3676e-02,  1.1724e-04,  7.8209e-02, -1.1272e-01,  1.4118e-02,  2.5256e-03, -2.1628e-02,  1.1564e-02, -4.1129e-02,  8.8067e-02, -2.4590e-02, -2.0162e-04, -2.8201e-02,  2.2250e-03, -3.3310e-02, -6.0551e-02, -3.6556e-02, -2.5412e-02, -3.8527e-02,  2.4195e-02,  2.4724e-02, -5.5092e-02,\n",
       "          -2.6341e-02,  4.3778e-02,  1.3742e-02,  1.5956e-02,  1.4899e-02, -4.8871e-02, -7.7912e-03, -2.1735e-02, -1.4455e-02,  3.9900e-02,  2.6435e-02, -2.6072e-02, -3.2527e-02, -4.9946e-02,  3.9336e-02,  2.9362e-03, -4.5430e-02, -6.8133e-02,  3.0119e-02,  3.3998e-02,  2.6556e-02,  2.3850e-02, -5.9137e-02,\n",
       "          -2.1894e-02,  4.4508e-02,  1.1253e-01,  1.3600e-02,  5.3493e-02, -7.1965e-02, -4.3086e-02, -3.7674e-02,  2.4350e-03,  1.0386e-02,  2.1598e-02,  7.7067e-03,  1.2931e-02, -2.1472e-02, -3.2786e-02,  6.9849e-02,  5.6773e-02,  2.6211e-02,  1.1131e-02,  2.8090e-02,  8.1242e-02, -7.7613e-03,  6.2370e-02,\n",
       "           2.9048e-02,  3.1533e-02,  4.2318e-03,  7.8526e-03,  2.9747e-03,  6.2449e-02,  9.6499e-03, -1.6616e-02, -2.1631e-02,  1.4271e-02, -4.8621e-02,  2.9818e-02, -3.8549e-02, -3.0604e-05, -3.7896e-02,  1.6514e-03, -1.2747e-03, -3.4412e-02,  2.4359e-02, -2.5733e-04,  2.9480e-02, -7.6662e-03,  3.0069e-02,\n",
       "           7.8862e-03,  3.1252e-02,  5.2115e-02, -5.7657e-02,  1.9415e-02,  4.5915e-02, -8.0632e-03, -1.3301e-01, -3.9999e-02,  7.4044e-02,  2.6519e-02,  5.0762e-02,  7.3509e-03, -1.6197e-02, -2.4845e-02, -7.7610e-02, -2.7508e-02, -1.6326e-01,  1.6913e-02, -3.2360e-02,  7.2927e-02,  8.4549e-02,  2.7801e-02,\n",
       "          -4.6342e-02,  2.2024e-02,  2.9986e-02,  4.7764e-02,  2.2775e-02,  1.5072e-02,  5.3417e-02,  1.0267e-01,  3.5181e-04,  5.9596e-02, -3.9783e-02, -5.7743e-02, -6.6385e-03,  4.2965e-02,  3.8143e-02, -3.3067e-02, -1.8414e-02,  2.7169e-02,  1.0365e-02, -2.8568e-02, -2.5296e-02,  2.6098e-02, -2.8344e-02,\n",
       "           5.1012e-03,  7.5120e-02, -4.6057e-02,  2.4502e-02,  6.9061e-03, -7.0032e-02,  3.1079e-02,  4.1273e-04,  2.4141e-02,  5.3977e-03,  6.9722e-02,  3.8114e-04, -1.1282e-03, -8.9308e-03, -6.4606e-03,  3.4324e-02, -3.6177e-02,  8.7492e-03,  1.0917e-02,  2.1759e-02,  3.5025e-03, -5.4376e-02, -2.7237e-02,\n",
       "          -8.2749e-02, -3.6536e-03, -3.2302e-02,  3.8403e-02, -2.8594e-02, -1.8942e-02, -5.1964e-03, -1.1952e-02, -1.6683e-03, -9.3845e-04, -4.1728e-02, -5.5863e-03, -7.5735e-03, -5.8604e-02,  3.8920e-02, -2.0068e-02,  8.8830e-02, -5.4014e-04, -7.8602e-02,  1.3184e-02,  3.0545e-02,  6.0585e-02,  8.4003e-02,\n",
       "          -5.4114e-03,  5.6715e-02, -7.7030e-02,  3.6036e-03, -3.1868e-02, -1.5643e-01,  5.0155e-02,  1.2244e-01,  2.9420e-03,  3.0573e-02,  6.9361e-03, -5.4997e-02,  2.3046e-02, -4.6221e-02,  1.0634e-02,  3.2062e-03,  5.0705e-02, -2.1379e-02, -3.1354e-03, -1.6120e-01, -1.3480e-01,  2.4307e-02,  3.1144e-02,\n",
       "          -4.4686e-02, -2.1428e-02,  7.2650e-03, -2.4929e-02,  1.9139e-02,  1.6216e-01,  2.8911e-02,  1.0015e-01,  6.0412e-02,  5.9226e-02, -1.5488e-02, -5.7550e-02, -8.3856e-02,  7.8758e-03, -1.7136e-02,  7.0848e-02,  1.0767e-02,  1.6601e-02, -1.8111e-02, -6.6683e-03,  8.1402e-02,  1.6452e-02,  5.5097e-02,\n",
       "           2.9301e-02, -4.9699e-02,  1.9212e-02, -5.5142e-03,  2.4748e-02,  9.1628e-02, -3.2907e-02,  4.8148e-02, -4.0971e-02, -9.6458e-02, -6.2571e-04, -1.4485e-01, -1.8101e-02,  3.2762e-02, -5.8274e-02, -1.4649e-02, -5.7939e-02,  1.5726e-02, -9.3079e-03, -5.6746e-03,  2.8973e-02,  3.6762e-02,  1.1956e-02,\n",
       "          -5.9338e-02,  1.8269e-02,  5.9383e-02,  2.1737e-02,  1.0635e-02,  3.0039e-02,  1.0070e-02, -9.2559e-04,  3.0723e-02, -4.1471e-02, -4.6552e-02, -4.9387e-02,  3.6893e-02,  1.3880e-02, -1.5048e-02, -3.0500e-02, -1.8639e-02, -1.0050e-02, -1.1774e-03,  3.6721e-02, -1.2852e-03,  4.3311e-02,  1.5201e-02,\n",
       "           5.8329e-02, -1.1221e-02, -8.4738e-03,  8.9243e-03,  9.0887e-03, -6.2496e-02,  2.3830e-02, -2.5417e-02,  4.0878e-02, -6.2028e-02, -3.5745e-02, -4.0772e-02, -6.2437e-02,  4.3453e-02,  1.3352e-02,  4.1173e-02,  3.8516e-02,  4.5099e-02, -3.3865e-02,  5.0297e-02, -2.4840e-02, -3.8657e-02,  4.5487e-02,\n",
       "           2.5505e-02, -2.2717e-02, -5.6917e-02, -2.5474e-02, -3.6547e-02,  3.7382e-02,  8.6497e-03,  5.4654e-02, -4.4932e-02, -1.5394e-01,  8.2748e-02,  6.1511e-03,  3.3138e-02, -5.9115e-02, -2.3850e-02,  2.4312e-02,  3.6131e-02, -8.7623e-03, -3.4938e-02, -1.4743e-02,  5.6699e-02,  7.0817e-02, -1.7942e-02,\n",
       "          -3.6424e-02, -1.3865e-02, -7.8128e-03,  5.9212e-03,  4.9447e-03, -2.0197e-02, -2.0747e-02, -9.6409e-03, -6.0114e-02, -3.0527e-02, -1.9634e-03,  2.7372e-03,  1.3676e-02,  2.9994e-02,  3.1049e-02,  2.5701e-02,  4.0794e-02, -5.7900e-03, -5.0848e-02,  1.4862e-02, -3.7137e-02, -1.1653e-02,  4.4025e-02,\n",
       "          -3.3788e-02,  3.5183e-02,  1.2852e-02,  2.2531e-02,  4.8574e-03,  6.2837e-03,  2.2562e-02,  1.5686e-02, -2.6271e-02,  4.8107e-02, -8.3132e-02, -4.1091e-02, -7.6998e-02,  1.2573e-02,  1.3617e-02,  1.1878e-02, -1.4094e-02,  7.6016e-03,  9.8665e-03,  7.2168e-02, -2.2449e-03,  2.4474e-02, -1.7858e-02,\n",
       "          -7.5222e-03, -6.2625e-02,  4.5946e-02, -1.4700e-02,  4.6398e-04, -3.2879e-02,  6.4466e-02,  3.7839e-02,  5.6472e-03,  8.9346e-03, -2.9688e-02, -1.3669e-02, -1.0073e-02, -2.1146e-02,  1.4597e-01, -5.1459e-02, -8.7268e-02, -1.2496e-01,  5.6266e-02,  5.6145e-02,  4.1725e-03,  1.9789e-02, -1.3815e-02,\n",
       "           2.3876e-02, -5.8966e-02,  7.0290e-03, -2.2279e-02,  4.3028e-02,  2.9514e-03,  6.5015e-05, -2.4276e-02,  4.5063e-02,  2.1420e-02, -4.6220e-02, -2.7309e-02,  1.6786e-02,  3.1373e-02,  1.0843e-02,  5.9809e-02, -7.8066e-03, -8.8460e-03, -4.2253e-02,  2.9514e-02,  2.0003e-02,  2.5946e-03,  1.2647e-02,\n",
       "          -1.1872e-02,  5.1583e-02, -3.9516e-02,  5.9829e-02, -4.9066e-02,  1.6248e-02, -1.8688e-02,  1.8333e-02, -7.0119e-02, -1.9152e-02, -5.6139e-02, -8.3791e-02,  2.1649e-02, -1.2750e-02,  3.7777e-02, -1.1819e-02,  1.5483e-02, -5.7503e-02, -3.0947e-02,  1.2304e-02,  4.5602e-02, -1.7419e-02, -7.1559e-02,\n",
       "          -4.3269e-02,  7.7786e-02,  1.0695e-02, -3.1197e-02, -6.0791e-02,  1.4370e-02, -2.3829e-04, -7.5713e-02, -1.9837e-02, -8.3276e-03,  3.2388e-02, -9.1316e-04, -5.8264e-02,  8.1886e-02,  1.7176e-02, -3.4083e-04, -5.5468e-03, -7.2359e-03, -1.3942e-02, -4.1157e-02, -2.8615e-02, -4.4454e-03,  3.6219e-02,\n",
       "           1.3263e-02, -1.3200e-02, -1.2764e-02,  1.2394e-02, -3.4976e-02,  4.7675e-02]]], device='cuda:0')"
      ]
     },
     "execution_count": 22,
     "metadata": {},
     "output_type": "execute_result"
    }
   ],
   "source": [
    "final_vpe"
   ]
  },
  {
   "cell_type": "code",
   "execution_count": 23,
   "id": "bcfd3480",
   "metadata": {},
   "outputs": [
    {
     "name": "stdout",
     "output_type": "stream",
     "text": [
      "Saved VPE tensor to person_vpe.pt\n"
     ]
    }
   ],
   "source": [
    "# Export the final_vpe tensor to disk\n",
    "\n",
    "# Move to CPU before saving to ensure compatibility when loading\n",
    "final_vpe_cpu = final_vpe.cpu()\n",
    "\n",
    "# Save the tensor\n",
    "torch.save(final_vpe_cpu, \"vpe.pt\")\n",
    "print(f\"Saved VPE tensor to person_vpe.pt\")"
   ]
  },
  {
   "cell_type": "code",
   "execution_count": null,
   "id": "82aa72be",
   "metadata": {},
   "outputs": [
    {
     "name": "stdout",
     "output_type": "stream",
     "text": [
      "Loaded VPE tensor from disk. Shape: torch.Size([1, 1, 512])\n",
      "Device: cuda:0\n",
      "Successfully verified: loaded VPE matches the original\n"
     ]
    }
   ],
   "source": [
    "# Re-import the VPE tensor\n",
    "loaded_vpe = torch.load(\"vpe.pt\")\n",
    "\n",
    "# Move to the appropriate device if needed (e.g., GPU)\n",
    "device = torch.device(\"cuda\" if torch.cuda.is_available() else \"cpu\")\n",
    "loaded_vpe = loaded_vpe.to(device)\n",
    "\n",
    "print(f\"Loaded VPE tensor from disk. Shape: {loaded_vpe.shape}\")\n",
    "print(f\"Device: {loaded_vpe.device}\")"
   ]
  },
  {
   "cell_type": "code",
   "execution_count": 44,
   "id": "815dd014",
   "metadata": {},
   "outputs": [],
   "source": [
    "# Initialize a YOLOE segmentation model\n",
    "model_2 = None\n",
    "model_2 = YOLOE(\"yoloe-11s-seg.pt\")"
   ]
  },
  {
   "cell_type": "code",
   "execution_count": 45,
   "id": "eb452984",
   "metadata": {},
   "outputs": [],
   "source": [
    "# Prompts for the first reference image\n",
    "visual_prompts_1 = dict(\n",
    "    bboxes=np.array(\n",
    "        [\n",
    "            [215, 392, 350, 864],  # Box enclosing person\n",
    "        ],\n",
    "    ),\n",
    "    cls=np.array(\n",
    "        [\n",
    "            0,  # ID to be assigned for person\n",
    "        ]\n",
    "    ),\n",
    ")"
   ]
  },
  {
   "cell_type": "code",
   "execution_count": 49,
   "id": "eb01a3f8",
   "metadata": {},
   "outputs": [
    {
     "name": "stdout",
     "output_type": "stream",
     "text": [
      "Ultralytics 8.3.175  Python-3.10.18 torch-2.8.0+cu126 CUDA:0 (NVIDIA GeForce RTX 3090 Ti, 24564MiB)\n",
      "\n",
      "image 1/1 c:\\Users\\jordan\\Documents\\GitHub\\CoralNet-Toolbox\\notebooks\\bus.jpg: 640x480 3 object0s, 9.7ms\n",
      "Speed: 1.8ms preprocess, 9.7ms inference, 1.5ms postprocess per image at shape (1, 3, 640, 480)\n"
     ]
    }
   ],
   "source": [
    "results = model_2.predict(\n",
    "    \"bus.jpg\",\n",
    "    visual_prompts=visual_prompts_1,\n",
    "    predictor=YOLOEVPDetectPredictor,\n",
    ")\n",
    "\n",
    "results[0].show()"
   ]
  },
  {
   "cell_type": "code",
   "execution_count": 47,
   "id": "28d66619",
   "metadata": {},
   "outputs": [],
   "source": [
    "# --- Step 6: Run inference using the aggregated VPE ---\n",
    "\n",
    "# Directly set the final tensor as the prompt for the predictor.\n",
    "# The `inference` method is designed to use this tensor.\n",
    "model_2.is_fused = lambda: False\n",
    "model_2.set_classes([\"person\"], loaded_vpe)"
   ]
  },
  {
   "cell_type": "code",
   "execution_count": 48,
   "id": "46e730bb",
   "metadata": {},
   "outputs": [
    {
     "name": "stdout",
     "output_type": "stream",
     "text": [
      "\n",
      "image 1/1 c:\\Users\\jordan\\Documents\\GitHub\\CoralNet-Toolbox\\notebooks\\bus.jpg: 640x480 5 persons, 12.2ms\n",
      "Speed: 1.3ms preprocess, 12.2ms inference, 1.9ms postprocess per image at shape (1, 3, 640, 480)\n",
      "Inference complete. Results are generated.\n"
     ]
    }
   ],
   "source": [
    "results = model_2.predict(\"bus.jpg\",\n",
    "                        #   visual_prompts=visual_prompts_1,\n",
    "                          predictor=YOLOEVPDetectPredictor,  # Okay to keep\n",
    "                          )\n",
    "\n",
    "print(\"Inference complete. Results are generated.\")\n",
    "# You can now process or display the 'results'.\n",
    "results[0].show()\n"
   ]
  },
  {
   "cell_type": "code",
   "execution_count": null,
   "id": "4598937a",
   "metadata": {},
   "outputs": [],
   "source": []
  }
 ],
 "metadata": {
  "kernelspec": {
   "display_name": "coralnet10",
   "language": "python",
   "name": "python3"
  },
  "language_info": {
   "codemirror_mode": {
    "name": "ipython",
    "version": 3
   },
   "file_extension": ".py",
   "mimetype": "text/x-python",
   "name": "python",
   "nbconvert_exporter": "python",
   "pygments_lexer": "ipython3",
   "version": "3.10.18"
  }
 },
 "nbformat": 4,
 "nbformat_minor": 5
}
